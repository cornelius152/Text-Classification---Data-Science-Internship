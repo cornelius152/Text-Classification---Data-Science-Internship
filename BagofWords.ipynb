{
  "cells": [
    {
      "cell_type": "markdown",
      "metadata": {
        "id": "view-in-github",
        "colab_type": "text"
      },
      "source": [
        "<a href=\"https://colab.research.google.com/github/cornelius152/Text-Classification---Data-Science-Internship/blob/main/BagofWords.ipynb\" target=\"_parent\"><img src=\"https://colab.research.google.com/assets/colab-badge.svg\" alt=\"Open In Colab\"/></a>"
      ]
    },
    {
      "cell_type": "markdown",
      "metadata": {
        "id": "QSqn_MxoJxNt"
      },
      "source": [
        "# **Import Libraries & Packages**"
      ]
    },
    {
      "cell_type": "code",
      "execution_count": 1,
      "metadata": {
        "colab": {
          "base_uri": "https://localhost:8080/"
        },
        "collapsed": true,
        "id": "oE2KnWiEwxqi",
        "outputId": "d79422b4-8a8c-4d49-eb6d-2fc68cb46205"
      },
      "outputs": [
        {
          "output_type": "stream",
          "name": "stdout",
          "text": [
            "Looking in indexes: https://pypi.org/simple, https://us-python.pkg.dev/colab-wheels/public/simple/\n",
            "Requirement already satisfied: nltk in /usr/local/lib/python3.10/dist-packages (3.8.1)\n",
            "Requirement already satisfied: click in /usr/local/lib/python3.10/dist-packages (from nltk) (8.1.3)\n",
            "Requirement already satisfied: joblib in /usr/local/lib/python3.10/dist-packages (from nltk) (1.2.0)\n",
            "Requirement already satisfied: regex>=2021.8.3 in /usr/local/lib/python3.10/dist-packages (from nltk) (2022.10.31)\n",
            "Requirement already satisfied: tqdm in /usr/local/lib/python3.10/dist-packages (from nltk) (4.65.0)\n"
          ]
        }
      ],
      "source": [
        "!pip install nltk"
      ]
    },
    {
      "cell_type": "code",
      "execution_count": 2,
      "metadata": {
        "colab": {
          "base_uri": "https://localhost:8080/"
        },
        "collapsed": true,
        "id": "JV8RjdaUZXT4",
        "outputId": "ac9a9eda-3eaa-4e93-c26f-cf4f4ad90ba3"
      },
      "outputs": [
        {
          "output_type": "stream",
          "name": "stderr",
          "text": [
            "[nltk_data] Downloading package punkt to /root/nltk_data...\n",
            "[nltk_data]   Package punkt is already up-to-date!\n",
            "[nltk_data] Downloading package averaged_perceptron_tagger to\n",
            "[nltk_data]     /root/nltk_data...\n",
            "[nltk_data]   Package averaged_perceptron_tagger is already up-to-\n",
            "[nltk_data]       date!\n",
            "[nltk_data] Downloading package omw-1.4 to /root/nltk_data...\n",
            "[nltk_data]   Package omw-1.4 is already up-to-date!\n",
            "[nltk_data] Downloading package stopwords to /root/nltk_data...\n",
            "[nltk_data]   Package stopwords is already up-to-date!\n",
            "[nltk_data] Downloading package wordnet to /root/nltk_data...\n",
            "[nltk_data]   Package wordnet is already up-to-date!\n"
          ]
        }
      ],
      "source": [
        "# Import global libraries\n",
        "import numpy as np\n",
        "import pandas as pd\n",
        "import matplotlib.pyplot as plt\n",
        "\n",
        "# Import language libraries and packages\n",
        "import nltk\n",
        "nltk.download('punkt') # A pre-trained unsupervised machine learning model to tokenize text into individual words or sentences\n",
        "nltk.download('averaged_perceptron_tagger') # For pos-tagger\n",
        "nltk.download('omw-1.4') # Open Multilingual WordNet (OMW)\n",
        "\n",
        "from nltk.corpus import stopwords\n",
        "nltk.download('stopwords') # For 'English' stopwords\n",
        "\n",
        "from nltk.stem import PorterStemmer\n",
        "from nltk.stem import LancasterStemmer\n",
        "\n",
        "from nltk.stem import WordNetLemmatizer\n",
        "nltk.download('wordnet') # For lemmatization \n",
        "\n",
        "pd.options.mode.chained_assignment = None  # default='warn' and I am disabling it\n",
        "\n",
        "import warnings\n",
        "warnings.filterwarnings('ignore', message='.*', category=UserWarning, module='sklearn') # To suppress precision score warning"
      ]
    },
    {
      "cell_type": "code",
      "execution_count": 3,
      "metadata": {
        "colab": {
          "base_uri": "https://localhost:8080/"
        },
        "collapsed": true,
        "id": "AfblCvmYz_ka",
        "outputId": "dedba21c-4618-49a4-8d3a-17d51a7508b2"
      },
      "outputs": [
        {
          "output_type": "stream",
          "name": "stdout",
          "text": [
            "Drive already mounted at /content/drive; to attempt to forcibly remount, call drive.mount(\"/content/drive\", force_remount=True).\n"
          ]
        }
      ],
      "source": [
        "# Mounting drive\n",
        "from google.colab import drive\n",
        "drive.mount('/content/drive')"
      ]
    },
    {
      "cell_type": "markdown",
      "metadata": {
        "id": "kjpA6AJzKUGQ"
      },
      "source": [
        "# **Import Files**"
      ]
    },
    {
      "cell_type": "code",
      "execution_count": 4,
      "metadata": {
        "id": "tvUGiO0-ai0T"
      },
      "outputs": [],
      "source": [
        "# Import files\n",
        "\n",
        "# Unclassified (uc) data\n",
        "uc_data = pd.read_csv('/content/drive/MyDrive/OneHealth Data Science Internship/Colab Notebooks/Data copy/unique_unclassified_questions.csv')\n",
        "uc_data = uc_data.rename(columns={'question': 'Question'})\n",
        "\n",
        "# Classified (c) data\n",
        "c_data = pd.read_excel('/content/drive/MyDrive/OneHealth Data Science Internship/Colab Notebooks/Data copy/categorized_questions.xlsx')\n",
        "\n",
        "# CDC dataset\n",
        "cdc_data = pd.read_csv('/content/drive/MyDrive/OneHealth Data Science Internship/Colab Notebooks/Data copy/Behavioral_Risk_Factor_Surveillance_System__BRFSS__Historical_Questions.csv')\n",
        "\n",
        "# All classified data (c_data + cdc_data)\n",
        "class_data = pd.concat([c_data, cdc_data])"
      ]
    },
    {
      "cell_type": "markdown",
      "metadata": {
        "id": "NT7-fLhd7yYJ"
      },
      "source": [
        "# **Processor Function**"
      ]
    },
    {
      "cell_type": "code",
      "execution_count": 5,
      "metadata": {
        "id": "dTNtQNJdhUy3"
      },
      "outputs": [],
      "source": [
        "# Processor function to do everything in one go\n",
        "\n",
        "# Create stopword variable holding all stopwords in English (nltk.download('stopwords'))\n",
        "stopwords = stopwords.words('english')\n",
        "\n",
        "# Create Porter- and Lancaster-stemmer objects\n",
        "porter = PorterStemmer()\n",
        "lancaster = LancasterStemmer()\n",
        "\n",
        "# Create lemmatizer object\n",
        "wordnet_lemmatizer = WordNetLemmatizer()\n",
        "\n",
        "def processor(data, feature, tokens = 'tokens'):\n",
        "    \n",
        "    # Drop duplicate rows based on a specified feature, but \"keep first\" instance of duplicate and set \"ignore_index\" to true to reset indices\n",
        "    data = data.drop_duplicates(subset=feature, keep='first', ignore_index=True)\n",
        "    \n",
        "    # Tokenize feature of textual data, and create new column with tokenized text (unigrams) (nltk.download('punkt'))\n",
        "    data[tokens] = data[feature].apply(nltk.word_tokenize)\n",
        "    \n",
        "    # Lowercasing and removing stop words from tokenized text, and making sure all textual data is alphanumeric\n",
        "    data[tokens] = data[tokens].apply(lambda x: [word.lower() for word in x if word not in (stopwords) and word.isalnum()])\n",
        "    \n",
        "    # Processing tokens into string and creating a separate column of this for later use\n",
        "    data['str tokens'] = data[tokens].apply(lambda x: ' '.join(x))\n",
        "\n",
        "    # Applying bigrams\n",
        "    data['bigrams'] = data[tokens].apply(lambda x: list(nltk.bigrams(x)))\n",
        "    \n",
        "    # Applying porter stem\n",
        "    data['porter stem'] = data[tokens].apply(lambda x: [porter.stem(word) for word in x])\n",
        "    \n",
        "    # Applying lancaster stem\n",
        "    data['lancaster stem'] = data[tokens].apply(lambda x: [lancaster.stem(word) for word in x])\n",
        "    \n",
        "    # Lemmatization (nltk.download('wordnet'))\n",
        "    data['lemma'] = data[tokens].apply(lambda x: [wordnet_lemmatizer.lemmatize(word) for word in x])\n",
        "    \n",
        "    # Pos-tagging (nltk.download('averaged_perceptron_tagger'))\n",
        "    data['postag'] = data[tokens].apply(lambda x: nltk.pos_tag(x))\n",
        "    \n",
        "    return data"
      ]
    },
    {
      "cell_type": "markdown",
      "metadata": {
        "id": "GwarIY-08QeL"
      },
      "source": [
        "## Tokens"
      ]
    },
    {
      "cell_type": "code",
      "execution_count": 6,
      "metadata": {
        "id": "nlGXcBltjGlJ"
      },
      "outputs": [],
      "source": [
        "# Applying processor function too the uc, c, and cdc datasets, and only grabbing the TOKENS feature\n",
        "tokens_uc_data = pd.DataFrame(processor(uc_data, 'Question')['tokens'])\n",
        "tokens_c_data = pd.DataFrame(processor(c_data, 'Question')['tokens'])\n",
        "tokens_cdc_data = pd.DataFrame(processor(cdc_data, 'Question')['tokens'])\n",
        "\n",
        "# Data in index 1, axis 0 for uc dataset was an empty list, so manually dropping it\n",
        "tokens_uc_data = tokens_uc_data.drop(index=1)\n",
        "\n",
        "# Concatenating all three dataframes into one\n",
        "tokens_all_data = pd.concat([tokens_uc_data, tokens_c_data, tokens_cdc_data])\n",
        "\n",
        "# Concatenating classified datasets: classified OH and CDC datasets\n",
        "tokens_classified_data = pd.concat([tokens_c_data, tokens_cdc_data])"
      ]
    },
    {
      "cell_type": "code",
      "execution_count": 7,
      "metadata": {
        "colab": {
          "base_uri": "https://localhost:8080/",
          "height": 143
        },
        "collapsed": true,
        "id": "sb_6cqywlpl1",
        "outputId": "66676df8-035e-477e-9aba-2260db20760f"
      },
      "outputs": [
        {
          "output_type": "execute_result",
          "data": {
            "text/plain": [
              "                                              tokens\n",
              "0                                       [age, group]\n",
              "1                                           [gender]\n",
              "2  [when, thinking, discomforts, consuming, wheat..."
            ],
            "text/html": [
              "\n",
              "  <div id=\"df-25e1b9f6-99c4-47f4-89f2-d9b7a7b12aea\">\n",
              "    <div class=\"colab-df-container\">\n",
              "      <div>\n",
              "<style scoped>\n",
              "    .dataframe tbody tr th:only-of-type {\n",
              "        vertical-align: middle;\n",
              "    }\n",
              "\n",
              "    .dataframe tbody tr th {\n",
              "        vertical-align: top;\n",
              "    }\n",
              "\n",
              "    .dataframe thead th {\n",
              "        text-align: right;\n",
              "    }\n",
              "</style>\n",
              "<table border=\"1\" class=\"dataframe\">\n",
              "  <thead>\n",
              "    <tr style=\"text-align: right;\">\n",
              "      <th></th>\n",
              "      <th>tokens</th>\n",
              "    </tr>\n",
              "  </thead>\n",
              "  <tbody>\n",
              "    <tr>\n",
              "      <th>0</th>\n",
              "      <td>[age, group]</td>\n",
              "    </tr>\n",
              "    <tr>\n",
              "      <th>1</th>\n",
              "      <td>[gender]</td>\n",
              "    </tr>\n",
              "    <tr>\n",
              "      <th>2</th>\n",
              "      <td>[when, thinking, discomforts, consuming, wheat...</td>\n",
              "    </tr>\n",
              "  </tbody>\n",
              "</table>\n",
              "</div>\n",
              "      <button class=\"colab-df-convert\" onclick=\"convertToInteractive('df-25e1b9f6-99c4-47f4-89f2-d9b7a7b12aea')\"\n",
              "              title=\"Convert this dataframe to an interactive table.\"\n",
              "              style=\"display:none;\">\n",
              "        \n",
              "  <svg xmlns=\"http://www.w3.org/2000/svg\" height=\"24px\"viewBox=\"0 0 24 24\"\n",
              "       width=\"24px\">\n",
              "    <path d=\"M0 0h24v24H0V0z\" fill=\"none\"/>\n",
              "    <path d=\"M18.56 5.44l.94 2.06.94-2.06 2.06-.94-2.06-.94-.94-2.06-.94 2.06-2.06.94zm-11 1L8.5 8.5l.94-2.06 2.06-.94-2.06-.94L8.5 2.5l-.94 2.06-2.06.94zm10 10l.94 2.06.94-2.06 2.06-.94-2.06-.94-.94-2.06-.94 2.06-2.06.94z\"/><path d=\"M17.41 7.96l-1.37-1.37c-.4-.4-.92-.59-1.43-.59-.52 0-1.04.2-1.43.59L10.3 9.45l-7.72 7.72c-.78.78-.78 2.05 0 2.83L4 21.41c.39.39.9.59 1.41.59.51 0 1.02-.2 1.41-.59l7.78-7.78 2.81-2.81c.8-.78.8-2.07 0-2.86zM5.41 20L4 18.59l7.72-7.72 1.47 1.35L5.41 20z\"/>\n",
              "  </svg>\n",
              "      </button>\n",
              "      \n",
              "  <style>\n",
              "    .colab-df-container {\n",
              "      display:flex;\n",
              "      flex-wrap:wrap;\n",
              "      gap: 12px;\n",
              "    }\n",
              "\n",
              "    .colab-df-convert {\n",
              "      background-color: #E8F0FE;\n",
              "      border: none;\n",
              "      border-radius: 50%;\n",
              "      cursor: pointer;\n",
              "      display: none;\n",
              "      fill: #1967D2;\n",
              "      height: 32px;\n",
              "      padding: 0 0 0 0;\n",
              "      width: 32px;\n",
              "    }\n",
              "\n",
              "    .colab-df-convert:hover {\n",
              "      background-color: #E2EBFA;\n",
              "      box-shadow: 0px 1px 2px rgba(60, 64, 67, 0.3), 0px 1px 3px 1px rgba(60, 64, 67, 0.15);\n",
              "      fill: #174EA6;\n",
              "    }\n",
              "\n",
              "    [theme=dark] .colab-df-convert {\n",
              "      background-color: #3B4455;\n",
              "      fill: #D2E3FC;\n",
              "    }\n",
              "\n",
              "    [theme=dark] .colab-df-convert:hover {\n",
              "      background-color: #434B5C;\n",
              "      box-shadow: 0px 1px 3px 1px rgba(0, 0, 0, 0.15);\n",
              "      filter: drop-shadow(0px 1px 2px rgba(0, 0, 0, 0.3));\n",
              "      fill: #FFFFFF;\n",
              "    }\n",
              "  </style>\n",
              "\n",
              "      <script>\n",
              "        const buttonEl =\n",
              "          document.querySelector('#df-25e1b9f6-99c4-47f4-89f2-d9b7a7b12aea button.colab-df-convert');\n",
              "        buttonEl.style.display =\n",
              "          google.colab.kernel.accessAllowed ? 'block' : 'none';\n",
              "\n",
              "        async function convertToInteractive(key) {\n",
              "          const element = document.querySelector('#df-25e1b9f6-99c4-47f4-89f2-d9b7a7b12aea');\n",
              "          const dataTable =\n",
              "            await google.colab.kernel.invokeFunction('convertToInteractive',\n",
              "                                                     [key], {});\n",
              "          if (!dataTable) return;\n",
              "\n",
              "          const docLinkHtml = 'Like what you see? Visit the ' +\n",
              "            '<a target=\"_blank\" href=https://colab.research.google.com/notebooks/data_table.ipynb>data table notebook</a>'\n",
              "            + ' to learn more about interactive tables.';\n",
              "          element.innerHTML = '';\n",
              "          dataTable['output_type'] = 'display_data';\n",
              "          await google.colab.output.renderOutput(dataTable, element);\n",
              "          const docLink = document.createElement('div');\n",
              "          docLink.innerHTML = docLinkHtml;\n",
              "          element.appendChild(docLink);\n",
              "        }\n",
              "      </script>\n",
              "    </div>\n",
              "  </div>\n",
              "  "
            ]
          },
          "metadata": {},
          "execution_count": 7
        }
      ],
      "source": [
        "tokens_c_data.head(3)"
      ]
    },
    {
      "cell_type": "markdown",
      "metadata": {
        "id": "60M2IUE98WVK"
      },
      "source": [
        "## Lemma\n"
      ]
    },
    {
      "cell_type": "code",
      "execution_count": 8,
      "metadata": {
        "id": "Zudt-8OF6Iis"
      },
      "outputs": [],
      "source": [
        "# Applying processor function too the uc, c, and cdc datasets, and only grabbing the Lemma feature\n",
        "lemma_uc_data = pd.DataFrame(processor(uc_data, 'Question')['lemma'])\n",
        "lemma_c_data = pd.DataFrame(processor(c_data, 'Question')['lemma'])\n",
        "lemma_cdc_data = pd.DataFrame(processor(cdc_data, 'Question')['lemma'])\n",
        "\n",
        "# Data in index 1, axis 0 for uc dataset was an empty list, so manually dropping it\n",
        "lemma_uc_data = lemma_uc_data.drop(index=1)\n",
        "\n",
        "# Concatenating classified datasets: classified OH and CDC datasets\n",
        "lemma_classified_data = pd.concat([lemma_c_data, lemma_cdc_data])"
      ]
    },
    {
      "cell_type": "code",
      "execution_count": 9,
      "metadata": {
        "colab": {
          "base_uri": "https://localhost:8080/",
          "height": 143
        },
        "collapsed": true,
        "id": "SXf3rTPE8h6U",
        "outputId": "0bea836e-b644-455d-f154-11fb3068abdd"
      },
      "outputs": [
        {
          "output_type": "execute_result",
          "data": {
            "text/plain": [
              "                                               lemma\n",
              "0                                       [age, group]\n",
              "1                                           [gender]\n",
              "2  [when, thinking, discomfort, consuming, wheat,..."
            ],
            "text/html": [
              "\n",
              "  <div id=\"df-2428cee7-8d0d-4f7a-b060-54c439a631ae\">\n",
              "    <div class=\"colab-df-container\">\n",
              "      <div>\n",
              "<style scoped>\n",
              "    .dataframe tbody tr th:only-of-type {\n",
              "        vertical-align: middle;\n",
              "    }\n",
              "\n",
              "    .dataframe tbody tr th {\n",
              "        vertical-align: top;\n",
              "    }\n",
              "\n",
              "    .dataframe thead th {\n",
              "        text-align: right;\n",
              "    }\n",
              "</style>\n",
              "<table border=\"1\" class=\"dataframe\">\n",
              "  <thead>\n",
              "    <tr style=\"text-align: right;\">\n",
              "      <th></th>\n",
              "      <th>lemma</th>\n",
              "    </tr>\n",
              "  </thead>\n",
              "  <tbody>\n",
              "    <tr>\n",
              "      <th>0</th>\n",
              "      <td>[age, group]</td>\n",
              "    </tr>\n",
              "    <tr>\n",
              "      <th>1</th>\n",
              "      <td>[gender]</td>\n",
              "    </tr>\n",
              "    <tr>\n",
              "      <th>2</th>\n",
              "      <td>[when, thinking, discomfort, consuming, wheat,...</td>\n",
              "    </tr>\n",
              "  </tbody>\n",
              "</table>\n",
              "</div>\n",
              "      <button class=\"colab-df-convert\" onclick=\"convertToInteractive('df-2428cee7-8d0d-4f7a-b060-54c439a631ae')\"\n",
              "              title=\"Convert this dataframe to an interactive table.\"\n",
              "              style=\"display:none;\">\n",
              "        \n",
              "  <svg xmlns=\"http://www.w3.org/2000/svg\" height=\"24px\"viewBox=\"0 0 24 24\"\n",
              "       width=\"24px\">\n",
              "    <path d=\"M0 0h24v24H0V0z\" fill=\"none\"/>\n",
              "    <path d=\"M18.56 5.44l.94 2.06.94-2.06 2.06-.94-2.06-.94-.94-2.06-.94 2.06-2.06.94zm-11 1L8.5 8.5l.94-2.06 2.06-.94-2.06-.94L8.5 2.5l-.94 2.06-2.06.94zm10 10l.94 2.06.94-2.06 2.06-.94-2.06-.94-.94-2.06-.94 2.06-2.06.94z\"/><path d=\"M17.41 7.96l-1.37-1.37c-.4-.4-.92-.59-1.43-.59-.52 0-1.04.2-1.43.59L10.3 9.45l-7.72 7.72c-.78.78-.78 2.05 0 2.83L4 21.41c.39.39.9.59 1.41.59.51 0 1.02-.2 1.41-.59l7.78-7.78 2.81-2.81c.8-.78.8-2.07 0-2.86zM5.41 20L4 18.59l7.72-7.72 1.47 1.35L5.41 20z\"/>\n",
              "  </svg>\n",
              "      </button>\n",
              "      \n",
              "  <style>\n",
              "    .colab-df-container {\n",
              "      display:flex;\n",
              "      flex-wrap:wrap;\n",
              "      gap: 12px;\n",
              "    }\n",
              "\n",
              "    .colab-df-convert {\n",
              "      background-color: #E8F0FE;\n",
              "      border: none;\n",
              "      border-radius: 50%;\n",
              "      cursor: pointer;\n",
              "      display: none;\n",
              "      fill: #1967D2;\n",
              "      height: 32px;\n",
              "      padding: 0 0 0 0;\n",
              "      width: 32px;\n",
              "    }\n",
              "\n",
              "    .colab-df-convert:hover {\n",
              "      background-color: #E2EBFA;\n",
              "      box-shadow: 0px 1px 2px rgba(60, 64, 67, 0.3), 0px 1px 3px 1px rgba(60, 64, 67, 0.15);\n",
              "      fill: #174EA6;\n",
              "    }\n",
              "\n",
              "    [theme=dark] .colab-df-convert {\n",
              "      background-color: #3B4455;\n",
              "      fill: #D2E3FC;\n",
              "    }\n",
              "\n",
              "    [theme=dark] .colab-df-convert:hover {\n",
              "      background-color: #434B5C;\n",
              "      box-shadow: 0px 1px 3px 1px rgba(0, 0, 0, 0.15);\n",
              "      filter: drop-shadow(0px 1px 2px rgba(0, 0, 0, 0.3));\n",
              "      fill: #FFFFFF;\n",
              "    }\n",
              "  </style>\n",
              "\n",
              "      <script>\n",
              "        const buttonEl =\n",
              "          document.querySelector('#df-2428cee7-8d0d-4f7a-b060-54c439a631ae button.colab-df-convert');\n",
              "        buttonEl.style.display =\n",
              "          google.colab.kernel.accessAllowed ? 'block' : 'none';\n",
              "\n",
              "        async function convertToInteractive(key) {\n",
              "          const element = document.querySelector('#df-2428cee7-8d0d-4f7a-b060-54c439a631ae');\n",
              "          const dataTable =\n",
              "            await google.colab.kernel.invokeFunction('convertToInteractive',\n",
              "                                                     [key], {});\n",
              "          if (!dataTable) return;\n",
              "\n",
              "          const docLinkHtml = 'Like what you see? Visit the ' +\n",
              "            '<a target=\"_blank\" href=https://colab.research.google.com/notebooks/data_table.ipynb>data table notebook</a>'\n",
              "            + ' to learn more about interactive tables.';\n",
              "          element.innerHTML = '';\n",
              "          dataTable['output_type'] = 'display_data';\n",
              "          await google.colab.output.renderOutput(dataTable, element);\n",
              "          const docLink = document.createElement('div');\n",
              "          docLink.innerHTML = docLinkHtml;\n",
              "          element.appendChild(docLink);\n",
              "        }\n",
              "      </script>\n",
              "    </div>\n",
              "  </div>\n",
              "  "
            ]
          },
          "metadata": {},
          "execution_count": 9
        }
      ],
      "source": [
        "lemma_c_data.head(3)"
      ]
    },
    {
      "cell_type": "markdown",
      "metadata": {
        "id": "0MR3aHVg_tGK"
      },
      "source": [
        "## Porter"
      ]
    },
    {
      "cell_type": "code",
      "execution_count": 10,
      "metadata": {
        "id": "wmeJn5FQ-bly"
      },
      "outputs": [],
      "source": [
        "# Applying processor function too the uc, c, and cdc datasets, and only grabbing the Porter Stem feature\n",
        "porter_uc_data = pd.DataFrame(processor(uc_data, 'Question')['porter stem'])\n",
        "porter_c_data = pd.DataFrame(processor(c_data, 'Question')['porter stem'])\n",
        "porter_cdc_data = pd.DataFrame(processor(cdc_data, 'Question')['porter stem'])\n",
        "\n",
        "# Data in index 1, axis 0 for uc dataset was an empty list, so manually dropping it\n",
        "porter_uc_data = porter_uc_data.drop(index=1)\n",
        "\n",
        "# Concatenating classified datasets: classified OH and CDC datasets\n",
        "porter_classified_data = pd.concat([porter_c_data, porter_cdc_data])"
      ]
    },
    {
      "cell_type": "code",
      "execution_count": 11,
      "metadata": {
        "colab": {
          "base_uri": "https://localhost:8080/",
          "height": 143
        },
        "collapsed": true,
        "id": "C1t93N9l-boF",
        "outputId": "9d2c08ea-fd35-46d4-e54f-eadb4688065a"
      },
      "outputs": [
        {
          "output_type": "execute_result",
          "data": {
            "text/plain": [
              "                                         porter stem\n",
              "0                                       [age, group]\n",
              "1                                           [gender]\n",
              "2  [when, think, discomfort, consum, wheat, produ..."
            ],
            "text/html": [
              "\n",
              "  <div id=\"df-4561479f-9b9f-4a9e-a481-687dfd840dc8\">\n",
              "    <div class=\"colab-df-container\">\n",
              "      <div>\n",
              "<style scoped>\n",
              "    .dataframe tbody tr th:only-of-type {\n",
              "        vertical-align: middle;\n",
              "    }\n",
              "\n",
              "    .dataframe tbody tr th {\n",
              "        vertical-align: top;\n",
              "    }\n",
              "\n",
              "    .dataframe thead th {\n",
              "        text-align: right;\n",
              "    }\n",
              "</style>\n",
              "<table border=\"1\" class=\"dataframe\">\n",
              "  <thead>\n",
              "    <tr style=\"text-align: right;\">\n",
              "      <th></th>\n",
              "      <th>porter stem</th>\n",
              "    </tr>\n",
              "  </thead>\n",
              "  <tbody>\n",
              "    <tr>\n",
              "      <th>0</th>\n",
              "      <td>[age, group]</td>\n",
              "    </tr>\n",
              "    <tr>\n",
              "      <th>1</th>\n",
              "      <td>[gender]</td>\n",
              "    </tr>\n",
              "    <tr>\n",
              "      <th>2</th>\n",
              "      <td>[when, think, discomfort, consum, wheat, produ...</td>\n",
              "    </tr>\n",
              "  </tbody>\n",
              "</table>\n",
              "</div>\n",
              "      <button class=\"colab-df-convert\" onclick=\"convertToInteractive('df-4561479f-9b9f-4a9e-a481-687dfd840dc8')\"\n",
              "              title=\"Convert this dataframe to an interactive table.\"\n",
              "              style=\"display:none;\">\n",
              "        \n",
              "  <svg xmlns=\"http://www.w3.org/2000/svg\" height=\"24px\"viewBox=\"0 0 24 24\"\n",
              "       width=\"24px\">\n",
              "    <path d=\"M0 0h24v24H0V0z\" fill=\"none\"/>\n",
              "    <path d=\"M18.56 5.44l.94 2.06.94-2.06 2.06-.94-2.06-.94-.94-2.06-.94 2.06-2.06.94zm-11 1L8.5 8.5l.94-2.06 2.06-.94-2.06-.94L8.5 2.5l-.94 2.06-2.06.94zm10 10l.94 2.06.94-2.06 2.06-.94-2.06-.94-.94-2.06-.94 2.06-2.06.94z\"/><path d=\"M17.41 7.96l-1.37-1.37c-.4-.4-.92-.59-1.43-.59-.52 0-1.04.2-1.43.59L10.3 9.45l-7.72 7.72c-.78.78-.78 2.05 0 2.83L4 21.41c.39.39.9.59 1.41.59.51 0 1.02-.2 1.41-.59l7.78-7.78 2.81-2.81c.8-.78.8-2.07 0-2.86zM5.41 20L4 18.59l7.72-7.72 1.47 1.35L5.41 20z\"/>\n",
              "  </svg>\n",
              "      </button>\n",
              "      \n",
              "  <style>\n",
              "    .colab-df-container {\n",
              "      display:flex;\n",
              "      flex-wrap:wrap;\n",
              "      gap: 12px;\n",
              "    }\n",
              "\n",
              "    .colab-df-convert {\n",
              "      background-color: #E8F0FE;\n",
              "      border: none;\n",
              "      border-radius: 50%;\n",
              "      cursor: pointer;\n",
              "      display: none;\n",
              "      fill: #1967D2;\n",
              "      height: 32px;\n",
              "      padding: 0 0 0 0;\n",
              "      width: 32px;\n",
              "    }\n",
              "\n",
              "    .colab-df-convert:hover {\n",
              "      background-color: #E2EBFA;\n",
              "      box-shadow: 0px 1px 2px rgba(60, 64, 67, 0.3), 0px 1px 3px 1px rgba(60, 64, 67, 0.15);\n",
              "      fill: #174EA6;\n",
              "    }\n",
              "\n",
              "    [theme=dark] .colab-df-convert {\n",
              "      background-color: #3B4455;\n",
              "      fill: #D2E3FC;\n",
              "    }\n",
              "\n",
              "    [theme=dark] .colab-df-convert:hover {\n",
              "      background-color: #434B5C;\n",
              "      box-shadow: 0px 1px 3px 1px rgba(0, 0, 0, 0.15);\n",
              "      filter: drop-shadow(0px 1px 2px rgba(0, 0, 0, 0.3));\n",
              "      fill: #FFFFFF;\n",
              "    }\n",
              "  </style>\n",
              "\n",
              "      <script>\n",
              "        const buttonEl =\n",
              "          document.querySelector('#df-4561479f-9b9f-4a9e-a481-687dfd840dc8 button.colab-df-convert');\n",
              "        buttonEl.style.display =\n",
              "          google.colab.kernel.accessAllowed ? 'block' : 'none';\n",
              "\n",
              "        async function convertToInteractive(key) {\n",
              "          const element = document.querySelector('#df-4561479f-9b9f-4a9e-a481-687dfd840dc8');\n",
              "          const dataTable =\n",
              "            await google.colab.kernel.invokeFunction('convertToInteractive',\n",
              "                                                     [key], {});\n",
              "          if (!dataTable) return;\n",
              "\n",
              "          const docLinkHtml = 'Like what you see? Visit the ' +\n",
              "            '<a target=\"_blank\" href=https://colab.research.google.com/notebooks/data_table.ipynb>data table notebook</a>'\n",
              "            + ' to learn more about interactive tables.';\n",
              "          element.innerHTML = '';\n",
              "          dataTable['output_type'] = 'display_data';\n",
              "          await google.colab.output.renderOutput(dataTable, element);\n",
              "          const docLink = document.createElement('div');\n",
              "          docLink.innerHTML = docLinkHtml;\n",
              "          element.appendChild(docLink);\n",
              "        }\n",
              "      </script>\n",
              "    </div>\n",
              "  </div>\n",
              "  "
            ]
          },
          "metadata": {},
          "execution_count": 11
        }
      ],
      "source": [
        "porter_c_data.head(3)"
      ]
    },
    {
      "cell_type": "markdown",
      "metadata": {
        "id": "_dk6jKpamqt3"
      },
      "source": [
        "## Lancaster"
      ]
    },
    {
      "cell_type": "code",
      "execution_count": 12,
      "metadata": {
        "id": "Cigztho9mq1K"
      },
      "outputs": [],
      "source": [
        "# Applying processor function too the uc, c, and cdc datasets, and only grabbing the Lancaster Stem feature\n",
        "lancaster_uc_data = pd.DataFrame(processor(uc_data, 'Question')['lancaster stem'])\n",
        "lancaster_c_data = pd.DataFrame(processor(c_data, 'Question')['lancaster stem'])\n",
        "lancaster_cdc_data = pd.DataFrame(processor(cdc_data, 'Question')['lancaster stem'])\n",
        "\n",
        "# Data in index 1, axis 0 for uc dataset was an empty list, so manually dropping it\n",
        "lancaster_uc_data = lancaster_uc_data.drop(index=1)\n",
        "\n",
        "# Concatenating classified datasets: classified OH and CDC datasets\n",
        "lancaster_classified_data = pd.concat([lancaster_c_data, lancaster_cdc_data])"
      ]
    },
    {
      "cell_type": "code",
      "execution_count": 13,
      "metadata": {
        "colab": {
          "base_uri": "https://localhost:8080/",
          "height": 143
        },
        "collapsed": true,
        "id": "dAllQJzam4gs",
        "outputId": "e2051785-6c19-4caa-8dd4-27fda53a90b5"
      },
      "outputs": [
        {
          "output_type": "execute_result",
          "data": {
            "text/plain": [
              "                                      lancaster stem\n",
              "0                                        [ag, group]\n",
              "1                                             [gend]\n",
              "2  [when, think, discomfort, consum, whe, produc,..."
            ],
            "text/html": [
              "\n",
              "  <div id=\"df-9e2c3f40-bd6d-4e54-9b2d-05c7618ea6b2\">\n",
              "    <div class=\"colab-df-container\">\n",
              "      <div>\n",
              "<style scoped>\n",
              "    .dataframe tbody tr th:only-of-type {\n",
              "        vertical-align: middle;\n",
              "    }\n",
              "\n",
              "    .dataframe tbody tr th {\n",
              "        vertical-align: top;\n",
              "    }\n",
              "\n",
              "    .dataframe thead th {\n",
              "        text-align: right;\n",
              "    }\n",
              "</style>\n",
              "<table border=\"1\" class=\"dataframe\">\n",
              "  <thead>\n",
              "    <tr style=\"text-align: right;\">\n",
              "      <th></th>\n",
              "      <th>lancaster stem</th>\n",
              "    </tr>\n",
              "  </thead>\n",
              "  <tbody>\n",
              "    <tr>\n",
              "      <th>0</th>\n",
              "      <td>[ag, group]</td>\n",
              "    </tr>\n",
              "    <tr>\n",
              "      <th>1</th>\n",
              "      <td>[gend]</td>\n",
              "    </tr>\n",
              "    <tr>\n",
              "      <th>2</th>\n",
              "      <td>[when, think, discomfort, consum, whe, produc,...</td>\n",
              "    </tr>\n",
              "  </tbody>\n",
              "</table>\n",
              "</div>\n",
              "      <button class=\"colab-df-convert\" onclick=\"convertToInteractive('df-9e2c3f40-bd6d-4e54-9b2d-05c7618ea6b2')\"\n",
              "              title=\"Convert this dataframe to an interactive table.\"\n",
              "              style=\"display:none;\">\n",
              "        \n",
              "  <svg xmlns=\"http://www.w3.org/2000/svg\" height=\"24px\"viewBox=\"0 0 24 24\"\n",
              "       width=\"24px\">\n",
              "    <path d=\"M0 0h24v24H0V0z\" fill=\"none\"/>\n",
              "    <path d=\"M18.56 5.44l.94 2.06.94-2.06 2.06-.94-2.06-.94-.94-2.06-.94 2.06-2.06.94zm-11 1L8.5 8.5l.94-2.06 2.06-.94-2.06-.94L8.5 2.5l-.94 2.06-2.06.94zm10 10l.94 2.06.94-2.06 2.06-.94-2.06-.94-.94-2.06-.94 2.06-2.06.94z\"/><path d=\"M17.41 7.96l-1.37-1.37c-.4-.4-.92-.59-1.43-.59-.52 0-1.04.2-1.43.59L10.3 9.45l-7.72 7.72c-.78.78-.78 2.05 0 2.83L4 21.41c.39.39.9.59 1.41.59.51 0 1.02-.2 1.41-.59l7.78-7.78 2.81-2.81c.8-.78.8-2.07 0-2.86zM5.41 20L4 18.59l7.72-7.72 1.47 1.35L5.41 20z\"/>\n",
              "  </svg>\n",
              "      </button>\n",
              "      \n",
              "  <style>\n",
              "    .colab-df-container {\n",
              "      display:flex;\n",
              "      flex-wrap:wrap;\n",
              "      gap: 12px;\n",
              "    }\n",
              "\n",
              "    .colab-df-convert {\n",
              "      background-color: #E8F0FE;\n",
              "      border: none;\n",
              "      border-radius: 50%;\n",
              "      cursor: pointer;\n",
              "      display: none;\n",
              "      fill: #1967D2;\n",
              "      height: 32px;\n",
              "      padding: 0 0 0 0;\n",
              "      width: 32px;\n",
              "    }\n",
              "\n",
              "    .colab-df-convert:hover {\n",
              "      background-color: #E2EBFA;\n",
              "      box-shadow: 0px 1px 2px rgba(60, 64, 67, 0.3), 0px 1px 3px 1px rgba(60, 64, 67, 0.15);\n",
              "      fill: #174EA6;\n",
              "    }\n",
              "\n",
              "    [theme=dark] .colab-df-convert {\n",
              "      background-color: #3B4455;\n",
              "      fill: #D2E3FC;\n",
              "    }\n",
              "\n",
              "    [theme=dark] .colab-df-convert:hover {\n",
              "      background-color: #434B5C;\n",
              "      box-shadow: 0px 1px 3px 1px rgba(0, 0, 0, 0.15);\n",
              "      filter: drop-shadow(0px 1px 2px rgba(0, 0, 0, 0.3));\n",
              "      fill: #FFFFFF;\n",
              "    }\n",
              "  </style>\n",
              "\n",
              "      <script>\n",
              "        const buttonEl =\n",
              "          document.querySelector('#df-9e2c3f40-bd6d-4e54-9b2d-05c7618ea6b2 button.colab-df-convert');\n",
              "        buttonEl.style.display =\n",
              "          google.colab.kernel.accessAllowed ? 'block' : 'none';\n",
              "\n",
              "        async function convertToInteractive(key) {\n",
              "          const element = document.querySelector('#df-9e2c3f40-bd6d-4e54-9b2d-05c7618ea6b2');\n",
              "          const dataTable =\n",
              "            await google.colab.kernel.invokeFunction('convertToInteractive',\n",
              "                                                     [key], {});\n",
              "          if (!dataTable) return;\n",
              "\n",
              "          const docLinkHtml = 'Like what you see? Visit the ' +\n",
              "            '<a target=\"_blank\" href=https://colab.research.google.com/notebooks/data_table.ipynb>data table notebook</a>'\n",
              "            + ' to learn more about interactive tables.';\n",
              "          element.innerHTML = '';\n",
              "          dataTable['output_type'] = 'display_data';\n",
              "          await google.colab.output.renderOutput(dataTable, element);\n",
              "          const docLink = document.createElement('div');\n",
              "          docLink.innerHTML = docLinkHtml;\n",
              "          element.appendChild(docLink);\n",
              "        }\n",
              "      </script>\n",
              "    </div>\n",
              "  </div>\n",
              "  "
            ]
          },
          "metadata": {},
          "execution_count": 13
        }
      ],
      "source": [
        "lancaster_c_data.head(3)"
      ]
    },
    {
      "cell_type": "markdown",
      "metadata": {
        "id": "irGj0LXE_lSQ"
      },
      "source": [
        "## Postag"
      ]
    },
    {
      "cell_type": "code",
      "execution_count": 14,
      "metadata": {
        "id": "oJUzHBpq_lea"
      },
      "outputs": [],
      "source": [
        "# Applying processor function too the uc, c, and cdc datasets, and only grabbing the Postag feature\n",
        "postag_uc_data = pd.DataFrame(processor(uc_data, 'Question')['postag'])\n",
        "postag_c_data = pd.DataFrame(processor(c_data, 'Question')['postag'])\n",
        "postag_cdc_data = pd.DataFrame(processor(cdc_data, 'Question')['postag'])\n",
        "\n",
        "# Data in index 1, axis 0 for uc dataset was an empty list, so manually dropping it\n",
        "postag_uc_data = postag_uc_data.drop(index=1)\n",
        "\n",
        "# Concatenating classified datasets: classified OH and CDC datasets\n",
        "postag_classified_data = pd.concat([postag_c_data, postag_cdc_data])"
      ]
    },
    {
      "cell_type": "code",
      "execution_count": 15,
      "metadata": {
        "colab": {
          "base_uri": "https://localhost:8080/",
          "height": 143
        },
        "collapsed": true,
        "id": "vTQD9tpB_n7s",
        "outputId": "0bb62589-84cf-4254-b103-3a3e285e0c03"
      },
      "outputs": [
        {
          "output_type": "execute_result",
          "data": {
            "text/plain": [
              "                                              postag\n",
              "0                           [(age, NN), (group, NN)]\n",
              "1                                     [(gender, NN)]\n",
              "2  [(when, WRB), (thinking, VBG), (discomforts, N..."
            ],
            "text/html": [
              "\n",
              "  <div id=\"df-64be4e45-311d-4f80-85cc-07395a5714c7\">\n",
              "    <div class=\"colab-df-container\">\n",
              "      <div>\n",
              "<style scoped>\n",
              "    .dataframe tbody tr th:only-of-type {\n",
              "        vertical-align: middle;\n",
              "    }\n",
              "\n",
              "    .dataframe tbody tr th {\n",
              "        vertical-align: top;\n",
              "    }\n",
              "\n",
              "    .dataframe thead th {\n",
              "        text-align: right;\n",
              "    }\n",
              "</style>\n",
              "<table border=\"1\" class=\"dataframe\">\n",
              "  <thead>\n",
              "    <tr style=\"text-align: right;\">\n",
              "      <th></th>\n",
              "      <th>postag</th>\n",
              "    </tr>\n",
              "  </thead>\n",
              "  <tbody>\n",
              "    <tr>\n",
              "      <th>0</th>\n",
              "      <td>[(age, NN), (group, NN)]</td>\n",
              "    </tr>\n",
              "    <tr>\n",
              "      <th>1</th>\n",
              "      <td>[(gender, NN)]</td>\n",
              "    </tr>\n",
              "    <tr>\n",
              "      <th>2</th>\n",
              "      <td>[(when, WRB), (thinking, VBG), (discomforts, N...</td>\n",
              "    </tr>\n",
              "  </tbody>\n",
              "</table>\n",
              "</div>\n",
              "      <button class=\"colab-df-convert\" onclick=\"convertToInteractive('df-64be4e45-311d-4f80-85cc-07395a5714c7')\"\n",
              "              title=\"Convert this dataframe to an interactive table.\"\n",
              "              style=\"display:none;\">\n",
              "        \n",
              "  <svg xmlns=\"http://www.w3.org/2000/svg\" height=\"24px\"viewBox=\"0 0 24 24\"\n",
              "       width=\"24px\">\n",
              "    <path d=\"M0 0h24v24H0V0z\" fill=\"none\"/>\n",
              "    <path d=\"M18.56 5.44l.94 2.06.94-2.06 2.06-.94-2.06-.94-.94-2.06-.94 2.06-2.06.94zm-11 1L8.5 8.5l.94-2.06 2.06-.94-2.06-.94L8.5 2.5l-.94 2.06-2.06.94zm10 10l.94 2.06.94-2.06 2.06-.94-2.06-.94-.94-2.06-.94 2.06-2.06.94z\"/><path d=\"M17.41 7.96l-1.37-1.37c-.4-.4-.92-.59-1.43-.59-.52 0-1.04.2-1.43.59L10.3 9.45l-7.72 7.72c-.78.78-.78 2.05 0 2.83L4 21.41c.39.39.9.59 1.41.59.51 0 1.02-.2 1.41-.59l7.78-7.78 2.81-2.81c.8-.78.8-2.07 0-2.86zM5.41 20L4 18.59l7.72-7.72 1.47 1.35L5.41 20z\"/>\n",
              "  </svg>\n",
              "      </button>\n",
              "      \n",
              "  <style>\n",
              "    .colab-df-container {\n",
              "      display:flex;\n",
              "      flex-wrap:wrap;\n",
              "      gap: 12px;\n",
              "    }\n",
              "\n",
              "    .colab-df-convert {\n",
              "      background-color: #E8F0FE;\n",
              "      border: none;\n",
              "      border-radius: 50%;\n",
              "      cursor: pointer;\n",
              "      display: none;\n",
              "      fill: #1967D2;\n",
              "      height: 32px;\n",
              "      padding: 0 0 0 0;\n",
              "      width: 32px;\n",
              "    }\n",
              "\n",
              "    .colab-df-convert:hover {\n",
              "      background-color: #E2EBFA;\n",
              "      box-shadow: 0px 1px 2px rgba(60, 64, 67, 0.3), 0px 1px 3px 1px rgba(60, 64, 67, 0.15);\n",
              "      fill: #174EA6;\n",
              "    }\n",
              "\n",
              "    [theme=dark] .colab-df-convert {\n",
              "      background-color: #3B4455;\n",
              "      fill: #D2E3FC;\n",
              "    }\n",
              "\n",
              "    [theme=dark] .colab-df-convert:hover {\n",
              "      background-color: #434B5C;\n",
              "      box-shadow: 0px 1px 3px 1px rgba(0, 0, 0, 0.15);\n",
              "      filter: drop-shadow(0px 1px 2px rgba(0, 0, 0, 0.3));\n",
              "      fill: #FFFFFF;\n",
              "    }\n",
              "  </style>\n",
              "\n",
              "      <script>\n",
              "        const buttonEl =\n",
              "          document.querySelector('#df-64be4e45-311d-4f80-85cc-07395a5714c7 button.colab-df-convert');\n",
              "        buttonEl.style.display =\n",
              "          google.colab.kernel.accessAllowed ? 'block' : 'none';\n",
              "\n",
              "        async function convertToInteractive(key) {\n",
              "          const element = document.querySelector('#df-64be4e45-311d-4f80-85cc-07395a5714c7');\n",
              "          const dataTable =\n",
              "            await google.colab.kernel.invokeFunction('convertToInteractive',\n",
              "                                                     [key], {});\n",
              "          if (!dataTable) return;\n",
              "\n",
              "          const docLinkHtml = 'Like what you see? Visit the ' +\n",
              "            '<a target=\"_blank\" href=https://colab.research.google.com/notebooks/data_table.ipynb>data table notebook</a>'\n",
              "            + ' to learn more about interactive tables.';\n",
              "          element.innerHTML = '';\n",
              "          dataTable['output_type'] = 'display_data';\n",
              "          await google.colab.output.renderOutput(dataTable, element);\n",
              "          const docLink = document.createElement('div');\n",
              "          docLink.innerHTML = docLinkHtml;\n",
              "          element.appendChild(docLink);\n",
              "        }\n",
              "      </script>\n",
              "    </div>\n",
              "  </div>\n",
              "  "
            ]
          },
          "metadata": {},
          "execution_count": 15
        }
      ],
      "source": [
        "postag_c_data.head(3)"
      ]
    },
    {
      "cell_type": "markdown",
      "metadata": {
        "id": "gu6DbTIoA3sD"
      },
      "source": [
        "## Bigrams"
      ]
    },
    {
      "cell_type": "code",
      "execution_count": 16,
      "metadata": {
        "id": "VoDrjFjlA535"
      },
      "outputs": [],
      "source": [
        "# Applying processor function too the uc, c, and cdc datasets, and only grabbing the Bigrams feature\n",
        "bigram_uc_data = pd.DataFrame(processor(uc_data, 'Question')['bigrams'])\n",
        "bigram_c_data = pd.DataFrame(processor(c_data, 'Question')['bigrams'])\n",
        "bigram_cdc_data = pd.DataFrame(processor(cdc_data, 'Question')['bigrams'])\n",
        "\n",
        "# Dropping empty lists in dataframes\n",
        "bigram_uc_data = bigram_uc_data[bigram_uc_data['bigrams'].map(len) > 0]\n",
        "bigram_c_data = bigram_c_data[bigram_c_data['bigrams'].map(len) > 0]\n",
        "bigram_cdc_data = bigram_cdc_data[bigram_cdc_data['bigrams'].map(len) > 0]\n",
        "\n",
        "# Concatenating classified datasets: classified OH and CDC datasets\n",
        "bigram_classified_data = pd.concat([bigram_c_data, bigram_cdc_data])"
      ]
    },
    {
      "cell_type": "code",
      "execution_count": 17,
      "metadata": {
        "colab": {
          "base_uri": "https://localhost:8080/",
          "height": 143
        },
        "collapsed": true,
        "id": "ufrLblxxBCWG",
        "outputId": "3b2ece9b-c663-4979-9291-6db1a9bcb22a"
      },
      "outputs": [
        {
          "output_type": "execute_result",
          "data": {
            "text/plain": [
              "                                             bigrams\n",
              "0                                     [(age, group)]\n",
              "2  [(when, thinking), (thinking, discomforts), (d...\n",
              "3  [(do, think), (think, diagnosed), (diagnosed, ..."
            ],
            "text/html": [
              "\n",
              "  <div id=\"df-6df21b8c-bee5-4b66-8378-9d65c52a1f34\">\n",
              "    <div class=\"colab-df-container\">\n",
              "      <div>\n",
              "<style scoped>\n",
              "    .dataframe tbody tr th:only-of-type {\n",
              "        vertical-align: middle;\n",
              "    }\n",
              "\n",
              "    .dataframe tbody tr th {\n",
              "        vertical-align: top;\n",
              "    }\n",
              "\n",
              "    .dataframe thead th {\n",
              "        text-align: right;\n",
              "    }\n",
              "</style>\n",
              "<table border=\"1\" class=\"dataframe\">\n",
              "  <thead>\n",
              "    <tr style=\"text-align: right;\">\n",
              "      <th></th>\n",
              "      <th>bigrams</th>\n",
              "    </tr>\n",
              "  </thead>\n",
              "  <tbody>\n",
              "    <tr>\n",
              "      <th>0</th>\n",
              "      <td>[(age, group)]</td>\n",
              "    </tr>\n",
              "    <tr>\n",
              "      <th>2</th>\n",
              "      <td>[(when, thinking), (thinking, discomforts), (d...</td>\n",
              "    </tr>\n",
              "    <tr>\n",
              "      <th>3</th>\n",
              "      <td>[(do, think), (think, diagnosed), (diagnosed, ...</td>\n",
              "    </tr>\n",
              "  </tbody>\n",
              "</table>\n",
              "</div>\n",
              "      <button class=\"colab-df-convert\" onclick=\"convertToInteractive('df-6df21b8c-bee5-4b66-8378-9d65c52a1f34')\"\n",
              "              title=\"Convert this dataframe to an interactive table.\"\n",
              "              style=\"display:none;\">\n",
              "        \n",
              "  <svg xmlns=\"http://www.w3.org/2000/svg\" height=\"24px\"viewBox=\"0 0 24 24\"\n",
              "       width=\"24px\">\n",
              "    <path d=\"M0 0h24v24H0V0z\" fill=\"none\"/>\n",
              "    <path d=\"M18.56 5.44l.94 2.06.94-2.06 2.06-.94-2.06-.94-.94-2.06-.94 2.06-2.06.94zm-11 1L8.5 8.5l.94-2.06 2.06-.94-2.06-.94L8.5 2.5l-.94 2.06-2.06.94zm10 10l.94 2.06.94-2.06 2.06-.94-2.06-.94-.94-2.06-.94 2.06-2.06.94z\"/><path d=\"M17.41 7.96l-1.37-1.37c-.4-.4-.92-.59-1.43-.59-.52 0-1.04.2-1.43.59L10.3 9.45l-7.72 7.72c-.78.78-.78 2.05 0 2.83L4 21.41c.39.39.9.59 1.41.59.51 0 1.02-.2 1.41-.59l7.78-7.78 2.81-2.81c.8-.78.8-2.07 0-2.86zM5.41 20L4 18.59l7.72-7.72 1.47 1.35L5.41 20z\"/>\n",
              "  </svg>\n",
              "      </button>\n",
              "      \n",
              "  <style>\n",
              "    .colab-df-container {\n",
              "      display:flex;\n",
              "      flex-wrap:wrap;\n",
              "      gap: 12px;\n",
              "    }\n",
              "\n",
              "    .colab-df-convert {\n",
              "      background-color: #E8F0FE;\n",
              "      border: none;\n",
              "      border-radius: 50%;\n",
              "      cursor: pointer;\n",
              "      display: none;\n",
              "      fill: #1967D2;\n",
              "      height: 32px;\n",
              "      padding: 0 0 0 0;\n",
              "      width: 32px;\n",
              "    }\n",
              "\n",
              "    .colab-df-convert:hover {\n",
              "      background-color: #E2EBFA;\n",
              "      box-shadow: 0px 1px 2px rgba(60, 64, 67, 0.3), 0px 1px 3px 1px rgba(60, 64, 67, 0.15);\n",
              "      fill: #174EA6;\n",
              "    }\n",
              "\n",
              "    [theme=dark] .colab-df-convert {\n",
              "      background-color: #3B4455;\n",
              "      fill: #D2E3FC;\n",
              "    }\n",
              "\n",
              "    [theme=dark] .colab-df-convert:hover {\n",
              "      background-color: #434B5C;\n",
              "      box-shadow: 0px 1px 3px 1px rgba(0, 0, 0, 0.15);\n",
              "      filter: drop-shadow(0px 1px 2px rgba(0, 0, 0, 0.3));\n",
              "      fill: #FFFFFF;\n",
              "    }\n",
              "  </style>\n",
              "\n",
              "      <script>\n",
              "        const buttonEl =\n",
              "          document.querySelector('#df-6df21b8c-bee5-4b66-8378-9d65c52a1f34 button.colab-df-convert');\n",
              "        buttonEl.style.display =\n",
              "          google.colab.kernel.accessAllowed ? 'block' : 'none';\n",
              "\n",
              "        async function convertToInteractive(key) {\n",
              "          const element = document.querySelector('#df-6df21b8c-bee5-4b66-8378-9d65c52a1f34');\n",
              "          const dataTable =\n",
              "            await google.colab.kernel.invokeFunction('convertToInteractive',\n",
              "                                                     [key], {});\n",
              "          if (!dataTable) return;\n",
              "\n",
              "          const docLinkHtml = 'Like what you see? Visit the ' +\n",
              "            '<a target=\"_blank\" href=https://colab.research.google.com/notebooks/data_table.ipynb>data table notebook</a>'\n",
              "            + ' to learn more about interactive tables.';\n",
              "          element.innerHTML = '';\n",
              "          dataTable['output_type'] = 'display_data';\n",
              "          await google.colab.output.renderOutput(dataTable, element);\n",
              "          const docLink = document.createElement('div');\n",
              "          docLink.innerHTML = docLinkHtml;\n",
              "          element.appendChild(docLink);\n",
              "        }\n",
              "      </script>\n",
              "    </div>\n",
              "  </div>\n",
              "  "
            ]
          },
          "metadata": {},
          "execution_count": 17
        }
      ],
      "source": [
        "bigram_c_data.head(3)"
      ]
    },
    {
      "cell_type": "markdown",
      "metadata": {
        "id": "l2-2xh317tQC"
      },
      "source": [
        "# **List Maker**"
      ]
    },
    {
      "cell_type": "code",
      "execution_count": 18,
      "metadata": {
        "id": "1WbJPWKxpcKN"
      },
      "outputs": [],
      "source": [
        "# Function to create one long list of separate sentences that are all of type string so that I can use them as inputs for my BoW model\n",
        "\n",
        "# Function takes in two parameters: data as a dataframe; feature as the column of the dataframe\n",
        "def list_maker(data, feature):\n",
        "    data = data[feature] # Variable to hold the specific feature of the dataframe\n",
        "    data_words = [] # Creating two empty lists to hold the words and sentences from the previous dataframe\n",
        "    data_sents = []\n",
        "\n",
        "    for lists in data: # Running a for loop through each row of the column of dataframe\n",
        "        if len(lists) == 0: # Skip empty lists\n",
        "            continue\n",
        "        elif isinstance(lists[0], tuple):  # Check if list is a list of tuples - mainly doing this for postags\n",
        "            words = ['_'.join(word) for word in lists]  # Join bigrams with a space\n",
        "        else:\n",
        "            words = lists  # Else, just use the list as is\n",
        "        string = ' '.join(words) # Each row contains a list of tokens; so here I am joining words in the list and building one string, separated by a blank space (' ')\n",
        "        data_words.append(string) # Appending the words to the empty data_words list\n",
        "\n",
        "    data_sents = [word for word in data_words if word] # Going through each sentence in data_words, making sure it is a word, and appending that to the empty data_sents list\n",
        "    \n",
        "    return data_sents"
      ]
    },
    {
      "cell_type": "markdown",
      "metadata": {
        "id": "t7HghsBO8akj"
      },
      "source": [
        "## Tokens List"
      ]
    },
    {
      "cell_type": "code",
      "execution_count": 19,
      "metadata": {
        "id": "Cz9SJOkzpd_p"
      },
      "outputs": [],
      "source": [
        "# Applying list_maker function to generate a list from TOKENS column of each processed dataset\n",
        "tokens_uc_data_list = list_maker(tokens_uc_data, 'tokens')\n",
        "tokens_c_data_list = list_maker(tokens_c_data, 'tokens')\n",
        "tokens_cdc_data_list = list_maker(tokens_cdc_data, 'tokens')\n",
        "tokens_all_data_list = list_maker(tokens_all_data, 'tokens')\n",
        "tokens_classified_data_list = list_maker(tokens_classified_data, 'tokens')"
      ]
    },
    {
      "cell_type": "markdown",
      "metadata": {
        "id": "rL7WaL228dDH"
      },
      "source": [
        "## Lemma List"
      ]
    },
    {
      "cell_type": "code",
      "execution_count": 20,
      "metadata": {
        "id": "Qhpul-ep6w4x"
      },
      "outputs": [],
      "source": [
        "# Applying list_maker function to generate a list from LEMMA column of each processed dataset\n",
        "lemma_uc_data_list = list_maker(lemma_uc_data, 'lemma')\n",
        "lemma_c_data_list = list_maker(lemma_c_data, 'lemma')\n",
        "lemma_cdc_data_list = list_maker(lemma_cdc_data, 'lemma')\n",
        "lemma_classified_data_list = list_maker(lemma_classified_data, 'lemma')"
      ]
    },
    {
      "cell_type": "markdown",
      "metadata": {
        "id": "QoTsV6yyBQHn"
      },
      "source": [
        "## Porter List"
      ]
    },
    {
      "cell_type": "code",
      "execution_count": 21,
      "metadata": {
        "id": "zDvbYxNvBQP6"
      },
      "outputs": [],
      "source": [
        "# Applying list_maker function to generate a list from Porter column of each processed dataset\n",
        "porter_uc_data_list = list_maker(porter_uc_data, 'porter stem')\n",
        "porter_c_data_list = list_maker(porter_c_data, 'porter stem')\n",
        "porter_cdc_data_list = list_maker(porter_cdc_data, 'porter stem')\n",
        "porter_classified_data_list = list_maker(porter_classified_data, 'porter stem')"
      ]
    },
    {
      "cell_type": "markdown",
      "metadata": {
        "id": "PWJRik1goDKU"
      },
      "source": [
        "## Lancaster List"
      ]
    },
    {
      "cell_type": "code",
      "execution_count": 22,
      "metadata": {
        "id": "Mprw_w9JoDQz"
      },
      "outputs": [],
      "source": [
        "# Applying list_maker function to generate a list from Lancaster column of each processed dataset\n",
        "lancaster_uc_data_list = list_maker(lancaster_uc_data, 'lancaster stem')\n",
        "lancaster_c_data_list = list_maker(lancaster_c_data, 'lancaster stem')\n",
        "lancaster_cdc_data_list = list_maker(lancaster_cdc_data, 'lancaster stem')\n",
        "lancaster_classified_data_list = list_maker(lancaster_classified_data, 'lancaster stem')"
      ]
    },
    {
      "cell_type": "markdown",
      "metadata": {
        "id": "r-XbAxAGBQct"
      },
      "source": [
        "## Postag List"
      ]
    },
    {
      "cell_type": "code",
      "execution_count": 23,
      "metadata": {
        "id": "XsrVn86IBQnJ"
      },
      "outputs": [],
      "source": [
        "# Applying list_maker function to generate a list from PosTag column of each processed dataset\n",
        "postag_uc_data_list = list_maker(postag_uc_data, 'postag')\n",
        "postag_c_data_list = list_maker(postag_c_data, 'postag')\n",
        "postag_cdc_data_list = list_maker(postag_cdc_data, 'postag')\n",
        "postag_classified_data_list = list_maker(postag_classified_data, 'postag')"
      ]
    },
    {
      "cell_type": "markdown",
      "metadata": {
        "id": "tpkKID79BQww"
      },
      "source": [
        "## Bigrams List"
      ]
    },
    {
      "cell_type": "code",
      "execution_count": 24,
      "metadata": {
        "id": "e_RpddkhBQ7M"
      },
      "outputs": [],
      "source": [
        "# Applying list_maker function to generate a list from Bigrams column of each processed dataset\n",
        "bigram_uc_data_list = list_maker(bigram_uc_data, 'bigrams')\n",
        "bigram_c_data_list = list_maker(bigram_c_data, 'bigrams')\n",
        "bigram_cdc_data_list = list_maker(bigram_cdc_data, 'bigrams')\n",
        "bigram_classified_data_list = list_maker(bigram_classified_data, 'bigrams')"
      ]
    },
    {
      "cell_type": "markdown",
      "metadata": {
        "id": "Yt8vkbGj7ecV"
      },
      "source": [
        "# **Bag of Words (BoW)**"
      ]
    },
    {
      "cell_type": "code",
      "execution_count": 25,
      "metadata": {
        "id": "p-N2vzv6KQ7Y"
      },
      "outputs": [],
      "source": [
        "# Import countvectorizer from sklearn to build Bag of Words\n",
        "from sklearn.feature_extraction.text import CountVectorizer"
      ]
    },
    {
      "cell_type": "code",
      "execution_count": 26,
      "metadata": {
        "id": "0tI5lntuwh-R"
      },
      "outputs": [],
      "source": [
        "# Function to build Bag of Words dataframe\n",
        "\n",
        "def bow(data_list, df_name): # Two parameters: data_list = list of words; and df_name = name of type string\n",
        "    # Create CountVectorizer object\n",
        "    vectorizer = CountVectorizer()\n",
        "\n",
        "    # Fit and transform data using CountVectorizer\n",
        "    bow_data = vectorizer.fit_transform(data_list)\n",
        "\n",
        "    # Get feature names from CountVectorizer\n",
        "    feature_names = vectorizer.get_feature_names_out()\n",
        "\n",
        "    # Convert bag of words to DataFrame\n",
        "    df_name = pd.DataFrame(bow_data.toarray(), columns=feature_names)\n",
        "\n",
        "    return df_name"
      ]
    },
    {
      "cell_type": "markdown",
      "metadata": {
        "id": "sk6wwK_c7iL9"
      },
      "source": [
        "## Tokens BoW Dataframe"
      ]
    },
    {
      "cell_type": "code",
      "execution_count": 27,
      "metadata": {
        "id": "C6Ezk457xvye"
      },
      "outputs": [],
      "source": [
        "# Implementing bow function on Tokenized data lists\n",
        "tokens_uc_bow_df = bow(tokens_uc_data_list, 'uc_bow_df')\n",
        "tokens_c_bow_df = bow(tokens_c_data_list, 'c_bow_df')\n",
        "tokens_cdc_bow_df = bow(tokens_cdc_data_list, 'cdc_bow_df')\n",
        "tokens_all_bow_df = bow(tokens_all_data_list, 'all_bow_df')\n",
        "tokens_class_bow_df = bow(tokens_classified_data_list, 'class_bow_df')"
      ]
    },
    {
      "cell_type": "code",
      "source": [
        "tokens_c_bow_df.head(3)"
      ],
      "metadata": {
        "colab": {
          "base_uri": "https://localhost:8080/",
          "height": 172
        },
        "id": "vmea2Pa5Or0U",
        "outputId": "c503483d-a825-407e-f697-df9cfed89713"
      },
      "execution_count": 28,
      "outputs": [
        {
          "output_type": "execute_result",
          "data": {
            "text/plain": [
              "   12  acid  address  addressing  affect  age  aloe  amino  annual  applies  \\\n",
              "0   0     0        0           0       0    1     0      0       0        0   \n",
              "1   0     0        0           0       0    0     0      0       0        0   \n",
              "2   0     0        0           0       0    0     0      0       0        0   \n",
              "\n",
              "   ...  what  wheat  when  where  which  whitening  whole  willing  would  you  \n",
              "0  ...     0      0     0      0      0          0      0        0      0    0  \n",
              "1  ...     0      0     0      0      0          0      0        0      0    0  \n",
              "2  ...     0      1     1      0      0          0      0        0      0    0  \n",
              "\n",
              "[3 rows x 158 columns]"
            ],
            "text/html": [
              "\n",
              "  <div id=\"df-4bd14be1-d994-40f9-bfe5-7f7392ad21b2\">\n",
              "    <div class=\"colab-df-container\">\n",
              "      <div>\n",
              "<style scoped>\n",
              "    .dataframe tbody tr th:only-of-type {\n",
              "        vertical-align: middle;\n",
              "    }\n",
              "\n",
              "    .dataframe tbody tr th {\n",
              "        vertical-align: top;\n",
              "    }\n",
              "\n",
              "    .dataframe thead th {\n",
              "        text-align: right;\n",
              "    }\n",
              "</style>\n",
              "<table border=\"1\" class=\"dataframe\">\n",
              "  <thead>\n",
              "    <tr style=\"text-align: right;\">\n",
              "      <th></th>\n",
              "      <th>12</th>\n",
              "      <th>acid</th>\n",
              "      <th>address</th>\n",
              "      <th>addressing</th>\n",
              "      <th>affect</th>\n",
              "      <th>age</th>\n",
              "      <th>aloe</th>\n",
              "      <th>amino</th>\n",
              "      <th>annual</th>\n",
              "      <th>applies</th>\n",
              "      <th>...</th>\n",
              "      <th>what</th>\n",
              "      <th>wheat</th>\n",
              "      <th>when</th>\n",
              "      <th>where</th>\n",
              "      <th>which</th>\n",
              "      <th>whitening</th>\n",
              "      <th>whole</th>\n",
              "      <th>willing</th>\n",
              "      <th>would</th>\n",
              "      <th>you</th>\n",
              "    </tr>\n",
              "  </thead>\n",
              "  <tbody>\n",
              "    <tr>\n",
              "      <th>0</th>\n",
              "      <td>0</td>\n",
              "      <td>0</td>\n",
              "      <td>0</td>\n",
              "      <td>0</td>\n",
              "      <td>0</td>\n",
              "      <td>1</td>\n",
              "      <td>0</td>\n",
              "      <td>0</td>\n",
              "      <td>0</td>\n",
              "      <td>0</td>\n",
              "      <td>...</td>\n",
              "      <td>0</td>\n",
              "      <td>0</td>\n",
              "      <td>0</td>\n",
              "      <td>0</td>\n",
              "      <td>0</td>\n",
              "      <td>0</td>\n",
              "      <td>0</td>\n",
              "      <td>0</td>\n",
              "      <td>0</td>\n",
              "      <td>0</td>\n",
              "    </tr>\n",
              "    <tr>\n",
              "      <th>1</th>\n",
              "      <td>0</td>\n",
              "      <td>0</td>\n",
              "      <td>0</td>\n",
              "      <td>0</td>\n",
              "      <td>0</td>\n",
              "      <td>0</td>\n",
              "      <td>0</td>\n",
              "      <td>0</td>\n",
              "      <td>0</td>\n",
              "      <td>0</td>\n",
              "      <td>...</td>\n",
              "      <td>0</td>\n",
              "      <td>0</td>\n",
              "      <td>0</td>\n",
              "      <td>0</td>\n",
              "      <td>0</td>\n",
              "      <td>0</td>\n",
              "      <td>0</td>\n",
              "      <td>0</td>\n",
              "      <td>0</td>\n",
              "      <td>0</td>\n",
              "    </tr>\n",
              "    <tr>\n",
              "      <th>2</th>\n",
              "      <td>0</td>\n",
              "      <td>0</td>\n",
              "      <td>0</td>\n",
              "      <td>0</td>\n",
              "      <td>0</td>\n",
              "      <td>0</td>\n",
              "      <td>0</td>\n",
              "      <td>0</td>\n",
              "      <td>0</td>\n",
              "      <td>0</td>\n",
              "      <td>...</td>\n",
              "      <td>0</td>\n",
              "      <td>1</td>\n",
              "      <td>1</td>\n",
              "      <td>0</td>\n",
              "      <td>0</td>\n",
              "      <td>0</td>\n",
              "      <td>0</td>\n",
              "      <td>0</td>\n",
              "      <td>0</td>\n",
              "      <td>0</td>\n",
              "    </tr>\n",
              "  </tbody>\n",
              "</table>\n",
              "<p>3 rows × 158 columns</p>\n",
              "</div>\n",
              "      <button class=\"colab-df-convert\" onclick=\"convertToInteractive('df-4bd14be1-d994-40f9-bfe5-7f7392ad21b2')\"\n",
              "              title=\"Convert this dataframe to an interactive table.\"\n",
              "              style=\"display:none;\">\n",
              "        \n",
              "  <svg xmlns=\"http://www.w3.org/2000/svg\" height=\"24px\"viewBox=\"0 0 24 24\"\n",
              "       width=\"24px\">\n",
              "    <path d=\"M0 0h24v24H0V0z\" fill=\"none\"/>\n",
              "    <path d=\"M18.56 5.44l.94 2.06.94-2.06 2.06-.94-2.06-.94-.94-2.06-.94 2.06-2.06.94zm-11 1L8.5 8.5l.94-2.06 2.06-.94-2.06-.94L8.5 2.5l-.94 2.06-2.06.94zm10 10l.94 2.06.94-2.06 2.06-.94-2.06-.94-.94-2.06-.94 2.06-2.06.94z\"/><path d=\"M17.41 7.96l-1.37-1.37c-.4-.4-.92-.59-1.43-.59-.52 0-1.04.2-1.43.59L10.3 9.45l-7.72 7.72c-.78.78-.78 2.05 0 2.83L4 21.41c.39.39.9.59 1.41.59.51 0 1.02-.2 1.41-.59l7.78-7.78 2.81-2.81c.8-.78.8-2.07 0-2.86zM5.41 20L4 18.59l7.72-7.72 1.47 1.35L5.41 20z\"/>\n",
              "  </svg>\n",
              "      </button>\n",
              "      \n",
              "  <style>\n",
              "    .colab-df-container {\n",
              "      display:flex;\n",
              "      flex-wrap:wrap;\n",
              "      gap: 12px;\n",
              "    }\n",
              "\n",
              "    .colab-df-convert {\n",
              "      background-color: #E8F0FE;\n",
              "      border: none;\n",
              "      border-radius: 50%;\n",
              "      cursor: pointer;\n",
              "      display: none;\n",
              "      fill: #1967D2;\n",
              "      height: 32px;\n",
              "      padding: 0 0 0 0;\n",
              "      width: 32px;\n",
              "    }\n",
              "\n",
              "    .colab-df-convert:hover {\n",
              "      background-color: #E2EBFA;\n",
              "      box-shadow: 0px 1px 2px rgba(60, 64, 67, 0.3), 0px 1px 3px 1px rgba(60, 64, 67, 0.15);\n",
              "      fill: #174EA6;\n",
              "    }\n",
              "\n",
              "    [theme=dark] .colab-df-convert {\n",
              "      background-color: #3B4455;\n",
              "      fill: #D2E3FC;\n",
              "    }\n",
              "\n",
              "    [theme=dark] .colab-df-convert:hover {\n",
              "      background-color: #434B5C;\n",
              "      box-shadow: 0px 1px 3px 1px rgba(0, 0, 0, 0.15);\n",
              "      filter: drop-shadow(0px 1px 2px rgba(0, 0, 0, 0.3));\n",
              "      fill: #FFFFFF;\n",
              "    }\n",
              "  </style>\n",
              "\n",
              "      <script>\n",
              "        const buttonEl =\n",
              "          document.querySelector('#df-4bd14be1-d994-40f9-bfe5-7f7392ad21b2 button.colab-df-convert');\n",
              "        buttonEl.style.display =\n",
              "          google.colab.kernel.accessAllowed ? 'block' : 'none';\n",
              "\n",
              "        async function convertToInteractive(key) {\n",
              "          const element = document.querySelector('#df-4bd14be1-d994-40f9-bfe5-7f7392ad21b2');\n",
              "          const dataTable =\n",
              "            await google.colab.kernel.invokeFunction('convertToInteractive',\n",
              "                                                     [key], {});\n",
              "          if (!dataTable) return;\n",
              "\n",
              "          const docLinkHtml = 'Like what you see? Visit the ' +\n",
              "            '<a target=\"_blank\" href=https://colab.research.google.com/notebooks/data_table.ipynb>data table notebook</a>'\n",
              "            + ' to learn more about interactive tables.';\n",
              "          element.innerHTML = '';\n",
              "          dataTable['output_type'] = 'display_data';\n",
              "          await google.colab.output.renderOutput(dataTable, element);\n",
              "          const docLink = document.createElement('div');\n",
              "          docLink.innerHTML = docLinkHtml;\n",
              "          element.appendChild(docLink);\n",
              "        }\n",
              "      </script>\n",
              "    </div>\n",
              "  </div>\n",
              "  "
            ]
          },
          "metadata": {},
          "execution_count": 28
        }
      ]
    },
    {
      "cell_type": "markdown",
      "metadata": {
        "id": "ZEFJ6pu870rO"
      },
      "source": [
        "## Lemma BoW Dataframe"
      ]
    },
    {
      "cell_type": "code",
      "execution_count": 29,
      "metadata": {
        "id": "SXi2NJZe72e1"
      },
      "outputs": [],
      "source": [
        "# Implementing bow function on Lemma data lists\n",
        "lemma_uc_bow_df = bow(lemma_uc_data_list, 'uc_bow_df')\n",
        "lemma_c_bow_df = bow(lemma_c_data_list, 'c_bow_df')\n",
        "lemma_cdc_bow_df = bow(lemma_cdc_data_list, 'cdc_bow_df')\n",
        "lemma_class_bow_df = bow(lemma_classified_data_list, 'class_bow_df')"
      ]
    },
    {
      "cell_type": "markdown",
      "metadata": {
        "id": "9CHsTReW76JA"
      },
      "source": [
        "## Porter BoW Dataframe"
      ]
    },
    {
      "cell_type": "code",
      "execution_count": 30,
      "metadata": {
        "id": "rpUSh8BN76PF"
      },
      "outputs": [],
      "source": [
        "# Implementing bow function on Porter data lists\n",
        "porter_uc_bow_df = bow(porter_uc_data_list, 'uc_bow_df')\n",
        "porter_c_bow_df = bow(porter_c_data_list, 'c_bow_df')\n",
        "porter_cdc_bow_df = bow(porter_cdc_data_list, 'cdc_bow_df')\n",
        "porter_class_bow_df = bow(porter_classified_data_list, 'class_bow_df')"
      ]
    },
    {
      "cell_type": "markdown",
      "metadata": {
        "id": "LaBjATzSopMN"
      },
      "source": [
        "## Lancaster BoW DataFrame"
      ]
    },
    {
      "cell_type": "code",
      "execution_count": 31,
      "metadata": {
        "id": "WWmVOz6ropSq"
      },
      "outputs": [],
      "source": [
        "# Implementing bow function on Lancaster data lists\n",
        "lancaster_uc_bow_df = bow(lancaster_uc_data_list, 'uc_bow_df')\n",
        "lancaster_c_bow_df = bow(lancaster_c_data_list, 'c_bow_df')\n",
        "lancaster_cdc_bow_df = bow(lancaster_cdc_data_list, 'cdc_bow_df')\n",
        "lancaster_class_bow_df = bow(lancaster_classified_data_list, 'class_bow_df')"
      ]
    },
    {
      "cell_type": "markdown",
      "metadata": {
        "id": "o4NQ4rtU76W_"
      },
      "source": [
        "## Postag BoW Dataframe"
      ]
    },
    {
      "cell_type": "code",
      "execution_count": 32,
      "metadata": {
        "id": "PbMY-3Bo76df"
      },
      "outputs": [],
      "source": [
        "# Implementing bow function on Postag data lists\n",
        "postag_uc_bow_df = bow(postag_uc_data_list, 'uc_bow_df')\n",
        "postag_c_bow_df = bow(postag_c_data_list, 'c_bow_df')\n",
        "postag_cdc_bow_df = bow(postag_cdc_data_list, 'cdc_bow_df')\n",
        "postag_class_bow_df = bow(postag_classified_data_list, 'class_bow_df')"
      ]
    },
    {
      "cell_type": "markdown",
      "metadata": {
        "id": "pOOzfRfv76q2"
      },
      "source": [
        "## Bigram BoW Dataframe"
      ]
    },
    {
      "cell_type": "code",
      "execution_count": 33,
      "metadata": {
        "id": "ddvsAqQn8BqE"
      },
      "outputs": [],
      "source": [
        "# Implementing bow function on Bigram data lists\n",
        "bigram_uc_bow_df = bow(bigram_uc_data_list, 'uc_bow_df')\n",
        "bigram_c_bow_df = bow(bigram_c_data_list, 'c_bow_df')\n",
        "bigram_cdc_bow_df = bow(bigram_cdc_data_list, 'cdc_bow_df')\n",
        "bigram_class_bow_df = bow(bigram_classified_data_list, 'class_bow_df')"
      ]
    },
    {
      "cell_type": "markdown",
      "metadata": {
        "id": "Zdt5nZV0LiAL"
      },
      "source": [
        "# **BoW Array**"
      ]
    },
    {
      "cell_type": "code",
      "execution_count": 34,
      "metadata": {
        "id": "vsKIdflW_UWy"
      },
      "outputs": [],
      "source": [
        "# Function to convert BoW dataframes to numpy arrays\n",
        "def arr_builder(bow_df):\n",
        "    bow_as_array = np.array(bow_df.values) # Use values method on bow_df column to grab its values and then convert to numpy array\n",
        "\n",
        "    return bow_as_array"
      ]
    },
    {
      "cell_type": "markdown",
      "metadata": {
        "id": "8Ru84V0YAy1b"
      },
      "source": [
        "## Tokens BoW Array"
      ]
    },
    {
      "cell_type": "code",
      "execution_count": 35,
      "metadata": {
        "id": "3Zo74dHL3HaX"
      },
      "outputs": [],
      "source": [
        "# Convert Tokens BoW dataframe to numpy array\n",
        "tokens_c_bow_array = arr_builder(tokens_c_bow_df)\n",
        "tokens_uc_bow_array = arr_builder(tokens_uc_bow_df)\n",
        "tokens_cdc_bow_array = arr_builder(tokens_cdc_bow_df)\n",
        "tokens_all_bow_array = arr_builder(tokens_all_bow_df)\n",
        "tokens_class_bow_array = arr_builder(tokens_class_bow_df)"
      ]
    },
    {
      "cell_type": "markdown",
      "metadata": {
        "id": "4aegkJyWA4of"
      },
      "source": [
        "## Lemma BoW Array"
      ]
    },
    {
      "cell_type": "code",
      "execution_count": 36,
      "metadata": {
        "id": "vk64O7SGAua3"
      },
      "outputs": [],
      "source": [
        "# Convert Lemma BoW dataframe to numpy array\n",
        "lemma_c_bow_array = arr_builder(lemma_c_bow_df)\n",
        "lemma_uc_bow_array = arr_builder(lemma_uc_bow_df)\n",
        "lemma_cdc_bow_array = arr_builder(lemma_cdc_bow_df)\n",
        "lemma_class_bow_array = arr_builder(lemma_class_bow_df)"
      ]
    },
    {
      "cell_type": "markdown",
      "metadata": {
        "id": "kPQONeeEBD3B"
      },
      "source": [
        "## Porter BoW Array"
      ]
    },
    {
      "cell_type": "code",
      "execution_count": 37,
      "metadata": {
        "id": "-IxkzGHgAuds"
      },
      "outputs": [],
      "source": [
        "# Convert Porter BoW dataframe to numpy array\n",
        "porter_c_bow_array = arr_builder(porter_c_bow_df)\n",
        "porter_uc_bow_array = arr_builder(porter_uc_bow_df)\n",
        "porter_cdc_bow_array = arr_builder(porter_cdc_bow_df)\n",
        "porter_class_bow_array = arr_builder(porter_class_bow_df)"
      ]
    },
    {
      "cell_type": "markdown",
      "metadata": {
        "id": "AGUx1L3ko2ZA"
      },
      "source": [
        "## Lancaster BoW Array"
      ]
    },
    {
      "cell_type": "code",
      "execution_count": 38,
      "metadata": {
        "id": "pwRr-ymto3SF"
      },
      "outputs": [],
      "source": [
        "# Convert Lancaster BoW dataframe to numpy array\n",
        "lancaster_c_bow_array = arr_builder(lancaster_c_bow_df)\n",
        "lancaster_uc_bow_array = arr_builder(lancaster_uc_bow_df)\n",
        "lancaster_cdc_bow_array = arr_builder(lancaster_cdc_bow_df)\n",
        "lancaster_class_bow_array = arr_builder(lancaster_class_bow_df)"
      ]
    },
    {
      "cell_type": "markdown",
      "metadata": {
        "id": "Dc1OfzHZBHVM"
      },
      "source": [
        "## Postag BoW Array"
      ]
    },
    {
      "cell_type": "code",
      "execution_count": 39,
      "metadata": {
        "id": "ZKdjUdc3Augj"
      },
      "outputs": [],
      "source": [
        "# Convert Postag BoW dataframe to numpy array\n",
        "postag_c_bow_array = arr_builder(postag_c_bow_df)\n",
        "postag_uc_bow_array = arr_builder(postag_uc_bow_df)\n",
        "postag_cdc_bow_array = arr_builder(postag_cdc_bow_df)\n",
        "postag_class_bow_array = arr_builder(postag_class_bow_df)"
      ]
    },
    {
      "cell_type": "markdown",
      "metadata": {
        "id": "xbA9VZiaBLAW"
      },
      "source": [
        "## Bigram BoW Array"
      ]
    },
    {
      "cell_type": "code",
      "execution_count": 40,
      "metadata": {
        "id": "8KZKmgG-BLNn"
      },
      "outputs": [],
      "source": [
        "# Convert Bigram BoW dataframe to numpy array\n",
        "bigram_c_bow_array = arr_builder(bigram_c_bow_df)\n",
        "bigram_uc_bow_array = arr_builder(bigram_uc_bow_df)\n",
        "bigram_cdc_bow_array = arr_builder(bigram_cdc_bow_df)\n",
        "bigram_class_bow_array = arr_builder(bigram_class_bow_df)"
      ]
    },
    {
      "cell_type": "markdown",
      "metadata": {
        "id": "b5CUFQVmhvaA"
      },
      "source": [
        "# **Supervised Learning**"
      ]
    },
    {
      "cell_type": "markdown",
      "metadata": {
        "id": "R5eDiCZsWTgW"
      },
      "source": [
        "# **Train-Test Split**"
      ]
    },
    {
      "cell_type": "code",
      "execution_count": 41,
      "metadata": {
        "id": "swi6pbYNhu23"
      },
      "outputs": [],
      "source": [
        "# Train-test split\n",
        "from sklearn.model_selection import train_test_split\n",
        "from sklearn.preprocessing import LabelEncoder # Calling labelencoder to encode truth labels from string to numerical values"
      ]
    },
    {
      "cell_type": "code",
      "execution_count": 42,
      "metadata": {
        "id": "gXTWfdAlQMFO"
      },
      "outputs": [],
      "source": [
        "# Building train-test split function and encoding labels\n",
        "def split(bow_df, original_data, test_size=0.2, random_state=42):\n",
        "\n",
        "    # Encoding labels ----------------\n",
        "\n",
        "    # Create label encoder object\n",
        "    label_encoder = LabelEncoder()\n",
        "\n",
        "    # Grabbing only topic labels\n",
        "    topics_df = processor(original_data, 'Question')['Topic']\n",
        "\n",
        "    # If statement for bigrams dataframes which had further processing compared to the others...\n",
        "    if bow_df.equals(bigram_c_bow_df):\n",
        "        # Find common index\n",
        "        common_index = bigram_c_bow_df.index.intersection(topics_df.index)\n",
        "        # Reindex dataframe using the common index\n",
        "        topics_df = topics_df.reindex(common_index)\n",
        "    if bow_df.equals(bigram_cdc_bow_df):\n",
        "        # Find common index\n",
        "        common_index = bigram_cdc_bow_df.index.intersection(topics_df.index)\n",
        "        # Reindex dataframe using the common index\n",
        "        topics_df = topics_df.reindex(common_index)\n",
        "    if bow_df.equals(bigram_class_bow_df):\n",
        "        # Find common index\n",
        "        common_index = bigram_class_bow_df.index.intersection(topics_df.index)\n",
        "        # Reindex dataframe using the common index\n",
        "        topics_df = topics_df.reindex(common_index)\n",
        "\n",
        "    # Encoding topic labels from classified dataset\n",
        "    topics_encoded = label_encoder.fit_transform(topics_df)\n",
        "\n",
        "    # Splitting data --------------------\n",
        "\n",
        "    # Creating x variable\n",
        "    x = bow_df\n",
        "    x_arr = np.array(x)\n",
        "\n",
        "    # Creating y variable\n",
        "    y = topics_encoded\n",
        "    y_arr = np.array(y)\n",
        "\n",
        "    # Perform train-test split\n",
        "    x_train, x_test, y_train, y_test = train_test_split(x_arr, y_arr, test_size=test_size, random_state=random_state)\n",
        "\n",
        "    # Return the split data\n",
        "    return x_train, x_test, y_train, y_test"
      ]
    },
    {
      "cell_type": "markdown",
      "metadata": {
        "id": "NCa67_GA9zB0"
      },
      "source": [
        "## Tokens Train-Test Split"
      ]
    },
    {
      "cell_type": "code",
      "execution_count": 43,
      "metadata": {
        "id": "6Php9388R93S"
      },
      "outputs": [],
      "source": [
        "# Calling function to build tokens train-test sets for all relevant datasets\n",
        "\n",
        "# Classified OH data\n",
        "x_train_tokens_c_data, x_test_tokens_c_data, y_train_tokens_c_data, y_test_tokens_c_data = split(tokens_c_bow_df, c_data)\n",
        "\n",
        "# CDC data\n",
        "x_train_tokens_cdc_data, x_test_tokens_cdc_data, y_train_tokens_cdc_data, y_test_tokens_cdc_data = split(tokens_cdc_bow_df, cdc_data)\n",
        "\n",
        "# All classified data\n",
        "x_train_tokens_class_data, x_test_tokens_class_data, y_train_tokens_class_data, y_test_tokens_class_data= split(tokens_class_bow_df, class_data)"
      ]
    },
    {
      "cell_type": "markdown",
      "metadata": {
        "id": "pcEgerNZ-cM1"
      },
      "source": [
        "## Lemma Train-Test Split"
      ]
    },
    {
      "cell_type": "code",
      "execution_count": 44,
      "metadata": {
        "id": "RQdQFfOJ-cWd"
      },
      "outputs": [],
      "source": [
        "# Calling function to build lemma train-test sets for all relevant datasets\n",
        "\n",
        "# Classified OH data\n",
        "x_train_lemma_c_data, x_test_lemma_c_data, y_train_lemma_c_data, y_test_lemma_c_data = split(lemma_c_bow_df, c_data)\n",
        "\n",
        "# CDC data\n",
        "x_train_lemma_cdc_data, x_test_lemma_cdc_data, y_train_lemma_cdc_data, y_test_lemma_cdc_data = split(lemma_cdc_bow_df, cdc_data)\n",
        "\n",
        "# All classified data\n",
        "x_train_lemma_class_data, x_test_lemma_class_data, y_train_lemma_class_data, y_test_lemma_class_data= split(lemma_class_bow_df, class_data)"
      ]
    },
    {
      "cell_type": "markdown",
      "metadata": {
        "id": "s1YA7wRD-cfT"
      },
      "source": [
        "## Porter Train-Test Split"
      ]
    },
    {
      "cell_type": "code",
      "execution_count": 45,
      "metadata": {
        "id": "VelCLDzo-cnG"
      },
      "outputs": [],
      "source": [
        "# Calling function to build Porter train-test sets for all relevant datasets\n",
        "\n",
        "# Classified OH data\n",
        "x_train_porter_c_data, x_test_porter_c_data, y_train_porter_c_data, y_test_porter_c_data = split(porter_c_bow_df, c_data)\n",
        "\n",
        "# CDC data\n",
        "x_train_porter_cdc_data, x_test_porter_cdc_data, y_train_porter_cdc_data, y_test_porter_cdc_data = split(porter_cdc_bow_df, cdc_data)\n",
        "\n",
        "# All classified data\n",
        "x_train_porter_class_data, x_test_porter_class_data, y_train_porter_class_data, y_test_porter_class_data= split(porter_class_bow_df, class_data)"
      ]
    },
    {
      "cell_type": "markdown",
      "metadata": {
        "id": "9jbaHm03pStA"
      },
      "source": [
        "## Lancaster Train-Test Split"
      ]
    },
    {
      "cell_type": "code",
      "execution_count": 46,
      "metadata": {
        "id": "OjFBRqo2pSRs"
      },
      "outputs": [],
      "source": [
        "# Calling function to build Lancaster train-test sets for all relevant datasets\n",
        "\n",
        "# Classified OH data\n",
        "x_train_lancaster_c_data, x_test_lancaster_c_data, y_train_lancaster_c_data, y_test_lancaster_c_data = split(lancaster_c_bow_df, c_data)\n",
        "\n",
        "# CDC data\n",
        "x_train_lancaster_cdc_data, x_test_lancaster_cdc_data, y_train_lancaster_cdc_data, y_test_lancaster_cdc_data = split(lancaster_cdc_bow_df, cdc_data)\n",
        "\n",
        "# All classified data\n",
        "x_train_lancaster_class_data, x_test_lancaster_class_data, y_train_lancaster_class_data, y_test_lancaster_class_data= split(lancaster_class_bow_df, class_data)"
      ]
    },
    {
      "cell_type": "markdown",
      "metadata": {
        "id": "-Y6TA1FR-ct9"
      },
      "source": [
        "## Postag Train-Test Split"
      ]
    },
    {
      "cell_type": "code",
      "execution_count": 47,
      "metadata": {
        "id": "sPO9ePPU-c3P"
      },
      "outputs": [],
      "source": [
        "# Calling function to build postag train-test sets for all relevant datasets\n",
        "\n",
        "# Classified OH data\n",
        "x_train_postag_c_data, x_test_postag_c_data, y_train_postag_c_data, y_test_postag_c_data = split(postag_c_bow_df, c_data)\n",
        "\n",
        "# CDC data\n",
        "x_train_postag_cdc_data, x_test_postag_cdc_data, y_train_postag_cdc_data, y_test_postag_cdc_data = split(postag_cdc_bow_df, cdc_data)\n",
        "\n",
        "# All classified data\n",
        "x_train_postag_class_data, x_test_postag_class_data, y_train_postag_class_data, y_test_postag_class_data= split(postag_class_bow_df, class_data)"
      ]
    },
    {
      "cell_type": "markdown",
      "metadata": {
        "id": "Lbz4rmCF-mJj"
      },
      "source": [
        "## Bigram Train-Test Split"
      ]
    },
    {
      "cell_type": "code",
      "execution_count": 48,
      "metadata": {
        "id": "JpcwVcTR-mPQ"
      },
      "outputs": [],
      "source": [
        "# Calling function to build bigram train-test sets for all relevant datasets\n",
        "\n",
        "# Classified OH data\n",
        "x_train_bigram_c_data, x_test_bigram_c_data, y_train_bigram_c_data, y_test_bigram_c_data = split(bigram_c_bow_df, c_data)\n",
        "\n",
        "# CDC data\n",
        "x_train_bigram_cdc_data, x_test_bigram_cdc_data, y_train_bigram_cdc_data, y_test_bigram_cdc_data = split(bigram_cdc_bow_df, cdc_data)\n",
        "\n",
        "# All classified data\n",
        "x_train_bigram_class_data, x_test_bigram_class_data, y_train_bigram_class_data, y_test_bigram_class_data= split(bigram_class_bow_df, class_data)"
      ]
    },
    {
      "cell_type": "markdown",
      "metadata": {
        "id": "O3hhf15XPynB"
      },
      "source": [
        "# **Linear Regression**"
      ]
    },
    {
      "cell_type": "code",
      "execution_count": 49,
      "metadata": {
        "id": "d_-czl8EhJaO"
      },
      "outputs": [],
      "source": [
        "# Linear Regression\n",
        "from sklearn.linear_model import LinearRegression\n",
        "\n",
        "# Evaluation metrics\n",
        "from sklearn.metrics import r2_score, mean_absolute_error"
      ]
    },
    {
      "cell_type": "code",
      "execution_count": 50,
      "metadata": {
        "id": "zESAl0AjQmcN"
      },
      "outputs": [],
      "source": [
        "# Building Linear Regression function\n",
        "def linear_regression(x_train, x_test, y_train, y_test):\n",
        "    # Create linear regression object and fit model\n",
        "    model = LinearRegression().fit(x_train, y_train)\n",
        "\n",
        "    # Make predictions\n",
        "    y_pred = model.predict(x_test)\n",
        "\n",
        "    # Calculate R2 and MAE\n",
        "    r2 = r2_score(y_test, y_pred)\n",
        "    mae = mean_absolute_error(y_test, y_pred)\n",
        "\n",
        "    print(f' r2 value: {r2}')\n",
        "    print(f'mae value: {mae}')"
      ]
    },
    {
      "cell_type": "markdown",
      "metadata": {
        "id": "z_1mEX5bBZBt"
      },
      "source": [
        "## Tokens Linear Regression"
      ]
    },
    {
      "cell_type": "code",
      "execution_count": 51,
      "metadata": {
        "id": "FhCfKabKPdax",
        "colab": {
          "base_uri": "https://localhost:8080/"
        },
        "outputId": "999ae385-ca11-489e-a766-c0456bdff1e6"
      },
      "outputs": [
        {
          "output_type": "stream",
          "name": "stdout",
          "text": [
            "Evaluation scores for c_data -------\n",
            " r2 value: 0.5631393712222186\n",
            "mae value: 1.8681581349974699\n",
            "\n",
            "Evaluation scores for cdc_data -------\n",
            " r2 value: -1.760336004830792e+25\n",
            "mae value: 67657852238064.63\n",
            "\n",
            "Evaluation scores for class_data -------\n",
            " r2 value: -7.64590980560604e+24\n",
            "mae value: 43162391421639.82\n"
          ]
        }
      ],
      "source": [
        "# Classified OH data\n",
        "print('Evaluation scores for c_data -------')\n",
        "linear_regression(x_train_tokens_c_data, x_test_tokens_c_data, y_train_tokens_c_data, y_test_tokens_c_data)\n",
        "print()\n",
        "\n",
        "# CDC data\n",
        "print('Evaluation scores for cdc_data -------')\n",
        "linear_regression(x_train_tokens_cdc_data, x_test_tokens_cdc_data, y_train_tokens_cdc_data, y_test_tokens_cdc_data)\n",
        "print()\n",
        "\n",
        "# All classified data\n",
        "print('Evaluation scores for class_data -------')\n",
        "linear_regression(x_train_tokens_class_data, x_test_tokens_class_data, y_train_tokens_class_data, y_test_tokens_class_data)"
      ]
    },
    {
      "cell_type": "markdown",
      "metadata": {
        "id": "rHvjOh1bBf5A"
      },
      "source": [
        "## Bigrams Linear Regression"
      ]
    },
    {
      "cell_type": "code",
      "execution_count": 52,
      "metadata": {
        "id": "rkpQ8KbpBXo5",
        "colab": {
          "base_uri": "https://localhost:8080/"
        },
        "outputId": "dd562d48-2fe2-4675-b912-300b6ddd2ede"
      },
      "outputs": [
        {
          "output_type": "stream",
          "name": "stdout",
          "text": [
            "Evaluation scores for c_data -------\n",
            " r2 value: 0.06778445913779041\n",
            "mae value: 3.4846454616113367\n",
            "\n",
            "Evaluation scores for cdc_data -------\n",
            " r2 value: -4.167556465996501e+26\n",
            "mae value: 375172860871474.0\n",
            "\n",
            "Evaluation scores for class_data -------\n",
            " r2 value: -2.1615835165426123e+26\n",
            "mae value: 216582692721893.3\n"
          ]
        }
      ],
      "source": [
        "# Classified OH data\n",
        "print('Evaluation scores for c_data -------')\n",
        "linear_regression(x_train_bigram_c_data, x_test_bigram_c_data, y_train_bigram_c_data, y_test_bigram_c_data)\n",
        "print()\n",
        "\n",
        "# CDC data\n",
        "print('Evaluation scores for cdc_data -------')\n",
        "linear_regression(x_train_bigram_cdc_data, x_test_bigram_cdc_data, y_train_bigram_cdc_data, y_test_bigram_cdc_data)\n",
        "print()\n",
        "\n",
        "# All classified data\n",
        "print('Evaluation scores for class_data -------')\n",
        "linear_regression(x_train_bigram_class_data, x_test_bigram_class_data, y_train_bigram_class_data, y_test_bigram_class_data)"
      ]
    },
    {
      "cell_type": "markdown",
      "metadata": {
        "id": "PWWpa9ybjyx8"
      },
      "source": [
        "## Lemma Linear Regression"
      ]
    },
    {
      "cell_type": "code",
      "execution_count": 53,
      "metadata": {
        "id": "FccqSq56jy8W",
        "colab": {
          "base_uri": "https://localhost:8080/"
        },
        "outputId": "ff746992-d2dc-42ac-dd40-d4c61340bf0b"
      },
      "outputs": [
        {
          "output_type": "stream",
          "name": "stdout",
          "text": [
            "Evaluation scores for c_data -------\n",
            " r2 value: 0.5777208247262\n",
            "mae value: 1.8143810824973197\n",
            "\n",
            "Evaluation scores for cdc_data -------\n",
            " r2 value: -2.8621003488791498e+23\n",
            "mae value: 7966695657246.847\n",
            "\n",
            "Evaluation scores for class_data -------\n",
            " r2 value: -6.36767374708112e+23\n",
            "mae value: 13602570592649.578\n"
          ]
        }
      ],
      "source": [
        "# Classified OH data\n",
        "print('Evaluation scores for c_data -------')\n",
        "linear_regression(x_train_lemma_c_data, x_test_lemma_c_data, y_train_lemma_c_data, y_test_lemma_c_data)\n",
        "print()\n",
        "\n",
        "# CDC data\n",
        "print('Evaluation scores for cdc_data -------')\n",
        "linear_regression(x_train_lemma_cdc_data, x_test_lemma_cdc_data, y_train_lemma_cdc_data, y_test_lemma_cdc_data)\n",
        "print()\n",
        "\n",
        "# All classified data\n",
        "print('Evaluation scores for class_data -------')\n",
        "linear_regression(x_train_lemma_class_data, x_test_lemma_class_data, y_train_lemma_class_data, y_test_lemma_class_data)"
      ]
    },
    {
      "cell_type": "markdown",
      "metadata": {
        "id": "9hI7qrouClyd"
      },
      "source": [
        "## Porter Linear Regression"
      ]
    },
    {
      "cell_type": "code",
      "execution_count": 54,
      "metadata": {
        "id": "OTNzZK-ZBXrc",
        "colab": {
          "base_uri": "https://localhost:8080/"
        },
        "outputId": "8e48bce6-e040-4113-df71-9cd0cdc0de93"
      },
      "outputs": [
        {
          "output_type": "stream",
          "name": "stdout",
          "text": [
            "Evaluation scores for c_data -------\n",
            " r2 value: 0.5723638524490957\n",
            "mae value: 1.7992553272615774\n",
            "\n",
            "Evaluation scores for cdc_data -------\n",
            " r2 value: -1.3985514216782518e+24\n",
            "mae value: 6748189071535.3\n",
            "\n",
            "Evaluation scores for class_data -------\n",
            " r2 value: -3.3199296776432256e+24\n",
            "mae value: 26366580213592.082\n"
          ]
        }
      ],
      "source": [
        "# Classified OH data\n",
        "print('Evaluation scores for c_data -------')\n",
        "linear_regression(x_train_porter_c_data, x_test_porter_c_data, y_train_porter_c_data, y_test_porter_c_data)\n",
        "print()\n",
        "\n",
        "# CDC data\n",
        "print('Evaluation scores for cdc_data -------')\n",
        "linear_regression(x_train_porter_cdc_data, x_test_porter_cdc_data, y_train_porter_cdc_data, y_test_porter_cdc_data)\n",
        "print()\n",
        "\n",
        "# All classified data\n",
        "print('Evaluation scores for class_data -------')\n",
        "linear_regression(x_train_porter_class_data, x_test_porter_class_data, y_train_porter_class_data, y_test_porter_class_data)"
      ]
    },
    {
      "cell_type": "markdown",
      "metadata": {
        "id": "1cXY4qnLt7ds"
      },
      "source": [
        "## Lancaster Linear Regression"
      ]
    },
    {
      "cell_type": "code",
      "execution_count": 55,
      "metadata": {
        "id": "1L8cURfEt7mP",
        "colab": {
          "base_uri": "https://localhost:8080/"
        },
        "outputId": "fd795ba1-f96f-4ef3-e8e4-78c269bd9eab"
      },
      "outputs": [
        {
          "output_type": "stream",
          "name": "stdout",
          "text": [
            "Evaluation scores for c_data -------\n",
            " r2 value: 0.5677122833804119\n",
            "mae value: 1.9048888085560962\n",
            "\n",
            "Evaluation scores for cdc_data -------\n",
            " r2 value: -8.22893948121645e+23\n",
            "mae value: 14390771476321.758\n",
            "\n",
            "Evaluation scores for class_data -------\n",
            " r2 value: -1.792257484473006e+22\n",
            "mae value: 1545220688427.7532\n"
          ]
        }
      ],
      "source": [
        "# Classified OH data\n",
        "print('Evaluation scores for c_data -------')\n",
        "linear_regression(x_train_lancaster_c_data, x_test_lancaster_c_data, y_train_lancaster_c_data, y_test_lancaster_c_data)\n",
        "print()\n",
        "\n",
        "# CDC data\n",
        "print('Evaluation scores for cdc_data -------')\n",
        "linear_regression(x_train_lancaster_cdc_data, x_test_lancaster_cdc_data, y_train_lancaster_cdc_data, y_test_lancaster_cdc_data)\n",
        "print()\n",
        "\n",
        "# All classified data\n",
        "print('Evaluation scores for class_data -------')\n",
        "linear_regression(x_train_lancaster_class_data, x_test_lancaster_class_data, y_train_lancaster_class_data, y_test_lancaster_class_data)"
      ]
    },
    {
      "cell_type": "markdown",
      "metadata": {
        "id": "q9Ezl269CqNi"
      },
      "source": [
        "## Postag Linear Regression"
      ]
    },
    {
      "cell_type": "code",
      "execution_count": 56,
      "metadata": {
        "id": "k9Fj1gUtCqWS",
        "colab": {
          "base_uri": "https://localhost:8080/"
        },
        "outputId": "6e9a1acb-84d8-437f-cf73-41b8719696ac"
      },
      "outputs": [
        {
          "output_type": "stream",
          "name": "stdout",
          "text": [
            "Evaluation scores for c_data -------\n",
            " r2 value: 0.5190784964577302\n",
            "mae value: 2.1013489094832902\n",
            "\n",
            "Evaluation scores for cdc_data -------\n",
            " r2 value: -9.516774802700955e+25\n",
            "mae value: 124062038025807.83\n",
            "\n",
            "Evaluation scores for class_data -------\n",
            " r2 value: -2.280120663906795e+24\n",
            "mae value: 31254307827336.27\n"
          ]
        }
      ],
      "source": [
        "# Classified OH data\n",
        "print('Evaluation scores for c_data -------')\n",
        "linear_regression(x_train_postag_c_data, x_test_postag_c_data, y_train_postag_c_data, y_test_postag_c_data)\n",
        "print()\n",
        "\n",
        "# CDC data\n",
        "print('Evaluation scores for cdc_data -------')\n",
        "linear_regression(x_train_postag_cdc_data, x_test_postag_cdc_data, y_train_postag_cdc_data, y_test_postag_cdc_data)\n",
        "print()\n",
        "\n",
        "# All classified data\n",
        "print('Evaluation scores for class_data -------')\n",
        "linear_regression(x_train_postag_class_data, x_test_postag_class_data, y_train_postag_class_data, y_test_postag_class_data)"
      ]
    },
    {
      "cell_type": "markdown",
      "metadata": {
        "id": "2ivuU9GBknFv"
      },
      "source": [
        "# **Logistic Regression**"
      ]
    },
    {
      "cell_type": "code",
      "execution_count": 57,
      "metadata": {
        "id": "p8J6Iae6kmZh"
      },
      "outputs": [],
      "source": [
        "from sklearn.linear_model import LogisticRegression\n",
        "from sklearn.metrics import accuracy_score, f1_score, precision_score, recall_score"
      ]
    },
    {
      "cell_type": "code",
      "execution_count": 58,
      "metadata": {
        "id": "x57anVXtk1wj"
      },
      "outputs": [],
      "source": [
        "# Building logistic regression function\n",
        "\n",
        "def logistic_regression(x_train, x_test, y_train, y_test):\n",
        "    # Create logistic regression object and fit model\n",
        "    lr_model = LogisticRegression(random_state=42, max_iter=10000).fit(x_train, y_train)\n",
        "\n",
        "    # Make predictions\n",
        "    y_pred = lr_model.predict(x_test)\n",
        "\n",
        "    # Evaluate model\n",
        "    accuracy = round(accuracy_score(y_test, y_pred), 3)\n",
        "    f1 = round(f1_score(y_test, np.round(y_pred), average='macro'), 3)\n",
        "    precision = round(precision_score(y_test, y_pred, average='macro'), 3)\n",
        "    recall = round(recall_score(y_test, y_pred, average='macro'), 3)\n",
        "\n",
        "    print(f'Accuracy: {accuracy * 100.0:.2f}%')\n",
        "    print(f'F1: {f1 * 100.0:.2f}%')\n",
        "    print(f'precision: {precision * 100.0:.2f}%')\n",
        "    print(f'Recall: {recall * 100.0:.2f}%')"
      ]
    },
    {
      "cell_type": "markdown",
      "metadata": {
        "id": "HUtpqJa7Nyik"
      },
      "source": [
        "## Tokens Logistic Regression"
      ]
    },
    {
      "cell_type": "code",
      "execution_count": 59,
      "metadata": {
        "colab": {
          "base_uri": "https://localhost:8080/"
        },
        "id": "ybM_cdqrsnD7",
        "outputId": "b0788599-f13b-4688-fd53-2ee1f2adf0c1"
      },
      "outputs": [
        {
          "output_type": "stream",
          "name": "stdout",
          "text": [
            "Accuracy score for c_data -------\n",
            "Accuracy: 53.80%\n",
            "F1: 31.20%\n",
            "precision: 32.50%\n",
            "Recall: 32.50%\n",
            "\n",
            "Accuracy score for cdc_data -------\n",
            "Accuracy: 69.10%\n",
            "F1: 46.80%\n",
            "precision: 47.90%\n",
            "Recall: 49.20%\n",
            "\n",
            "Accuracy score for class_data -------\n",
            "Accuracy: 69.30%\n",
            "F1: 47.70%\n",
            "precision: 48.90%\n",
            "Recall: 49.50%\n"
          ]
        }
      ],
      "source": [
        "# Classified OH data\n",
        "print('Accuracy score for c_data -------')\n",
        "logistic_regression(x_train_tokens_c_data, x_test_tokens_c_data, y_train_tokens_c_data, y_test_tokens_c_data)\n",
        "print()\n",
        "\n",
        "# CDC data\n",
        "print('Accuracy score for cdc_data -------')\n",
        "logistic_regression(x_train_tokens_cdc_data, x_test_tokens_cdc_data, y_train_tokens_cdc_data, y_test_tokens_cdc_data)\n",
        "print()\n",
        "\n",
        "# All classified data\n",
        "print('Accuracy score for class_data -------')\n",
        "logistic_regression(x_train_tokens_class_data, x_test_tokens_class_data, y_train_tokens_class_data, y_test_tokens_class_data)"
      ]
    },
    {
      "cell_type": "markdown",
      "metadata": {
        "id": "r2l_GDnFQnKe"
      },
      "source": [
        "## Lemma Logistic Regression"
      ]
    },
    {
      "cell_type": "code",
      "execution_count": 60,
      "metadata": {
        "colab": {
          "base_uri": "https://localhost:8080/"
        },
        "id": "oLi8WgnUQnQ7",
        "outputId": "f938688f-7cfd-4d82-e4db-ba1efed8f2a3"
      },
      "outputs": [
        {
          "output_type": "stream",
          "name": "stdout",
          "text": [
            "Accuracy score for c_data -------\n",
            "Accuracy: 53.80%\n",
            "F1: 31.50%\n",
            "precision: 31.20%\n",
            "Recall: 32.50%\n",
            "\n",
            "Accuracy score for cdc_data -------\n",
            "Accuracy: 69.10%\n",
            "F1: 47.20%\n",
            "precision: 48.40%\n",
            "Recall: 49.50%\n",
            "\n",
            "Accuracy score for class_data -------\n",
            "Accuracy: 69.90%\n",
            "F1: 46.80%\n",
            "precision: 47.80%\n",
            "Recall: 49.00%\n"
          ]
        }
      ],
      "source": [
        "# Classified OH data\n",
        "print('Accuracy score for c_data -------')\n",
        "logistic_regression(x_train_lemma_c_data, x_test_lemma_c_data, y_train_lemma_c_data, y_test_lemma_c_data)\n",
        "print()\n",
        "\n",
        "# CDC data\n",
        "print('Accuracy score for cdc_data -------')\n",
        "logistic_regression(x_train_lemma_cdc_data, x_test_lemma_cdc_data, y_train_lemma_cdc_data, y_test_lemma_cdc_data)\n",
        "print()\n",
        "\n",
        "# All classified data\n",
        "print('Accuracy score for class_data -------')\n",
        "logistic_regression(x_train_lemma_class_data, x_test_lemma_class_data, y_train_lemma_class_data, y_test_lemma_class_data)"
      ]
    },
    {
      "cell_type": "markdown",
      "metadata": {
        "id": "rXTMFNF7N12h"
      },
      "source": [
        "## Porter Logistic Regression"
      ]
    },
    {
      "cell_type": "code",
      "execution_count": 61,
      "metadata": {
        "id": "DaHSzfXdN7LL",
        "colab": {
          "base_uri": "https://localhost:8080/"
        },
        "outputId": "6cbb8c6e-7d5e-4478-f642-a6b1e0cbf98e"
      },
      "outputs": [
        {
          "output_type": "stream",
          "name": "stdout",
          "text": [
            "Accuracy score for c_data -------\n",
            "Accuracy: 61.50%\n",
            "F1: 33.20%\n",
            "precision: 31.90%\n",
            "Recall: 35.00%\n",
            "\n",
            "Accuracy score for cdc_data -------\n",
            "Accuracy: 67.60%\n",
            "F1: 45.40%\n",
            "precision: 46.80%\n",
            "Recall: 48.30%\n",
            "\n",
            "Accuracy score for class_data -------\n",
            "Accuracy: 69.30%\n",
            "F1: 48.10%\n",
            "precision: 49.30%\n",
            "Recall: 50.60%\n"
          ]
        }
      ],
      "source": [
        "# Classified OH data\n",
        "print('Accuracy score for c_data -------')\n",
        "logistic_regression(x_train_porter_c_data, x_test_porter_c_data, y_train_porter_c_data, y_test_porter_c_data)\n",
        "print()\n",
        "\n",
        "# CDC data\n",
        "print('Accuracy score for cdc_data -------')\n",
        "logistic_regression(x_train_porter_cdc_data, x_test_porter_cdc_data, y_train_porter_cdc_data, y_test_porter_cdc_data)\n",
        "print()\n",
        "\n",
        "# All classified data\n",
        "print('Accuracy score for class_data -------')\n",
        "logistic_regression(x_train_porter_class_data, x_test_porter_class_data, y_train_porter_class_data, y_test_porter_class_data)"
      ]
    },
    {
      "cell_type": "markdown",
      "metadata": {
        "id": "0AR2ddMXu3AJ"
      },
      "source": [
        "## Lancaster Logistic Regression"
      ]
    },
    {
      "cell_type": "code",
      "execution_count": 62,
      "metadata": {
        "id": "-w1mkryJu3It",
        "colab": {
          "base_uri": "https://localhost:8080/"
        },
        "outputId": "ccb310ea-c72c-4b9b-bd9b-bd0ac528465b"
      },
      "outputs": [
        {
          "output_type": "stream",
          "name": "stdout",
          "text": [
            "Accuracy score for c_data -------\n",
            "Accuracy: 61.50%\n",
            "F1: 33.20%\n",
            "precision: 31.90%\n",
            "Recall: 35.00%\n",
            "\n",
            "Accuracy score for cdc_data -------\n",
            "Accuracy: 68.50%\n",
            "F1: 46.10%\n",
            "precision: 47.60%\n",
            "Recall: 48.70%\n",
            "\n",
            "Accuracy score for class_data -------\n",
            "Accuracy: 69.30%\n",
            "F1: 47.30%\n",
            "precision: 48.70%\n",
            "Recall: 49.80%\n"
          ]
        }
      ],
      "source": [
        "# Classified OH data\n",
        "print('Accuracy score for c_data -------')\n",
        "logistic_regression(x_train_lancaster_c_data, x_test_lancaster_c_data, y_train_lancaster_c_data, y_test_lancaster_c_data)\n",
        "print()\n",
        "\n",
        "# CDC data\n",
        "print('Accuracy score for cdc_data -------')\n",
        "logistic_regression(x_train_lancaster_cdc_data, x_test_lancaster_cdc_data, y_train_lancaster_cdc_data, y_test_lancaster_cdc_data)\n",
        "print()\n",
        "\n",
        "# All classified data\n",
        "print('Accuracy score for class_data -------')\n",
        "logistic_regression(x_train_lancaster_class_data, x_test_lancaster_class_data, y_train_lancaster_class_data, y_test_lancaster_class_data)"
      ]
    },
    {
      "cell_type": "markdown",
      "metadata": {
        "id": "3LvjSMeTN7tQ"
      },
      "source": [
        "## Bigrams Logistic Regression"
      ]
    },
    {
      "cell_type": "code",
      "execution_count": 63,
      "metadata": {
        "id": "e6irU5l1N7y9",
        "colab": {
          "base_uri": "https://localhost:8080/"
        },
        "outputId": "db02a744-f2b5-473e-85a2-d7db1c3ff16b"
      },
      "outputs": [
        {
          "output_type": "stream",
          "name": "stdout",
          "text": [
            "Accuracy score for c_data -------\n",
            "Accuracy: 41.70%\n",
            "F1: 21.30%\n",
            "precision: 18.10%\n",
            "Recall: 28.10%\n",
            "\n",
            "Accuracy score for cdc_data -------\n",
            "Accuracy: 24.80%\n",
            "F1: 14.30%\n",
            "precision: 16.20%\n",
            "Recall: 15.60%\n",
            "\n",
            "Accuracy score for class_data -------\n",
            "Accuracy: 14.70%\n",
            "F1: 8.00%\n",
            "precision: 10.10%\n",
            "Recall: 8.00%\n"
          ]
        }
      ],
      "source": [
        "# Classified OH data\n",
        "print('Accuracy score for c_data -------')\n",
        "logistic_regression(x_train_bigram_c_data, x_test_bigram_c_data, y_train_bigram_c_data, y_test_bigram_c_data)\n",
        "print()\n",
        "\n",
        "# CDC Data\n",
        "print('Accuracy score for cdc_data -------')\n",
        "logistic_regression(x_train_bigram_cdc_data, x_test_bigram_cdc_data, y_train_bigram_cdc_data, y_test_bigram_cdc_data)\n",
        "print()\n",
        "\n",
        "# All classified data\n",
        "print('Accuracy score for class_data -------')\n",
        "logistic_regression(x_train_bigram_class_data, x_test_bigram_class_data, y_train_bigram_class_data, y_test_bigram_class_data)"
      ]
    },
    {
      "cell_type": "markdown",
      "metadata": {
        "id": "E3otHJhhOAbT"
      },
      "source": [
        "## Postag Logistic Regression"
      ]
    },
    {
      "cell_type": "code",
      "execution_count": 64,
      "metadata": {
        "id": "hTk-SyuiOAhR",
        "colab": {
          "base_uri": "https://localhost:8080/"
        },
        "outputId": "901c0d1e-6b22-4048-f7cf-0472d0793c06"
      },
      "outputs": [
        {
          "output_type": "stream",
          "name": "stdout",
          "text": [
            "Accuracy score for c_data -------\n",
            "Accuracy: 53.80%\n",
            "F1: 31.20%\n",
            "precision: 32.50%\n",
            "Recall: 32.50%\n",
            "\n",
            "Accuracy score for cdc_data -------\n",
            "Accuracy: 66.40%\n",
            "F1: 45.30%\n",
            "precision: 46.50%\n",
            "Recall: 47.60%\n",
            "\n",
            "Accuracy score for class_data -------\n",
            "Accuracy: 65.80%\n",
            "F1: 43.80%\n",
            "precision: 45.60%\n",
            "Recall: 45.50%\n"
          ]
        }
      ],
      "source": [
        "# Classified OH data\n",
        "print('Accuracy score for c_data -------')\n",
        "logistic_regression(x_train_postag_c_data, x_test_postag_c_data, y_train_postag_c_data, y_test_postag_c_data)\n",
        "print()\n",
        "\n",
        "# CDC Data\n",
        "print('Accuracy score for cdc_data -------')\n",
        "logistic_regression(x_train_postag_cdc_data, x_test_postag_cdc_data, y_train_postag_cdc_data, y_test_postag_cdc_data)\n",
        "print()\n",
        "\n",
        "# All classified data\n",
        "print('Accuracy score for class_data -------')\n",
        "logistic_regression(x_train_postag_class_data, x_test_postag_class_data, y_train_postag_class_data, y_test_postag_class_data)"
      ]
    },
    {
      "cell_type": "markdown",
      "metadata": {
        "id": "ACwfG-FWRgbV"
      },
      "source": [
        "# **Decision Tree**"
      ]
    },
    {
      "cell_type": "code",
      "execution_count": 65,
      "metadata": {
        "id": "UxPOEeXiRnaN"
      },
      "outputs": [],
      "source": [
        "from sklearn.tree import DecisionTreeClassifier"
      ]
    },
    {
      "cell_type": "code",
      "execution_count": 66,
      "metadata": {
        "id": "6DvLn2SyRn_t"
      },
      "outputs": [],
      "source": [
        "def decision_tree(x_train, x_test, y_train, y_test):\n",
        "    # Create decision tree object and fit classifier\n",
        "    clf = DecisionTreeClassifier(random_state=42).fit(x_train, y_train)\n",
        "\n",
        "    # Make predictions\n",
        "    y_pred = clf.predict(x_test)\n",
        "\n",
        "    # Evaluate accuracy and F1\n",
        "    accuracy = accuracy_score(y_test, y_pred)\n",
        "    f1 = f1_score(y_test, np.round(y_pred), average='macro')\n",
        "    precision = precision_score(y_test, y_pred, average='macro')\n",
        "    recall = recall_score(y_test, y_pred, average='macro')\n",
        "\n",
        "    print(\"Accuracy: %.2f%%\" % (accuracy * 100.0))\n",
        "    print(\"F1 score: %.2f%%\" % (f1 * 100.0))\n",
        "    print(\"Precision score: %.2f%%\" % (precision * 100.0))\n",
        "    print(\"Recall score: %.2f%%\" % (recall * 100.0))"
      ]
    },
    {
      "cell_type": "markdown",
      "metadata": {
        "id": "M3GJsAc79o1v"
      },
      "source": [
        "## Tokens Decision Tree"
      ]
    },
    {
      "cell_type": "code",
      "execution_count": 67,
      "metadata": {
        "id": "hxoBvDljRgmA",
        "colab": {
          "base_uri": "https://localhost:8080/"
        },
        "outputId": "d1eaa4a1-f959-40b9-a014-715cd184ddfa"
      },
      "outputs": [
        {
          "output_type": "stream",
          "name": "stdout",
          "text": [
            "Accuracy score for c_data -------\n",
            "Accuracy: 61.54%\n",
            "F1 score: 33.33%\n",
            "Precision score: 34.38%\n",
            "Recall score: 32.50%\n",
            "\n",
            "Accuracy score for cdc_data -------\n",
            "Accuracy: 62.73%\n",
            "F1 score: 44.60%\n",
            "Precision score: 45.21%\n",
            "Recall score: 47.66%\n",
            "\n",
            "Accuracy score for class_data -------\n",
            "Accuracy: 63.16%\n",
            "F1 score: 38.29%\n",
            "Precision score: 38.77%\n",
            "Recall score: 42.62%\n"
          ]
        }
      ],
      "source": [
        "# Classified OH data\n",
        "print('Accuracy score for c_data -------')\n",
        "decision_tree(x_train_tokens_c_data, x_test_tokens_c_data, y_train_tokens_c_data, y_test_tokens_c_data)\n",
        "print()\n",
        "\n",
        "# CDC data\n",
        "print('Accuracy score for cdc_data -------')\n",
        "decision_tree(x_train_tokens_cdc_data, x_test_tokens_cdc_data, y_train_tokens_cdc_data, y_test_tokens_cdc_data)\n",
        "print()\n",
        "\n",
        "# All classified data\n",
        "print('Accuracy score for class_data -------')\n",
        "decision_tree(x_train_tokens_class_data, x_test_tokens_class_data, y_train_tokens_class_data, y_test_tokens_class_data)"
      ]
    },
    {
      "cell_type": "markdown",
      "metadata": {
        "id": "l5Ae_nDFr9Z3"
      },
      "source": [
        "## Lemma Decision Tree"
      ]
    },
    {
      "cell_type": "code",
      "execution_count": 68,
      "metadata": {
        "id": "lWYgbm1_r9f0",
        "colab": {
          "base_uri": "https://localhost:8080/"
        },
        "outputId": "00fa37a3-a5d8-4132-d8a6-937c38f22847"
      },
      "outputs": [
        {
          "output_type": "stream",
          "name": "stdout",
          "text": [
            "Accuracy score for c_data -------\n",
            "Accuracy: 46.15%\n",
            "F1 score: 24.87%\n",
            "Precision score: 27.78%\n",
            "Recall score: 26.67%\n",
            "\n",
            "Accuracy score for cdc_data -------\n",
            "Accuracy: 62.73%\n",
            "F1 score: 41.51%\n",
            "Precision score: 41.63%\n",
            "Recall score: 45.32%\n",
            "\n",
            "Accuracy score for class_data -------\n",
            "Accuracy: 65.50%\n",
            "F1 score: 40.85%\n",
            "Precision score: 41.57%\n",
            "Recall score: 43.11%\n"
          ]
        }
      ],
      "source": [
        "# Classified OH data\n",
        "print('Accuracy score for c_data -------')\n",
        "decision_tree(x_train_lemma_c_data, x_test_lemma_c_data, y_train_lemma_c_data, y_test_lemma_c_data)\n",
        "print()\n",
        "\n",
        "# CDC data\n",
        "print('Accuracy score for cdc_data -------')\n",
        "decision_tree(x_train_lemma_cdc_data, x_test_lemma_cdc_data, y_train_lemma_cdc_data, y_test_lemma_cdc_data)\n",
        "print()\n",
        "\n",
        "# All classified data\n",
        "print('Accuracy score for class_data -------')\n",
        "decision_tree(x_train_lemma_class_data, x_test_lemma_class_data, y_train_lemma_class_data, y_test_lemma_class_data)"
      ]
    },
    {
      "cell_type": "markdown",
      "metadata": {
        "id": "WQUiB7sN9rvf"
      },
      "source": [
        "## Porter Decision Tree"
      ]
    },
    {
      "cell_type": "code",
      "execution_count": 69,
      "metadata": {
        "id": "401CLzQkSFiW",
        "colab": {
          "base_uri": "https://localhost:8080/"
        },
        "outputId": "20e41764-ec64-48e0-dec8-140e17086f94"
      },
      "outputs": [
        {
          "output_type": "stream",
          "name": "stdout",
          "text": [
            "Accuracy score for c_data -------\n",
            "Accuracy: 61.54%\n",
            "F1 score: 37.96%\n",
            "Precision score: 44.44%\n",
            "Recall score: 34.44%\n",
            "\n",
            "Accuracy score for cdc_data -------\n",
            "Accuracy: 63.33%\n",
            "F1 score: 43.93%\n",
            "Precision score: 45.03%\n",
            "Recall score: 46.00%\n",
            "\n",
            "Accuracy score for class_data -------\n",
            "Accuracy: 60.23%\n",
            "F1 score: 36.06%\n",
            "Precision score: 37.90%\n",
            "Recall score: 38.68%\n"
          ]
        }
      ],
      "source": [
        "# Classified OH data\n",
        "print('Accuracy score for c_data -------')\n",
        "decision_tree(x_train_porter_c_data, x_test_porter_c_data, y_train_porter_c_data, y_test_porter_c_data)\n",
        "print()\n",
        "\n",
        "# CDC data\n",
        "print('Accuracy score for cdc_data -------')\n",
        "decision_tree(x_train_porter_cdc_data, x_test_porter_cdc_data, y_train_porter_cdc_data, y_test_porter_cdc_data)\n",
        "print()\n",
        "\n",
        "# All classified data\n",
        "print('Accuracy score for class_data -------')\n",
        "decision_tree(x_train_porter_class_data, x_test_porter_class_data, y_train_porter_class_data, y_test_porter_class_data)"
      ]
    },
    {
      "cell_type": "markdown",
      "metadata": {
        "id": "YfdwTi139wUs"
      },
      "source": [
        "## Lancaster Decision Tree"
      ]
    },
    {
      "cell_type": "code",
      "execution_count": 70,
      "metadata": {
        "id": "91jkwjhI9wce",
        "colab": {
          "base_uri": "https://localhost:8080/"
        },
        "outputId": "5721f821-f54f-4877-a032-3e694373e9a3"
      },
      "outputs": [
        {
          "output_type": "stream",
          "name": "stdout",
          "text": [
            "Accuracy score for c_data -------\n",
            "Accuracy: 53.85%\n",
            "F1 score: 32.59%\n",
            "Precision score: 34.38%\n",
            "Recall score: 32.50%\n",
            "\n",
            "Accuracy score for cdc_data -------\n",
            "Accuracy: 61.82%\n",
            "F1 score: 42.82%\n",
            "Precision score: 44.16%\n",
            "Recall score: 45.34%\n",
            "\n",
            "Accuracy score for class_data -------\n",
            "Accuracy: 64.33%\n",
            "F1 score: 37.67%\n",
            "Precision score: 39.41%\n",
            "Recall score: 39.79%\n"
          ]
        }
      ],
      "source": [
        "# Classified OH data\n",
        "print('Accuracy score for c_data -------')\n",
        "decision_tree(x_train_lancaster_c_data, x_test_lancaster_c_data, y_train_lancaster_c_data, y_test_lancaster_c_data)\n",
        "print()\n",
        "\n",
        "# CDC data\n",
        "print('Accuracy score for cdc_data -------')\n",
        "decision_tree(x_train_lancaster_cdc_data, x_test_lancaster_cdc_data, y_train_lancaster_cdc_data, y_test_lancaster_cdc_data)\n",
        "print()\n",
        "\n",
        "# All classified data\n",
        "print('Accuracy score for class_data -------')\n",
        "decision_tree(x_train_lancaster_class_data, x_test_lancaster_class_data, y_train_lancaster_class_data, y_test_lancaster_class_data)"
      ]
    },
    {
      "cell_type": "markdown",
      "metadata": {
        "id": "yOrtkPTa99z_"
      },
      "source": [
        "## Bigram Decision Tree"
      ]
    },
    {
      "cell_type": "code",
      "execution_count": 71,
      "metadata": {
        "id": "GfZM8UK8SFk6",
        "colab": {
          "base_uri": "https://localhost:8080/"
        },
        "outputId": "4cee64ed-bb36-48d6-a2e2-2680c85b7418"
      },
      "outputs": [
        {
          "output_type": "stream",
          "name": "stdout",
          "text": [
            "Accuracy score for c_data -------\n",
            "Accuracy: 41.67%\n",
            "F1 score: 28.04%\n",
            "Precision score: 33.33%\n",
            "Recall score: 25.00%\n",
            "\n",
            "Accuracy score for cdc_data -------\n",
            "Accuracy: 22.73%\n",
            "F1 score: 14.96%\n",
            "Precision score: 16.82%\n",
            "Recall score: 16.31%\n",
            "\n",
            "Accuracy score for class_data -------\n",
            "Accuracy: 15.54%\n",
            "F1 score: 10.57%\n",
            "Precision score: 12.15%\n",
            "Recall score: 10.59%\n"
          ]
        }
      ],
      "source": [
        "# Classified OH data\n",
        "print('Accuracy score for c_data -------')\n",
        "decision_tree(x_train_bigram_c_data, x_test_bigram_c_data, y_train_bigram_c_data, y_test_bigram_c_data)\n",
        "print()\n",
        "\n",
        "# CDC Data\n",
        "print('Accuracy score for cdc_data -------')\n",
        "decision_tree(x_train_bigram_cdc_data, x_test_bigram_cdc_data, y_train_bigram_cdc_data, y_test_bigram_cdc_data)\n",
        "print()\n",
        "\n",
        "# All classified data\n",
        "print('Accuracy score for class_data -------')\n",
        "decision_tree(x_train_bigram_class_data, x_test_bigram_class_data, y_train_bigram_class_data, y_test_bigram_class_data)"
      ]
    },
    {
      "cell_type": "markdown",
      "metadata": {
        "id": "FAOtoBZx-AgX"
      },
      "source": [
        "## Postag Decision Tree"
      ]
    },
    {
      "cell_type": "code",
      "execution_count": 72,
      "metadata": {
        "id": "3ZVMI2s6SFnC",
        "colab": {
          "base_uri": "https://localhost:8080/"
        },
        "outputId": "2162d446-5bd6-47d8-be63-d545f37eff97"
      },
      "outputs": [
        {
          "output_type": "stream",
          "name": "stdout",
          "text": [
            "Accuracy score for c_data -------\n",
            "Accuracy: 38.46%\n",
            "F1 score: 14.64%\n",
            "Precision score: 17.86%\n",
            "Recall score: 17.50%\n",
            "\n",
            "Accuracy score for cdc_data -------\n",
            "Accuracy: 57.27%\n",
            "F1 score: 39.96%\n",
            "Precision score: 42.05%\n",
            "Recall score: 42.43%\n",
            "\n",
            "Accuracy score for class_data -------\n",
            "Accuracy: 60.53%\n",
            "F1 score: 36.89%\n",
            "Precision score: 39.62%\n",
            "Recall score: 40.10%\n"
          ]
        }
      ],
      "source": [
        "# Classified OH data\n",
        "print('Accuracy score for c_data -------')\n",
        "decision_tree(x_train_postag_c_data, x_test_postag_c_data, y_train_postag_c_data, y_test_postag_c_data)\n",
        "print()\n",
        "\n",
        "# CDC Data\n",
        "print('Accuracy score for cdc_data -------')\n",
        "decision_tree(x_train_postag_cdc_data, x_test_postag_cdc_data, y_train_postag_cdc_data, y_test_postag_cdc_data)\n",
        "print()\n",
        "\n",
        "# All classified data\n",
        "print('Accuracy score for class_data -------')\n",
        "decision_tree(x_train_postag_class_data, x_test_postag_class_data, y_train_postag_class_data, y_test_postag_class_data)"
      ]
    },
    {
      "cell_type": "markdown",
      "metadata": {
        "id": "3c0DDOhri_m0"
      },
      "source": [
        "# **Random Forest**"
      ]
    },
    {
      "cell_type": "code",
      "execution_count": 73,
      "metadata": {
        "id": "kxGLyHaki_B1"
      },
      "outputs": [],
      "source": [
        "from sklearn.ensemble import RandomForestClassifier"
      ]
    },
    {
      "cell_type": "code",
      "execution_count": 74,
      "metadata": {
        "id": "hpDF6eiMnEGf"
      },
      "outputs": [],
      "source": [
        "def random_forest(x_train, x_test, y_train, y_test):\n",
        "    # Create random forest object and fit classifier\n",
        "    rf_clf = RandomForestClassifier(n_estimators=100, max_depth=3, random_state=42).fit(x_train, y_train)\n",
        "\n",
        "    # Make predictions\n",
        "    y_pred = rf_clf.predict(x_test)\n",
        "\n",
        "    # Evaluate model\n",
        "    accuracy = round(accuracy_score(y_test, y_pred), 3)\n",
        "    f1 = round(f1_score(y_test, np.round(y_pred), average='macro'), 3)\n",
        "    precision = round(precision_score(y_test, y_pred, average='macro'), 3)\n",
        "    recall = round(recall_score(y_test, y_pred, average='macro'), 3)\n",
        "\n",
        "    print(f'Accuracy: {accuracy * 100.0:.2f}%')\n",
        "    print(f'F1: {f1 * 100.0:.2f}%')\n",
        "    print(f'precision: {precision * 100.0:.2f}%')\n",
        "    print(f'Recall: {recall * 100.0:.2f}%')"
      ]
    },
    {
      "cell_type": "markdown",
      "metadata": {
        "id": "hb3SowZDQLQD"
      },
      "source": [
        "## Tokens Random Forest"
      ]
    },
    {
      "cell_type": "code",
      "execution_count": 75,
      "metadata": {
        "id": "YqY7t7CJnEJV",
        "colab": {
          "base_uri": "https://localhost:8080/"
        },
        "outputId": "e8f02c53-1b3c-457c-d515-bef0c1134270"
      },
      "outputs": [
        {
          "output_type": "stream",
          "name": "stdout",
          "text": [
            "Accuracy score for c_data -------\n",
            "Accuracy: 38.50%\n",
            "F1: 16.00%\n",
            "precision: 19.60%\n",
            "Recall: 20.00%\n",
            "\n",
            "Accuracy score for cdc_data -------\n",
            "Accuracy: 22.70%\n",
            "F1: 8.90%\n",
            "precision: 10.20%\n",
            "Recall: 9.60%\n",
            "\n",
            "Accuracy score for class_data -------\n",
            "Accuracy: 30.10%\n",
            "F1: 13.00%\n",
            "precision: 17.40%\n",
            "Recall: 13.00%\n"
          ]
        }
      ],
      "source": [
        "# Classified OH data\n",
        "print('Accuracy score for c_data -------')\n",
        "random_forest(x_train_tokens_c_data, x_test_tokens_c_data, y_train_tokens_c_data, y_test_tokens_c_data)\n",
        "print()\n",
        "\n",
        "# CDC data\n",
        "print('Accuracy score for cdc_data -------')\n",
        "random_forest(x_train_tokens_cdc_data, x_test_tokens_cdc_data, y_train_tokens_cdc_data, y_test_tokens_cdc_data)\n",
        "print()\n",
        "\n",
        "# All classified data\n",
        "print('Accuracy score for class_data -------')\n",
        "random_forest(x_train_tokens_class_data, x_test_tokens_class_data, y_train_tokens_class_data, y_test_tokens_class_data)"
      ]
    },
    {
      "cell_type": "markdown",
      "metadata": {
        "id": "0HedehmVQPx5"
      },
      "source": [
        "## Lemma Random Forest"
      ]
    },
    {
      "cell_type": "code",
      "execution_count": 76,
      "metadata": {
        "id": "8jaA2YIWQQAP",
        "colab": {
          "base_uri": "https://localhost:8080/"
        },
        "outputId": "43dacb95-79aa-4d40-ec53-2796512aa585"
      },
      "outputs": [
        {
          "output_type": "stream",
          "name": "stdout",
          "text": [
            "Accuracy score for c_data -------\n",
            "Accuracy: 46.20%\n",
            "F1: 19.30%\n",
            "precision: 20.40%\n",
            "Recall: 22.90%\n",
            "\n",
            "Accuracy score for cdc_data -------\n",
            "Accuracy: 25.80%\n",
            "F1: 10.70%\n",
            "precision: 14.70%\n",
            "Recall: 10.80%\n",
            "\n",
            "Accuracy score for class_data -------\n",
            "Accuracy: 25.70%\n",
            "F1: 10.30%\n",
            "precision: 14.10%\n",
            "Recall: 10.70%\n"
          ]
        }
      ],
      "source": [
        "# Classified OH data\n",
        "print('Accuracy score for c_data -------')\n",
        "random_forest(x_train_lemma_c_data, x_test_lemma_c_data, y_train_lemma_c_data, y_test_lemma_c_data)\n",
        "print()\n",
        "\n",
        "# CDC data\n",
        "print('Accuracy score for cdc_data -------')\n",
        "random_forest(x_train_lemma_cdc_data, x_test_lemma_cdc_data, y_train_lemma_cdc_data, y_test_lemma_cdc_data)\n",
        "print()\n",
        "\n",
        "# All classified data\n",
        "print('Accuracy score for class_data -------')\n",
        "random_forest(x_train_lemma_class_data, x_test_lemma_class_data, y_train_lemma_class_data, y_test_lemma_class_data)"
      ]
    },
    {
      "cell_type": "markdown",
      "metadata": {
        "id": "yhQ452J4QIBx"
      },
      "source": [
        "## Porter Random Forest"
      ]
    },
    {
      "cell_type": "code",
      "execution_count": 77,
      "metadata": {
        "id": "JSNpv4ZYo4Oy",
        "colab": {
          "base_uri": "https://localhost:8080/"
        },
        "outputId": "128127bf-e68d-4547-9e2f-a984483c7529"
      },
      "outputs": [
        {
          "output_type": "stream",
          "name": "stdout",
          "text": [
            "Accuracy score for c_data -------\n",
            "Accuracy: 46.20%\n",
            "F1: 19.30%\n",
            "precision: 20.40%\n",
            "Recall: 22.90%\n",
            "\n",
            "Accuracy score for cdc_data -------\n",
            "Accuracy: 27.60%\n",
            "F1: 11.60%\n",
            "precision: 15.30%\n",
            "Recall: 12.10%\n",
            "\n",
            "Accuracy score for class_data -------\n",
            "Accuracy: 27.20%\n",
            "F1: 9.70%\n",
            "precision: 11.40%\n",
            "Recall: 10.80%\n"
          ]
        }
      ],
      "source": [
        "# Classified OH data\n",
        "print('Accuracy score for c_data -------')\n",
        "random_forest(x_train_porter_c_data, x_test_porter_c_data, y_train_porter_c_data, y_test_porter_c_data)\n",
        "print()\n",
        "\n",
        "# CDC data\n",
        "print('Accuracy score for cdc_data -------')\n",
        "random_forest(x_train_porter_cdc_data, x_test_porter_cdc_data, y_train_porter_cdc_data, y_test_porter_cdc_data)\n",
        "print()\n",
        "\n",
        "# All classified data\n",
        "print('Accuracy score for class_data -------')\n",
        "random_forest(x_train_porter_class_data, x_test_porter_class_data, y_train_porter_class_data, y_test_porter_class_data)"
      ]
    },
    {
      "cell_type": "markdown",
      "metadata": {
        "id": "4EaNkVzW_j-w"
      },
      "source": [
        "## Lancaster Random Forest"
      ]
    },
    {
      "cell_type": "code",
      "execution_count": 78,
      "metadata": {
        "id": "zMtkWBfA_kFN",
        "colab": {
          "base_uri": "https://localhost:8080/"
        },
        "outputId": "b008320d-476a-44f8-ee05-9e944a7d7dd8"
      },
      "outputs": [
        {
          "output_type": "stream",
          "name": "stdout",
          "text": [
            "Accuracy score for c_data -------\n",
            "Accuracy: 53.80%\n",
            "F1: 22.20%\n",
            "precision: 21.40%\n",
            "Recall: 25.70%\n",
            "\n",
            "Accuracy score for cdc_data -------\n",
            "Accuracy: 28.20%\n",
            "F1: 9.70%\n",
            "precision: 12.40%\n",
            "Recall: 10.90%\n",
            "\n",
            "Accuracy score for class_data -------\n",
            "Accuracy: 28.10%\n",
            "F1: 10.30%\n",
            "precision: 12.50%\n",
            "Recall: 10.70%\n"
          ]
        }
      ],
      "source": [
        "# Classified OH data\n",
        "print('Accuracy score for c_data -------')\n",
        "random_forest(x_train_lancaster_c_data, x_test_lancaster_c_data, y_train_lancaster_c_data, y_test_lancaster_c_data)\n",
        "print()\n",
        "\n",
        "# CDC data\n",
        "print('Accuracy score for cdc_data -------')\n",
        "random_forest(x_train_lancaster_cdc_data, x_test_lancaster_cdc_data, y_train_lancaster_cdc_data, y_test_lancaster_cdc_data)\n",
        "print()\n",
        "\n",
        "# All classified data\n",
        "print('Accuracy score for class_data -------')\n",
        "random_forest(x_train_lancaster_class_data, x_test_lancaster_class_data, y_train_lancaster_class_data, y_test_lancaster_class_data)"
      ]
    },
    {
      "cell_type": "markdown",
      "metadata": {
        "id": "APacoUA6QN7Z"
      },
      "source": [
        "## Bigram Random Forest"
      ]
    },
    {
      "cell_type": "code",
      "execution_count": 79,
      "metadata": {
        "id": "LdmQ_1sKQOGW",
        "colab": {
          "base_uri": "https://localhost:8080/"
        },
        "outputId": "7c657982-7a0e-4124-c717-228fff2d9066"
      },
      "outputs": [
        {
          "output_type": "stream",
          "name": "stdout",
          "text": [
            "Accuracy score for c_data -------\n",
            "Accuracy: 41.70%\n",
            "F1: 16.40%\n",
            "precision: 14.30%\n",
            "Recall: 25.00%\n",
            "\n",
            "Accuracy score for cdc_data -------\n",
            "Accuracy: 7.30%\n",
            "F1: 2.60%\n",
            "precision: 3.90%\n",
            "Recall: 3.00%\n",
            "\n",
            "Accuracy score for class_data -------\n",
            "Accuracy: 6.50%\n",
            "F1: 1.50%\n",
            "precision: 2.20%\n",
            "Recall: 2.10%\n"
          ]
        }
      ],
      "source": [
        "# Classified OH data\n",
        "print('Accuracy score for c_data -------')\n",
        "random_forest(x_train_bigram_c_data, x_test_bigram_c_data, y_train_bigram_c_data, y_test_bigram_c_data)\n",
        "print()\n",
        "\n",
        "# CDC Data\n",
        "print('Accuracy score for cdc_data -------')\n",
        "random_forest(x_train_bigram_cdc_data, x_test_bigram_cdc_data, y_train_bigram_cdc_data, y_test_bigram_cdc_data)\n",
        "print()\n",
        "\n",
        "# All classified data\n",
        "print('Accuracy score for class_data -------')\n",
        "random_forest(x_train_bigram_class_data, x_test_bigram_class_data, y_train_bigram_class_data, y_test_bigram_class_data)"
      ]
    },
    {
      "cell_type": "markdown",
      "metadata": {
        "id": "YFo-3a0FQON2"
      },
      "source": [
        "## Postag Random Forest"
      ]
    },
    {
      "cell_type": "code",
      "execution_count": 80,
      "metadata": {
        "id": "QZZd-hwRQOUX",
        "colab": {
          "base_uri": "https://localhost:8080/"
        },
        "outputId": "e50619ad-0c24-4c96-b42c-a62b716050ad"
      },
      "outputs": [
        {
          "output_type": "stream",
          "name": "stdout",
          "text": [
            "Accuracy score for c_data -------\n",
            "Accuracy: 38.50%\n",
            "F1: 15.70%\n",
            "precision: 15.60%\n",
            "Recall: 20.00%\n",
            "\n",
            "Accuracy score for cdc_data -------\n",
            "Accuracy: 19.10%\n",
            "F1: 9.00%\n",
            "precision: 14.10%\n",
            "Recall: 8.10%\n",
            "\n",
            "Accuracy score for class_data -------\n",
            "Accuracy: 60.53%\n",
            "F1 score: 36.89%\n",
            "Precision score: 39.62%\n",
            "Recall score: 40.10%\n"
          ]
        }
      ],
      "source": [
        "# Classified OH data\n",
        "print('Accuracy score for c_data -------')\n",
        "random_forest(x_train_postag_c_data, x_test_postag_c_data, y_train_postag_c_data, y_test_postag_c_data)\n",
        "print()\n",
        "\n",
        "# CDC data\n",
        "print('Accuracy score for cdc_data -------')\n",
        "random_forest(x_train_postag_cdc_data, x_test_postag_cdc_data, y_train_postag_cdc_data, y_test_postag_cdc_data)\n",
        "print()\n",
        "\n",
        "# All classified data\n",
        "print('Accuracy score for class_data -------')\n",
        "decision_tree(x_train_postag_class_data, x_test_postag_class_data, y_train_postag_class_data, y_test_postag_class_data)"
      ]
    },
    {
      "cell_type": "markdown",
      "metadata": {
        "id": "n2KeMeukyfiR"
      },
      "source": [
        "# **SVM**"
      ]
    },
    {
      "cell_type": "code",
      "execution_count": 81,
      "metadata": {
        "id": "FhnA9x5dywik"
      },
      "outputs": [],
      "source": [
        "from sklearn import svm"
      ]
    },
    {
      "cell_type": "code",
      "execution_count": 82,
      "metadata": {
        "id": "_lx9P_6pywk3"
      },
      "outputs": [],
      "source": [
        "def svm_classifier(x_train, x_test, y_train, y_test):\n",
        "    # Create support vector machine object and fit classifier\n",
        "    svm_clf = svm.SVC(kernel='linear', random_state=42).fit(x_train, y_train)\n",
        "\n",
        "    # Make predictions\n",
        "    y_pred = svm_clf.predict(x_test)\n",
        "\n",
        "    # Evaluate model\n",
        "    accuracy = accuracy_score(y_test, y_pred)\n",
        "    f1 = f1_score(y_test, np.round(y_pred), average='macro')\n",
        "    precision = precision_score(y_test, y_pred, average='macro')\n",
        "    recall = recall_score(y_test, y_pred, average='macro')\n",
        "\n",
        "    print(\"Accuracy: %.2f%%\" % (accuracy * 100.0))\n",
        "    print(\"F1 score: %.2f%%\" % (f1 * 100.0))\n",
        "    print(\"Precision score: %.2f%%\" % (precision * 100.0))\n",
        "    print(\"Recall score: %.2f%%\" % (recall * 100.0))"
      ]
    },
    {
      "cell_type": "markdown",
      "metadata": {
        "id": "XqWRgfbxzOZC"
      },
      "source": [
        "## Tokens SVM"
      ]
    },
    {
      "cell_type": "code",
      "execution_count": 83,
      "metadata": {
        "id": "TdvdsHk6ywnQ",
        "colab": {
          "base_uri": "https://localhost:8080/"
        },
        "outputId": "467e796a-1507-406a-a2f6-dbd03cc0f732"
      },
      "outputs": [
        {
          "output_type": "stream",
          "name": "stdout",
          "text": [
            "Accuracy score for c_data -------\n",
            "Accuracy: 53.85%\n",
            "F1 score: 32.59%\n",
            "Precision score: 34.38%\n",
            "Recall score: 32.50%\n",
            "\n",
            "Accuracy score for cdc_data -------\n",
            "Accuracy: 70.61%\n",
            "F1 score: 50.13%\n",
            "Precision score: 52.20%\n",
            "Recall score: 52.36%\n",
            "\n",
            "Accuracy score for class_data -------\n",
            "Accuracy: 70.76%\n",
            "F1 score: 47.34%\n",
            "Precision score: 48.76%\n",
            "Recall score: 49.17%\n"
          ]
        }
      ],
      "source": [
        "# Classified OH data\n",
        "print('Accuracy score for c_data -------')\n",
        "svm_classifier(x_train_tokens_c_data, x_test_tokens_c_data, y_train_tokens_c_data, y_test_tokens_c_data)\n",
        "print()\n",
        "\n",
        "# CDC data\n",
        "print('Accuracy score for cdc_data -------')\n",
        "svm_classifier(x_train_tokens_cdc_data, x_test_tokens_cdc_data, y_train_tokens_cdc_data, y_test_tokens_cdc_data)\n",
        "print()\n",
        "\n",
        "# All classified data\n",
        "print('Accuracy score for class_data -------')\n",
        "svm_classifier(x_train_tokens_class_data, x_test_tokens_class_data, y_train_tokens_class_data, y_test_tokens_class_data)"
      ]
    },
    {
      "cell_type": "markdown",
      "metadata": {
        "id": "vd44qIPlzV4t"
      },
      "source": [
        "## Lemma SVM"
      ]
    },
    {
      "cell_type": "code",
      "execution_count": 84,
      "metadata": {
        "id": "WHl8G8dtzWJH",
        "colab": {
          "base_uri": "https://localhost:8080/"
        },
        "outputId": "59456b42-c48f-40f8-a4a3-b0f942a443d7"
      },
      "outputs": [
        {
          "output_type": "stream",
          "name": "stdout",
          "text": [
            "Accuracy score for c_data -------\n",
            "Accuracy: 53.85%\n",
            "F1 score: 32.59%\n",
            "Precision score: 34.38%\n",
            "Recall score: 32.50%\n",
            "\n",
            "Accuracy score for cdc_data -------\n",
            "Accuracy: 70.61%\n",
            "F1 score: 48.78%\n",
            "Precision score: 50.30%\n",
            "Recall score: 51.67%\n",
            "\n",
            "Accuracy score for class_data -------\n",
            "Accuracy: 71.35%\n",
            "F1 score: 47.64%\n",
            "Precision score: 48.76%\n",
            "Recall score: 49.61%\n"
          ]
        }
      ],
      "source": [
        "# Classified OH data\n",
        "print('Accuracy score for c_data -------')\n",
        "svm_classifier(x_train_lemma_c_data, x_test_lemma_c_data, y_train_lemma_c_data, y_test_lemma_c_data)\n",
        "print()\n",
        "\n",
        "# CDC data\n",
        "print('Accuracy score for cdc_data -------')\n",
        "svm_classifier(x_train_lemma_cdc_data, x_test_lemma_cdc_data, y_train_lemma_cdc_data, y_test_lemma_cdc_data)\n",
        "print()\n",
        "\n",
        "# All classified data\n",
        "print('Accuracy score for class_data -------')\n",
        "svm_classifier(x_train_lemma_class_data, x_test_lemma_class_data, y_train_lemma_class_data, y_test_lemma_class_data)"
      ]
    },
    {
      "cell_type": "markdown",
      "metadata": {
        "id": "PUrlz-JazWRc"
      },
      "source": [
        "## Porter SVM"
      ]
    },
    {
      "cell_type": "code",
      "execution_count": 85,
      "metadata": {
        "id": "47aSkmPFzWbT",
        "colab": {
          "base_uri": "https://localhost:8080/"
        },
        "outputId": "c6432004-d002-476e-cc18-ed0b8cadb227"
      },
      "outputs": [
        {
          "output_type": "stream",
          "name": "stdout",
          "text": [
            "Accuracy score for c_data -------\n",
            "Accuracy: 61.54%\n",
            "F1 score: 32.99%\n",
            "Precision score: 32.50%\n",
            "Recall score: 35.00%\n",
            "\n",
            "Accuracy score for cdc_data -------\n",
            "Accuracy: 69.39%\n",
            "F1 score: 48.86%\n",
            "Precision score: 50.25%\n",
            "Recall score: 51.24%\n",
            "\n",
            "Accuracy score for class_data -------\n",
            "Accuracy: 71.64%\n",
            "F1 score: 48.07%\n",
            "Precision score: 49.04%\n",
            "Recall score: 50.06%\n"
          ]
        }
      ],
      "source": [
        "# Classified OH data\n",
        "print('Accuracy score for c_data -------')\n",
        "svm_classifier(x_train_porter_c_data, x_test_porter_c_data, y_train_porter_c_data, y_test_porter_c_data)\n",
        "print()\n",
        "\n",
        "# CDC data\n",
        "print('Accuracy score for cdc_data -------')\n",
        "svm_classifier(x_train_porter_cdc_data, x_test_porter_cdc_data, y_train_porter_cdc_data, y_test_porter_cdc_data)\n",
        "print()\n",
        "\n",
        "# All classified data\n",
        "print('Accuracy score for class_data -------')\n",
        "svm_classifier(x_train_porter_class_data, x_test_porter_class_data, y_train_porter_class_data, y_test_porter_class_data)"
      ]
    },
    {
      "cell_type": "markdown",
      "metadata": {
        "id": "4aq_tawEzWmB"
      },
      "source": [
        "## Lancaster SVM"
      ]
    },
    {
      "cell_type": "code",
      "execution_count": 86,
      "metadata": {
        "id": "c2iIrNMNzWsf",
        "colab": {
          "base_uri": "https://localhost:8080/"
        },
        "outputId": "547f8d8c-2932-4ce5-8dae-ed4144f13bd0"
      },
      "outputs": [
        {
          "output_type": "stream",
          "name": "stdout",
          "text": [
            "Accuracy score for c_data -------\n",
            "Accuracy: 61.54%\n",
            "F1 score: 32.99%\n",
            "Precision score: 32.50%\n",
            "Recall score: 35.00%\n",
            "\n",
            "Accuracy score for cdc_data -------\n",
            "Accuracy: 70.30%\n",
            "F1 score: 49.21%\n",
            "Precision score: 49.65%\n",
            "Recall score: 52.24%\n",
            "\n",
            "Accuracy score for class_data -------\n",
            "Accuracy: 71.64%\n",
            "F1 score: 47.60%\n",
            "Precision score: 48.44%\n",
            "Recall score: 49.48%\n"
          ]
        }
      ],
      "source": [
        "# Classified OH data\n",
        "print('Accuracy score for c_data -------')\n",
        "svm_classifier(x_train_lancaster_c_data, x_test_lancaster_c_data, y_train_lancaster_c_data, y_test_lancaster_c_data)\n",
        "print()\n",
        "\n",
        "# CDC data\n",
        "print('Accuracy score for cdc_data -------')\n",
        "svm_classifier(x_train_lancaster_cdc_data, x_test_lancaster_cdc_data, y_train_lancaster_cdc_data, y_test_lancaster_cdc_data)\n",
        "print()\n",
        "\n",
        "# All classified data\n",
        "print('Accuracy score for class_data -------')\n",
        "svm_classifier(x_train_lancaster_class_data, x_test_lancaster_class_data, y_train_lancaster_class_data, y_test_lancaster_class_data)"
      ]
    },
    {
      "cell_type": "markdown",
      "metadata": {
        "id": "5fCiRj-KzWzE"
      },
      "source": [
        "## Bigram SVM"
      ]
    },
    {
      "cell_type": "code",
      "execution_count": 87,
      "metadata": {
        "id": "werFlqMozW4v",
        "colab": {
          "base_uri": "https://localhost:8080/"
        },
        "outputId": "4186a30e-cc20-4c2b-d6c5-2bf8f46c96a4"
      },
      "outputs": [
        {
          "output_type": "stream",
          "name": "stdout",
          "text": [
            "Accuracy score for c_data -------\n",
            "Accuracy: 41.67%\n",
            "F1 score: 23.15%\n",
            "Precision score: 25.00%\n",
            "Recall score: 25.00%\n",
            "\n",
            "Accuracy score for cdc_data -------\n",
            "Accuracy: 22.12%\n",
            "F1 score: 12.97%\n",
            "Precision score: 14.28%\n",
            "Recall score: 14.24%\n",
            "\n",
            "Accuracy score for class_data -------\n",
            "Accuracy: 17.60%\n",
            "F1 score: 10.53%\n",
            "Precision score: 12.49%\n",
            "Recall score: 10.65%\n"
          ]
        }
      ],
      "source": [
        "# Classified OH data\n",
        "print('Accuracy score for c_data -------')\n",
        "svm_classifier(x_train_bigram_c_data, x_test_bigram_c_data, y_train_bigram_c_data, y_test_bigram_c_data)\n",
        "print()\n",
        "\n",
        "# CDC data\n",
        "print('Accuracy score for cdc_data -------')\n",
        "svm_classifier(x_train_bigram_cdc_data, x_test_bigram_cdc_data, y_train_bigram_cdc_data, y_test_bigram_cdc_data)\n",
        "print()\n",
        "\n",
        "# All classified data\n",
        "print('Accuracy score for class_data -------')\n",
        "svm_classifier(x_train_bigram_class_data, x_test_bigram_class_data, y_train_bigram_class_data, y_test_bigram_class_data)"
      ]
    },
    {
      "cell_type": "markdown",
      "metadata": {
        "id": "JJKIxVXZzlzw"
      },
      "source": [
        "## Postag SVM"
      ]
    },
    {
      "cell_type": "code",
      "execution_count": 88,
      "metadata": {
        "id": "02XjTawVzl4W",
        "colab": {
          "base_uri": "https://localhost:8080/"
        },
        "outputId": "c1f8161b-ead2-4b04-b06f-a0566242d2b5"
      },
      "outputs": [
        {
          "output_type": "stream",
          "name": "stdout",
          "text": [
            "Accuracy score for c_data -------\n",
            "Accuracy: 53.85%\n",
            "F1 score: 32.59%\n",
            "Precision score: 34.38%\n",
            "Recall score: 32.50%\n",
            "\n",
            "Accuracy score for cdc_data -------\n",
            "Accuracy: 68.79%\n",
            "F1 score: 50.01%\n",
            "Precision score: 51.03%\n",
            "Recall score: 53.16%\n",
            "\n",
            "Accuracy score for class_data -------\n",
            "Accuracy: 66.96%\n",
            "F1 score: 44.67%\n",
            "Precision score: 45.76%\n",
            "Recall score: 46.36%\n"
          ]
        }
      ],
      "source": [
        "# Classified OH data\n",
        "print('Accuracy score for c_data -------')\n",
        "svm_classifier(x_train_postag_c_data, x_test_postag_c_data, y_train_postag_c_data, y_test_postag_c_data)\n",
        "print()\n",
        "\n",
        "# CDC data\n",
        "print('Accuracy score for cdc_data -------')\n",
        "svm_classifier(x_train_postag_cdc_data, x_test_postag_cdc_data, y_train_postag_cdc_data, y_test_postag_cdc_data)\n",
        "print()\n",
        "\n",
        "# All classified data\n",
        "print('Accuracy score for class_data -------')\n",
        "svm_classifier(x_train_postag_class_data, x_test_postag_class_data, y_train_postag_class_data, y_test_postag_class_data)"
      ]
    },
    {
      "cell_type": "markdown",
      "metadata": {
        "id": "Uw6BkD37rgxT"
      },
      "source": [
        "# ***k*-Means**"
      ]
    },
    {
      "cell_type": "code",
      "execution_count": 89,
      "metadata": {
        "id": "kjbKcx5prgxa"
      },
      "outputs": [],
      "source": [
        "from sklearn.cluster import KMeans\n",
        "from sklearn.preprocessing import LabelEncoder\n",
        "from sklearn.metrics import silhouette_score, adjusted_rand_score"
      ]
    },
    {
      "cell_type": "code",
      "source": [
        "def k_encode_purity(k, bow_array, bow_df, original_data):\n",
        "    \n",
        "    # k-means ----------------------\n",
        "    \n",
        "    # Instantiate hyperparameter k\n",
        "    k = k\n",
        "\n",
        "    kmeans = KMeans(n_clusters = k, n_init=10, random_state=42) # Create kmeans object with n_clusters, n_init=10 (warning), and random_state=42 for consistency\n",
        "    clusters = kmeans.fit_predict(bow_array) # Predict clusters from BoW array\n",
        "    \n",
        "    # Find the centroids\n",
        "    centroids = kmeans.cluster_centers_\n",
        "\n",
        "    # Encoding labels ----------------------\n",
        "\n",
        "    # Create new bow_df variable so it doesn't change the original dataframe, because it keeps doing it later on for some reason\n",
        "    bow_df_2 = bow_df\n",
        "\n",
        "    # Appending clusters to classified bag of word dataframe\n",
        "    bow_df_2['clusters'] = clusters\n",
        "\n",
        "    # Create label encoder object\n",
        "    label_encoder = LabelEncoder()\n",
        "\n",
        "    # Grabbing only topic labels\n",
        "    topics_df = processor(original_data, 'Question')['Topic']\n",
        "\n",
        "    # If statement for bigrams dataframes which had further processing compared to the others...\n",
        "    if bow_df_2.equals(bigram_c_bow_df):\n",
        "        # Find common index\n",
        "        common_index = bigram_c_bow_df.index.intersection(topics_df.index)\n",
        "        # Reindex dataframe using the common index\n",
        "        topics_df = topics_df.reindex(common_index)\n",
        "    if bow_df_2.equals(bigram_cdc_bow_df):\n",
        "        # Find common index\n",
        "        common_index = bigram_cdc_bow_df.index.intersection(topics_df.index)\n",
        "        # Reindex dataframe using the common index\n",
        "        topics_df = topics_df.reindex(common_index)\n",
        "    if bow_df_2.equals(bigram_class_bow_df):\n",
        "        # Find common index\n",
        "        common_index = bigram_class_bow_df.index.intersection(topics_df.index)\n",
        "        # Reindex dataframe using the common index\n",
        "        topics_df = topics_df.reindex(common_index)\n",
        "\n",
        "    # Encoding topic labels from classified dataset\n",
        "    topics_encoded = label_encoder.fit_transform(topics_df)\n",
        "\n",
        "    # Appending encoded topic labels to classified bag of word dataframe by creating a new column in bow_df named 'topics'using enocded topic labels\n",
        "    bow_df_2['topics'] = topics_encoded \n",
        "\n",
        "    # Applying pandas groupby method to group each cluster based off topics\n",
        "    grouped_topics = bow_df_2.groupby('clusters')['topics']\n",
        "\n",
        "    # Silhouette Score ----------------------\n",
        "    sil_score = silhouette_score(bow_array, clusters, random_state=42)\n",
        "\n",
        "    # Adjusted Rand Index Score ----------------------\n",
        "    adj_rand_score = adjusted_rand_score(topics_encoded, clusters)\n",
        "    \n",
        "    # Elbow Plot ----------------------\n",
        "\n",
        "    distortions = []\n",
        "    K = range(1,k)\n",
        "    for k in K:\n",
        "        kmeans = KMeans(n_clusters=k, n_init=10, random_state=42)\n",
        "        kmeans.fit(bow_array)\n",
        "        distortions.append(kmeans.inertia_)\n",
        "    plt.plot(K, distortions, 'bx-')\n",
        "    plt.xlabel('k')\n",
        "    plt.ylabel('Distortion')\n",
        "    plt.title('Elbow Plot')\n",
        "    plt.show()\n",
        "\n",
        "    print(f'Silhouette Score: {sil_score}')\n",
        "    print(f'ARI: {adj_rand_score}')\n",
        "    print()\n",
        "\n",
        "    # Purity Scores ----------------------\n",
        "\n",
        "    cluster_dict = {} # Build empty dictionary to hold clusters\n",
        "    purity_scores = {} # Build empty dictionary to hold purtity scores\n",
        "    \n",
        "    for i in range(k+1): # Iterate in range(k=10): clusters 0-9\n",
        "        for j in grouped_topics.get_group(i): # Iterate through each topic (j), in each cluster (i) from 0-9\n",
        "            if j not in cluster_dict: # If the topic isn't in dict, (key(topic):value - j:1)\n",
        "                cluster_dict[j] = 1\n",
        "            else: # If it is in dict, then add 1 to the topic value count (key(topic):value - j:1+1)\n",
        "                cluster_dict[j] += 1\n",
        "        max_key = max(cluster_dict, key=cluster_dict.get) # Get value of key (topic) with highest count\n",
        "        max_val = max(cluster_dict.values())\n",
        "        sum_vals = int(sum(cluster_dict.values()))\n",
        "        purity_scores[i] = round((max_val/sum_vals) * 100.0, 2)\n",
        "        cluster_dict = {} # Reset dictionary\n",
        "        \n",
        "        print(f'Cluster ID: {i}')\n",
        "        print(f'Purity Score: {purity_scores[i]}%')\n",
        "        print(f'Dominant Topic: {max_key}')\n",
        "        print(f'Number of Questions in Dominant Topic: {max_val}')\n",
        "        print(f'Topic Questions in Cluster: {sum_vals}')\n",
        "        print()\n",
        "    \n",
        "    return sil_score, adj_rand_score, purity_scores"
      ],
      "metadata": {
        "id": "SL8i5tmLrgxa"
      },
      "execution_count": 90,
      "outputs": []
    },
    {
      "cell_type": "markdown",
      "source": [
        "## Tokens Purity Scores"
      ],
      "metadata": {
        "id": "2i9lxbhKUTEH"
      }
    },
    {
      "cell_type": "markdown",
      "metadata": {
        "id": "bM4FYkUurgxb"
      },
      "source": [
        "### Tokens C_Data"
      ]
    },
    {
      "cell_type": "code",
      "execution_count": 91,
      "metadata": {
        "collapsed": true,
        "id": "lE4Z123Srgxb",
        "colab": {
          "base_uri": "https://localhost:8080/",
          "height": 1000
        },
        "outputId": "b3fd4f08-8e54-41f2-ef33-1e025f6a7947"
      },
      "outputs": [
        {
          "output_type": "display_data",
          "data": {
            "text/plain": [
              "<Figure size 640x480 with 1 Axes>"
            ],
            "image/png": "[encoded data removed]"
          },
          "metadata": {}
        },
        {
          "output_type": "stream",
          "name": "stdout",
          "text": [
            "Silhouette Score: 0.2408734667662105\n",
            "ARI: 0.38273084348578656\n",
            "\n",
            "Cluster ID: 0\n",
            "Purity Score: 15.38%\n",
            "Dominant Topic: 6\n",
            "Number of Questions in Dominant Topic: 2\n",
            "Topic Questions in Cluster: 13\n",
            "\n",
            "Cluster ID: 1\n",
            "Purity Score: 100.0%\n",
            "Dominant Topic: 14\n",
            "Number of Questions in Dominant Topic: 11\n",
            "Topic Questions in Cluster: 11\n",
            "\n",
            "Cluster ID: 2\n",
            "Purity Score: 36.36%\n",
            "Dominant Topic: 15\n",
            "Number of Questions in Dominant Topic: 4\n",
            "Topic Questions in Cluster: 11\n",
            "\n",
            "Cluster ID: 3\n",
            "Purity Score: 92.31%\n",
            "Dominant Topic: 11\n",
            "Number of Questions in Dominant Topic: 12\n",
            "Topic Questions in Cluster: 13\n",
            "\n",
            "Cluster ID: 4\n",
            "Purity Score: 50.0%\n",
            "Dominant Topic: 12\n",
            "Number of Questions in Dominant Topic: 1\n",
            "Topic Questions in Cluster: 2\n",
            "\n",
            "Cluster ID: 5\n",
            "Purity Score: 100.0%\n",
            "Dominant Topic: 11\n",
            "Number of Questions in Dominant Topic: 4\n",
            "Topic Questions in Cluster: 4\n",
            "\n",
            "Cluster ID: 6\n",
            "Purity Score: 50.0%\n",
            "Dominant Topic: 15\n",
            "Number of Questions in Dominant Topic: 1\n",
            "Topic Questions in Cluster: 2\n",
            "\n",
            "Cluster ID: 7\n",
            "Purity Score: 100.0%\n",
            "Dominant Topic: 14\n",
            "Number of Questions in Dominant Topic: 2\n",
            "Topic Questions in Cluster: 2\n",
            "\n",
            "Cluster ID: 8\n",
            "Purity Score: 100.0%\n",
            "Dominant Topic: 14\n",
            "Number of Questions in Dominant Topic: 1\n",
            "Topic Questions in Cluster: 1\n",
            "\n",
            "Cluster ID: 9\n",
            "Purity Score: 50.0%\n",
            "Dominant Topic: 12\n",
            "Number of Questions in Dominant Topic: 1\n",
            "Topic Questions in Cluster: 2\n",
            "\n"
          ]
        }
      ],
      "source": [
        "tokens_c_data_purity = k_encode_purity(10, tokens_c_bow_array, tokens_c_bow_df, c_data)"
      ]
    },
    {
      "cell_type": "markdown",
      "metadata": {
        "id": "f_tHnyPrrgxb"
      },
      "source": [
        "### Tokens CDC_Data"
      ]
    },
    {
      "cell_type": "code",
      "execution_count": 92,
      "metadata": {
        "collapsed": true,
        "id": "gy875QWArgxb",
        "colab": {
          "base_uri": "https://localhost:8080/",
          "height": 1000
        },
        "outputId": "7adc81fd-39a5-478f-c37a-906f7c729ad1"
      },
      "outputs": [
        {
          "output_type": "display_data",
          "data": {
            "text/plain": [
              "<Figure size 640x480 with 1 Axes>"
            ],
            "image/png": "[encoded data removed]"
          },
          "metadata": {}
        },
        {
          "output_type": "stream",
          "name": "stdout",
          "text": [
            "Silhouette Score: 0.03794007351985151\n",
            "ARI: 0.019900211831469585\n",
            "\n",
            "Cluster ID: 0\n",
            "Purity Score: 63.64%\n",
            "Dominant Topic: 103\n",
            "Number of Questions in Dominant Topic: 7\n",
            "Topic Questions in Cluster: 11\n",
            "\n",
            "Cluster ID: 1\n",
            "Purity Score: 28.3%\n",
            "Dominant Topic: 52\n",
            "Number of Questions in Dominant Topic: 15\n",
            "Topic Questions in Cluster: 53\n",
            "\n",
            "Cluster ID: 2\n",
            "Purity Score: 22.22%\n",
            "Dominant Topic: 63\n",
            "Number of Questions in Dominant Topic: 24\n",
            "Topic Questions in Cluster: 108\n",
            "\n",
            "Cluster ID: 3\n",
            "Purity Score: 15.45%\n",
            "Dominant Topic: 8\n",
            "Number of Questions in Dominant Topic: 17\n",
            "Topic Questions in Cluster: 110\n",
            "\n",
            "Cluster ID: 4\n",
            "Purity Score: 25.81%\n",
            "Dominant Topic: 66\n",
            "Number of Questions in Dominant Topic: 24\n",
            "Topic Questions in Cluster: 93\n",
            "\n",
            "Cluster ID: 5\n",
            "Purity Score: 9.62%\n",
            "Dominant Topic: 66\n",
            "Number of Questions in Dominant Topic: 15\n",
            "Topic Questions in Cluster: 156\n",
            "\n",
            "Cluster ID: 6\n",
            "Purity Score: 8.31%\n",
            "Dominant Topic: 42\n",
            "Number of Questions in Dominant Topic: 70\n",
            "Topic Questions in Cluster: 842\n",
            "\n",
            "Cluster ID: 7\n",
            "Purity Score: 9.89%\n",
            "Dominant Topic: 37\n",
            "Number of Questions in Dominant Topic: 26\n",
            "Topic Questions in Cluster: 263\n",
            "\n",
            "Cluster ID: 8\n",
            "Purity Score: 100.0%\n",
            "Dominant Topic: 93\n",
            "Number of Questions in Dominant Topic: 7\n",
            "Topic Questions in Cluster: 7\n",
            "\n",
            "Cluster ID: 9\n",
            "Purity Score: 100.0%\n",
            "Dominant Topic: 17\n",
            "Number of Questions in Dominant Topic: 5\n",
            "Topic Questions in Cluster: 5\n",
            "\n"
          ]
        }
      ],
      "source": [
        "tokens_cdc_data_purity = k_encode_purity(10, tokens_cdc_bow_array, tokens_cdc_bow_df, cdc_data)"
      ]
    },
    {
      "cell_type": "markdown",
      "metadata": {
        "id": "mV2tvaHwrgxb"
      },
      "source": [
        "### Tokens Class_Data"
      ]
    },
    {
      "cell_type": "code",
      "execution_count": 93,
      "metadata": {
        "collapsed": true,
        "id": "pNmbduOmrgxb",
        "colab": {
          "base_uri": "https://localhost:8080/",
          "height": 1000
        },
        "outputId": "865cc38d-4a06-449f-cd45-adcc58ae58ee"
      },
      "outputs": [
        {
          "output_type": "display_data",
          "data": {
            "text/plain": [
              "<Figure size 640x480 with 1 Axes>"
            ],
            "image/png": "[encoded data removed]"
          },
          "metadata": {}
        },
        {
          "output_type": "stream",
          "name": "stdout",
          "text": [
            "Silhouette Score: 0.031074155933428035\n",
            "ARI: 0.021169820356778175\n",
            "\n",
            "Cluster ID: 0\n",
            "Purity Score: 7.72%\n",
            "Dominant Topic: 44\n",
            "Number of Questions in Dominant Topic: 70\n",
            "Topic Questions in Cluster: 907\n",
            "\n",
            "Cluster ID: 1\n",
            "Purity Score: 10.74%\n",
            "Dominant Topic: 127\n",
            "Number of Questions in Dominant Topic: 16\n",
            "Topic Questions in Cluster: 149\n",
            "\n",
            "Cluster ID: 2\n",
            "Purity Score: 9.76%\n",
            "Dominant Topic: 113\n",
            "Number of Questions in Dominant Topic: 12\n",
            "Topic Questions in Cluster: 123\n",
            "\n",
            "Cluster ID: 3\n",
            "Purity Score: 100.0%\n",
            "Dominant Topic: 58\n",
            "Number of Questions in Dominant Topic: 1\n",
            "Topic Questions in Cluster: 1\n",
            "\n",
            "Cluster ID: 4\n",
            "Purity Score: 14.67%\n",
            "Dominant Topic: 70\n",
            "Number of Questions in Dominant Topic: 27\n",
            "Topic Questions in Cluster: 184\n",
            "\n",
            "Cluster ID: 5\n",
            "Purity Score: 16.19%\n",
            "Dominant Topic: 9\n",
            "Number of Questions in Dominant Topic: 17\n",
            "Topic Questions in Cluster: 105\n",
            "\n",
            "Cluster ID: 6\n",
            "Purity Score: 18.37%\n",
            "Dominant Topic: 73\n",
            "Number of Questions in Dominant Topic: 27\n",
            "Topic Questions in Cluster: 147\n",
            "\n",
            "Cluster ID: 7\n",
            "Purity Score: 100.0%\n",
            "Dominant Topic: 18\n",
            "Number of Questions in Dominant Topic: 5\n",
            "Topic Questions in Cluster: 5\n",
            "\n",
            "Cluster ID: 8\n",
            "Purity Score: 100.0%\n",
            "Dominant Topic: 103\n",
            "Number of Questions in Dominant Topic: 8\n",
            "Topic Questions in Cluster: 8\n",
            "\n",
            "Cluster ID: 9\n",
            "Purity Score: 16.25%\n",
            "Dominant Topic: 9\n",
            "Number of Questions in Dominant Topic: 13\n",
            "Topic Questions in Cluster: 80\n",
            "\n"
          ]
        }
      ],
      "source": [
        "tokens_class_data_purity = k_encode_purity(10, tokens_class_bow_array, tokens_class_bow_df, class_data)"
      ]
    },
    {
      "cell_type": "markdown",
      "source": [
        "## Bigram Purity Scores"
      ],
      "metadata": {
        "id": "Kz_BoqVoVPbH"
      }
    },
    {
      "cell_type": "markdown",
      "metadata": {
        "id": "ER9LQuXlrgxb"
      },
      "source": [
        "### Bigram C_Data"
      ]
    },
    {
      "cell_type": "code",
      "execution_count": 94,
      "metadata": {
        "collapsed": true,
        "id": "3OrKqQ-hrgxb",
        "colab": {
          "base_uri": "https://localhost:8080/",
          "height": 1000
        },
        "outputId": "7a54d89c-e026-4901-fa15-f55462847568"
      },
      "outputs": [
        {
          "output_type": "display_data",
          "data": {
            "text/plain": [
              "<Figure size 640x480 with 1 Axes>"
            ],
            "image/png": "[encoded data removed]"
          },
          "metadata": {}
        },
        {
          "output_type": "stream",
          "name": "stdout",
          "text": [
            "Silhouette Score: 0.1955694949987254\n",
            "ARI: 0.1842690118401108\n",
            "\n",
            "Cluster ID: 0\n",
            "Purity Score: 17.39%\n",
            "Dominant Topic: 15\n",
            "Number of Questions in Dominant Topic: 4\n",
            "Topic Questions in Cluster: 23\n",
            "\n",
            "Cluster ID: 1\n",
            "Purity Score: 100.0%\n",
            "Dominant Topic: 14\n",
            "Number of Questions in Dominant Topic: 9\n",
            "Topic Questions in Cluster: 9\n",
            "\n",
            "Cluster ID: 2\n",
            "Purity Score: 100.0%\n",
            "Dominant Topic: 10\n",
            "Number of Questions in Dominant Topic: 1\n",
            "Topic Questions in Cluster: 1\n",
            "\n",
            "Cluster ID: 3\n",
            "Purity Score: 100.0%\n",
            "Dominant Topic: 11\n",
            "Number of Questions in Dominant Topic: 4\n",
            "Topic Questions in Cluster: 4\n",
            "\n",
            "Cluster ID: 4\n",
            "Purity Score: 83.33%\n",
            "Dominant Topic: 11\n",
            "Number of Questions in Dominant Topic: 10\n",
            "Topic Questions in Cluster: 12\n",
            "\n",
            "Cluster ID: 5\n",
            "Purity Score: 100.0%\n",
            "Dominant Topic: 14\n",
            "Number of Questions in Dominant Topic: 1\n",
            "Topic Questions in Cluster: 1\n",
            "\n",
            "Cluster ID: 6\n",
            "Purity Score: 50.0%\n",
            "Dominant Topic: 3\n",
            "Number of Questions in Dominant Topic: 1\n",
            "Topic Questions in Cluster: 2\n",
            "\n",
            "Cluster ID: 7\n",
            "Purity Score: 100.0%\n",
            "Dominant Topic: 14\n",
            "Number of Questions in Dominant Topic: 2\n",
            "Topic Questions in Cluster: 2\n",
            "\n",
            "Cluster ID: 8\n",
            "Purity Score: 100.0%\n",
            "Dominant Topic: 14\n",
            "Number of Questions in Dominant Topic: 1\n",
            "Topic Questions in Cluster: 1\n",
            "\n",
            "Cluster ID: 9\n",
            "Purity Score: 33.33%\n",
            "Dominant Topic: 9\n",
            "Number of Questions in Dominant Topic: 1\n",
            "Topic Questions in Cluster: 3\n",
            "\n"
          ]
        }
      ],
      "source": [
        "bigram_c_data_purity = k_encode_purity(10, bigram_c_bow_array, bigram_c_bow_df, c_data)"
      ]
    },
    {
      "cell_type": "markdown",
      "metadata": {
        "id": "bL4oP2pFrgxc"
      },
      "source": [
        "### Bigram CDC_Data"
      ]
    },
    {
      "cell_type": "code",
      "execution_count": 95,
      "metadata": {
        "collapsed": true,
        "id": "7_oEAqp8rgxc",
        "colab": {
          "base_uri": "https://localhost:8080/",
          "height": 1000
        },
        "outputId": "e640ccf4-65ca-40a0-8150-980dc7a7ede3"
      },
      "outputs": [
        {
          "output_type": "display_data",
          "data": {
            "text/plain": [
              "<Figure size 640x480 with 1 Axes>"
            ],
            "image/png": "[encoded data removed]"
          },
          "metadata": {}
        },
        {
          "output_type": "stream",
          "name": "stdout",
          "text": [
            "Silhouette Score: 0.00465882886032711\n",
            "ARI: 0.0018483690439239902\n",
            "\n",
            "Cluster ID: 0\n",
            "Purity Score: 50.0%\n",
            "Dominant Topic: 84\n",
            "Number of Questions in Dominant Topic: 1\n",
            "Topic Questions in Cluster: 2\n",
            "\n",
            "Cluster ID: 1\n",
            "Purity Score: 23.08%\n",
            "Dominant Topic: 0\n",
            "Number of Questions in Dominant Topic: 6\n",
            "Topic Questions in Cluster: 26\n",
            "\n",
            "Cluster ID: 2\n",
            "Purity Score: 8.77%\n",
            "Dominant Topic: 44\n",
            "Number of Questions in Dominant Topic: 5\n",
            "Topic Questions in Cluster: 57\n",
            "\n",
            "Cluster ID: 3\n",
            "Purity Score: 21.43%\n",
            "Dominant Topic: 42\n",
            "Number of Questions in Dominant Topic: 3\n",
            "Topic Questions in Cluster: 14\n",
            "\n",
            "Cluster ID: 4\n",
            "Purity Score: 6.04%\n",
            "Dominant Topic: 63\n",
            "Number of Questions in Dominant Topic: 89\n",
            "Topic Questions in Cluster: 1473\n",
            "\n",
            "Cluster ID: 5\n",
            "Purity Score: 33.33%\n",
            "Dominant Topic: 7\n",
            "Number of Questions in Dominant Topic: 1\n",
            "Topic Questions in Cluster: 3\n",
            "\n",
            "Cluster ID: 6\n",
            "Purity Score: 40.0%\n",
            "Dominant Topic: 63\n",
            "Number of Questions in Dominant Topic: 2\n",
            "Topic Questions in Cluster: 5\n",
            "\n",
            "Cluster ID: 7\n",
            "Purity Score: 50.0%\n",
            "Dominant Topic: 54\n",
            "Number of Questions in Dominant Topic: 1\n",
            "Topic Questions in Cluster: 2\n",
            "\n",
            "Cluster ID: 8\n",
            "Purity Score: 33.33%\n",
            "Dominant Topic: 10\n",
            "Number of Questions in Dominant Topic: 7\n",
            "Topic Questions in Cluster: 21\n",
            "\n",
            "Cluster ID: 9\n",
            "Purity Score: 13.95%\n",
            "Dominant Topic: 23\n",
            "Number of Questions in Dominant Topic: 6\n",
            "Topic Questions in Cluster: 43\n",
            "\n"
          ]
        }
      ],
      "source": [
        "bigram_cdc_data_purity = k_encode_purity(10, bigram_cdc_bow_array, bigram_cdc_bow_df, cdc_data)"
      ]
    },
    {
      "cell_type": "markdown",
      "metadata": {
        "id": "u91dQ8o1rgxc"
      },
      "source": [
        "### Bigram Class_Data"
      ]
    },
    {
      "cell_type": "code",
      "execution_count": 96,
      "metadata": {
        "collapsed": true,
        "id": "kbXiCIc-rgxc",
        "colab": {
          "base_uri": "https://localhost:8080/",
          "height": 1000
        },
        "outputId": "c9f7f68a-c79a-45d3-cdb2-8a7dfebd65b9"
      },
      "outputs": [
        {
          "output_type": "display_data",
          "data": {
            "text/plain": [
              "<Figure size 640x480 with 1 Axes>"
            ],
            "image/png": "[encoded data removed]"
          },
          "metadata": {}
        },
        {
          "output_type": "stream",
          "name": "stdout",
          "text": [
            "Silhouette Score: -0.05346110448451115\n",
            "ARI: 0.0006438262074501736\n",
            "\n",
            "Cluster ID: 0\n",
            "Purity Score: 50.0%\n",
            "Dominant Topic: 23\n",
            "Number of Questions in Dominant Topic: 1\n",
            "Topic Questions in Cluster: 2\n",
            "\n",
            "Cluster ID: 1\n",
            "Purity Score: 23.08%\n",
            "Dominant Topic: 70\n",
            "Number of Questions in Dominant Topic: 6\n",
            "Topic Questions in Cluster: 26\n",
            "\n",
            "Cluster ID: 2\n",
            "Purity Score: 8.93%\n",
            "Dominant Topic: 44\n",
            "Number of Questions in Dominant Topic: 5\n",
            "Topic Questions in Cluster: 56\n",
            "\n",
            "Cluster ID: 3\n",
            "Purity Score: 7.55%\n",
            "Dominant Topic: 73\n",
            "Number of Questions in Dominant Topic: 8\n",
            "Topic Questions in Cluster: 106\n",
            "\n",
            "Cluster ID: 4\n",
            "Purity Score: 25.0%\n",
            "Dominant Topic: 21\n",
            "Number of Questions in Dominant Topic: 1\n",
            "Topic Questions in Cluster: 4\n",
            "\n",
            "Cluster ID: 5\n",
            "Purity Score: 6.67%\n",
            "Dominant Topic: 119\n",
            "Number of Questions in Dominant Topic: 6\n",
            "Topic Questions in Cluster: 90\n",
            "\n",
            "Cluster ID: 6\n",
            "Purity Score: 33.33%\n",
            "Dominant Topic: 14\n",
            "Number of Questions in Dominant Topic: 1\n",
            "Topic Questions in Cluster: 3\n",
            "\n",
            "Cluster ID: 7\n",
            "Purity Score: 33.33%\n",
            "Dominant Topic: 108\n",
            "Number of Questions in Dominant Topic: 1\n",
            "Topic Questions in Cluster: 3\n",
            "\n",
            "Cluster ID: 8\n",
            "Purity Score: 50.0%\n",
            "Dominant Topic: 13\n",
            "Number of Questions in Dominant Topic: 2\n",
            "Topic Questions in Cluster: 4\n",
            "\n",
            "Cluster ID: 9\n",
            "Purity Score: 5.74%\n",
            "Dominant Topic: 70\n",
            "Number of Questions in Dominant Topic: 81\n",
            "Topic Questions in Cluster: 1410\n",
            "\n"
          ]
        }
      ],
      "source": [
        "bigram_class_data_purity = k_encode_purity(10, bigram_class_bow_array, bigram_class_bow_df, class_data)"
      ]
    },
    {
      "cell_type": "markdown",
      "source": [
        "## Lemma Purity Scores"
      ],
      "metadata": {
        "id": "jizYUQouVVAF"
      }
    },
    {
      "cell_type": "markdown",
      "source": [
        "### Lemma C_Data"
      ],
      "metadata": {
        "id": "5Qrl3Pzqrgxc"
      }
    },
    {
      "cell_type": "code",
      "source": [
        "lemma_c_data_purity = k_encode_purity(10, lemma_c_bow_array, lemma_c_bow_df, c_data)"
      ],
      "metadata": {
        "collapsed": true,
        "id": "TDhc8E1Nrgxc",
        "colab": {
          "base_uri": "https://localhost:8080/",
          "height": 1000
        },
        "outputId": "647f0473-d1ab-4561-fc21-afa2937ed1d3"
      },
      "execution_count": 97,
      "outputs": [
        {
          "output_type": "display_data",
          "data": {
            "text/plain": [
              "<Figure size 640x480 with 1 Axes>"
            ],
            "image/png": "[encoded data removed]"
          },
          "metadata": {}
        },
        {
          "output_type": "stream",
          "name": "stdout",
          "text": [
            "Silhouette Score: 0.23594706400791815\n",
            "ARI: 0.3965544314587586\n",
            "\n",
            "Cluster ID: 0\n",
            "Purity Score: 18.18%\n",
            "Dominant Topic: 6\n",
            "Number of Questions in Dominant Topic: 2\n",
            "Topic Questions in Cluster: 11\n",
            "\n",
            "Cluster ID: 1\n",
            "Purity Score: 100.0%\n",
            "Dominant Topic: 14\n",
            "Number of Questions in Dominant Topic: 11\n",
            "Topic Questions in Cluster: 11\n",
            "\n",
            "Cluster ID: 2\n",
            "Purity Score: 100.0%\n",
            "Dominant Topic: 11\n",
            "Number of Questions in Dominant Topic: 4\n",
            "Topic Questions in Cluster: 4\n",
            "\n",
            "Cluster ID: 3\n",
            "Purity Score: 85.71%\n",
            "Dominant Topic: 11\n",
            "Number of Questions in Dominant Topic: 12\n",
            "Topic Questions in Cluster: 14\n",
            "\n",
            "Cluster ID: 4\n",
            "Purity Score: 36.36%\n",
            "Dominant Topic: 15\n",
            "Number of Questions in Dominant Topic: 4\n",
            "Topic Questions in Cluster: 11\n",
            "\n",
            "Cluster ID: 5\n",
            "Purity Score: 50.0%\n",
            "Dominant Topic: 3\n",
            "Number of Questions in Dominant Topic: 1\n",
            "Topic Questions in Cluster: 2\n",
            "\n",
            "Cluster ID: 6\n",
            "Purity Score: 100.0%\n",
            "Dominant Topic: 14\n",
            "Number of Questions in Dominant Topic: 1\n",
            "Topic Questions in Cluster: 1\n",
            "\n",
            "Cluster ID: 7\n",
            "Purity Score: 100.0%\n",
            "Dominant Topic: 14\n",
            "Number of Questions in Dominant Topic: 2\n",
            "Topic Questions in Cluster: 2\n",
            "\n",
            "Cluster ID: 8\n",
            "Purity Score: 50.0%\n",
            "Dominant Topic: 15\n",
            "Number of Questions in Dominant Topic: 1\n",
            "Topic Questions in Cluster: 2\n",
            "\n",
            "Cluster ID: 9\n",
            "Purity Score: 66.67%\n",
            "Dominant Topic: 11\n",
            "Number of Questions in Dominant Topic: 2\n",
            "Topic Questions in Cluster: 3\n",
            "\n"
          ]
        }
      ]
    },
    {
      "cell_type": "markdown",
      "source": [
        "### Lemma CDC_Data"
      ],
      "metadata": {
        "id": "9T3soWoHrgxc"
      }
    },
    {
      "cell_type": "code",
      "source": [
        "lemma_cdc_data_purity = k_encode_purity(10, lemma_cdc_bow_array, lemma_cdc_bow_df, cdc_data)"
      ],
      "metadata": {
        "collapsed": true,
        "id": "74zrvs19rgxd",
        "colab": {
          "base_uri": "https://localhost:8080/",
          "height": 1000
        },
        "outputId": "22f909b8-7f23-4463-a983-3a89542cadd5"
      },
      "execution_count": 98,
      "outputs": [
        {
          "output_type": "display_data",
          "data": {
            "text/plain": [
              "<Figure size 640x480 with 1 Axes>"
            ],
            "image/png": "[encoded data removed]"
          },
          "metadata": {}
        },
        {
          "output_type": "stream",
          "name": "stdout",
          "text": [
            "Silhouette Score: 0.0417080688050948\n",
            "ARI: 0.01868514246770442\n",
            "\n",
            "Cluster ID: 0\n",
            "Purity Score: 100.0%\n",
            "Dominant Topic: 41\n",
            "Number of Questions in Dominant Topic: 4\n",
            "Topic Questions in Cluster: 4\n",
            "\n",
            "Cluster ID: 1\n",
            "Purity Score: 11.32%\n",
            "Dominant Topic: 66\n",
            "Number of Questions in Dominant Topic: 18\n",
            "Topic Questions in Cluster: 159\n",
            "\n",
            "Cluster ID: 2\n",
            "Purity Score: 11.44%\n",
            "Dominant Topic: 92\n",
            "Number of Questions in Dominant Topic: 23\n",
            "Topic Questions in Cluster: 201\n",
            "\n",
            "Cluster ID: 3\n",
            "Purity Score: 100.0%\n",
            "Dominant Topic: 93\n",
            "Number of Questions in Dominant Topic: 8\n",
            "Topic Questions in Cluster: 8\n",
            "\n",
            "Cluster ID: 4\n",
            "Purity Score: 7.25%\n",
            "Dominant Topic: 66\n",
            "Number of Questions in Dominant Topic: 15\n",
            "Topic Questions in Cluster: 207\n",
            "\n",
            "Cluster ID: 5\n",
            "Purity Score: 60.0%\n",
            "Dominant Topic: 63\n",
            "Number of Questions in Dominant Topic: 6\n",
            "Topic Questions in Cluster: 10\n",
            "\n",
            "Cluster ID: 6\n",
            "Purity Score: 8.3%\n",
            "Dominant Topic: 63\n",
            "Number of Questions in Dominant Topic: 74\n",
            "Topic Questions in Cluster: 892\n",
            "\n",
            "Cluster ID: 7\n",
            "Purity Score: 66.67%\n",
            "Dominant Topic: 8\n",
            "Number of Questions in Dominant Topic: 10\n",
            "Topic Questions in Cluster: 15\n",
            "\n",
            "Cluster ID: 8\n",
            "Purity Score: 50.0%\n",
            "Dominant Topic: 12\n",
            "Number of Questions in Dominant Topic: 6\n",
            "Topic Questions in Cluster: 12\n",
            "\n",
            "Cluster ID: 9\n",
            "Purity Score: 12.14%\n",
            "Dominant Topic: 10\n",
            "Number of Questions in Dominant Topic: 17\n",
            "Topic Questions in Cluster: 140\n",
            "\n"
          ]
        }
      ]
    },
    {
      "cell_type": "markdown",
      "source": [
        "### Lemma Class_Data"
      ],
      "metadata": {
        "id": "_gVR0HPtrgxd"
      }
    },
    {
      "cell_type": "code",
      "source": [
        "lemma_class_data_purity = k_encode_purity(10, lemma_class_bow_array, lemma_class_bow_df, class_data)"
      ],
      "metadata": {
        "collapsed": true,
        "id": "GUKWkgxDrgxd",
        "colab": {
          "base_uri": "https://localhost:8080/",
          "height": 1000
        },
        "outputId": "c09d41f6-ee43-4bec-ab37-8fb1b7d45916"
      },
      "execution_count": 99,
      "outputs": [
        {
          "output_type": "display_data",
          "data": {
            "text/plain": [
              "<Figure size 640x480 with 1 Axes>"
            ],
            "image/png": "[encoded data removed]"
          },
          "metadata": {}
        },
        {
          "output_type": "stream",
          "name": "stdout",
          "text": [
            "Silhouette Score: 0.03513613078396505\n",
            "ARI: 0.022398860566789025\n",
            "\n",
            "Cluster ID: 0\n",
            "Purity Score: 24.56%\n",
            "Dominant Topic: 73\n",
            "Number of Questions in Dominant Topic: 28\n",
            "Topic Questions in Cluster: 114\n",
            "\n",
            "Cluster ID: 1\n",
            "Purity Score: 23.91%\n",
            "Dominant Topic: 86\n",
            "Number of Questions in Dominant Topic: 11\n",
            "Topic Questions in Cluster: 46\n",
            "\n",
            "Cluster ID: 2\n",
            "Purity Score: 100.0%\n",
            "Dominant Topic: 103\n",
            "Number of Questions in Dominant Topic: 8\n",
            "Topic Questions in Cluster: 8\n",
            "\n",
            "Cluster ID: 3\n",
            "Purity Score: 100.0%\n",
            "Dominant Topic: 67\n",
            "Number of Questions in Dominant Topic: 3\n",
            "Topic Questions in Cluster: 3\n",
            "\n",
            "Cluster ID: 4\n",
            "Purity Score: 40.0%\n",
            "Dominant Topic: 70\n",
            "Number of Questions in Dominant Topic: 18\n",
            "Topic Questions in Cluster: 45\n",
            "\n",
            "Cluster ID: 5\n",
            "Purity Score: 10.28%\n",
            "Dominant Topic: 39\n",
            "Number of Questions in Dominant Topic: 26\n",
            "Topic Questions in Cluster: 253\n",
            "\n",
            "Cluster ID: 6\n",
            "Purity Score: 100.0%\n",
            "Dominant Topic: 86\n",
            "Number of Questions in Dominant Topic: 2\n",
            "Topic Questions in Cluster: 2\n",
            "\n",
            "Cluster ID: 7\n",
            "Purity Score: 11.79%\n",
            "Dominant Topic: 9\n",
            "Number of Questions in Dominant Topic: 33\n",
            "Topic Questions in Cluster: 280\n",
            "\n",
            "Cluster ID: 8\n",
            "Purity Score: 46.51%\n",
            "Dominant Topic: 0\n",
            "Number of Questions in Dominant Topic: 20\n",
            "Topic Questions in Cluster: 43\n",
            "\n",
            "Cluster ID: 9\n",
            "Purity Score: 7.87%\n",
            "Dominant Topic: 44\n",
            "Number of Questions in Dominant Topic: 72\n",
            "Topic Questions in Cluster: 915\n",
            "\n"
          ]
        }
      ]
    },
    {
      "cell_type": "markdown",
      "source": [
        "## Lemma Purity Scores"
      ],
      "metadata": {
        "id": "i-usijcnVcrh"
      }
    },
    {
      "cell_type": "markdown",
      "source": [
        "### Porter C_Data"
      ],
      "metadata": {
        "id": "QQkbyfn4rgxd"
      }
    },
    {
      "cell_type": "code",
      "source": [
        "porter_c_data_purity = k_encode_purity(10, porter_c_bow_array, porter_c_bow_df, c_data)"
      ],
      "metadata": {
        "id": "02HNIxuLrgxd",
        "colab": {
          "base_uri": "https://localhost:8080/",
          "height": 1000
        },
        "outputId": "17717994-844e-4dd5-f09d-5d3aec0cc22f"
      },
      "execution_count": 100,
      "outputs": [
        {
          "output_type": "display_data",
          "data": {
            "text/plain": [
              "<Figure size 640x480 with 1 Axes>"
            ],
            "image/png": "[encoded data removed]"
          },
          "metadata": {}
        },
        {
          "output_type": "stream",
          "name": "stdout",
          "text": [
            "Silhouette Score: 0.2137712277406719\n",
            "ARI: 0.42893502124645894\n",
            "\n",
            "Cluster ID: 0\n",
            "Purity Score: 50.0%\n",
            "Dominant Topic: 15\n",
            "Number of Questions in Dominant Topic: 1\n",
            "Topic Questions in Cluster: 2\n",
            "\n",
            "Cluster ID: 1\n",
            "Purity Score: 86.67%\n",
            "Dominant Topic: 11\n",
            "Number of Questions in Dominant Topic: 13\n",
            "Topic Questions in Cluster: 15\n",
            "\n",
            "Cluster ID: 2\n",
            "Purity Score: 100.0%\n",
            "Dominant Topic: 1\n",
            "Number of Questions in Dominant Topic: 3\n",
            "Topic Questions in Cluster: 3\n",
            "\n",
            "Cluster ID: 3\n",
            "Purity Score: 100.0%\n",
            "Dominant Topic: 14\n",
            "Number of Questions in Dominant Topic: 11\n",
            "Topic Questions in Cluster: 11\n",
            "\n",
            "Cluster ID: 4\n",
            "Purity Score: 15.38%\n",
            "Dominant Topic: 6\n",
            "Number of Questions in Dominant Topic: 2\n",
            "Topic Questions in Cluster: 13\n",
            "\n",
            "Cluster ID: 5\n",
            "Purity Score: 100.0%\n",
            "Dominant Topic: 11\n",
            "Number of Questions in Dominant Topic: 4\n",
            "Topic Questions in Cluster: 4\n",
            "\n",
            "Cluster ID: 6\n",
            "Purity Score: 50.0%\n",
            "Dominant Topic: 12\n",
            "Number of Questions in Dominant Topic: 1\n",
            "Topic Questions in Cluster: 2\n",
            "\n",
            "Cluster ID: 7\n",
            "Purity Score: 100.0%\n",
            "Dominant Topic: 14\n",
            "Number of Questions in Dominant Topic: 1\n",
            "Topic Questions in Cluster: 1\n",
            "\n",
            "Cluster ID: 8\n",
            "Purity Score: 100.0%\n",
            "Dominant Topic: 14\n",
            "Number of Questions in Dominant Topic: 2\n",
            "Topic Questions in Cluster: 2\n",
            "\n",
            "Cluster ID: 9\n",
            "Purity Score: 50.0%\n",
            "Dominant Topic: 15\n",
            "Number of Questions in Dominant Topic: 4\n",
            "Topic Questions in Cluster: 8\n",
            "\n"
          ]
        }
      ]
    },
    {
      "cell_type": "markdown",
      "source": [
        "### Porter CDC_Data"
      ],
      "metadata": {
        "id": "YZJsT2ePrgxd"
      }
    },
    {
      "cell_type": "code",
      "source": [
        "porter_cdc_data_purity = k_encode_purity(10, porter_cdc_bow_array, porter_cdc_bow_df, cdc_data)"
      ],
      "metadata": {
        "id": "TNRoL-cvrgxd",
        "colab": {
          "base_uri": "https://localhost:8080/",
          "height": 1000
        },
        "outputId": "13ef2dde-88cf-4532-e738-7bdc3e385c10"
      },
      "execution_count": 101,
      "outputs": [
        {
          "output_type": "display_data",
          "data": {
            "text/plain": [
              "<Figure size 640x480 with 1 Axes>"
            ],
            "image/png": "[encoded data removed]"
          },
          "metadata": {}
        },
        {
          "output_type": "stream",
          "name": "stdout",
          "text": [
            "Silhouette Score: 0.040839678161127435\n",
            "ARI: 0.018436946531893268\n",
            "\n",
            "Cluster ID: 0\n",
            "Purity Score: 100.0%\n",
            "Dominant Topic: 93\n",
            "Number of Questions in Dominant Topic: 8\n",
            "Topic Questions in Cluster: 8\n",
            "\n",
            "Cluster ID: 1\n",
            "Purity Score: 16.88%\n",
            "Dominant Topic: 8\n",
            "Number of Questions in Dominant Topic: 26\n",
            "Topic Questions in Cluster: 154\n",
            "\n",
            "Cluster ID: 2\n",
            "Purity Score: 9.38%\n",
            "Dominant Topic: 66\n",
            "Number of Questions in Dominant Topic: 15\n",
            "Topic Questions in Cluster: 160\n",
            "\n",
            "Cluster ID: 3\n",
            "Purity Score: 48.78%\n",
            "Dominant Topic: 63\n",
            "Number of Questions in Dominant Topic: 20\n",
            "Topic Questions in Cluster: 41\n",
            "\n",
            "Cluster ID: 4\n",
            "Purity Score: 13.64%\n",
            "Dominant Topic: 63\n",
            "Number of Questions in Dominant Topic: 18\n",
            "Topic Questions in Cluster: 132\n",
            "\n",
            "Cluster ID: 5\n",
            "Purity Score: 38.3%\n",
            "Dominant Topic: 0\n",
            "Number of Questions in Dominant Topic: 18\n",
            "Topic Questions in Cluster: 47\n",
            "\n",
            "Cluster ID: 6\n",
            "Purity Score: 20.0%\n",
            "Dominant Topic: 103\n",
            "Number of Questions in Dominant Topic: 8\n",
            "Topic Questions in Cluster: 40\n",
            "\n",
            "Cluster ID: 7\n",
            "Purity Score: 7.61%\n",
            "Dominant Topic: 42\n",
            "Number of Questions in Dominant Topic: 65\n",
            "Topic Questions in Cluster: 854\n",
            "\n",
            "Cluster ID: 8\n",
            "Purity Score: 42.86%\n",
            "Dominant Topic: 63\n",
            "Number of Questions in Dominant Topic: 3\n",
            "Topic Questions in Cluster: 7\n",
            "\n",
            "Cluster ID: 9\n",
            "Purity Score: 7.32%\n",
            "Dominant Topic: 66\n",
            "Number of Questions in Dominant Topic: 15\n",
            "Topic Questions in Cluster: 205\n",
            "\n"
          ]
        }
      ]
    },
    {
      "cell_type": "markdown",
      "source": [
        "### Porter Class_Data"
      ],
      "metadata": {
        "id": "4zYRm866rgxd"
      }
    },
    {
      "cell_type": "code",
      "source": [
        "porter_class_data_purity = k_encode_purity(10, porter_class_bow_array, porter_class_bow_df, class_data)"
      ],
      "metadata": {
        "id": "Xme6OF4ergxd",
        "colab": {
          "base_uri": "https://localhost:8080/",
          "height": 1000
        },
        "outputId": "542b2834-cac5-4e6c-c1a7-854358198cb1"
      },
      "execution_count": 102,
      "outputs": [
        {
          "output_type": "display_data",
          "data": {
            "text/plain": [
              "<Figure size 640x480 with 1 Axes>"
            ],
            "image/png": "[encoded data removed]"
          },
          "metadata": {}
        },
        {
          "output_type": "stream",
          "name": "stdout",
          "text": [
            "Silhouette Score: 0.06847380547083326\n",
            "ARI: 0.011832798644442541\n",
            "\n",
            "Cluster ID: 0\n",
            "Purity Score: 7.48%\n",
            "Dominant Topic: 127\n",
            "Number of Questions in Dominant Topic: 16\n",
            "Topic Questions in Cluster: 214\n",
            "\n",
            "Cluster ID: 1\n",
            "Purity Score: 27.03%\n",
            "Dominant Topic: 70\n",
            "Number of Questions in Dominant Topic: 10\n",
            "Topic Questions in Cluster: 37\n",
            "\n",
            "Cluster ID: 2\n",
            "Purity Score: 100.0%\n",
            "Dominant Topic: 67\n",
            "Number of Questions in Dominant Topic: 3\n",
            "Topic Questions in Cluster: 3\n",
            "\n",
            "Cluster ID: 3\n",
            "Purity Score: 13.98%\n",
            "Dominant Topic: 70\n",
            "Number of Questions in Dominant Topic: 13\n",
            "Topic Questions in Cluster: 93\n",
            "\n",
            "Cluster ID: 4\n",
            "Purity Score: 11.04%\n",
            "Dominant Topic: 73\n",
            "Number of Questions in Dominant Topic: 18\n",
            "Topic Questions in Cluster: 163\n",
            "\n",
            "Cluster ID: 5\n",
            "Purity Score: 16.67%\n",
            "Dominant Topic: 9\n",
            "Number of Questions in Dominant Topic: 21\n",
            "Topic Questions in Cluster: 126\n",
            "\n",
            "Cluster ID: 6\n",
            "Purity Score: 100.0%\n",
            "Dominant Topic: 43\n",
            "Number of Questions in Dominant Topic: 4\n",
            "Topic Questions in Cluster: 4\n",
            "\n",
            "Cluster ID: 7\n",
            "Purity Score: 6.33%\n",
            "Dominant Topic: 44\n",
            "Number of Questions in Dominant Topic: 67\n",
            "Topic Questions in Cluster: 1059\n",
            "\n",
            "Cluster ID: 8\n",
            "Purity Score: 100.0%\n",
            "Dominant Topic: 103\n",
            "Number of Questions in Dominant Topic: 8\n",
            "Topic Questions in Cluster: 8\n",
            "\n",
            "Cluster ID: 9\n",
            "Purity Score: 100.0%\n",
            "Dominant Topic: 86\n",
            "Number of Questions in Dominant Topic: 2\n",
            "Topic Questions in Cluster: 2\n",
            "\n"
          ]
        }
      ]
    },
    {
      "cell_type": "markdown",
      "source": [
        "## Lancaster Purity Scores"
      ],
      "metadata": {
        "id": "UxxZEXicVlQ6"
      }
    },
    {
      "cell_type": "markdown",
      "source": [
        "### Lancaster C_Data"
      ],
      "metadata": {
        "id": "InJLlOBUrgxd"
      }
    },
    {
      "cell_type": "code",
      "source": [
        "lancaster_c_data_purity = k_encode_purity(10, lancaster_c_bow_array, lancaster_c_bow_df, c_data)"
      ],
      "metadata": {
        "id": "lpccFf61rgxd",
        "colab": {
          "base_uri": "https://localhost:8080/",
          "height": 1000
        },
        "outputId": "9af31501-d88b-4058-c4e8-f4258035177d"
      },
      "execution_count": 103,
      "outputs": [
        {
          "output_type": "display_data",
          "data": {
            "text/plain": [
              "<Figure size 640x480 with 1 Axes>"
            ],
            "image/png": "[encoded data removed]"
          },
          "metadata": {}
        },
        {
          "output_type": "stream",
          "name": "stdout",
          "text": [
            "Silhouette Score: 0.2426828252552318\n",
            "ARI: 0.3989747686572132\n",
            "\n",
            "Cluster ID: 0\n",
            "Purity Score: 18.18%\n",
            "Dominant Topic: 6\n",
            "Number of Questions in Dominant Topic: 2\n",
            "Topic Questions in Cluster: 11\n",
            "\n",
            "Cluster ID: 1\n",
            "Purity Score: 100.0%\n",
            "Dominant Topic: 14\n",
            "Number of Questions in Dominant Topic: 11\n",
            "Topic Questions in Cluster: 11\n",
            "\n",
            "Cluster ID: 2\n",
            "Purity Score: 100.0%\n",
            "Dominant Topic: 11\n",
            "Number of Questions in Dominant Topic: 4\n",
            "Topic Questions in Cluster: 4\n",
            "\n",
            "Cluster ID: 3\n",
            "Purity Score: 92.31%\n",
            "Dominant Topic: 11\n",
            "Number of Questions in Dominant Topic: 12\n",
            "Topic Questions in Cluster: 13\n",
            "\n",
            "Cluster ID: 4\n",
            "Purity Score: 30.77%\n",
            "Dominant Topic: 15\n",
            "Number of Questions in Dominant Topic: 4\n",
            "Topic Questions in Cluster: 13\n",
            "\n",
            "Cluster ID: 5\n",
            "Purity Score: 50.0%\n",
            "Dominant Topic: 12\n",
            "Number of Questions in Dominant Topic: 1\n",
            "Topic Questions in Cluster: 2\n",
            "\n",
            "Cluster ID: 6\n",
            "Purity Score: 100.0%\n",
            "Dominant Topic: 14\n",
            "Number of Questions in Dominant Topic: 1\n",
            "Topic Questions in Cluster: 1\n",
            "\n",
            "Cluster ID: 7\n",
            "Purity Score: 50.0%\n",
            "Dominant Topic: 3\n",
            "Number of Questions in Dominant Topic: 1\n",
            "Topic Questions in Cluster: 2\n",
            "\n",
            "Cluster ID: 8\n",
            "Purity Score: 50.0%\n",
            "Dominant Topic: 15\n",
            "Number of Questions in Dominant Topic: 1\n",
            "Topic Questions in Cluster: 2\n",
            "\n",
            "Cluster ID: 9\n",
            "Purity Score: 50.0%\n",
            "Dominant Topic: 12\n",
            "Number of Questions in Dominant Topic: 1\n",
            "Topic Questions in Cluster: 2\n",
            "\n"
          ]
        }
      ]
    },
    {
      "cell_type": "markdown",
      "source": [
        "### Lancaster CDC_Data"
      ],
      "metadata": {
        "id": "oWJKrzgPrgxd"
      }
    },
    {
      "cell_type": "code",
      "source": [
        "lancaster_cdc_data_purity = k_encode_purity(10, lancaster_cdc_bow_array, lancaster_cdc_bow_df, cdc_data)"
      ],
      "metadata": {
        "id": "PNsNq8jQrgxd",
        "colab": {
          "base_uri": "https://localhost:8080/",
          "height": 1000
        },
        "outputId": "876dc6ce-a4e2-4c73-9a18-904bb02b1693"
      },
      "execution_count": 104,
      "outputs": [
        {
          "output_type": "display_data",
          "data": {
            "text/plain": [
              "<Figure size 640x480 with 1 Axes>"
            ],
            "image/png": "[encoded data removed]"
          },
          "metadata": {}
        },
        {
          "output_type": "stream",
          "name": "stdout",
          "text": [
            "Silhouette Score: 0.03381858054015928\n",
            "ARI: 0.011511742861773415\n",
            "\n",
            "Cluster ID: 0\n",
            "Purity Score: 45.78%\n",
            "Dominant Topic: 63\n",
            "Number of Questions in Dominant Topic: 38\n",
            "Topic Questions in Cluster: 83\n",
            "\n",
            "Cluster ID: 1\n",
            "Purity Score: 30.77%\n",
            "Dominant Topic: 92\n",
            "Number of Questions in Dominant Topic: 4\n",
            "Topic Questions in Cluster: 13\n",
            "\n",
            "Cluster ID: 2\n",
            "Purity Score: 11.18%\n",
            "Dominant Topic: 8\n",
            "Number of Questions in Dominant Topic: 19\n",
            "Topic Questions in Cluster: 170\n",
            "\n",
            "Cluster ID: 3\n",
            "Purity Score: 9.4%\n",
            "Dominant Topic: 23\n",
            "Number of Questions in Dominant Topic: 14\n",
            "Topic Questions in Cluster: 149\n",
            "\n",
            "Cluster ID: 4\n",
            "Purity Score: 42.86%\n",
            "Dominant Topic: 63\n",
            "Number of Questions in Dominant Topic: 3\n",
            "Topic Questions in Cluster: 7\n",
            "\n",
            "Cluster ID: 5\n",
            "Purity Score: 45.71%\n",
            "Dominant Topic: 114\n",
            "Number of Questions in Dominant Topic: 16\n",
            "Topic Questions in Cluster: 35\n",
            "\n",
            "Cluster ID: 6\n",
            "Purity Score: 7.14%\n",
            "Dominant Topic: 42\n",
            "Number of Questions in Dominant Topic: 77\n",
            "Topic Questions in Cluster: 1078\n",
            "\n",
            "Cluster ID: 7\n",
            "Purity Score: 100.0%\n",
            "Dominant Topic: 63\n",
            "Number of Questions in Dominant Topic: 7\n",
            "Topic Questions in Cluster: 7\n",
            "\n",
            "Cluster ID: 8\n",
            "Purity Score: 72.22%\n",
            "Dominant Topic: 8\n",
            "Number of Questions in Dominant Topic: 13\n",
            "Topic Questions in Cluster: 18\n",
            "\n",
            "Cluster ID: 9\n",
            "Purity Score: 31.82%\n",
            "Dominant Topic: 66\n",
            "Number of Questions in Dominant Topic: 28\n",
            "Topic Questions in Cluster: 88\n",
            "\n"
          ]
        }
      ]
    },
    {
      "cell_type": "markdown",
      "source": [
        "### Lancaster Class_Data"
      ],
      "metadata": {
        "id": "a0QZjtBirgxd"
      }
    },
    {
      "cell_type": "code",
      "source": [
        "lancaster_class_data_purity = k_encode_purity(10, lancaster_class_bow_array, lancaster_class_bow_df, class_data)"
      ],
      "metadata": {
        "id": "jPEAjitVrgxd",
        "colab": {
          "base_uri": "https://localhost:8080/",
          "height": 1000
        },
        "outputId": "f503b908-fa0c-4671-dbbf-55b7f68efb00"
      },
      "execution_count": 105,
      "outputs": [
        {
          "output_type": "display_data",
          "data": {
            "text/plain": [
              "<Figure size 640x480 with 1 Axes>"
            ],
            "image/png": "[encoded data removed]"
          },
          "metadata": {}
        },
        {
          "output_type": "stream",
          "name": "stdout",
          "text": [
            "Silhouette Score: 0.0487165897698681\n",
            "ARI: 0.014336814629831636\n",
            "\n",
            "Cluster ID: 0\n",
            "Purity Score: 11.19%\n",
            "Dominant Topic: 127\n",
            "Number of Questions in Dominant Topic: 16\n",
            "Topic Questions in Cluster: 143\n",
            "\n",
            "Cluster ID: 1\n",
            "Purity Score: 12.5%\n",
            "Dominant Topic: 91\n",
            "Number of Questions in Dominant Topic: 10\n",
            "Topic Questions in Cluster: 80\n",
            "\n",
            "Cluster ID: 2\n",
            "Purity Score: 13.41%\n",
            "Dominant Topic: 9\n",
            "Number of Questions in Dominant Topic: 24\n",
            "Topic Questions in Cluster: 179\n",
            "\n",
            "Cluster ID: 3\n",
            "Purity Score: 66.67%\n",
            "Dominant Topic: 9\n",
            "Number of Questions in Dominant Topic: 10\n",
            "Topic Questions in Cluster: 15\n",
            "\n",
            "Cluster ID: 4\n",
            "Purity Score: 10.71%\n",
            "Dominant Topic: 73\n",
            "Number of Questions in Dominant Topic: 18\n",
            "Topic Questions in Cluster: 168\n",
            "\n",
            "Cluster ID: 5\n",
            "Purity Score: 20.41%\n",
            "Dominant Topic: 85\n",
            "Number of Questions in Dominant Topic: 10\n",
            "Topic Questions in Cluster: 49\n",
            "\n",
            "Cluster ID: 6\n",
            "Purity Score: 39.47%\n",
            "Dominant Topic: 70\n",
            "Number of Questions in Dominant Topic: 15\n",
            "Topic Questions in Cluster: 38\n",
            "\n",
            "Cluster ID: 7\n",
            "Purity Score: 6.42%\n",
            "Dominant Topic: 44\n",
            "Number of Questions in Dominant Topic: 66\n",
            "Topic Questions in Cluster: 1028\n",
            "\n",
            "Cluster ID: 8\n",
            "Purity Score: 71.43%\n",
            "Dominant Topic: 149\n",
            "Number of Questions in Dominant Topic: 5\n",
            "Topic Questions in Cluster: 7\n",
            "\n",
            "Cluster ID: 9\n",
            "Purity Score: 100.0%\n",
            "Dominant Topic: 86\n",
            "Number of Questions in Dominant Topic: 2\n",
            "Topic Questions in Cluster: 2\n",
            "\n"
          ]
        }
      ]
    },
    {
      "cell_type": "markdown",
      "source": [
        "## Postag Purity Scores"
      ],
      "metadata": {
        "id": "zNhklXu1VuSW"
      }
    },
    {
      "cell_type": "markdown",
      "source": [
        "### Postag C_Data"
      ],
      "metadata": {
        "id": "PCsY628brgxd"
      }
    },
    {
      "cell_type": "code",
      "source": [
        "postag_c_data_purity = k_encode_purity(10, postag_c_bow_array, postag_c_bow_df, c_data)"
      ],
      "metadata": {
        "id": "aVVUTof6rgxd",
        "colab": {
          "base_uri": "https://localhost:8080/",
          "height": 1000
        },
        "outputId": "f38b6f82-9306-4c32-bf08-368b30707ecb"
      },
      "execution_count": 106,
      "outputs": [
        {
          "output_type": "display_data",
          "data": {
            "text/plain": [
              "<Figure size 640x480 with 1 Axes>"
            ],
            "image/png": "[encoded data removed]"
          },
          "metadata": {}
        },
        {
          "output_type": "stream",
          "name": "stdout",
          "text": [
            "Silhouette Score: 0.18258875736013142\n",
            "ARI: 0.35025776878854165\n",
            "\n",
            "Cluster ID: 0\n",
            "Purity Score: 100.0%\n",
            "Dominant Topic: 8\n",
            "Number of Questions in Dominant Topic: 1\n",
            "Topic Questions in Cluster: 1\n",
            "\n",
            "Cluster ID: 1\n",
            "Purity Score: 16.67%\n",
            "Dominant Topic: 6\n",
            "Number of Questions in Dominant Topic: 2\n",
            "Topic Questions in Cluster: 12\n",
            "\n",
            "Cluster ID: 2\n",
            "Purity Score: 100.0%\n",
            "Dominant Topic: 14\n",
            "Number of Questions in Dominant Topic: 2\n",
            "Topic Questions in Cluster: 2\n",
            "\n",
            "Cluster ID: 3\n",
            "Purity Score: 81.25%\n",
            "Dominant Topic: 11\n",
            "Number of Questions in Dominant Topic: 13\n",
            "Topic Questions in Cluster: 16\n",
            "\n",
            "Cluster ID: 4\n",
            "Purity Score: 100.0%\n",
            "Dominant Topic: 11\n",
            "Number of Questions in Dominant Topic: 5\n",
            "Topic Questions in Cluster: 5\n",
            "\n",
            "Cluster ID: 5\n",
            "Purity Score: 36.36%\n",
            "Dominant Topic: 15\n",
            "Number of Questions in Dominant Topic: 4\n",
            "Topic Questions in Cluster: 11\n",
            "\n",
            "Cluster ID: 6\n",
            "Purity Score: 100.0%\n",
            "Dominant Topic: 14\n",
            "Number of Questions in Dominant Topic: 8\n",
            "Topic Questions in Cluster: 8\n",
            "\n",
            "Cluster ID: 7\n",
            "Purity Score: 50.0%\n",
            "Dominant Topic: 15\n",
            "Number of Questions in Dominant Topic: 1\n",
            "Topic Questions in Cluster: 2\n",
            "\n",
            "Cluster ID: 8\n",
            "Purity Score: 100.0%\n",
            "Dominant Topic: 14\n",
            "Number of Questions in Dominant Topic: 2\n",
            "Topic Questions in Cluster: 2\n",
            "\n",
            "Cluster ID: 9\n",
            "Purity Score: 100.0%\n",
            "Dominant Topic: 1\n",
            "Number of Questions in Dominant Topic: 2\n",
            "Topic Questions in Cluster: 2\n",
            "\n"
          ]
        }
      ]
    },
    {
      "cell_type": "markdown",
      "source": [
        "### Postag CDC_Data"
      ],
      "metadata": {
        "id": "9M3FIt82rgxd"
      }
    },
    {
      "cell_type": "code",
      "source": [
        "postag_cdc_data_purity = k_encode_purity(10, postag_cdc_bow_array, postag_cdc_bow_df, cdc_data)"
      ],
      "metadata": {
        "id": "WQVLuCwwrgxe",
        "colab": {
          "base_uri": "https://localhost:8080/",
          "height": 1000
        },
        "outputId": "bb6e38c7-df33-4a77-890d-222e9adbabdd"
      },
      "execution_count": 107,
      "outputs": [
        {
          "output_type": "display_data",
          "data": {
            "text/plain": [
              "<Figure size 640x480 with 1 Axes>"
            ],
            "image/png": "[encoded data removed]"
          },
          "metadata": {}
        },
        {
          "output_type": "stream",
          "name": "stdout",
          "text": [
            "Silhouette Score: 0.0032568286457407033\n",
            "ARI: 0.020499917575898953\n",
            "\n",
            "Cluster ID: 0\n",
            "Purity Score: 9.09%\n",
            "Dominant Topic: 66\n",
            "Number of Questions in Dominant Topic: 13\n",
            "Topic Questions in Cluster: 143\n",
            "\n",
            "Cluster ID: 1\n",
            "Purity Score: 13.33%\n",
            "Dominant Topic: 66\n",
            "Number of Questions in Dominant Topic: 24\n",
            "Topic Questions in Cluster: 180\n",
            "\n",
            "Cluster ID: 2\n",
            "Purity Score: 66.67%\n",
            "Dominant Topic: 63\n",
            "Number of Questions in Dominant Topic: 4\n",
            "Topic Questions in Cluster: 6\n",
            "\n",
            "Cluster ID: 3\n",
            "Purity Score: 20.61%\n",
            "Dominant Topic: 8\n",
            "Number of Questions in Dominant Topic: 27\n",
            "Topic Questions in Cluster: 131\n",
            "\n",
            "Cluster ID: 4\n",
            "Purity Score: 11.96%\n",
            "Dominant Topic: 83\n",
            "Number of Questions in Dominant Topic: 11\n",
            "Topic Questions in Cluster: 92\n",
            "\n",
            "Cluster ID: 5\n",
            "Purity Score: 33.33%\n",
            "Dominant Topic: 89\n",
            "Number of Questions in Dominant Topic: 2\n",
            "Topic Questions in Cluster: 6\n",
            "\n",
            "Cluster ID: 6\n",
            "Purity Score: 10.29%\n",
            "Dominant Topic: 92\n",
            "Number of Questions in Dominant Topic: 21\n",
            "Topic Questions in Cluster: 204\n",
            "\n",
            "Cluster ID: 7\n",
            "Purity Score: 100.0%\n",
            "Dominant Topic: 54\n",
            "Number of Questions in Dominant Topic: 3\n",
            "Topic Questions in Cluster: 3\n",
            "\n",
            "Cluster ID: 8\n",
            "Purity Score: 8.06%\n",
            "Dominant Topic: 63\n",
            "Number of Questions in Dominant Topic: 71\n",
            "Topic Questions in Cluster: 881\n",
            "\n",
            "Cluster ID: 9\n",
            "Purity Score: 100.0%\n",
            "Dominant Topic: 49\n",
            "Number of Questions in Dominant Topic: 2\n",
            "Topic Questions in Cluster: 2\n",
            "\n"
          ]
        }
      ]
    },
    {
      "cell_type": "code",
      "source": [
        "postag_class_data_purity = k_encode_purity(10, postag_class_bow_array, postag_class_bow_df, class_data)"
      ],
      "metadata": {
        "id": "-rpqtWE013Wp",
        "colab": {
          "base_uri": "https://localhost:8080/",
          "height": 1000
        },
        "outputId": "ececc4b4-0e3d-4d94-ff24-de06326f5125"
      },
      "execution_count": 108,
      "outputs": [
        {
          "output_type": "display_data",
          "data": {
            "text/plain": [
              "<Figure size 640x480 with 1 Axes>"
            ],
            "image/png": "[encoded data removed]"
          },
          "metadata": {}
        },
        {
          "output_type": "stream",
          "name": "stdout",
          "text": [
            "Silhouette Score: 0.029629850965889156\n",
            "ARI: 0.011788661403446938\n",
            "\n",
            "Cluster ID: 0\n",
            "Purity Score: 100.0%\n",
            "Dominant Topic: 23\n",
            "Number of Questions in Dominant Topic: 3\n",
            "Topic Questions in Cluster: 3\n",
            "\n",
            "Cluster ID: 1\n",
            "Purity Score: 6.18%\n",
            "Dominant Topic: 147\n",
            "Number of Questions in Dominant Topic: 60\n",
            "Topic Questions in Cluster: 971\n",
            "\n",
            "Cluster ID: 2\n",
            "Purity Score: 10.82%\n",
            "Dominant Topic: 101\n",
            "Number of Questions in Dominant Topic: 21\n",
            "Topic Questions in Cluster: 194\n",
            "\n",
            "Cluster ID: 3\n",
            "Purity Score: 63.64%\n",
            "Dominant Topic: 116\n",
            "Number of Questions in Dominant Topic: 7\n",
            "Topic Questions in Cluster: 11\n",
            "\n",
            "Cluster ID: 4\n",
            "Purity Score: 12.08%\n",
            "Dominant Topic: 73\n",
            "Number of Questions in Dominant Topic: 18\n",
            "Topic Questions in Cluster: 149\n",
            "\n",
            "Cluster ID: 5\n",
            "Purity Score: 50.0%\n",
            "Dominant Topic: 70\n",
            "Number of Questions in Dominant Topic: 4\n",
            "Topic Questions in Cluster: 8\n",
            "\n",
            "Cluster ID: 6\n",
            "Purity Score: 14.41%\n",
            "Dominant Topic: 9\n",
            "Number of Questions in Dominant Topic: 17\n",
            "Topic Questions in Cluster: 118\n",
            "\n",
            "Cluster ID: 7\n",
            "Purity Score: 9.74%\n",
            "Dominant Topic: 73\n",
            "Number of Questions in Dominant Topic: 15\n",
            "Topic Questions in Cluster: 154\n",
            "\n",
            "Cluster ID: 8\n",
            "Purity Score: 66.67%\n",
            "Dominant Topic: 9\n",
            "Number of Questions in Dominant Topic: 10\n",
            "Topic Questions in Cluster: 15\n",
            "\n",
            "Cluster ID: 9\n",
            "Purity Score: 37.21%\n",
            "Dominant Topic: 70\n",
            "Number of Questions in Dominant Topic: 32\n",
            "Topic Questions in Cluster: 86\n",
            "\n"
          ]
        }
      ]
    }
  ],
  "metadata": {
    "colab": {
      "provenance": [],
      "authorship_tag": "ABX9TyPK1CPGj0xZoglDfKdl/1eV",
      "include_colab_link": true
    },
    "kernelspec": {
      "display_name": "Python 3",
      "name": "python3"
    },
    "language_info": {
      "name": "python"
    }
  },
  "nbformat": 4,
  "nbformat_minor": 0
}