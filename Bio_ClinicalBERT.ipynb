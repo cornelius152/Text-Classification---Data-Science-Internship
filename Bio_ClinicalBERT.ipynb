{
  "cells": [
    {
      "cell_type": "markdown",
      "metadata": {
        "id": "view-in-github",
        "colab_type": "text"
      },
      "source": [
        "<a href=\"https://colab.research.google.com/github/cornelius152/Text-Classification---Data-Science-Internship/blob/main/Bio_ClinicalBERT.ipynb\" target=\"_parent\"><img src=\"https://colab.research.google.com/assets/colab-badge.svg\" alt=\"Open In Colab\"/></a>"
      ]
    },
    {
      "cell_type": "markdown",
      "metadata": {
        "id": "GeRx0xDd2adB"
      },
      "source": [
        "# **Import Libraries & Packages**"
      ]
    },
    {
      "cell_type": "code",
      "execution_count": 1,
      "metadata": {
        "colab": {
          "base_uri": "https://localhost:8080/"
        },
        "collapsed": true,
        "id": "KC6WXEXz1ler",
        "outputId": "4f14bf76-5986-4512-816a-8a01ba9d29fe"
      },
      "outputs": [
        {
          "output_type": "stream",
          "name": "stdout",
          "text": [
            "Looking in indexes: https://pypi.org/simple, https://us-python.pkg.dev/colab-wheels/public/simple/\n",
            "Requirement already satisfied: nltk in /usr/local/lib/python3.10/dist-packages (3.8.1)\n",
            "Requirement already satisfied: click in /usr/local/lib/python3.10/dist-packages (from nltk) (8.1.3)\n",
            "Requirement already satisfied: joblib in /usr/local/lib/python3.10/dist-packages (from nltk) (1.2.0)\n",
            "Requirement already satisfied: regex>=2021.8.3 in /usr/local/lib/python3.10/dist-packages (from nltk) (2022.10.31)\n",
            "Requirement already satisfied: tqdm in /usr/local/lib/python3.10/dist-packages (from nltk) (4.65.0)\n"
          ]
        }
      ],
      "source": [
        "!pip install nltk"
      ]
    },
    {
      "cell_type": "code",
      "execution_count": 2,
      "metadata": {
        "colab": {
          "base_uri": "https://localhost:8080/"
        },
        "collapsed": true,
        "id": "lgYAhzkCppC4",
        "outputId": "47a89d07-8855-4b06-be95-4b4a6c2be71d"
      },
      "outputs": [
        {
          "output_type": "stream",
          "name": "stdout",
          "text": [
            "Looking in indexes: https://pypi.org/simple, https://us-python.pkg.dev/colab-wheels/public/simple/\n",
            "Collecting transformers\n",
            "  Downloading transformers-4.29.1-py3-none-any.whl (7.1 MB)\n",
            "\u001b[2K     \u001b[90m━━━━━━━━━━━━━━━━━━━━━━━━━━━━━━━━━━━━━━━━\u001b[0m \u001b[32m7.1/7.1 MB\u001b[0m \u001b[31m75.0 MB/s\u001b[0m eta \u001b[36m0:00:00\u001b[0m\n",
            "\u001b[?25hRequirement already satisfied: filelock in /usr/local/lib/python3.10/dist-packages (from transformers) (3.12.0)\n",
            "Collecting huggingface-hub<1.0,>=0.14.1 (from transformers)\n",
            "  Downloading huggingface_hub-0.14.1-py3-none-any.whl (224 kB)\n",
            "\u001b[2K     \u001b[90m━━━━━━━━━━━━━━━━━━━━━━━━━━━━━━━━━━━━━━\u001b[0m \u001b[32m224.5/224.5 kB\u001b[0m \u001b[31m22.5 MB/s\u001b[0m eta \u001b[36m0:00:00\u001b[0m\n",
            "\u001b[?25hRequirement already satisfied: numpy>=1.17 in /usr/local/lib/python3.10/dist-packages (from transformers) (1.22.4)\n",
            "Requirement already satisfied: packaging>=20.0 in /usr/local/lib/python3.10/dist-packages (from transformers) (23.1)\n",
            "Requirement already satisfied: pyyaml>=5.1 in /usr/local/lib/python3.10/dist-packages (from transformers) (6.0)\n",
            "Requirement already satisfied: regex!=2019.12.17 in /usr/local/lib/python3.10/dist-packages (from transformers) (2022.10.31)\n",
            "Requirement already satisfied: requests in /usr/local/lib/python3.10/dist-packages (from transformers) (2.27.1)\n",
            "Collecting tokenizers!=0.11.3,<0.14,>=0.11.1 (from transformers)\n",
            "  Downloading tokenizers-0.13.3-cp310-cp310-manylinux_2_17_x86_64.manylinux2014_x86_64.whl (7.8 MB)\n",
            "\u001b[2K     \u001b[90m━━━━━━━━━━━━━━━━━━━━━━━━━━━━━━━━━━━━━━━━\u001b[0m \u001b[32m7.8/7.8 MB\u001b[0m \u001b[31m89.1 MB/s\u001b[0m eta \u001b[36m0:00:00\u001b[0m\n",
            "\u001b[?25hRequirement already satisfied: tqdm>=4.27 in /usr/local/lib/python3.10/dist-packages (from transformers) (4.65.0)\n",
            "Requirement already satisfied: fsspec in /usr/local/lib/python3.10/dist-packages (from huggingface-hub<1.0,>=0.14.1->transformers) (2023.4.0)\n",
            "Requirement already satisfied: typing-extensions>=3.7.4.3 in /usr/local/lib/python3.10/dist-packages (from huggingface-hub<1.0,>=0.14.1->transformers) (4.5.0)\n",
            "Requirement already satisfied: urllib3<1.27,>=1.21.1 in /usr/local/lib/python3.10/dist-packages (from requests->transformers) (1.26.15)\n",
            "Requirement already satisfied: certifi>=2017.4.17 in /usr/local/lib/python3.10/dist-packages (from requests->transformers) (2022.12.7)\n",
            "Requirement already satisfied: charset-normalizer~=2.0.0 in /usr/local/lib/python3.10/dist-packages (from requests->transformers) (2.0.12)\n",
            "Requirement already satisfied: idna<4,>=2.5 in /usr/local/lib/python3.10/dist-packages (from requests->transformers) (3.4)\n",
            "Installing collected packages: tokenizers, huggingface-hub, transformers\n",
            "Successfully installed huggingface-hub-0.14.1 tokenizers-0.13.3 transformers-4.29.1\n"
          ]
        }
      ],
      "source": [
        "!pip install transformers"
      ]
    },
    {
      "cell_type": "code",
      "execution_count": 3,
      "metadata": {
        "colab": {
          "base_uri": "https://localhost:8080/"
        },
        "collapsed": true,
        "id": "_Gz-uU-7k6aL",
        "outputId": "494007d9-b36f-41ac-9a18-685fb99f5d99"
      },
      "outputs": [
        {
          "output_type": "stream",
          "name": "stderr",
          "text": [
            "[nltk_data] Downloading package punkt to /root/nltk_data...\n",
            "[nltk_data]   Unzipping tokenizers/punkt.zip.\n",
            "[nltk_data] Downloading package averaged_perceptron_tagger to\n",
            "[nltk_data]     /root/nltk_data...\n",
            "[nltk_data]   Unzipping taggers/averaged_perceptron_tagger.zip.\n",
            "[nltk_data] Downloading package omw-1.4 to /root/nltk_data...\n",
            "[nltk_data] Downloading package stopwords to /root/nltk_data...\n",
            "[nltk_data]   Unzipping corpora/stopwords.zip.\n",
            "[nltk_data] Downloading package wordnet to /root/nltk_data...\n"
          ]
        }
      ],
      "source": [
        "# Importing global libraries\n",
        "import pandas as pd\n",
        "import numpy as np\n",
        "from transformers import AutoTokenizer, AutoModel\n",
        "import torch\n",
        "import matplotlib.pyplot as plt\n",
        "%matplotlib inline\n",
        "\n",
        "# Import language libraries and packages\n",
        "import nltk\n",
        "nltk.download('punkt') # A pre-trained unsupervised machine learning model for tokenizing text into individual words or sentences\n",
        "nltk.download('averaged_perceptron_tagger')\n",
        "nltk.download('omw-1.4') # Open Multilingual WordNet (OMW)\n",
        "\n",
        "from nltk.corpus import stopwords\n",
        "nltk.download('stopwords') # For 'English' stopwords\n",
        "\n",
        "from nltk.stem import PorterStemmer\n",
        "from nltk.stem import LancasterStemmer\n",
        "\n",
        "from nltk.stem import WordNetLemmatizer\n",
        "nltk.download('wordnet') # For lemmatization \n",
        "\n",
        "pd.options.mode.chained_assignment = None  # default='warn' and I am disabling it\n",
        "\n",
        "import warnings\n",
        "warnings.filterwarnings('ignore', message='.*', category=UserWarning, module='sklearn') # To suppress precision score warning"
      ]
    },
    {
      "cell_type": "markdown",
      "metadata": {
        "id": "NNtaXkR32KWR"
      },
      "source": [
        "# **Load Bert Models**"
      ]
    },
    {
      "cell_type": "code",
      "execution_count": 4,
      "metadata": {
        "colab": {
          "base_uri": "https://localhost:8080/",
          "height": 155,
          "referenced_widgets": [
            "08194a83601d443985145c27552eeb2b",
            "abe3eda7355244c5b4df418c39ccc388",
            "b3b8bf4965564302a1075bf50277e721",
            "2f3d623e70bb4aafa86ea2325895e620",
            "52873d86088a4904b6f5d8556f78a42f",
            "5ee83a2264a74984bdfc10b5bab0c6ff",
            "55e3a0301fed43418def8d037403351a",
            "a2ba80252f6240f38f2a22f026467f95",
            "bf051cfbb3814e3f918da6dfe502706b",
            "2251fcdc015e41258662b0e971caad2b",
            "ec65d7d5205e46d58eb1238a761a0707",
            "754dbe627576490f954a85112d53a112",
            "84483052ebe64e9bb4dc71297e337898",
            "1bd6368f64004204beb8fddfcd42da1b",
            "317675edd5064a39887fc5dd8fadecfb",
            "c4c3fdce0d8344c6aceeb46fed3df220",
            "04d413582e0942e9a311adab79d0df0a",
            "b145b2d7ccc24d24a678e5676dd4a34f",
            "964e39ba4f08448db93532cef7eba7bd",
            "53dbf29a4f0e45e3a079cdc2e2e904c6",
            "28a87f4385194852b3ee5801fab47860",
            "44fa87915f744bc286c54bb3301d0db8"
          ]
        },
        "collapsed": true,
        "id": "AXVf77yJp8Vk",
        "outputId": "8ebddb4a-8630-4ed1-fd50-3bc5510c5fc1"
      },
      "outputs": [
        {
          "output_type": "display_data",
          "data": {
            "text/plain": [
              "Downloading (…)lve/main/config.json:   0%|          | 0.00/385 [00:00<?, ?B/s]"
            ],
            "application/vnd.jupyter.widget-view+json": {
              "version_major": 2,
              "version_minor": 0,
              "model_id": "08194a83601d443985145c27552eeb2b"
            }
          },
          "metadata": {}
        },
        {
          "output_type": "display_data",
          "data": {
            "text/plain": [
              "Downloading pytorch_model.bin:   0%|          | 0.00/436M [00:00<?, ?B/s]"
            ],
            "application/vnd.jupyter.widget-view+json": {
              "version_major": 2,
              "version_minor": 0,
              "model_id": "754dbe627576490f954a85112d53a112"
            }
          },
          "metadata": {}
        },
        {
          "output_type": "stream",
          "name": "stderr",
          "text": [
            "Some weights of the model checkpoint at emilyalsentzer/Bio_ClinicalBERT were not used when initializing BertModel: ['cls.predictions.decoder.weight', 'cls.predictions.transform.LayerNorm.bias', 'cls.seq_relationship.weight', 'cls.predictions.transform.dense.bias', 'cls.predictions.bias', 'cls.predictions.transform.dense.weight', 'cls.predictions.transform.LayerNorm.weight', 'cls.seq_relationship.bias']\n",
            "- This IS expected if you are initializing BertModel from the checkpoint of a model trained on another task or with another architecture (e.g. initializing a BertForSequenceClassification model from a BertForPreTraining model).\n",
            "- This IS NOT expected if you are initializing BertModel from the checkpoint of a model that you expect to be exactly identical (initializing a BertForSequenceClassification model from a BertForSequenceClassification model).\n"
          ]
        }
      ],
      "source": [
        "# Load Bio_ClinicalBERT pre-trained word embeddings\n",
        "biob_model = AutoModel.from_pretrained(\"emilyalsentzer/Bio_ClinicalBERT\")"
      ]
    },
    {
      "cell_type": "markdown",
      "metadata": {
        "id": "SqSS-9AuM1tE"
      },
      "source": [
        "model.get_input_embeddings() returns the input embeddings of the BERT model.\n",
        "\n",
        ".weight accesses the weights of the input embeddings, which are the word embeddings that have been learned by the model.\n",
        "\n",
        ".detach() detaches the tensor so it can be used as a standalone tensor.\n",
        "\n",
        ".cpu() moves the tensor from the GPU to the CPU, so that it can be used by the numpy library.\n",
        "\n",
        ".numpy() converts the tensor to a numpy array, which is the format that the gensim library expects for the initial weights of word2vec"
      ]
    },
    {
      "cell_type": "code",
      "execution_count": 5,
      "metadata": {
        "id": "27CPJqdKWOST"
      },
      "outputs": [],
      "source": [
        "# Grab pre-trained word embeddings\n",
        "biob_word_vectors = biob_model.get_input_embeddings().weight.detach().cpu().numpy()"
      ]
    },
    {
      "cell_type": "code",
      "execution_count": 6,
      "metadata": {
        "colab": {
          "base_uri": "https://localhost:8080/"
        },
        "id": "L_J6ebMLN63I",
        "outputId": "878979db-f0cc-4925-cf61-0febc12cb5cc"
      },
      "outputs": [
        {
          "output_type": "stream",
          "name": "stdout",
          "text": [
            "(28996, 768)\n"
          ]
        }
      ],
      "source": [
        "# Looking at shape of vectors\n",
        "print(biob_word_vectors.shape)"
      ]
    },
    {
      "cell_type": "markdown",
      "metadata": {
        "id": "hZnem3eZ3BsL"
      },
      "source": [
        "## Loading Tokenizer"
      ]
    },
    {
      "cell_type": "code",
      "execution_count": 7,
      "metadata": {
        "colab": {
          "base_uri": "https://localhost:8080/",
          "height": 49,
          "referenced_widgets": [
            "a784e0189d0943af93e57d138f619f0c",
            "94b8fd1949054df4b66a482380433dab",
            "e03ffee0ea3d420ea291cbf41b286aac",
            "4b3b881cb6ae4ce483c057a1eb07ab01",
            "a33fd24fe329455cbd4e01442f75564b",
            "96c440b4498e4597946b7d5e5f8440f8",
            "db3965c070a04912943aab1307d91e56",
            "610eed73a4824de4a0d4b44dbf493109",
            "0fe0cf186a884cce9cecad24c750ff6f",
            "f1511a9e147b45849e633cbb65df5fc7",
            "2ca5aafe20b742f4a239f575a8566724"
          ]
        },
        "collapsed": true,
        "id": "Mra9dlB4NjmY",
        "outputId": "e6136c6d-6d39-458c-950a-7a78761ab734"
      },
      "outputs": [
        {
          "output_type": "display_data",
          "data": {
            "text/plain": [
              "Downloading (…)solve/main/vocab.txt:   0%|          | 0.00/213k [00:00<?, ?B/s]"
            ],
            "application/vnd.jupyter.widget-view+json": {
              "version_major": 2,
              "version_minor": 0,
              "model_id": "a784e0189d0943af93e57d138f619f0c"
            }
          },
          "metadata": {}
        }
      ],
      "source": [
        "# Bio_ClinicalBERT Tokenizer\n",
        "bio_tokenizer = AutoTokenizer.from_pretrained(\"emilyalsentzer/Bio_ClinicalBERT\")"
      ]
    },
    {
      "cell_type": "code",
      "execution_count": 8,
      "metadata": {
        "colab": {
          "base_uri": "https://localhost:8080/"
        },
        "collapsed": true,
        "id": "frLAj42Zi0DH",
        "outputId": "c216fc89-b989-4b0b-a68e-3cfcd5e26f5e"
      },
      "outputs": [
        {
          "output_type": "stream",
          "name": "stdout",
          "text": [
            "Drive already mounted at /content/drive; to attempt to forcibly remount, call drive.mount(\"/content/drive\", force_remount=True).\n"
          ]
        }
      ],
      "source": [
        "from google.colab import drive\n",
        "drive.mount('/content/drive')"
      ]
    },
    {
      "cell_type": "markdown",
      "metadata": {
        "id": "Sb-USiUMP4_0"
      },
      "source": [
        "# **Load Data**"
      ]
    },
    {
      "cell_type": "code",
      "execution_count": 9,
      "metadata": {
        "id": "qt8TZddCl42d"
      },
      "outputs": [],
      "source": [
        "# Import files\n",
        "\n",
        "# Unclassified (uc) data\n",
        "uc_data = pd.read_csv('/content/drive/MyDrive/OneHealth Data Science Internship/Colab Notebooks/Data copy/unique_unclassified_questions.csv')\n",
        "uc_data = uc_data.rename(columns={'question': 'Question'}) # Rename question column to match the question columns name in other datasets\n",
        "\n",
        "# Classified (c) data\n",
        "c_data = pd.read_excel('/content/drive/MyDrive/OneHealth Data Science Internship/Colab Notebooks/Data copy/categorized_questions.xlsx')\n",
        "\n",
        "# CDC dataset\n",
        "cdc_data = pd.read_csv('/content/drive/MyDrive/OneHealth Data Science Internship/Colab Notebooks/Data copy/Behavioral_Risk_Factor_Surveillance_System__BRFSS__Historical_Questions.csv')\n",
        "\n",
        "# All classified data (c_data + cdc_data)\n",
        "class_data = pd.concat([c_data, cdc_data])"
      ]
    },
    {
      "cell_type": "markdown",
      "metadata": {
        "id": "UDqNrULQPpxp"
      },
      "source": [
        "# **Processor Function**"
      ]
    },
    {
      "cell_type": "code",
      "execution_count": 10,
      "metadata": {
        "id": "K_oaVK_1od3s"
      },
      "outputs": [],
      "source": [
        "# Processor function to do everything in one go\n",
        "\n",
        "# Create stopword variable holding all stopwords in English\n",
        "stopwords = stopwords.words('english')\n",
        "\n",
        "# Create Porter- and Lancaster- stemmer objects\n",
        "porter = PorterStemmer()\n",
        "lancaster = LancasterStemmer()\n",
        "\n",
        "# Create lemmatizer object\n",
        "wordnet_lemmatizer = WordNetLemmatizer()\n",
        "\n",
        "def processor(data, feature, tokens='tokens'):\n",
        "    \n",
        "    # Drop duplicate rows based on a specified feature, but keep first instance of duplicate and reset index\n",
        "    data = data.drop_duplicates(subset=feature, keep='first', ignore_index=True)\n",
        "\n",
        "    # Tokenize feature of textual data, and create new column with tokenized text using BioBERT tokenizer\n",
        "    data['bio_'+tokens] = data[feature].apply(lambda x: bio_tokenizer.tokenize(x, add_special_tokens=True))\n",
        "\n",
        "    # Convert tokens into ids using BioBERT tokenizer\n",
        "    data['bio_ids_'+tokens] = data['bio_'+tokens].apply(lambda x: bio_tokenizer.convert_tokens_to_ids(x))\n",
        "\n",
        "    # Lowercasing and removing stop words, and making sure all textual data is alphanumeric for BioBERT\n",
        "    data[tokens] = data['bio_'+tokens].apply(lambda x: \n",
        "                                      [word.lower() for word in x if word not in (stopwords) and word.isalnum()])\n",
        "    \n",
        "    # Remove empty lists\n",
        "    data = data[data[tokens].map(len) > 0]\n",
        "\n",
        "    # Processing tokens into string and creating a separate column of this for later use\n",
        "    data['str tokens'] = data[tokens].apply(lambda x: ' '.join(x))\n",
        "        \n",
        "    # Applying bigrams\n",
        "    data['bigrams'] = data[tokens].apply(lambda x: list(nltk.bigrams(x)))\n",
        "\n",
        "    # Applying porter stem\n",
        "    data['porter stem'] = data[tokens].apply(lambda x: [porter.stem(word) for word in x])\n",
        "    \n",
        "    # Applying lancaster stem\n",
        "    data['lancaster stem'] = data[tokens].apply(lambda x: [lancaster.stem(word) for word in x])\n",
        "    \n",
        "    # Lemmatization\n",
        "    data['lemma'] = data[tokens].apply(lambda x: [wordnet_lemmatizer.lemmatize(word) for word in x])\n",
        "    \n",
        "    # Pos-tagging\n",
        "    data['postag'] = data[tokens].apply(lambda x: nltk.pos_tag(x))\n",
        "    \n",
        "    return data"
      ]
    },
    {
      "cell_type": "markdown",
      "metadata": {
        "id": "GwarIY-08QeL"
      },
      "source": [
        "### Tokens Processed"
      ]
    },
    {
      "cell_type": "code",
      "execution_count": 11,
      "metadata": {
        "collapsed": true,
        "id": "nlGXcBltjGlJ"
      },
      "outputs": [],
      "source": [
        "# Applying processor function too the uc, c, and cdc datasets, and only grabbing the TOKENS feature\n",
        "tokens_uc_data = pd.DataFrame(processor(uc_data, 'Question')['tokens'])\n",
        "tokens_c_data = pd.DataFrame(processor(c_data, 'Question')['tokens'])\n",
        "tokens_cdc_data = pd.DataFrame(processor(cdc_data, 'Question')['tokens'])\n",
        "\n",
        "# Data in index 1, axis 0 for uc dataset was an empty list, so manually dropping it\n",
        "tokens_uc_data = tokens_uc_data.drop(index=1)\n",
        "\n",
        "# Concatenating all three dataframes into one\n",
        "tokens_all_data = pd.concat([tokens_uc_data, tokens_c_data, tokens_cdc_data])\n",
        "\n",
        "# Concatenating classified datasets: classified OH and CDC datasets\n",
        "tokens_classified_data = pd.concat([tokens_c_data, tokens_cdc_data])"
      ]
    },
    {
      "cell_type": "code",
      "execution_count": 12,
      "metadata": {
        "colab": {
          "base_uri": "https://localhost:8080/",
          "height": 143
        },
        "id": "eLEMhHN83DPp",
        "outputId": "37a9b0fd-397c-4311-c7dd-9dc3e8af3bff"
      },
      "outputs": [
        {
          "output_type": "execute_result",
          "data": {
            "text/plain": [
              "                                              tokens\n",
              "0                                       [age, group]\n",
              "1                                           [gender]\n",
              "2  [thinking, discomfort, consuming, wheat, whole..."
            ],
            "text/html": [
              "\n",
              "  <div id=\"df-e235b5ff-9e74-45bd-8a3b-771eb5e4f7b5\">\n",
              "    <div class=\"colab-df-container\">\n",
              "      <div>\n",
              "<style scoped>\n",
              "    .dataframe tbody tr th:only-of-type {\n",
              "        vertical-align: middle;\n",
              "    }\n",
              "\n",
              "    .dataframe tbody tr th {\n",
              "        vertical-align: top;\n",
              "    }\n",
              "\n",
              "    .dataframe thead th {\n",
              "        text-align: right;\n",
              "    }\n",
              "</style>\n",
              "<table border=\"1\" class=\"dataframe\">\n",
              "  <thead>\n",
              "    <tr style=\"text-align: right;\">\n",
              "      <th></th>\n",
              "      <th>tokens</th>\n",
              "    </tr>\n",
              "  </thead>\n",
              "  <tbody>\n",
              "    <tr>\n",
              "      <th>0</th>\n",
              "      <td>[age, group]</td>\n",
              "    </tr>\n",
              "    <tr>\n",
              "      <th>1</th>\n",
              "      <td>[gender]</td>\n",
              "    </tr>\n",
              "    <tr>\n",
              "      <th>2</th>\n",
              "      <td>[thinking, discomfort, consuming, wheat, whole...</td>\n",
              "    </tr>\n",
              "  </tbody>\n",
              "</table>\n",
              "</div>\n",
              "      <button class=\"colab-df-convert\" onclick=\"convertToInteractive('df-e235b5ff-9e74-45bd-8a3b-771eb5e4f7b5')\"\n",
              "              title=\"Convert this dataframe to an interactive table.\"\n",
              "              style=\"display:none;\">\n",
              "        \n",
              "  <svg xmlns=\"http://www.w3.org/2000/svg\" height=\"24px\"viewBox=\"0 0 24 24\"\n",
              "       width=\"24px\">\n",
              "    <path d=\"M0 0h24v24H0V0z\" fill=\"none\"/>\n",
              "    <path d=\"M18.56 5.44l.94 2.06.94-2.06 2.06-.94-2.06-.94-.94-2.06-.94 2.06-2.06.94zm-11 1L8.5 8.5l.94-2.06 2.06-.94-2.06-.94L8.5 2.5l-.94 2.06-2.06.94zm10 10l.94 2.06.94-2.06 2.06-.94-2.06-.94-.94-2.06-.94 2.06-2.06.94z\"/><path d=\"M17.41 7.96l-1.37-1.37c-.4-.4-.92-.59-1.43-.59-.52 0-1.04.2-1.43.59L10.3 9.45l-7.72 7.72c-.78.78-.78 2.05 0 2.83L4 21.41c.39.39.9.59 1.41.59.51 0 1.02-.2 1.41-.59l7.78-7.78 2.81-2.81c.8-.78.8-2.07 0-2.86zM5.41 20L4 18.59l7.72-7.72 1.47 1.35L5.41 20z\"/>\n",
              "  </svg>\n",
              "      </button>\n",
              "      \n",
              "  <style>\n",
              "    .colab-df-container {\n",
              "      display:flex;\n",
              "      flex-wrap:wrap;\n",
              "      gap: 12px;\n",
              "    }\n",
              "\n",
              "    .colab-df-convert {\n",
              "      background-color: #E8F0FE;\n",
              "      border: none;\n",
              "      border-radius: 50%;\n",
              "      cursor: pointer;\n",
              "      display: none;\n",
              "      fill: #1967D2;\n",
              "      height: 32px;\n",
              "      padding: 0 0 0 0;\n",
              "      width: 32px;\n",
              "    }\n",
              "\n",
              "    .colab-df-convert:hover {\n",
              "      background-color: #E2EBFA;\n",
              "      box-shadow: 0px 1px 2px rgba(60, 64, 67, 0.3), 0px 1px 3px 1px rgba(60, 64, 67, 0.15);\n",
              "      fill: #174EA6;\n",
              "    }\n",
              "\n",
              "    [theme=dark] .colab-df-convert {\n",
              "      background-color: #3B4455;\n",
              "      fill: #D2E3FC;\n",
              "    }\n",
              "\n",
              "    [theme=dark] .colab-df-convert:hover {\n",
              "      background-color: #434B5C;\n",
              "      box-shadow: 0px 1px 3px 1px rgba(0, 0, 0, 0.15);\n",
              "      filter: drop-shadow(0px 1px 2px rgba(0, 0, 0, 0.3));\n",
              "      fill: #FFFFFF;\n",
              "    }\n",
              "  </style>\n",
              "\n",
              "      <script>\n",
              "        const buttonEl =\n",
              "          document.querySelector('#df-e235b5ff-9e74-45bd-8a3b-771eb5e4f7b5 button.colab-df-convert');\n",
              "        buttonEl.style.display =\n",
              "          google.colab.kernel.accessAllowed ? 'block' : 'none';\n",
              "\n",
              "        async function convertToInteractive(key) {\n",
              "          const element = document.querySelector('#df-e235b5ff-9e74-45bd-8a3b-771eb5e4f7b5');\n",
              "          const dataTable =\n",
              "            await google.colab.kernel.invokeFunction('convertToInteractive',\n",
              "                                                     [key], {});\n",
              "          if (!dataTable) return;\n",
              "\n",
              "          const docLinkHtml = 'Like what you see? Visit the ' +\n",
              "            '<a target=\"_blank\" href=https://colab.research.google.com/notebooks/data_table.ipynb>data table notebook</a>'\n",
              "            + ' to learn more about interactive tables.';\n",
              "          element.innerHTML = '';\n",
              "          dataTable['output_type'] = 'display_data';\n",
              "          await google.colab.output.renderOutput(dataTable, element);\n",
              "          const docLink = document.createElement('div');\n",
              "          docLink.innerHTML = docLinkHtml;\n",
              "          element.appendChild(docLink);\n",
              "        }\n",
              "      </script>\n",
              "    </div>\n",
              "  </div>\n",
              "  "
            ]
          },
          "metadata": {},
          "execution_count": 12
        }
      ],
      "source": [
        "tokens_c_data.head(3)"
      ]
    },
    {
      "cell_type": "markdown",
      "metadata": {
        "id": "gu6DbTIoA3sD"
      },
      "source": [
        "### Bigrams Processed"
      ]
    },
    {
      "cell_type": "code",
      "execution_count": 13,
      "metadata": {
        "id": "VoDrjFjlA535"
      },
      "outputs": [],
      "source": [
        "# Applying processor function too the uc, c, and cdc datasets, and only grabbing the Bigrams feature\n",
        "bigram_uc_data = pd.DataFrame(processor(uc_data, 'Question')['bigrams'])\n",
        "bigram_c_data = pd.DataFrame(processor(c_data, 'Question')['bigrams'])\n",
        "bigram_cdc_data = pd.DataFrame(processor(cdc_data, 'Question')['bigrams'])\n",
        "\n",
        "# Dropping empty lists in dataframes\n",
        "bigram_uc_data_2 = bigram_uc_data[bigram_uc_data['bigrams'].map(len) > 0]\n",
        "bigram_c_data_2 = bigram_c_data[bigram_c_data['bigrams'].map(len) > 0]\n",
        "bigram_cdc_data_2 = bigram_cdc_data[bigram_cdc_data['bigrams'].map(len) > 0]\n",
        "\n",
        "# Concatenating classified datasets: classified OH and CDC datasets\n",
        "bigram_classified_data = pd.concat([bigram_c_data_2, bigram_cdc_data_2])"
      ]
    },
    {
      "cell_type": "code",
      "execution_count": 14,
      "metadata": {
        "colab": {
          "base_uri": "https://localhost:8080/",
          "height": 143
        },
        "id": "YuYnvEZqA2Ak",
        "outputId": "d2b84561-bb0d-4294-d22d-34da3d73e7a9"
      },
      "outputs": [
        {
          "output_type": "execute_result",
          "data": {
            "text/plain": [
              "                                             bigrams\n",
              "0                                     [(age, group)]\n",
              "2  [(thinking, discomfort), (discomfort, consumin...\n",
              "3  [(think, diagnosed), (diagnosed, doctor), (doc..."
            ],
            "text/html": [
              "\n",
              "  <div id=\"df-dac6b349-637f-4dd3-868d-7e998935a63b\">\n",
              "    <div class=\"colab-df-container\">\n",
              "      <div>\n",
              "<style scoped>\n",
              "    .dataframe tbody tr th:only-of-type {\n",
              "        vertical-align: middle;\n",
              "    }\n",
              "\n",
              "    .dataframe tbody tr th {\n",
              "        vertical-align: top;\n",
              "    }\n",
              "\n",
              "    .dataframe thead th {\n",
              "        text-align: right;\n",
              "    }\n",
              "</style>\n",
              "<table border=\"1\" class=\"dataframe\">\n",
              "  <thead>\n",
              "    <tr style=\"text-align: right;\">\n",
              "      <th></th>\n",
              "      <th>bigrams</th>\n",
              "    </tr>\n",
              "  </thead>\n",
              "  <tbody>\n",
              "    <tr>\n",
              "      <th>0</th>\n",
              "      <td>[(age, group)]</td>\n",
              "    </tr>\n",
              "    <tr>\n",
              "      <th>2</th>\n",
              "      <td>[(thinking, discomfort), (discomfort, consumin...</td>\n",
              "    </tr>\n",
              "    <tr>\n",
              "      <th>3</th>\n",
              "      <td>[(think, diagnosed), (diagnosed, doctor), (doc...</td>\n",
              "    </tr>\n",
              "  </tbody>\n",
              "</table>\n",
              "</div>\n",
              "      <button class=\"colab-df-convert\" onclick=\"convertToInteractive('df-dac6b349-637f-4dd3-868d-7e998935a63b')\"\n",
              "              title=\"Convert this dataframe to an interactive table.\"\n",
              "              style=\"display:none;\">\n",
              "        \n",
              "  <svg xmlns=\"http://www.w3.org/2000/svg\" height=\"24px\"viewBox=\"0 0 24 24\"\n",
              "       width=\"24px\">\n",
              "    <path d=\"M0 0h24v24H0V0z\" fill=\"none\"/>\n",
              "    <path d=\"M18.56 5.44l.94 2.06.94-2.06 2.06-.94-2.06-.94-.94-2.06-.94 2.06-2.06.94zm-11 1L8.5 8.5l.94-2.06 2.06-.94-2.06-.94L8.5 2.5l-.94 2.06-2.06.94zm10 10l.94 2.06.94-2.06 2.06-.94-2.06-.94-.94-2.06-.94 2.06-2.06.94z\"/><path d=\"M17.41 7.96l-1.37-1.37c-.4-.4-.92-.59-1.43-.59-.52 0-1.04.2-1.43.59L10.3 9.45l-7.72 7.72c-.78.78-.78 2.05 0 2.83L4 21.41c.39.39.9.59 1.41.59.51 0 1.02-.2 1.41-.59l7.78-7.78 2.81-2.81c.8-.78.8-2.07 0-2.86zM5.41 20L4 18.59l7.72-7.72 1.47 1.35L5.41 20z\"/>\n",
              "  </svg>\n",
              "      </button>\n",
              "      \n",
              "  <style>\n",
              "    .colab-df-container {\n",
              "      display:flex;\n",
              "      flex-wrap:wrap;\n",
              "      gap: 12px;\n",
              "    }\n",
              "\n",
              "    .colab-df-convert {\n",
              "      background-color: #E8F0FE;\n",
              "      border: none;\n",
              "      border-radius: 50%;\n",
              "      cursor: pointer;\n",
              "      display: none;\n",
              "      fill: #1967D2;\n",
              "      height: 32px;\n",
              "      padding: 0 0 0 0;\n",
              "      width: 32px;\n",
              "    }\n",
              "\n",
              "    .colab-df-convert:hover {\n",
              "      background-color: #E2EBFA;\n",
              "      box-shadow: 0px 1px 2px rgba(60, 64, 67, 0.3), 0px 1px 3px 1px rgba(60, 64, 67, 0.15);\n",
              "      fill: #174EA6;\n",
              "    }\n",
              "\n",
              "    [theme=dark] .colab-df-convert {\n",
              "      background-color: #3B4455;\n",
              "      fill: #D2E3FC;\n",
              "    }\n",
              "\n",
              "    [theme=dark] .colab-df-convert:hover {\n",
              "      background-color: #434B5C;\n",
              "      box-shadow: 0px 1px 3px 1px rgba(0, 0, 0, 0.15);\n",
              "      filter: drop-shadow(0px 1px 2px rgba(0, 0, 0, 0.3));\n",
              "      fill: #FFFFFF;\n",
              "    }\n",
              "  </style>\n",
              "\n",
              "      <script>\n",
              "        const buttonEl =\n",
              "          document.querySelector('#df-dac6b349-637f-4dd3-868d-7e998935a63b button.colab-df-convert');\n",
              "        buttonEl.style.display =\n",
              "          google.colab.kernel.accessAllowed ? 'block' : 'none';\n",
              "\n",
              "        async function convertToInteractive(key) {\n",
              "          const element = document.querySelector('#df-dac6b349-637f-4dd3-868d-7e998935a63b');\n",
              "          const dataTable =\n",
              "            await google.colab.kernel.invokeFunction('convertToInteractive',\n",
              "                                                     [key], {});\n",
              "          if (!dataTable) return;\n",
              "\n",
              "          const docLinkHtml = 'Like what you see? Visit the ' +\n",
              "            '<a target=\"_blank\" href=https://colab.research.google.com/notebooks/data_table.ipynb>data table notebook</a>'\n",
              "            + ' to learn more about interactive tables.';\n",
              "          element.innerHTML = '';\n",
              "          dataTable['output_type'] = 'display_data';\n",
              "          await google.colab.output.renderOutput(dataTable, element);\n",
              "          const docLink = document.createElement('div');\n",
              "          docLink.innerHTML = docLinkHtml;\n",
              "          element.appendChild(docLink);\n",
              "        }\n",
              "      </script>\n",
              "    </div>\n",
              "  </div>\n",
              "  "
            ]
          },
          "metadata": {},
          "execution_count": 14
        }
      ],
      "source": [
        "bigram_c_data_2.head(3)"
      ]
    },
    {
      "cell_type": "markdown",
      "metadata": {
        "id": "60M2IUE98WVK"
      },
      "source": [
        "### Lemma Processed\n"
      ]
    },
    {
      "cell_type": "code",
      "execution_count": 15,
      "metadata": {
        "id": "Zudt-8OF6Iis"
      },
      "outputs": [],
      "source": [
        "# Applying processor function too the uc, c, and cdc datasets, and only grabbing the Lemma feature\n",
        "lemma_uc_data = pd.DataFrame(processor(uc_data, 'Question')['lemma'])\n",
        "lemma_c_data = pd.DataFrame(processor(c_data, 'Question')['lemma'])\n",
        "lemma_cdc_data = pd.DataFrame(processor(cdc_data, 'Question')['lemma'])\n",
        "\n",
        "# Data in index 1, axis 0 for uc dataset was an empty list, so manually dropping it\n",
        "lemma_uc_data = lemma_uc_data.drop(index=1)\n",
        "\n",
        "# Concatenating classified datasets: classified OH and CDC datasets\n",
        "lemma_classified_data = pd.concat([lemma_c_data, lemma_cdc_data])"
      ]
    },
    {
      "cell_type": "code",
      "execution_count": 16,
      "metadata": {
        "colab": {
          "base_uri": "https://localhost:8080/",
          "height": 143
        },
        "collapsed": true,
        "id": "SXf3rTPE8h6U",
        "outputId": "b98c3be7-24e9-489e-c72e-09ff44566aa9"
      },
      "outputs": [
        {
          "output_type": "execute_result",
          "data": {
            "text/plain": [
              "                                               lemma\n",
              "0                                       [age, group]\n",
              "1                                           [gender]\n",
              "2  [thinking, discomfort, consuming, wheat, whole..."
            ],
            "text/html": [
              "\n",
              "  <div id=\"df-09e7301e-8cb5-4d8f-9e3c-286957024543\">\n",
              "    <div class=\"colab-df-container\">\n",
              "      <div>\n",
              "<style scoped>\n",
              "    .dataframe tbody tr th:only-of-type {\n",
              "        vertical-align: middle;\n",
              "    }\n",
              "\n",
              "    .dataframe tbody tr th {\n",
              "        vertical-align: top;\n",
              "    }\n",
              "\n",
              "    .dataframe thead th {\n",
              "        text-align: right;\n",
              "    }\n",
              "</style>\n",
              "<table border=\"1\" class=\"dataframe\">\n",
              "  <thead>\n",
              "    <tr style=\"text-align: right;\">\n",
              "      <th></th>\n",
              "      <th>lemma</th>\n",
              "    </tr>\n",
              "  </thead>\n",
              "  <tbody>\n",
              "    <tr>\n",
              "      <th>0</th>\n",
              "      <td>[age, group]</td>\n",
              "    </tr>\n",
              "    <tr>\n",
              "      <th>1</th>\n",
              "      <td>[gender]</td>\n",
              "    </tr>\n",
              "    <tr>\n",
              "      <th>2</th>\n",
              "      <td>[thinking, discomfort, consuming, wheat, whole...</td>\n",
              "    </tr>\n",
              "  </tbody>\n",
              "</table>\n",
              "</div>\n",
              "      <button class=\"colab-df-convert\" onclick=\"convertToInteractive('df-09e7301e-8cb5-4d8f-9e3c-286957024543')\"\n",
              "              title=\"Convert this dataframe to an interactive table.\"\n",
              "              style=\"display:none;\">\n",
              "        \n",
              "  <svg xmlns=\"http://www.w3.org/2000/svg\" height=\"24px\"viewBox=\"0 0 24 24\"\n",
              "       width=\"24px\">\n",
              "    <path d=\"M0 0h24v24H0V0z\" fill=\"none\"/>\n",
              "    <path d=\"M18.56 5.44l.94 2.06.94-2.06 2.06-.94-2.06-.94-.94-2.06-.94 2.06-2.06.94zm-11 1L8.5 8.5l.94-2.06 2.06-.94-2.06-.94L8.5 2.5l-.94 2.06-2.06.94zm10 10l.94 2.06.94-2.06 2.06-.94-2.06-.94-.94-2.06-.94 2.06-2.06.94z\"/><path d=\"M17.41 7.96l-1.37-1.37c-.4-.4-.92-.59-1.43-.59-.52 0-1.04.2-1.43.59L10.3 9.45l-7.72 7.72c-.78.78-.78 2.05 0 2.83L4 21.41c.39.39.9.59 1.41.59.51 0 1.02-.2 1.41-.59l7.78-7.78 2.81-2.81c.8-.78.8-2.07 0-2.86zM5.41 20L4 18.59l7.72-7.72 1.47 1.35L5.41 20z\"/>\n",
              "  </svg>\n",
              "      </button>\n",
              "      \n",
              "  <style>\n",
              "    .colab-df-container {\n",
              "      display:flex;\n",
              "      flex-wrap:wrap;\n",
              "      gap: 12px;\n",
              "    }\n",
              "\n",
              "    .colab-df-convert {\n",
              "      background-color: #E8F0FE;\n",
              "      border: none;\n",
              "      border-radius: 50%;\n",
              "      cursor: pointer;\n",
              "      display: none;\n",
              "      fill: #1967D2;\n",
              "      height: 32px;\n",
              "      padding: 0 0 0 0;\n",
              "      width: 32px;\n",
              "    }\n",
              "\n",
              "    .colab-df-convert:hover {\n",
              "      background-color: #E2EBFA;\n",
              "      box-shadow: 0px 1px 2px rgba(60, 64, 67, 0.3), 0px 1px 3px 1px rgba(60, 64, 67, 0.15);\n",
              "      fill: #174EA6;\n",
              "    }\n",
              "\n",
              "    [theme=dark] .colab-df-convert {\n",
              "      background-color: #3B4455;\n",
              "      fill: #D2E3FC;\n",
              "    }\n",
              "\n",
              "    [theme=dark] .colab-df-convert:hover {\n",
              "      background-color: #434B5C;\n",
              "      box-shadow: 0px 1px 3px 1px rgba(0, 0, 0, 0.15);\n",
              "      filter: drop-shadow(0px 1px 2px rgba(0, 0, 0, 0.3));\n",
              "      fill: #FFFFFF;\n",
              "    }\n",
              "  </style>\n",
              "\n",
              "      <script>\n",
              "        const buttonEl =\n",
              "          document.querySelector('#df-09e7301e-8cb5-4d8f-9e3c-286957024543 button.colab-df-convert');\n",
              "        buttonEl.style.display =\n",
              "          google.colab.kernel.accessAllowed ? 'block' : 'none';\n",
              "\n",
              "        async function convertToInteractive(key) {\n",
              "          const element = document.querySelector('#df-09e7301e-8cb5-4d8f-9e3c-286957024543');\n",
              "          const dataTable =\n",
              "            await google.colab.kernel.invokeFunction('convertToInteractive',\n",
              "                                                     [key], {});\n",
              "          if (!dataTable) return;\n",
              "\n",
              "          const docLinkHtml = 'Like what you see? Visit the ' +\n",
              "            '<a target=\"_blank\" href=https://colab.research.google.com/notebooks/data_table.ipynb>data table notebook</a>'\n",
              "            + ' to learn more about interactive tables.';\n",
              "          element.innerHTML = '';\n",
              "          dataTable['output_type'] = 'display_data';\n",
              "          await google.colab.output.renderOutput(dataTable, element);\n",
              "          const docLink = document.createElement('div');\n",
              "          docLink.innerHTML = docLinkHtml;\n",
              "          element.appendChild(docLink);\n",
              "        }\n",
              "      </script>\n",
              "    </div>\n",
              "  </div>\n",
              "  "
            ]
          },
          "metadata": {},
          "execution_count": 16
        }
      ],
      "source": [
        "lemma_c_data.head(3)"
      ]
    },
    {
      "cell_type": "markdown",
      "metadata": {
        "id": "0MR3aHVg_tGK"
      },
      "source": [
        "### Porter Processed"
      ]
    },
    {
      "cell_type": "code",
      "execution_count": 17,
      "metadata": {
        "id": "wmeJn5FQ-bly"
      },
      "outputs": [],
      "source": [
        "# Applying processor function too the uc, c, and cdc datasets, and only grabbing the Porter Stem feature\n",
        "porter_uc_data = pd.DataFrame(processor(uc_data, 'Question')['porter stem'])\n",
        "porter_c_data = pd.DataFrame(processor(c_data, 'Question')['porter stem'])\n",
        "porter_cdc_data = pd.DataFrame(processor(cdc_data, 'Question')['porter stem'])\n",
        "\n",
        "# Data in index 1, axis 0 for uc dataset was an empty list, so manually dropping it\n",
        "porter_uc_data = porter_uc_data.drop(index=1)\n",
        "\n",
        "# Concatenating classified datasets: classified OH and CDC datasets\n",
        "porter_classified_data = pd.concat([porter_c_data, porter_cdc_data])"
      ]
    },
    {
      "cell_type": "code",
      "execution_count": 18,
      "metadata": {
        "colab": {
          "base_uri": "https://localhost:8080/",
          "height": 143
        },
        "collapsed": true,
        "id": "C1t93N9l-boF",
        "outputId": "a3918651-9180-4f4a-c464-c6e2bc05c400"
      },
      "outputs": [
        {
          "output_type": "execute_result",
          "data": {
            "text/plain": [
              "                                         porter stem\n",
              "0                                       [age, group]\n",
              "1                                           [gender]\n",
              "2  [think, discomfort, consum, wheat, whole, grai..."
            ],
            "text/html": [
              "\n",
              "  <div id=\"df-bac9b2b1-e44e-4ba5-809b-29527e241e3f\">\n",
              "    <div class=\"colab-df-container\">\n",
              "      <div>\n",
              "<style scoped>\n",
              "    .dataframe tbody tr th:only-of-type {\n",
              "        vertical-align: middle;\n",
              "    }\n",
              "\n",
              "    .dataframe tbody tr th {\n",
              "        vertical-align: top;\n",
              "    }\n",
              "\n",
              "    .dataframe thead th {\n",
              "        text-align: right;\n",
              "    }\n",
              "</style>\n",
              "<table border=\"1\" class=\"dataframe\">\n",
              "  <thead>\n",
              "    <tr style=\"text-align: right;\">\n",
              "      <th></th>\n",
              "      <th>porter stem</th>\n",
              "    </tr>\n",
              "  </thead>\n",
              "  <tbody>\n",
              "    <tr>\n",
              "      <th>0</th>\n",
              "      <td>[age, group]</td>\n",
              "    </tr>\n",
              "    <tr>\n",
              "      <th>1</th>\n",
              "      <td>[gender]</td>\n",
              "    </tr>\n",
              "    <tr>\n",
              "      <th>2</th>\n",
              "      <td>[think, discomfort, consum, wheat, whole, grai...</td>\n",
              "    </tr>\n",
              "  </tbody>\n",
              "</table>\n",
              "</div>\n",
              "      <button class=\"colab-df-convert\" onclick=\"convertToInteractive('df-bac9b2b1-e44e-4ba5-809b-29527e241e3f')\"\n",
              "              title=\"Convert this dataframe to an interactive table.\"\n",
              "              style=\"display:none;\">\n",
              "        \n",
              "  <svg xmlns=\"http://www.w3.org/2000/svg\" height=\"24px\"viewBox=\"0 0 24 24\"\n",
              "       width=\"24px\">\n",
              "    <path d=\"M0 0h24v24H0V0z\" fill=\"none\"/>\n",
              "    <path d=\"M18.56 5.44l.94 2.06.94-2.06 2.06-.94-2.06-.94-.94-2.06-.94 2.06-2.06.94zm-11 1L8.5 8.5l.94-2.06 2.06-.94-2.06-.94L8.5 2.5l-.94 2.06-2.06.94zm10 10l.94 2.06.94-2.06 2.06-.94-2.06-.94-.94-2.06-.94 2.06-2.06.94z\"/><path d=\"M17.41 7.96l-1.37-1.37c-.4-.4-.92-.59-1.43-.59-.52 0-1.04.2-1.43.59L10.3 9.45l-7.72 7.72c-.78.78-.78 2.05 0 2.83L4 21.41c.39.39.9.59 1.41.59.51 0 1.02-.2 1.41-.59l7.78-7.78 2.81-2.81c.8-.78.8-2.07 0-2.86zM5.41 20L4 18.59l7.72-7.72 1.47 1.35L5.41 20z\"/>\n",
              "  </svg>\n",
              "      </button>\n",
              "      \n",
              "  <style>\n",
              "    .colab-df-container {\n",
              "      display:flex;\n",
              "      flex-wrap:wrap;\n",
              "      gap: 12px;\n",
              "    }\n",
              "\n",
              "    .colab-df-convert {\n",
              "      background-color: #E8F0FE;\n",
              "      border: none;\n",
              "      border-radius: 50%;\n",
              "      cursor: pointer;\n",
              "      display: none;\n",
              "      fill: #1967D2;\n",
              "      height: 32px;\n",
              "      padding: 0 0 0 0;\n",
              "      width: 32px;\n",
              "    }\n",
              "\n",
              "    .colab-df-convert:hover {\n",
              "      background-color: #E2EBFA;\n",
              "      box-shadow: 0px 1px 2px rgba(60, 64, 67, 0.3), 0px 1px 3px 1px rgba(60, 64, 67, 0.15);\n",
              "      fill: #174EA6;\n",
              "    }\n",
              "\n",
              "    [theme=dark] .colab-df-convert {\n",
              "      background-color: #3B4455;\n",
              "      fill: #D2E3FC;\n",
              "    }\n",
              "\n",
              "    [theme=dark] .colab-df-convert:hover {\n",
              "      background-color: #434B5C;\n",
              "      box-shadow: 0px 1px 3px 1px rgba(0, 0, 0, 0.15);\n",
              "      filter: drop-shadow(0px 1px 2px rgba(0, 0, 0, 0.3));\n",
              "      fill: #FFFFFF;\n",
              "    }\n",
              "  </style>\n",
              "\n",
              "      <script>\n",
              "        const buttonEl =\n",
              "          document.querySelector('#df-bac9b2b1-e44e-4ba5-809b-29527e241e3f button.colab-df-convert');\n",
              "        buttonEl.style.display =\n",
              "          google.colab.kernel.accessAllowed ? 'block' : 'none';\n",
              "\n",
              "        async function convertToInteractive(key) {\n",
              "          const element = document.querySelector('#df-bac9b2b1-e44e-4ba5-809b-29527e241e3f');\n",
              "          const dataTable =\n",
              "            await google.colab.kernel.invokeFunction('convertToInteractive',\n",
              "                                                     [key], {});\n",
              "          if (!dataTable) return;\n",
              "\n",
              "          const docLinkHtml = 'Like what you see? Visit the ' +\n",
              "            '<a target=\"_blank\" href=https://colab.research.google.com/notebooks/data_table.ipynb>data table notebook</a>'\n",
              "            + ' to learn more about interactive tables.';\n",
              "          element.innerHTML = '';\n",
              "          dataTable['output_type'] = 'display_data';\n",
              "          await google.colab.output.renderOutput(dataTable, element);\n",
              "          const docLink = document.createElement('div');\n",
              "          docLink.innerHTML = docLinkHtml;\n",
              "          element.appendChild(docLink);\n",
              "        }\n",
              "      </script>\n",
              "    </div>\n",
              "  </div>\n",
              "  "
            ]
          },
          "metadata": {},
          "execution_count": 18
        }
      ],
      "source": [
        "porter_c_data.head(3)"
      ]
    },
    {
      "cell_type": "markdown",
      "metadata": {
        "id": "_dk6jKpamqt3"
      },
      "source": [
        "### Lancaster Processed"
      ]
    },
    {
      "cell_type": "code",
      "execution_count": 19,
      "metadata": {
        "id": "Cigztho9mq1K"
      },
      "outputs": [],
      "source": [
        "# Applying processor function too the uc, c, and cdc datasets, and only grabbing the Lancaster Stem feature\n",
        "lancaster_uc_data = pd.DataFrame(processor(uc_data, 'Question')['lancaster stem'])\n",
        "lancaster_c_data = pd.DataFrame(processor(c_data, 'Question')['lancaster stem'])\n",
        "lancaster_cdc_data = pd.DataFrame(processor(cdc_data, 'Question')['lancaster stem'])\n",
        "\n",
        "# Data in index 1, axis 0 for uc dataset was an empty list, so manually dropping it\n",
        "lancaster_uc_data = lancaster_uc_data.drop(index=1)\n",
        "\n",
        "# Concatenating classified datasets: classified OH and CDC datasets\n",
        "lancaster_classified_data = pd.concat([lancaster_c_data, lancaster_cdc_data])"
      ]
    },
    {
      "cell_type": "code",
      "execution_count": 20,
      "metadata": {
        "colab": {
          "base_uri": "https://localhost:8080/",
          "height": 143
        },
        "collapsed": true,
        "id": "dAllQJzam4gs",
        "outputId": "e84c6121-c548-4abc-bd4a-a2d133a7e3cb"
      },
      "outputs": [
        {
          "output_type": "execute_result",
          "data": {
            "text/plain": [
              "                                      lancaster stem\n",
              "0                                        [ag, group]\n",
              "1                                             [gend]\n",
              "2  [think, discomfort, consum, whe, whol, grain, ..."
            ],
            "text/html": [
              "\n",
              "  <div id=\"df-41737ea2-eb02-48be-a4f3-e6f063ad8838\">\n",
              "    <div class=\"colab-df-container\">\n",
              "      <div>\n",
              "<style scoped>\n",
              "    .dataframe tbody tr th:only-of-type {\n",
              "        vertical-align: middle;\n",
              "    }\n",
              "\n",
              "    .dataframe tbody tr th {\n",
              "        vertical-align: top;\n",
              "    }\n",
              "\n",
              "    .dataframe thead th {\n",
              "        text-align: right;\n",
              "    }\n",
              "</style>\n",
              "<table border=\"1\" class=\"dataframe\">\n",
              "  <thead>\n",
              "    <tr style=\"text-align: right;\">\n",
              "      <th></th>\n",
              "      <th>lancaster stem</th>\n",
              "    </tr>\n",
              "  </thead>\n",
              "  <tbody>\n",
              "    <tr>\n",
              "      <th>0</th>\n",
              "      <td>[ag, group]</td>\n",
              "    </tr>\n",
              "    <tr>\n",
              "      <th>1</th>\n",
              "      <td>[gend]</td>\n",
              "    </tr>\n",
              "    <tr>\n",
              "      <th>2</th>\n",
              "      <td>[think, discomfort, consum, whe, whol, grain, ...</td>\n",
              "    </tr>\n",
              "  </tbody>\n",
              "</table>\n",
              "</div>\n",
              "      <button class=\"colab-df-convert\" onclick=\"convertToInteractive('df-41737ea2-eb02-48be-a4f3-e6f063ad8838')\"\n",
              "              title=\"Convert this dataframe to an interactive table.\"\n",
              "              style=\"display:none;\">\n",
              "        \n",
              "  <svg xmlns=\"http://www.w3.org/2000/svg\" height=\"24px\"viewBox=\"0 0 24 24\"\n",
              "       width=\"24px\">\n",
              "    <path d=\"M0 0h24v24H0V0z\" fill=\"none\"/>\n",
              "    <path d=\"M18.56 5.44l.94 2.06.94-2.06 2.06-.94-2.06-.94-.94-2.06-.94 2.06-2.06.94zm-11 1L8.5 8.5l.94-2.06 2.06-.94-2.06-.94L8.5 2.5l-.94 2.06-2.06.94zm10 10l.94 2.06.94-2.06 2.06-.94-2.06-.94-.94-2.06-.94 2.06-2.06.94z\"/><path d=\"M17.41 7.96l-1.37-1.37c-.4-.4-.92-.59-1.43-.59-.52 0-1.04.2-1.43.59L10.3 9.45l-7.72 7.72c-.78.78-.78 2.05 0 2.83L4 21.41c.39.39.9.59 1.41.59.51 0 1.02-.2 1.41-.59l7.78-7.78 2.81-2.81c.8-.78.8-2.07 0-2.86zM5.41 20L4 18.59l7.72-7.72 1.47 1.35L5.41 20z\"/>\n",
              "  </svg>\n",
              "      </button>\n",
              "      \n",
              "  <style>\n",
              "    .colab-df-container {\n",
              "      display:flex;\n",
              "      flex-wrap:wrap;\n",
              "      gap: 12px;\n",
              "    }\n",
              "\n",
              "    .colab-df-convert {\n",
              "      background-color: #E8F0FE;\n",
              "      border: none;\n",
              "      border-radius: 50%;\n",
              "      cursor: pointer;\n",
              "      display: none;\n",
              "      fill: #1967D2;\n",
              "      height: 32px;\n",
              "      padding: 0 0 0 0;\n",
              "      width: 32px;\n",
              "    }\n",
              "\n",
              "    .colab-df-convert:hover {\n",
              "      background-color: #E2EBFA;\n",
              "      box-shadow: 0px 1px 2px rgba(60, 64, 67, 0.3), 0px 1px 3px 1px rgba(60, 64, 67, 0.15);\n",
              "      fill: #174EA6;\n",
              "    }\n",
              "\n",
              "    [theme=dark] .colab-df-convert {\n",
              "      background-color: #3B4455;\n",
              "      fill: #D2E3FC;\n",
              "    }\n",
              "\n",
              "    [theme=dark] .colab-df-convert:hover {\n",
              "      background-color: #434B5C;\n",
              "      box-shadow: 0px 1px 3px 1px rgba(0, 0, 0, 0.15);\n",
              "      filter: drop-shadow(0px 1px 2px rgba(0, 0, 0, 0.3));\n",
              "      fill: #FFFFFF;\n",
              "    }\n",
              "  </style>\n",
              "\n",
              "      <script>\n",
              "        const buttonEl =\n",
              "          document.querySelector('#df-41737ea2-eb02-48be-a4f3-e6f063ad8838 button.colab-df-convert');\n",
              "        buttonEl.style.display =\n",
              "          google.colab.kernel.accessAllowed ? 'block' : 'none';\n",
              "\n",
              "        async function convertToInteractive(key) {\n",
              "          const element = document.querySelector('#df-41737ea2-eb02-48be-a4f3-e6f063ad8838');\n",
              "          const dataTable =\n",
              "            await google.colab.kernel.invokeFunction('convertToInteractive',\n",
              "                                                     [key], {});\n",
              "          if (!dataTable) return;\n",
              "\n",
              "          const docLinkHtml = 'Like what you see? Visit the ' +\n",
              "            '<a target=\"_blank\" href=https://colab.research.google.com/notebooks/data_table.ipynb>data table notebook</a>'\n",
              "            + ' to learn more about interactive tables.';\n",
              "          element.innerHTML = '';\n",
              "          dataTable['output_type'] = 'display_data';\n",
              "          await google.colab.output.renderOutput(dataTable, element);\n",
              "          const docLink = document.createElement('div');\n",
              "          docLink.innerHTML = docLinkHtml;\n",
              "          element.appendChild(docLink);\n",
              "        }\n",
              "      </script>\n",
              "    </div>\n",
              "  </div>\n",
              "  "
            ]
          },
          "metadata": {},
          "execution_count": 20
        }
      ],
      "source": [
        "lancaster_c_data.head(3)"
      ]
    },
    {
      "cell_type": "markdown",
      "metadata": {
        "id": "irGj0LXE_lSQ"
      },
      "source": [
        "### Postag Processed"
      ]
    },
    {
      "cell_type": "code",
      "execution_count": 21,
      "metadata": {
        "id": "oJUzHBpq_lea"
      },
      "outputs": [],
      "source": [
        "# Applying processor function too the uc, c, and cdc datasets, and only grabbing the Postag feature\n",
        "postag_uc_data = pd.DataFrame(processor(uc_data, 'Question')['postag'])\n",
        "postag_c_data = pd.DataFrame(processor(c_data, 'Question')['postag'])\n",
        "postag_cdc_data = pd.DataFrame(processor(cdc_data, 'Question')['postag'])\n",
        "\n",
        "# Data in index 1, axis 0 for uc dataset was an empty list, so manually dropping it\n",
        "postag_uc_data = postag_uc_data.drop(index=1)\n",
        "\n",
        "# Concatenating classified datasets: classified OH and CDC datasets\n",
        "postag_classified_data = pd.concat([postag_c_data, postag_cdc_data])"
      ]
    },
    {
      "cell_type": "code",
      "execution_count": 22,
      "metadata": {
        "colab": {
          "base_uri": "https://localhost:8080/",
          "height": 143
        },
        "collapsed": true,
        "id": "vTQD9tpB_n7s",
        "outputId": "40fba16d-db91-4cbc-9bf5-b55f28752a29"
      },
      "outputs": [
        {
          "output_type": "execute_result",
          "data": {
            "text/plain": [
              "                                              postag\n",
              "0                           [(age, NN), (group, NN)]\n",
              "1                                     [(gender, NN)]\n",
              "2  [(thinking, VBG), (discomfort, NN), (consuming..."
            ],
            "text/html": [
              "\n",
              "  <div id=\"df-f66ed91e-2bb8-43ba-b3b0-9827a615fbc5\">\n",
              "    <div class=\"colab-df-container\">\n",
              "      <div>\n",
              "<style scoped>\n",
              "    .dataframe tbody tr th:only-of-type {\n",
              "        vertical-align: middle;\n",
              "    }\n",
              "\n",
              "    .dataframe tbody tr th {\n",
              "        vertical-align: top;\n",
              "    }\n",
              "\n",
              "    .dataframe thead th {\n",
              "        text-align: right;\n",
              "    }\n",
              "</style>\n",
              "<table border=\"1\" class=\"dataframe\">\n",
              "  <thead>\n",
              "    <tr style=\"text-align: right;\">\n",
              "      <th></th>\n",
              "      <th>postag</th>\n",
              "    </tr>\n",
              "  </thead>\n",
              "  <tbody>\n",
              "    <tr>\n",
              "      <th>0</th>\n",
              "      <td>[(age, NN), (group, NN)]</td>\n",
              "    </tr>\n",
              "    <tr>\n",
              "      <th>1</th>\n",
              "      <td>[(gender, NN)]</td>\n",
              "    </tr>\n",
              "    <tr>\n",
              "      <th>2</th>\n",
              "      <td>[(thinking, VBG), (discomfort, NN), (consuming...</td>\n",
              "    </tr>\n",
              "  </tbody>\n",
              "</table>\n",
              "</div>\n",
              "      <button class=\"colab-df-convert\" onclick=\"convertToInteractive('df-f66ed91e-2bb8-43ba-b3b0-9827a615fbc5')\"\n",
              "              title=\"Convert this dataframe to an interactive table.\"\n",
              "              style=\"display:none;\">\n",
              "        \n",
              "  <svg xmlns=\"http://www.w3.org/2000/svg\" height=\"24px\"viewBox=\"0 0 24 24\"\n",
              "       width=\"24px\">\n",
              "    <path d=\"M0 0h24v24H0V0z\" fill=\"none\"/>\n",
              "    <path d=\"M18.56 5.44l.94 2.06.94-2.06 2.06-.94-2.06-.94-.94-2.06-.94 2.06-2.06.94zm-11 1L8.5 8.5l.94-2.06 2.06-.94-2.06-.94L8.5 2.5l-.94 2.06-2.06.94zm10 10l.94 2.06.94-2.06 2.06-.94-2.06-.94-.94-2.06-.94 2.06-2.06.94z\"/><path d=\"M17.41 7.96l-1.37-1.37c-.4-.4-.92-.59-1.43-.59-.52 0-1.04.2-1.43.59L10.3 9.45l-7.72 7.72c-.78.78-.78 2.05 0 2.83L4 21.41c.39.39.9.59 1.41.59.51 0 1.02-.2 1.41-.59l7.78-7.78 2.81-2.81c.8-.78.8-2.07 0-2.86zM5.41 20L4 18.59l7.72-7.72 1.47 1.35L5.41 20z\"/>\n",
              "  </svg>\n",
              "      </button>\n",
              "      \n",
              "  <style>\n",
              "    .colab-df-container {\n",
              "      display:flex;\n",
              "      flex-wrap:wrap;\n",
              "      gap: 12px;\n",
              "    }\n",
              "\n",
              "    .colab-df-convert {\n",
              "      background-color: #E8F0FE;\n",
              "      border: none;\n",
              "      border-radius: 50%;\n",
              "      cursor: pointer;\n",
              "      display: none;\n",
              "      fill: #1967D2;\n",
              "      height: 32px;\n",
              "      padding: 0 0 0 0;\n",
              "      width: 32px;\n",
              "    }\n",
              "\n",
              "    .colab-df-convert:hover {\n",
              "      background-color: #E2EBFA;\n",
              "      box-shadow: 0px 1px 2px rgba(60, 64, 67, 0.3), 0px 1px 3px 1px rgba(60, 64, 67, 0.15);\n",
              "      fill: #174EA6;\n",
              "    }\n",
              "\n",
              "    [theme=dark] .colab-df-convert {\n",
              "      background-color: #3B4455;\n",
              "      fill: #D2E3FC;\n",
              "    }\n",
              "\n",
              "    [theme=dark] .colab-df-convert:hover {\n",
              "      background-color: #434B5C;\n",
              "      box-shadow: 0px 1px 3px 1px rgba(0, 0, 0, 0.15);\n",
              "      filter: drop-shadow(0px 1px 2px rgba(0, 0, 0, 0.3));\n",
              "      fill: #FFFFFF;\n",
              "    }\n",
              "  </style>\n",
              "\n",
              "      <script>\n",
              "        const buttonEl =\n",
              "          document.querySelector('#df-f66ed91e-2bb8-43ba-b3b0-9827a615fbc5 button.colab-df-convert');\n",
              "        buttonEl.style.display =\n",
              "          google.colab.kernel.accessAllowed ? 'block' : 'none';\n",
              "\n",
              "        async function convertToInteractive(key) {\n",
              "          const element = document.querySelector('#df-f66ed91e-2bb8-43ba-b3b0-9827a615fbc5');\n",
              "          const dataTable =\n",
              "            await google.colab.kernel.invokeFunction('convertToInteractive',\n",
              "                                                     [key], {});\n",
              "          if (!dataTable) return;\n",
              "\n",
              "          const docLinkHtml = 'Like what you see? Visit the ' +\n",
              "            '<a target=\"_blank\" href=https://colab.research.google.com/notebooks/data_table.ipynb>data table notebook</a>'\n",
              "            + ' to learn more about interactive tables.';\n",
              "          element.innerHTML = '';\n",
              "          dataTable['output_type'] = 'display_data';\n",
              "          await google.colab.output.renderOutput(dataTable, element);\n",
              "          const docLink = document.createElement('div');\n",
              "          docLink.innerHTML = docLinkHtml;\n",
              "          element.appendChild(docLink);\n",
              "        }\n",
              "      </script>\n",
              "    </div>\n",
              "  </div>\n",
              "  "
            ]
          },
          "metadata": {},
          "execution_count": 22
        }
      ],
      "source": [
        "postag_c_data.head(3)"
      ]
    },
    {
      "cell_type": "markdown",
      "metadata": {
        "id": "5G5KBr_vPxnv"
      },
      "source": [
        "# **List Builder**"
      ]
    },
    {
      "cell_type": "code",
      "execution_count": 23,
      "metadata": {
        "id": "Uoh5qB7Ro49j"
      },
      "outputs": [],
      "source": [
        "# Function to create one long list of separate sentences that are all of type string so that I can use them as inputs for my model\n",
        "\n",
        "# Function takes in two parameters: data as a dataframe; feature as the column of the dataframe\n",
        "def list_builder(data, feature):\n",
        "    data = data[feature] # Variable to hold the specific feature of the dataframe\n",
        "    data_words = [] # Creating two empty lists to hold the words and sentences from the previous dataframe\n",
        "    data_sents = []\n",
        "\n",
        "    for lists in data: # Running a for loop through each row of the column of dataframe\n",
        "        if len(lists) == 0: # Skip empty lists\n",
        "            continue\n",
        "        elif isinstance(lists[0], tuple):  # Check if list is a list of tuples - mainly doing this for postags\n",
        "            words = ['_'.join(word) for word in lists]  # Join bigrams with a space\n",
        "        else:\n",
        "            words = lists  # Else, just use the list as is\n",
        "        string = ' '.join(words) # Each row contains a list of tokens; so here I am joining words in the list and building one string, separated by a blank space (' ')\n",
        "        data_words.append(string) # Appending the words to the empty data_words list\n",
        "\n",
        "    data_sents = [word for word in data_words if word] # Going through each sentence in data_words, making sure it is a word, and appending that to the empty data_sents list\n",
        "    \n",
        "    return data_sents"
      ]
    },
    {
      "cell_type": "markdown",
      "metadata": {
        "id": "hnypa4cX6uiO"
      },
      "source": [
        "## Tokens as List"
      ]
    },
    {
      "cell_type": "code",
      "execution_count": 24,
      "metadata": {
        "id": "VMMs72PU6xDq"
      },
      "outputs": [],
      "source": [
        "# c_data\n",
        "tokens_c_list = list_builder(tokens_c_data, 'tokens')\n",
        "\n",
        "# uc_data\n",
        "tokens_uc_list = list_builder(tokens_uc_data, 'tokens')\n",
        "\n",
        "# cdc_data\n",
        "tokens_cdc_list = list_builder(tokens_cdc_data, 'tokens')\n",
        "\n",
        "# classified_data\n",
        "tokens_classified_list = list_builder(tokens_classified_data, 'tokens')"
      ]
    },
    {
      "cell_type": "markdown",
      "metadata": {
        "id": "ybpFJ_viu194"
      },
      "source": [
        "## Bigrams as List"
      ]
    },
    {
      "cell_type": "code",
      "execution_count": 25,
      "metadata": {
        "id": "ts1tdeBUu2EX"
      },
      "outputs": [],
      "source": [
        "# c_data\n",
        "bigram_c_list = list_builder(bigram_c_data, 'bigrams')\n",
        "\n",
        "# uc_data\n",
        "bigram_uc_list = list_builder(bigram_uc_data, 'bigrams')\n",
        "\n",
        "# cdc_data\n",
        "bigram_cdc_list = list_builder(bigram_cdc_data, 'bigrams')\n",
        "\n",
        "# classified_data\n",
        "bigram_classified_list = list_builder(bigram_classified_data, 'bigrams')"
      ]
    },
    {
      "cell_type": "markdown",
      "metadata": {
        "id": "DFNtM24vu2L6"
      },
      "source": [
        "## Lemma as List"
      ]
    },
    {
      "cell_type": "code",
      "execution_count": 26,
      "metadata": {
        "id": "vN9h5Jx-u2RG"
      },
      "outputs": [],
      "source": [
        "# c_data\n",
        "lemma_c_list = list_builder(lemma_c_data, 'lemma')\n",
        "\n",
        "# uc_data\n",
        "lemma_uc_list = list_builder(lemma_uc_data, 'lemma')\n",
        "\n",
        "# cdc_data\n",
        "lemma_cdc_list = list_builder(lemma_cdc_data, 'lemma')\n",
        "\n",
        "# classified_data\n",
        "lemma_classified_list = list_builder(lemma_classified_data, 'lemma')"
      ]
    },
    {
      "cell_type": "markdown",
      "metadata": {
        "id": "7XV63SRSu2cX"
      },
      "source": [
        "## Porter as List"
      ]
    },
    {
      "cell_type": "code",
      "execution_count": 27,
      "metadata": {
        "id": "PttoDk7uu2gw"
      },
      "outputs": [],
      "source": [
        "# c_data\n",
        "porter_c_list = list_builder(porter_c_data, 'porter stem')\n",
        "\n",
        "# uc_data\n",
        "porter_uc_list = list_builder(porter_uc_data, 'porter stem')\n",
        "\n",
        "# cdc_data\n",
        "porter_cdc_list = list_builder(porter_cdc_data, 'porter stem')\n",
        "\n",
        "# classified_data\n",
        "porter_classified_list = list_builder(porter_classified_data, 'porter stem')"
      ]
    },
    {
      "cell_type": "markdown",
      "metadata": {
        "id": "5jFr0SsBu2ld"
      },
      "source": [
        "## Lancaster as List"
      ]
    },
    {
      "cell_type": "code",
      "execution_count": 28,
      "metadata": {
        "id": "bGNDf8Guu2q7"
      },
      "outputs": [],
      "source": [
        "# c_data\n",
        "lancaster_c_list = list_builder(lancaster_c_data, 'lancaster stem')\n",
        "\n",
        "# uc_data\n",
        "lancaster_uc_list = list_builder(lancaster_uc_data, 'lancaster stem')\n",
        "\n",
        "# cdc_data\n",
        "lancaster_cdc_list = list_builder(lancaster_cdc_data, 'lancaster stem')\n",
        "\n",
        "# classified_data\n",
        "lancaster_classified_list = list_builder(lancaster_classified_data, 'lancaster stem')"
      ]
    },
    {
      "cell_type": "markdown",
      "metadata": {
        "id": "LZ5AUaB6vSxz"
      },
      "source": [
        "## Postag as List"
      ]
    },
    {
      "cell_type": "code",
      "execution_count": 29,
      "metadata": {
        "id": "re9y-0idvS3l"
      },
      "outputs": [],
      "source": [
        "# c_data\n",
        "postag_c_list = list_builder(postag_c_data, 'postag')\n",
        "\n",
        "# uc_data\n",
        "postag_uc_list = list_builder(postag_uc_data, 'postag')\n",
        "\n",
        "# cdc_data\n",
        "postag_cdc_list = list_builder(postag_cdc_data, 'postag')\n",
        "\n",
        "# classified_data\n",
        "postag_classified_list = list_builder(postag_classified_data, 'postag')"
      ]
    },
    {
      "cell_type": "markdown",
      "metadata": {
        "id": "MRFkqaTouYgq"
      },
      "source": [
        "# **BERT Embeddings**"
      ]
    },
    {
      "cell_type": "code",
      "execution_count": 30,
      "metadata": {
        "id": "HUZ7pkl2lwl9"
      },
      "outputs": [],
      "source": [
        "# Function to build BERT Embeddings\n",
        "\n",
        "def bert_embeddings(data_list, bio_tokenizer=bio_tokenizer, biob_model=biob_model, max_length=100):\n",
        "    # Encode inputs ---------------------\n",
        "    \n",
        "    # Encode the tokenized questions using Bio BERT tokenizer\n",
        "    bio_encoded_inputs = bio_tokenizer(data_list, return_tensors='pt', padding=True, truncation=True, max_length=max_length)\n",
        "\n",
        "    # Extract output (hidden states and final representation) ---------------------\n",
        "\n",
        "    # Pass the encoded inputs through the Bio BERT model\n",
        "    with torch.no_grad():\n",
        "        bio_model_output = biob_model(**bio_encoded_inputs)\n",
        "\n",
        "    # Extract sentence-level embeddings ---------------------\n",
        "\n",
        "    # Get the Bio BERT sentence-level embeddings (CLS (classification) token)\n",
        "    bio_embeddings = bio_model_output.last_hidden_state[:, 0, :].numpy()\n",
        "\n",
        "    # Convert embeddings to a list to feed to ML models\n",
        "    bio_embeddings_list = bio_embeddings.tolist()\n",
        "\n",
        "    return bio_embeddings_list"
      ]
    },
    {
      "cell_type": "markdown",
      "metadata": {
        "id": "O3Xwh06Lgp61"
      },
      "source": [
        "model_output.last_hidden_state is a tensor of shape (batch_size, sequence_length, hidden_size), where batch_size is the number of input sequences, sequence_length is the length of the longest input sequence, and hidden_size is the size of the output embeddings.\n",
        "\n",
        "[:, 0, :] selects the first token of each input sequence from the output tensor, which corresponds to the [CLS] token. The [CLS] token is a special token added at the beginning of the input sequence and its corresponding output vector is often used as a summary or representation of the entire input sequence."
      ]
    },
    {
      "cell_type": "markdown",
      "metadata": {
        "id": "zYpFWVqMtM7H"
      },
      "source": [
        "## Tokens BERT Embeddings"
      ]
    },
    {
      "cell_type": "code",
      "execution_count": 31,
      "metadata": {
        "id": "jwlssAwmtNAS"
      },
      "outputs": [],
      "source": [
        "# c_data embeddings\n",
        "tokens_c_biob_embeddings = bert_embeddings(tokens_c_list)\n",
        "\n",
        "# uc_data embeddings\n",
        "tokens_uc_biob_embeddings = bert_embeddings(tokens_uc_list)\n",
        "\n",
        "# cdc_data embeddings\n",
        "tokens_cdc_biob_embeddings = bert_embeddings(tokens_cdc_list)\n",
        "\n",
        "# class_data embeddings\n",
        "tokens_classified_biob_embeddings = bert_embeddings(tokens_classified_list)"
      ]
    },
    {
      "cell_type": "markdown",
      "metadata": {
        "id": "9mmf0zBjwXtj"
      },
      "source": [
        "## Bigrams BERT Embeddings"
      ]
    },
    {
      "cell_type": "code",
      "execution_count": 32,
      "metadata": {
        "id": "jIPS5ceWwXtj"
      },
      "outputs": [],
      "source": [
        "# c_data embeddings\n",
        "bigram_c_biob_embeddings = bert_embeddings(bigram_c_list)\n",
        "\n",
        "# uc_data embeddings\n",
        "bigram_uc_biob_embeddings = bert_embeddings(bigram_uc_list)\n",
        "\n",
        "# cdc_data embeddings\n",
        "bigram_cdc_biob_embeddings = bert_embeddings(bigram_cdc_list)\n",
        "\n",
        "# class_data embeddings\n",
        "bigram_classified_biob_embeddings = bert_embeddings(bigram_classified_list)"
      ]
    },
    {
      "cell_type": "markdown",
      "metadata": {
        "id": "KGtpJmHGwjYb"
      },
      "source": [
        "## Lemma BERT Embeddings"
      ]
    },
    {
      "cell_type": "code",
      "execution_count": 33,
      "metadata": {
        "id": "YOMu4E5owjYc"
      },
      "outputs": [],
      "source": [
        "# c_data embeddings\n",
        "lemma_c_biob_embeddings = bert_embeddings(lemma_c_list)\n",
        "\n",
        "# uc_data embeddings\n",
        "lemma_uc_biob_embeddings = bert_embeddings(lemma_uc_list)\n",
        "\n",
        "# cdc_data embeddings\n",
        "lemma_cdc_biob_embeddings = bert_embeddings(lemma_cdc_list)\n",
        "\n",
        "# class_data embeddings\n",
        "lemma_classified_biob_embeddings = bert_embeddings(lemma_classified_list)"
      ]
    },
    {
      "cell_type": "markdown",
      "metadata": {
        "id": "k3F4RCEFwtba"
      },
      "source": [
        "## Porter BERT Embeddings"
      ]
    },
    {
      "cell_type": "code",
      "execution_count": 34,
      "metadata": {
        "id": "7d_cRtbfwtba"
      },
      "outputs": [],
      "source": [
        "# c_data embeddings\n",
        "porter_c_biob_embeddings = bert_embeddings(porter_c_list)\n",
        "\n",
        "# uc_data embeddings\n",
        "porter_uc_biob_embeddings = bert_embeddings(porter_uc_list)\n",
        "\n",
        "# cdc_data embeddings\n",
        "porter_cdc_biob_embeddings = bert_embeddings(porter_cdc_list)\n",
        "\n",
        "# class_data embeddings\n",
        "porter_classified_biob_embeddings = bert_embeddings(porter_classified_list)"
      ]
    },
    {
      "cell_type": "markdown",
      "metadata": {
        "id": "NI5eeom0w0-V"
      },
      "source": [
        "## Lancaster BERT Embeddings"
      ]
    },
    {
      "cell_type": "code",
      "execution_count": 35,
      "metadata": {
        "id": "Yw3cuTE6w0-V"
      },
      "outputs": [],
      "source": [
        "# c_data embeddings\n",
        "lancaster_c_biob_embeddings = bert_embeddings(lancaster_c_list)\n",
        "\n",
        "# uc_data embeddings\n",
        "lancaster_uc_biob_embeddings = bert_embeddings(lancaster_uc_list)\n",
        "\n",
        "# cdc_data embeddings\n",
        "lancaster_cdc_biob_embeddings = bert_embeddings(lancaster_cdc_list)\n",
        "\n",
        "# class_data embeddings\n",
        "lancaster_classified_biob_embeddings = bert_embeddings(lancaster_classified_list)"
      ]
    },
    {
      "cell_type": "markdown",
      "metadata": {
        "id": "RimZMFNow8NV"
      },
      "source": [
        "## Postag BERT Embeddings"
      ]
    },
    {
      "cell_type": "code",
      "execution_count": 36,
      "metadata": {
        "id": "UvvNgk3uw8NW"
      },
      "outputs": [],
      "source": [
        "# c_data embeddings\n",
        "postag_c_biob_embeddings = bert_embeddings(postag_c_list)\n",
        "\n",
        "# uc_data embeddings\n",
        "postag_uc_biob_embeddings = bert_embeddings(postag_uc_list)\n",
        "\n",
        "# cdc_data embeddings\n",
        "postag_cdc_biob_embeddings = bert_embeddings(postag_cdc_list)\n",
        "\n",
        "# class_data embeddings\n",
        "postag_classified_biob_embeddings = bert_embeddings(postag_classified_list)"
      ]
    },
    {
      "cell_type": "markdown",
      "metadata": {
        "id": "dVGfSi1vpr3-"
      },
      "source": [
        "## Split Function for All Embeddings"
      ]
    },
    {
      "cell_type": "code",
      "execution_count": 37,
      "metadata": {
        "id": "ySQif79B7bXe"
      },
      "outputs": [],
      "source": [
        "from sklearn.model_selection import train_test_split\n",
        "from sklearn.preprocessing import LabelEncoder # # Calling labelencoder to encode truth labels from string to numerical values"
      ]
    },
    {
      "cell_type": "code",
      "execution_count": 38,
      "metadata": {
        "id": "sm_Wngz-YqNJ"
      },
      "outputs": [],
      "source": [
        "# Building train-test split function\n",
        "\n",
        "def split(embeddings_data, original_data, test_size=0.2, random_state=42):\n",
        "    # Encoding labels ----------------,\n",
        "\n",
        "    # Create label encoder object\n",
        "    label_encoder = LabelEncoder()\n",
        "\n",
        "    # Grabbing only topic labels\n",
        "    topics_df = processor(original_data, 'Question')['Topic']\n",
        "\n",
        "    # Encoding topic labels from classified dataset\n",
        "    topics_encoded = label_encoder.fit_transform(topics_df)\n",
        "\n",
        "    # Convert each list to a numpy array of fixed length and pad\n",
        "    max_len = max(len(lst) for lst in embeddings_data)\n",
        "    x_padded = [np.pad(lst, (0, max_len - len(lst)), 'constant') for lst in embeddings_data]\n",
        "\n",
        "    # Stack into 2D numpy array\n",
        "    x_arr = np.vstack(x_padded)\n",
        "\n",
        "    # Creating y variable\n",
        "    y = topics_encoded\n",
        "    y_arr = np.array(y)\n",
        "\n",
        "    # Perform train-test split\n",
        "    x_train, x_test, y_train, y_test = train_test_split(x_arr, y_arr, test_size=test_size, random_state=random_state)\n",
        "\n",
        "    # Return the split data\n",
        "    return x_train, x_test, y_train, y_test"
      ]
    },
    {
      "cell_type": "markdown",
      "metadata": {
        "id": "y0COqpqdNtCQ"
      },
      "source": [
        "## Tokens Split"
      ]
    },
    {
      "cell_type": "code",
      "execution_count": 39,
      "metadata": {
        "id": "Qp9JLhfRNtCR"
      },
      "outputs": [],
      "source": [
        "# Classified OH data\n",
        "x_train_tokens_c_bio, x_test_tokens_c_bio, y_train_tokens_c_bio, y_test_tokens_c_bio = split(tokens_c_biob_embeddings, c_data)\n",
        "\n",
        "# CDC data\n",
        "x_train_tokens_cdc_bio, x_test_tokens_cdc_bio, y_train_tokens_cdc_bio, y_test_tokens_cdc_bio = split(tokens_cdc_biob_embeddings, cdc_data)\n",
        "\n",
        "# All classified data\n",
        "x_train_tokens_class_bio, x_test_tokens_class_bio, y_train_tokens_class_bio, y_test_tokens_class_bio = split(tokens_classified_biob_embeddings, class_data)"
      ]
    },
    {
      "cell_type": "markdown",
      "metadata": {
        "id": "pC298H8-KNkh"
      },
      "source": [
        "## Bigram Split"
      ]
    },
    {
      "cell_type": "code",
      "execution_count": 40,
      "metadata": {
        "collapsed": true,
        "id": "bCIqZjWiKNsg"
      },
      "outputs": [],
      "source": [
        "# Classified OH data\n",
        "# x_train_tokens_c_bio, x_test_tokens_c_bio, y_train_tokens_c_bio, y_test_tokens_c_bio = split(bigram_c_biob_embeddings, c_data)\n",
        "\n",
        "# CDC data\n",
        "# x_train_tokens_cdc_bio, x_test_tokens_cdc_bio, y_train_tokens_cdc_bio, y_test_tokens_cdc_bio = split(bigram_cdc_biob_embeddings, cdc_data)\n",
        "\n",
        "# All classified data\n",
        "# x_train_tokens_class_bio, x_test_tokens_class_bio, y_train_tokens_class_bio, y_test_tokens_class_bio = split(bigram_classified_biob_embeddings, class_data)\n"
      ]
    },
    {
      "cell_type": "markdown",
      "metadata": {
        "id": "g-X-kWD0K4bF"
      },
      "source": [
        "## Lemma Split"
      ]
    },
    {
      "cell_type": "code",
      "execution_count": 41,
      "metadata": {
        "id": "-_386_OYK4bF"
      },
      "outputs": [],
      "source": [
        "# Classified OH data\n",
        "x_train_lemma_c_bio, x_test_lemma_c_bio, y_train_lemma_c_bio, y_test_lemma_c_bio = split(lemma_c_biob_embeddings, c_data)\n",
        "\n",
        "# CDC data\n",
        "x_train_lemma_cdc_bio, x_test_lemma_cdc_bio, y_train_lemma_cdc_bio, y_test_lemma_cdc_bio = split(lemma_cdc_biob_embeddings, cdc_data)\n",
        "\n",
        "# All classified data\n",
        "x_train_lemma_class_bio, x_test_lemma_class_bio, y_train_lemma_class_bio, y_test_lemma_class_bio = split(lemma_classified_biob_embeddings, class_data)"
      ]
    },
    {
      "cell_type": "markdown",
      "metadata": {
        "id": "ZKntOUhxL2ye"
      },
      "source": [
        "## Porter Split"
      ]
    },
    {
      "cell_type": "code",
      "execution_count": 42,
      "metadata": {
        "id": "Bi-OZZdHL2ym"
      },
      "outputs": [],
      "source": [
        "# Classified OH data\n",
        "x_train_porter_c_bio, x_test_porter_c_bio, y_train_porter_c_bio, y_test_porter_c_bio = split(porter_c_biob_embeddings, c_data)\n",
        "\n",
        "# CDC data\n",
        "x_train_porter_cdc_bio, x_test_porter_cdc_bio, y_train_porter_cdc_bio, y_test_porter_cdc_bio = split(porter_cdc_biob_embeddings, cdc_data)\n",
        "\n",
        "# All classified data\n",
        "x_train_porter_class_bio, x_test_porter_class_bio, y_train_porter_class_bio, y_test_porter_class_bio = split(porter_classified_biob_embeddings, class_data)"
      ]
    },
    {
      "cell_type": "markdown",
      "metadata": {
        "id": "kkOW43inMAI_"
      },
      "source": [
        "## Postag Split"
      ]
    },
    {
      "cell_type": "code",
      "execution_count": 43,
      "metadata": {
        "id": "dx2vKxizMAJC"
      },
      "outputs": [],
      "source": [
        "# Classified OH data\n",
        "x_train_lancaster_c_bio, x_test_lancaster_c_bio, y_train_lancaster_c_bio, y_test_lancaster_c_bio = split(lancaster_c_biob_embeddings, c_data)\n",
        "\n",
        "# CDC data\n",
        "x_train_lancaster_cdc_bio, x_test_lancaster_cdc_bio, y_train_lancaster_cdc_bio, y_test_lancaster_cdc_bio = split(lancaster_cdc_biob_embeddings, cdc_data)\n",
        "\n",
        "# All classified data\n",
        "x_train_lancaster_class_bio, x_test_lancaster_class_bio, y_train_lancaster_class_bio, y_test_lancaster_class_bio = split(lancaster_classified_biob_embeddings, class_data)"
      ]
    },
    {
      "cell_type": "markdown",
      "metadata": {
        "id": "iuT5it79MYu1"
      },
      "source": [
        "## Postag Split"
      ]
    },
    {
      "cell_type": "code",
      "execution_count": 44,
      "metadata": {
        "id": "rW7E6lHtMYu2"
      },
      "outputs": [],
      "source": [
        "# Classified OH data\n",
        "x_train_postag_c_bio, x_test_postag_c_bio, y_train_postag_c_bio, y_test_postag_c_bio = split(postag_c_biob_embeddings, c_data)\n",
        "\n",
        "# CDC data\n",
        "x_train_postag_cdc_bio, x_test_postag_cdc_bio, y_train_postag_cdc_bio, y_test_postag_cdc_bio = split(postag_cdc_biob_embeddings, cdc_data)\n",
        "\n",
        "# All classified data\n",
        "x_train_postag_class_bio, x_test_postag_class_bio, y_train_postag_class_bio, y_test_postag_class_bio = split(postag_classified_biob_embeddings, class_data)"
      ]
    },
    {
      "cell_type": "markdown",
      "metadata": {
        "id": "KDqq9kVcHfMP"
      },
      "source": [
        "# **Supervised Learning**"
      ]
    },
    {
      "cell_type": "markdown",
      "metadata": {
        "id": "ieEmcXorHfPF"
      },
      "source": [
        "# **Linear Regression**"
      ]
    },
    {
      "cell_type": "code",
      "execution_count": 45,
      "metadata": {
        "id": "JyC6cR4MHtdO"
      },
      "outputs": [],
      "source": [
        "# Linear Regression\n",
        "from sklearn.linear_model import LinearRegression\n",
        "\n",
        "# Evaluation metrics\n",
        "from sklearn.metrics import r2_score, mean_absolute_error"
      ]
    },
    {
      "cell_type": "code",
      "execution_count": 46,
      "metadata": {
        "id": "9t7K7_jTHvEZ"
      },
      "outputs": [],
      "source": [
        "# Building Linear Regression function\n",
        "def linear_regression(x_train, x_test, y_train, y_test):\n",
        "    # Create linear regression object and fit model\n",
        "    model = LinearRegression().fit(x_train, y_train)\n",
        "\n",
        "    # Prediction\n",
        "    y_pred = model.predict(x_test)\n",
        "\n",
        "    # Calculate R2 and MAE\n",
        "    r2 = r2_score(y_test, y_pred)\n",
        "    mae = mean_absolute_error(y_test, y_pred)\n",
        "\n",
        "    print(f' r2 value: {r2}')\n",
        "    print(f'mae value: {mae}')"
      ]
    },
    {
      "cell_type": "markdown",
      "metadata": {
        "id": "ubs5AL43lo3x"
      },
      "source": [
        "## Tokens Linear Regression"
      ]
    },
    {
      "cell_type": "code",
      "execution_count": 47,
      "metadata": {
        "id": "OFTbLxo2HzUg",
        "colab": {
          "base_uri": "https://localhost:8080/"
        },
        "outputId": "1e4e104b-c6b0-42b4-ccbb-a536bca13c25"
      },
      "outputs": [
        {
          "output_type": "stream",
          "name": "stdout",
          "text": [
            "Linear Regression evaluation scores for c_data -------\n",
            " r2 value: 0.42877898985481744\n",
            "mae value: 2.7099050351982394\n",
            "\n",
            "Linear Regression evaluation scores for cdc_data -------\n",
            " r2 value: -0.3999210446642243\n",
            "mae value: 35.70573328435985\n",
            "\n",
            "Linear Regression evaluation scores for class_data -------\n",
            " r2 value: -0.3231079953702565\n",
            "mae value: 39.550417052535614\n"
          ]
        }
      ],
      "source": [
        "# Classified OH data\n",
        "print('Linear Regression evaluation scores for c_data -------')\n",
        "linear_regression(x_train_tokens_c_bio, x_test_tokens_c_bio, y_train_tokens_c_bio, y_test_tokens_c_bio)\n",
        "print()\n",
        "\n",
        "# CDC data\n",
        "print('Linear Regression evaluation scores for cdc_data -------')\n",
        "linear_regression(x_train_tokens_cdc_bio, x_test_tokens_cdc_bio, y_train_tokens_cdc_bio, y_test_tokens_cdc_bio)\n",
        "print()\n",
        "\n",
        "# Classified OH data\n",
        "print('Linear Regression evaluation scores for class_data -------')\n",
        "linear_regression(x_train_tokens_class_bio, x_test_tokens_class_bio, y_train_tokens_class_bio, y_test_tokens_class_bio)"
      ]
    },
    {
      "cell_type": "markdown",
      "metadata": {
        "id": "GnykM0Zjj9q7"
      },
      "source": [
        "## Lemma Linear Regression"
      ]
    },
    {
      "cell_type": "code",
      "execution_count": 48,
      "metadata": {
        "id": "EFqg7KvxQba3",
        "colab": {
          "base_uri": "https://localhost:8080/"
        },
        "outputId": "86e6baec-9bef-4290-ea32-015dd8fa5bdb"
      },
      "outputs": [
        {
          "output_type": "stream",
          "name": "stdout",
          "text": [
            "Linear Regression evaluation scores for c_data -------\n",
            " r2 value: 0.4193519880539943\n",
            "mae value: 2.624288453906208\n",
            "\n",
            "Linear Regression evaluation scores for cdc_data -------\n",
            " r2 value: -0.4978639978806423\n",
            "mae value: 36.83823505138809\n",
            "\n",
            "Linear Regression evaluation scores for class_data -------\n",
            " r2 value: -0.3152948629094712\n",
            "mae value: 40.07003395190212\n"
          ]
        }
      ],
      "source": [
        "# Classified OH data\n",
        "print('Linear Regression evaluation scores for c_data -------')\n",
        "linear_regression(x_train_lemma_c_bio, x_test_lemma_c_bio, y_train_lemma_c_bio, y_test_lemma_c_bio)\n",
        "print()\n",
        "\n",
        "# CDC data\n",
        "print('Linear Regression evaluation scores for cdc_data -------')\n",
        "linear_regression(x_train_lemma_cdc_bio, x_test_lemma_cdc_bio, y_train_lemma_cdc_bio, y_test_lemma_cdc_bio)\n",
        "print()\n",
        "\n",
        "# Classified OH data\n",
        "print('Linear Regression evaluation scores for class_data -------')\n",
        "linear_regression(x_train_lemma_class_bio, x_test_lemma_class_bio, y_train_lemma_class_bio, y_test_lemma_class_bio)"
      ]
    },
    {
      "cell_type": "markdown",
      "metadata": {
        "id": "7wHtcofAQp2t"
      },
      "source": [
        "## Porter Linear Regression"
      ]
    },
    {
      "cell_type": "code",
      "execution_count": 49,
      "metadata": {
        "id": "d991qj0xQtPm",
        "colab": {
          "base_uri": "https://localhost:8080/"
        },
        "outputId": "319b85a6-5d9d-46e6-e743-476c778d85be"
      },
      "outputs": [
        {
          "output_type": "stream",
          "name": "stdout",
          "text": [
            "Linear Regression evaluation scores for c_data -------\n",
            " r2 value: 0.429027922426093\n",
            "mae value: 2.4194163989741897\n",
            "\n",
            "Linear Regression evaluation scores for cdc_data -------\n",
            " r2 value: -0.7051310098558696\n",
            "mae value: 39.57697949407792\n",
            "\n",
            "Linear Regression evaluation scores for class_data -------\n",
            " r2 value: -0.38311769891404546\n",
            "mae value: 41.33928699798512\n"
          ]
        }
      ],
      "source": [
        "# Classified OH data\n",
        "print('Linear Regression evaluation scores for c_data -------')\n",
        "linear_regression(x_train_porter_c_bio, x_test_porter_c_bio, y_train_porter_c_bio, y_test_porter_c_bio)\n",
        "print()\n",
        "\n",
        "# CDC data\n",
        "print('Linear Regression evaluation scores for cdc_data -------')\n",
        "linear_regression(x_train_porter_cdc_bio, x_test_porter_cdc_bio, y_train_porter_cdc_bio, y_test_porter_cdc_bio)\n",
        "print()\n",
        "\n",
        "# Classified OH data\n",
        "print('Linear Regression evaluation scores for class_data -------')\n",
        "linear_regression(x_train_porter_class_bio, x_test_porter_class_bio, y_train_porter_class_bio, y_test_porter_class_bio)"
      ]
    },
    {
      "cell_type": "markdown",
      "metadata": {
        "id": "T3cwvPRbRApU"
      },
      "source": [
        "## Lancaster Linear Regression"
      ]
    },
    {
      "cell_type": "code",
      "execution_count": 50,
      "metadata": {
        "id": "xN9f2H7DRA3Y",
        "colab": {
          "base_uri": "https://localhost:8080/"
        },
        "outputId": "f7d83d01-19b8-435e-e1cd-475ec4f59ab4"
      },
      "outputs": [
        {
          "output_type": "stream",
          "name": "stdout",
          "text": [
            "Linear Regression evaluation scores for c_data -------\n",
            " r2 value: 0.5764312521949913\n",
            "mae value: 2.384223913467877\n",
            "\n",
            "Linear Regression evaluation scores for cdc_data -------\n",
            " r2 value: -0.3327440818121363\n",
            "mae value: 35.617635538177844\n",
            "\n",
            "Linear Regression evaluation scores for class_data -------\n",
            " r2 value: -0.08838811244002232\n",
            "mae value: 36.844201725153646\n"
          ]
        }
      ],
      "source": [
        "# Classified OH data\n",
        "print('Linear Regression evaluation scores for c_data -------')\n",
        "linear_regression(x_train_lancaster_c_bio, x_test_lancaster_c_bio, y_train_lancaster_c_bio, y_test_lancaster_c_bio)\n",
        "print()\n",
        "\n",
        "# CDC data\n",
        "print('Linear Regression evaluation scores for cdc_data -------')\n",
        "linear_regression(x_train_lancaster_cdc_bio, x_test_lancaster_cdc_bio, y_train_lancaster_cdc_bio, y_test_lancaster_cdc_bio)\n",
        "print()\n",
        "\n",
        "# Classified OH data\n",
        "print('Linear Regression evaluation scores for class_data -------')\n",
        "linear_regression(x_train_lancaster_class_bio, x_test_lancaster_class_bio, y_train_lancaster_class_bio, y_test_lancaster_class_bio)"
      ]
    },
    {
      "cell_type": "markdown",
      "metadata": {
        "id": "IT8_AuCGRPA6"
      },
      "source": [
        "## Postag Linear Regression"
      ]
    },
    {
      "cell_type": "code",
      "execution_count": 51,
      "metadata": {
        "id": "RMlOSA4XRR4N",
        "colab": {
          "base_uri": "https://localhost:8080/"
        },
        "outputId": "c3a396ab-c9b9-48f7-83f5-25e316311f77"
      },
      "outputs": [
        {
          "output_type": "stream",
          "name": "stdout",
          "text": [
            "Linear Regression evaluation scores for c_data -------\n",
            " r2 value: 0.5345626004768232\n",
            "mae value: 2.3294621223423304\n",
            "\n",
            "Linear Regression evaluation scores for cdc_data -------\n",
            " r2 value: -1.1999738502850996\n",
            "mae value: 44.3858032902745\n",
            "\n",
            "Linear Regression evaluation scores for class_data -------\n",
            " r2 value: -0.6445503775176071\n",
            "mae value: 45.71421070894695\n"
          ]
        }
      ],
      "source": [
        "# Classified OH data\n",
        "print('Linear Regression evaluation scores for c_data -------')\n",
        "linear_regression(x_train_postag_c_bio, x_test_postag_c_bio, y_train_postag_c_bio, y_test_postag_c_bio)\n",
        "print()\n",
        "\n",
        "# CDC data\n",
        "print('Linear Regression evaluation scores for cdc_data -------')\n",
        "linear_regression(x_train_postag_cdc_bio, x_test_postag_cdc_bio, y_train_postag_cdc_bio, y_test_postag_cdc_bio)\n",
        "print()\n",
        "\n",
        "# Classified OH data\n",
        "print('Linear Regression evaluation scores for class_data -------')\n",
        "linear_regression(x_train_postag_class_bio, x_test_postag_class_bio, y_train_postag_class_bio, y_test_postag_class_bio)"
      ]
    },
    {
      "cell_type": "markdown",
      "metadata": {
        "id": "4_X4UrBAHfTN"
      },
      "source": [
        "# **Logistic Regression**"
      ]
    },
    {
      "cell_type": "code",
      "execution_count": 55,
      "metadata": {
        "id": "EFQF2CyKKGaD"
      },
      "outputs": [],
      "source": [
        "from sklearn.linear_model import LogisticRegression\n",
        "from sklearn.metrics import accuracy_score, f1_score, precision_score, recall_score, roc_auc_score"
      ]
    },
    {
      "cell_type": "code",
      "execution_count": 56,
      "metadata": {
        "id": "LYp8suZuKI7A"
      },
      "outputs": [],
      "source": [
        "# Building logistic regression function\n",
        "\n",
        "def logistic_regression(x_train, x_test, y_train, y_test):\n",
        "    # Create logistic regression object and fit model    \n",
        "    lr_model = LogisticRegression(random_state=42, max_iter=10000).fit(x_train, y_train)\n",
        "\n",
        "    # Make predictions\n",
        "    y_pred = lr_model.predict(x_test)\n",
        "\n",
        "    # Evaluate model\n",
        "    accuracy = accuracy_score(y_test, y_pred)\n",
        "    # average='macro' as our data is imbalanced and it ensures that the performance of the model on each class is given equal weight in score calculation\n",
        "    f1 = f1_score(y_test, np.round(y_pred), average='macro')\n",
        "    precision = precision_score(y_test, y_pred, average='macro')\n",
        "    recall = recall_score(y_test, y_pred, average='macro')\n",
        "\n",
        "    print(f'Accuracy: {accuracy * 100.0:.2f}%')\n",
        "    print(f'F1: {f1 * 100.0:.2f}%')\n",
        "    print(f'precision: {precision * 100.0:.2f}%')\n",
        "    print(f'Recall: {precision * 100.0:.2f}%')"
      ]
    },
    {
      "cell_type": "markdown",
      "metadata": {
        "id": "EdQE1TkxRlvH"
      },
      "source": [
        "## Tokens Logistic Regression"
      ]
    },
    {
      "cell_type": "code",
      "execution_count": 57,
      "metadata": {
        "id": "Abb1l_qpRlvI",
        "colab": {
          "base_uri": "https://localhost:8080/"
        },
        "outputId": "1b03078b-03da-459b-cc39-996ee8f25e05"
      },
      "outputs": [
        {
          "output_type": "stream",
          "name": "stdout",
          "text": [
            "logistic Regression evaluation scores for c_data -------\n",
            "Accuracy: 53.85%\n",
            "F1: 30.21%\n",
            "precision: 31.25%\n",
            "Recall: 31.25%\n",
            "\n",
            "logistic Regression evaluation scores for cdc_data -------\n",
            "Accuracy: 63.64%\n",
            "F1: 42.15%\n",
            "precision: 44.08%\n",
            "Recall: 44.08%\n",
            "\n",
            "logistic Regression evaluation scores for class_data -------\n",
            "Accuracy: 66.08%\n",
            "F1: 44.69%\n",
            "precision: 47.64%\n",
            "Recall: 47.64%\n"
          ]
        }
      ],
      "source": [
        "# Classified OH data\n",
        "print('logistic Regression evaluation scores for c_data -------')\n",
        "logistic_regression(x_train_tokens_c_bio, x_test_tokens_c_bio, y_train_tokens_c_bio, y_test_tokens_c_bio)\n",
        "print()\n",
        "\n",
        "# CDC data\n",
        "print('logistic Regression evaluation scores for cdc_data -------')\n",
        "logistic_regression(x_train_tokens_cdc_bio, x_test_tokens_cdc_bio, y_train_tokens_cdc_bio, y_test_tokens_cdc_bio)\n",
        "print()\n",
        "\n",
        "# Classified OH data\n",
        "print('logistic Regression evaluation scores for class_data -------')\n",
        "logistic_regression(x_train_tokens_class_bio, x_test_tokens_class_bio, y_train_tokens_class_bio, y_test_tokens_class_bio)"
      ]
    },
    {
      "cell_type": "markdown",
      "metadata": {
        "id": "-oELWgGGRlvI"
      },
      "source": [
        "## Lemma Logistic Regression"
      ]
    },
    {
      "cell_type": "code",
      "execution_count": 58,
      "metadata": {
        "id": "czLTvRibRlvI",
        "colab": {
          "base_uri": "https://localhost:8080/"
        },
        "outputId": "96e93b6c-0cb2-4c56-b6c1-d982482dab82"
      },
      "outputs": [
        {
          "output_type": "stream",
          "name": "stdout",
          "text": [
            "logistic Regression evaluation scores for c_data -------\n",
            "Accuracy: 53.85%\n",
            "F1: 30.21%\n",
            "precision: 31.25%\n",
            "Recall: 31.25%\n",
            "\n",
            "logistic Regression evaluation scores for cdc_data -------\n",
            "Accuracy: 63.33%\n",
            "F1: 41.97%\n",
            "precision: 43.55%\n",
            "Recall: 43.55%\n",
            "\n",
            "logistic Regression evaluation scores for class_data -------\n",
            "Accuracy: 66.67%\n",
            "F1: 44.30%\n",
            "precision: 47.88%\n",
            "Recall: 47.88%\n"
          ]
        }
      ],
      "source": [
        "# Classified OH data\n",
        "print('logistic Regression evaluation scores for c_data -------')\n",
        "logistic_regression(x_train_lemma_c_bio, x_test_lemma_c_bio, y_train_lemma_c_bio, y_test_lemma_c_bio)\n",
        "print()\n",
        "\n",
        "# CDC data\n",
        "print('logistic Regression evaluation scores for cdc_data -------')\n",
        "logistic_regression(x_train_lemma_cdc_bio, x_test_lemma_cdc_bio, y_train_lemma_cdc_bio, y_test_lemma_cdc_bio)\n",
        "print()\n",
        "\n",
        "# Classified OH data\n",
        "print('logistic Regression evaluation scores for class_data -------')\n",
        "logistic_regression(x_train_lemma_class_bio, x_test_lemma_class_bio, y_train_lemma_class_bio, y_test_lemma_class_bio)"
      ]
    },
    {
      "cell_type": "markdown",
      "metadata": {
        "id": "SS-Q_DucRlvI"
      },
      "source": [
        "## Porter Logistic Regression"
      ]
    },
    {
      "cell_type": "code",
      "execution_count": 59,
      "metadata": {
        "id": "BdAZN6cfRlvI",
        "colab": {
          "base_uri": "https://localhost:8080/"
        },
        "outputId": "78565c87-5487-41ec-cfdd-4be3aac670da"
      },
      "outputs": [
        {
          "output_type": "stream",
          "name": "stdout",
          "text": [
            "logistic Regression evaluation scores for c_data -------\n",
            "Accuracy: 53.85%\n",
            "F1: 26.07%\n",
            "precision: 27.50%\n",
            "Recall: 27.50%\n",
            "\n",
            "logistic Regression evaluation scores for cdc_data -------\n",
            "Accuracy: 64.24%\n",
            "F1: 42.37%\n",
            "precision: 43.39%\n",
            "Recall: 43.39%\n",
            "\n",
            "logistic Regression evaluation scores for class_data -------\n",
            "Accuracy: 64.04%\n",
            "F1: 41.68%\n",
            "precision: 46.24%\n",
            "Recall: 46.24%\n"
          ]
        }
      ],
      "source": [
        "# Classified OH data\n",
        "print('logistic Regression evaluation scores for c_data -------')\n",
        "logistic_regression(x_train_porter_c_bio, x_test_porter_c_bio, y_train_porter_c_bio, y_test_porter_c_bio)\n",
        "print()\n",
        "\n",
        "# CDC data\n",
        "print('logistic Regression evaluation scores for cdc_data -------')\n",
        "logistic_regression(x_train_porter_cdc_bio, x_test_porter_cdc_bio, y_train_porter_cdc_bio, y_test_porter_cdc_bio)\n",
        "print()\n",
        "\n",
        "# Classified OH data\n",
        "print('logistic Regression evaluation scores for class_data -------')\n",
        "logistic_regression(x_train_porter_class_bio, x_test_porter_class_bio, y_train_porter_class_bio, y_test_porter_class_bio)"
      ]
    },
    {
      "cell_type": "markdown",
      "metadata": {
        "id": "sO-XF9yCRlvI"
      },
      "source": [
        "## Lancaster Logistic Regression"
      ]
    },
    {
      "cell_type": "code",
      "execution_count": 60,
      "metadata": {
        "id": "L_Io-zMaRlvJ",
        "colab": {
          "base_uri": "https://localhost:8080/"
        },
        "outputId": "07cb6814-54fe-4910-cd20-66aa088c360d"
      },
      "outputs": [
        {
          "output_type": "stream",
          "name": "stdout",
          "text": [
            "logistic Regression evaluation scores for c_data -------\n",
            "Accuracy: 38.46%\n",
            "F1: 15.62%\n",
            "precision: 15.83%\n",
            "Recall: 15.83%\n",
            "\n",
            "logistic Regression evaluation scores for cdc_data -------\n",
            "Accuracy: 62.73%\n",
            "F1: 41.09%\n",
            "precision: 43.33%\n",
            "Recall: 43.33%\n",
            "\n",
            "logistic Regression evaluation scores for class_data -------\n",
            "Accuracy: 64.04%\n",
            "F1: 43.73%\n",
            "precision: 45.95%\n",
            "Recall: 45.95%\n"
          ]
        }
      ],
      "source": [
        "# Classified OH data\n",
        "print('logistic Regression evaluation scores for c_data -------')\n",
        "logistic_regression(x_train_lancaster_c_bio, x_test_lancaster_c_bio, y_train_lancaster_c_bio, y_test_lancaster_c_bio)\n",
        "print()\n",
        "\n",
        "# CDC data\n",
        "print('logistic Regression evaluation scores for cdc_data -------')\n",
        "logistic_regression(x_train_lancaster_cdc_bio, x_test_lancaster_cdc_bio, y_train_lancaster_cdc_bio, y_test_lancaster_cdc_bio)\n",
        "print()\n",
        "\n",
        "# Classified OH data\n",
        "print('logistic Regression evaluation scores for class_data -------')\n",
        "logistic_regression(x_train_lancaster_class_bio, x_test_lancaster_class_bio, y_train_lancaster_class_bio, y_test_lancaster_class_bio)"
      ]
    },
    {
      "cell_type": "markdown",
      "metadata": {
        "id": "oc0zo7HDRlvJ"
      },
      "source": [
        "## Postag Logistic Regression"
      ]
    },
    {
      "cell_type": "code",
      "execution_count": 61,
      "metadata": {
        "id": "TYu_jRdxRlvJ",
        "colab": {
          "base_uri": "https://localhost:8080/"
        },
        "outputId": "b3c3ead5-1166-4746-a273-9d3f452949a4"
      },
      "outputs": [
        {
          "output_type": "stream",
          "name": "stdout",
          "text": [
            "logistic Regression evaluation scores for c_data -------\n",
            "Accuracy: 53.85%\n",
            "F1: 29.17%\n",
            "precision: 28.12%\n",
            "Recall: 28.12%\n",
            "\n",
            "logistic Regression evaluation scores for cdc_data -------\n",
            "Accuracy: 58.18%\n",
            "F1: 38.35%\n",
            "precision: 42.11%\n",
            "Recall: 42.11%\n",
            "\n",
            "logistic Regression evaluation scores for class_data -------\n",
            "Accuracy: 57.02%\n",
            "F1: 35.22%\n",
            "precision: 38.56%\n",
            "Recall: 38.56%\n"
          ]
        }
      ],
      "source": [
        "# Classified OH data\n",
        "print('logistic Regression evaluation scores for c_data -------')\n",
        "logistic_regression(x_train_postag_c_bio, x_test_postag_c_bio, y_train_postag_c_bio, y_test_postag_c_bio)\n",
        "print()\n",
        "\n",
        "# CDC data\n",
        "print('logistic Regression evaluation scores for cdc_data -------')\n",
        "logistic_regression(x_train_postag_cdc_bio, x_test_postag_cdc_bio, y_train_postag_cdc_bio, y_test_postag_cdc_bio)\n",
        "print()\n",
        "\n",
        "# Classified OH data\n",
        "print('logistic Regression evaluation scores for class_data -------')\n",
        "logistic_regression(x_train_postag_class_bio, x_test_postag_class_bio, y_train_postag_class_bio, y_test_postag_class_bio)"
      ]
    },
    {
      "cell_type": "markdown",
      "metadata": {
        "id": "uBc_lz-BXbe2"
      },
      "source": [
        "# **Decision Tree**"
      ]
    },
    {
      "cell_type": "code",
      "execution_count": 62,
      "metadata": {
        "id": "AlIq1WLyXgoQ"
      },
      "outputs": [],
      "source": [
        "from sklearn.tree import DecisionTreeClassifier"
      ]
    },
    {
      "cell_type": "code",
      "execution_count": 63,
      "metadata": {
        "id": "LUZWkVopXqOj"
      },
      "outputs": [],
      "source": [
        "def decision_tree(x_train, x_test, y_train, y_test):\n",
        "    # Create a decision tree object and fit classifer\n",
        "    clf = DecisionTreeClassifier(random_state=42).fit(x_train, y_train)\n",
        "\n",
        "    # Make predictions\n",
        "    y_pred = clf.predict(x_test)\n",
        "\n",
        "    # Evaluate model\n",
        "    accuracy = accuracy_score(y_test, y_pred)\n",
        "    f1 = f1_score(y_test, np.round(y_pred), average='macro')\n",
        "    precision = precision_score(y_test, y_pred, average='macro')\n",
        "    recall = recall_score(y_test, y_pred, average='macro')\n",
        "\n",
        "    print(f'Accuracy: {accuracy * 100.0:.2f}%')\n",
        "    print(f'F1: {f1 * 100.0:.2f}%')\n",
        "    print(f'precision: {precision * 100.0:.2f}%')\n",
        "    print(f'Recall: {precision * 100.0:.2f}%')"
      ]
    },
    {
      "cell_type": "markdown",
      "metadata": {
        "id": "bokXnz1QYVOU"
      },
      "source": [
        "## Tokens Decision Tree"
      ]
    },
    {
      "cell_type": "code",
      "execution_count": 64,
      "metadata": {
        "id": "2675yWVwYVOY",
        "colab": {
          "base_uri": "https://localhost:8080/"
        },
        "outputId": "3a3fbff4-5af0-4524-f930-3dbe93f026ca"
      },
      "outputs": [
        {
          "output_type": "stream",
          "name": "stdout",
          "text": [
            "Decision Tree evaluation scores for c_data -------\n",
            "Accuracy: 46.15%\n",
            "F1: 22.92%\n",
            "precision: 27.08%\n",
            "Recall: 27.08%\n",
            "\n",
            "Decision Tree evaluation scores for cdc_data -------\n",
            "Accuracy: 19.39%\n",
            "F1: 9.88%\n",
            "precision: 11.18%\n",
            "Recall: 11.18%\n",
            "\n",
            "Decision Tree evaluation scores for class_data -------\n",
            "Accuracy: 21.05%\n",
            "F1: 11.07%\n",
            "precision: 13.25%\n",
            "Recall: 13.25%\n"
          ]
        }
      ],
      "source": [
        "# Classified OH data\n",
        "print('Decision Tree evaluation scores for c_data -------')\n",
        "decision_tree(x_train_tokens_c_bio, x_test_tokens_c_bio, y_train_tokens_c_bio, y_test_tokens_c_bio)\n",
        "print()\n",
        "\n",
        "# CDC data\n",
        "print('Decision Tree evaluation scores for cdc_data -------')\n",
        "decision_tree(x_train_tokens_cdc_bio, x_test_tokens_cdc_bio, y_train_tokens_cdc_bio, y_test_tokens_cdc_bio)\n",
        "print()\n",
        "\n",
        "# Classified OH data\n",
        "print('Decision Tree evaluation scores for class_data -------')\n",
        "decision_tree(x_train_tokens_class_bio, x_test_tokens_class_bio, y_train_tokens_class_bio, y_test_tokens_class_bio)"
      ]
    },
    {
      "cell_type": "markdown",
      "metadata": {
        "id": "zMK_tVa-YVOY"
      },
      "source": [
        "## Lemma Decision Tree"
      ]
    },
    {
      "cell_type": "code",
      "execution_count": 65,
      "metadata": {
        "id": "_IA1q-fXYVOZ",
        "colab": {
          "base_uri": "https://localhost:8080/"
        },
        "outputId": "01fffbca-2e75-44ba-a341-e425dfa6dcf0"
      },
      "outputs": [
        {
          "output_type": "stream",
          "name": "stdout",
          "text": [
            "Decision Tree evaluation scores for c_data -------\n",
            "Accuracy: 38.46%\n",
            "F1: 13.27%\n",
            "precision: 14.81%\n",
            "Recall: 14.81%\n",
            "\n",
            "Decision Tree evaluation scores for cdc_data -------\n",
            "Accuracy: 21.52%\n",
            "F1: 12.11%\n",
            "precision: 13.20%\n",
            "Recall: 13.20%\n",
            "\n",
            "Decision Tree evaluation scores for class_data -------\n",
            "Accuracy: 22.22%\n",
            "F1: 13.19%\n",
            "precision: 13.69%\n",
            "Recall: 13.69%\n"
          ]
        }
      ],
      "source": [
        "# Classified OH data\n",
        "print('Decision Tree evaluation scores for c_data -------')\n",
        "decision_tree(x_train_lemma_c_bio, x_test_lemma_c_bio, y_train_lemma_c_bio, y_test_lemma_c_bio)\n",
        "print()\n",
        "\n",
        "# CDC data\n",
        "print('Decision Tree evaluation scores for cdc_data -------')\n",
        "decision_tree(x_train_lemma_cdc_bio, x_test_lemma_cdc_bio, y_train_lemma_cdc_bio, y_test_lemma_cdc_bio)\n",
        "print()\n",
        "\n",
        "# Classified OH data\n",
        "print('Decision Tree evaluation scores for class_data -------')\n",
        "decision_tree(x_train_lemma_class_bio, x_test_lemma_class_bio, y_train_lemma_class_bio, y_test_lemma_class_bio)"
      ]
    },
    {
      "cell_type": "markdown",
      "metadata": {
        "id": "p_i9-W6zYVOZ"
      },
      "source": [
        "## Porter Decision Tree"
      ]
    },
    {
      "cell_type": "code",
      "execution_count": 66,
      "metadata": {
        "id": "CohJ5ouSYVOZ",
        "colab": {
          "base_uri": "https://localhost:8080/"
        },
        "outputId": "8dff43e6-6757-4257-8d82-9f604ef8517f"
      },
      "outputs": [
        {
          "output_type": "stream",
          "name": "stdout",
          "text": [
            "Decision Tree evaluation scores for c_data -------\n",
            "Accuracy: 38.46%\n",
            "F1: 12.78%\n",
            "precision: 11.11%\n",
            "Recall: 11.11%\n",
            "\n",
            "Decision Tree evaluation scores for cdc_data -------\n",
            "Accuracy: 19.09%\n",
            "F1: 10.75%\n",
            "precision: 13.06%\n",
            "Recall: 13.06%\n",
            "\n",
            "Decision Tree evaluation scores for class_data -------\n",
            "Accuracy: 23.39%\n",
            "F1: 11.79%\n",
            "precision: 12.92%\n",
            "Recall: 12.92%\n"
          ]
        }
      ],
      "source": [
        "# Classified OH data\n",
        "print('Decision Tree evaluation scores for c_data -------')\n",
        "decision_tree(x_train_porter_c_bio, x_test_porter_c_bio, y_train_porter_c_bio, y_test_porter_c_bio)\n",
        "print()\n",
        "\n",
        "# CDC data\n",
        "print('Decision Tree evaluation scores for cdc_data -------')\n",
        "decision_tree(x_train_porter_cdc_bio, x_test_porter_cdc_bio, y_train_porter_cdc_bio, y_test_porter_cdc_bio)\n",
        "print()\n",
        "\n",
        "# Classified OH data\n",
        "print('Decision Tree evaluation scores for class_data -------')\n",
        "decision_tree(x_train_porter_class_bio, x_test_porter_class_bio, y_train_porter_class_bio, y_test_porter_class_bio)"
      ]
    },
    {
      "cell_type": "markdown",
      "metadata": {
        "id": "Wet6x4wtYVOZ"
      },
      "source": [
        "## Lancaster Decision Tree"
      ]
    },
    {
      "cell_type": "code",
      "execution_count": 67,
      "metadata": {
        "id": "96jiac39YVOZ",
        "colab": {
          "base_uri": "https://localhost:8080/"
        },
        "outputId": "d0d8bfe2-4a8f-4f83-d5c9-4be2aff7583c"
      },
      "outputs": [
        {
          "output_type": "stream",
          "name": "stdout",
          "text": [
            "Decision Tree evaluation scores for c_data -------\n",
            "Accuracy: 15.38%\n",
            "F1: 5.56%\n",
            "precision: 7.41%\n",
            "Recall: 7.41%\n",
            "\n",
            "Decision Tree evaluation scores for cdc_data -------\n",
            "Accuracy: 19.09%\n",
            "F1: 9.08%\n",
            "precision: 9.12%\n",
            "Recall: 9.12%\n",
            "\n",
            "Decision Tree evaluation scores for class_data -------\n",
            "Accuracy: 22.51%\n",
            "F1: 10.87%\n",
            "precision: 12.02%\n",
            "Recall: 12.02%\n"
          ]
        }
      ],
      "source": [
        "# Classified OH data\n",
        "print('Decision Tree evaluation scores for c_data -------')\n",
        "decision_tree(x_train_lancaster_c_bio, x_test_lancaster_c_bio, y_train_lancaster_c_bio, y_test_lancaster_c_bio)\n",
        "print()\n",
        "\n",
        "# CDC data\n",
        "print('Decision Tree evaluation scores for cdc_data -------')\n",
        "decision_tree(x_train_lancaster_cdc_bio, x_test_lancaster_cdc_bio, y_train_lancaster_cdc_bio, y_test_lancaster_cdc_bio)\n",
        "print()\n",
        "\n",
        "# Classified OH data\n",
        "print('Decision Tree evaluation scores for class_data -------')\n",
        "decision_tree(x_train_lancaster_class_bio, x_test_lancaster_class_bio, y_train_lancaster_class_bio, y_test_lancaster_class_bio)"
      ]
    },
    {
      "cell_type": "markdown",
      "metadata": {
        "id": "fVF2lhQ8YVOZ"
      },
      "source": [
        "## Postag Decision Tree"
      ]
    },
    {
      "cell_type": "code",
      "execution_count": 68,
      "metadata": {
        "id": "3tjVeFCFYVOZ",
        "colab": {
          "base_uri": "https://localhost:8080/"
        },
        "outputId": "02cbc08f-c9db-4a76-956c-f911b1cdf8d7"
      },
      "outputs": [
        {
          "output_type": "stream",
          "name": "stdout",
          "text": [
            "Decision Tree evaluation scores for c_data -------\n",
            "Accuracy: 46.15%\n",
            "F1: 37.36%\n",
            "precision: 35.71%\n",
            "Recall: 35.71%\n",
            "\n",
            "Decision Tree evaluation scores for cdc_data -------\n",
            "Accuracy: 20.61%\n",
            "F1: 11.72%\n",
            "precision: 11.84%\n",
            "Recall: 11.84%\n",
            "\n",
            "Decision Tree evaluation scores for class_data -------\n",
            "Accuracy: 18.13%\n",
            "F1: 9.65%\n",
            "precision: 10.67%\n",
            "Recall: 10.67%\n"
          ]
        }
      ],
      "source": [
        "# Classified OH data\n",
        "print('Decision Tree evaluation scores for c_data -------')\n",
        "decision_tree(x_train_postag_c_bio, x_test_postag_c_bio, y_train_postag_c_bio, y_test_postag_c_bio)\n",
        "print()\n",
        "\n",
        "# CDC data\n",
        "print('Decision Tree evaluation scores for cdc_data -------')\n",
        "decision_tree(x_train_postag_cdc_bio, x_test_postag_cdc_bio, y_train_postag_cdc_bio, y_test_postag_cdc_bio)\n",
        "print()\n",
        "\n",
        "# Classified OH data\n",
        "print('Decision Tree evaluation scores for class_data -------')\n",
        "decision_tree(x_train_postag_class_bio, x_test_postag_class_bio, y_train_postag_class_bio, y_test_postag_class_bio)"
      ]
    },
    {
      "cell_type": "markdown",
      "metadata": {
        "id": "mCUWhvgSXiLt"
      },
      "source": [
        "# **Random Forest**"
      ]
    },
    {
      "cell_type": "code",
      "execution_count": 69,
      "metadata": {
        "id": "N_VNQZ3pXiaC"
      },
      "outputs": [],
      "source": [
        "from sklearn.ensemble import RandomForestClassifier"
      ]
    },
    {
      "cell_type": "code",
      "execution_count": 70,
      "metadata": {
        "id": "3XgjNpNNXnrb"
      },
      "outputs": [],
      "source": [
        "def random_forest(x_train, x_test, y_train, y_test):\n",
        "    # Create a random forest object and fit classifier\n",
        "    rf_clf = RandomForestClassifier(n_estimators=100, max_depth=3, random_state=42).fit(x_train, y_train)\n",
        "\n",
        "    # Make predictions\n",
        "    y_pred = rf_clf.predict(x_test)\n",
        "\n",
        "    # Evaluate model\n",
        "    accuracy = accuracy_score(y_test, y_pred)\n",
        "    f1 = f1_score(y_test, np.round(y_pred), average='macro')\n",
        "    precision = precision_score(y_test, y_pred, average='macro')\n",
        "    recall = recall_score(y_test, y_pred, average='macro')\n",
        "\n",
        "    print(f'Accuracy: {accuracy * 100.0:.2f}%')\n",
        "    print(f'F1: {f1 * 100.0:.2f}%')\n",
        "    print(f'precision: {precision * 100.0:.2f}%')\n",
        "    print(f'Recall: {recall * 100.0:.2f}%')"
      ]
    },
    {
      "cell_type": "markdown",
      "metadata": {
        "id": "_w9OWvvMZJEE"
      },
      "source": [
        "## Tokens Random Forest"
      ]
    },
    {
      "cell_type": "code",
      "execution_count": 71,
      "metadata": {
        "id": "k-SC5USpZJEG",
        "colab": {
          "base_uri": "https://localhost:8080/"
        },
        "outputId": "8f679e42-5916-4524-f312-29cc91aceb80"
      },
      "outputs": [
        {
          "output_type": "stream",
          "name": "stdout",
          "text": [
            "Random Forest evaluation scores for c_data -------\n",
            "Accuracy: 46.15%\n",
            "F1: 19.09%\n",
            "precision: 15.48%\n",
            "Recall: 26.67%\n",
            "\n",
            "Random Forest evaluation scores for cdc_data -------\n",
            "Accuracy: 16.97%\n",
            "F1: 4.40%\n",
            "precision: 6.00%\n",
            "Recall: 5.64%\n",
            "\n",
            "Random Forest evaluation scores for class_data -------\n",
            "Accuracy: 14.62%\n",
            "F1: 3.48%\n",
            "precision: 4.69%\n",
            "Recall: 5.14%\n"
          ]
        }
      ],
      "source": [
        "# Classified OH data\n",
        "print('Random Forest evaluation scores for c_data -------')\n",
        "random_forest(x_train_tokens_c_bio, x_test_tokens_c_bio, y_train_tokens_c_bio, y_test_tokens_c_bio)\n",
        "print()\n",
        "\n",
        "# CDC data\n",
        "print('Random Forest evaluation scores for cdc_data -------')\n",
        "random_forest(x_train_tokens_cdc_bio, x_test_tokens_cdc_bio, y_train_tokens_cdc_bio, y_test_tokens_cdc_bio)\n",
        "print()\n",
        "\n",
        "# Classified OH data\n",
        "print('Random Forest evaluation scores for class_data -------')\n",
        "random_forest(x_train_tokens_class_bio, x_test_tokens_class_bio, y_train_tokens_class_bio, y_test_tokens_class_bio)"
      ]
    },
    {
      "cell_type": "markdown",
      "metadata": {
        "id": "lSHa20Z_ZJEH"
      },
      "source": [
        "## Lemma Random Forest"
      ]
    },
    {
      "cell_type": "code",
      "execution_count": 72,
      "metadata": {
        "id": "irPI8y2YZJEI",
        "colab": {
          "base_uri": "https://localhost:8080/"
        },
        "outputId": "858a137f-ca39-4ffe-9e39-05b6550df983"
      },
      "outputs": [
        {
          "output_type": "stream",
          "name": "stdout",
          "text": [
            "Random Forest evaluation scores for c_data -------\n",
            "Accuracy: 46.15%\n",
            "F1: 15.83%\n",
            "precision: 14.73%\n",
            "Recall: 20.00%\n",
            "\n",
            "Random Forest evaluation scores for cdc_data -------\n",
            "Accuracy: 16.67%\n",
            "F1: 3.89%\n",
            "precision: 4.02%\n",
            "Recall: 5.43%\n",
            "\n",
            "Random Forest evaluation scores for class_data -------\n",
            "Accuracy: 13.45%\n",
            "F1: 3.01%\n",
            "precision: 4.30%\n",
            "Recall: 4.52%\n"
          ]
        }
      ],
      "source": [
        "# Classified OH data\n",
        "print('Random Forest evaluation scores for c_data -------')\n",
        "random_forest(x_train_lemma_c_bio, x_test_lemma_c_bio, y_train_lemma_c_bio, y_test_lemma_c_bio)\n",
        "print()\n",
        "\n",
        "# CDC data\n",
        "print('Random Forest evaluation scores for cdc_data -------')\n",
        "random_forest(x_train_lemma_cdc_bio, x_test_lemma_cdc_bio, y_train_lemma_cdc_bio, y_test_lemma_cdc_bio)\n",
        "print()\n",
        "\n",
        "# Classified OH data\n",
        "print('Random Forest evaluation scores for class_data -------')\n",
        "random_forest(x_train_lemma_class_bio, x_test_lemma_class_bio, y_train_lemma_class_bio, y_test_lemma_class_bio)"
      ]
    },
    {
      "cell_type": "markdown",
      "metadata": {
        "id": "8p45EBY8ZJEI"
      },
      "source": [
        "## Porter Random Forest"
      ]
    },
    {
      "cell_type": "code",
      "execution_count": 73,
      "metadata": {
        "id": "qDeXM6u7ZJEI",
        "colab": {
          "base_uri": "https://localhost:8080/"
        },
        "outputId": "703b55ae-0ae8-4e33-cc71-af3123a903b7"
      },
      "outputs": [
        {
          "output_type": "stream",
          "name": "stdout",
          "text": [
            "Random Forest evaluation scores for c_data -------\n",
            "Accuracy: 38.46%\n",
            "F1: 15.31%\n",
            "precision: 19.05%\n",
            "Recall: 20.00%\n",
            "\n",
            "Random Forest evaluation scores for cdc_data -------\n",
            "Accuracy: 16.06%\n",
            "F1: 4.07%\n",
            "precision: 6.45%\n",
            "Recall: 5.31%\n",
            "\n",
            "Random Forest evaluation scores for class_data -------\n",
            "Accuracy: 13.45%\n",
            "F1: 2.83%\n",
            "precision: 4.38%\n",
            "Recall: 4.57%\n"
          ]
        }
      ],
      "source": [
        "# Classified OH data\n",
        "print('Random Forest evaluation scores for c_data -------')\n",
        "random_forest(x_train_porter_c_bio, x_test_porter_c_bio, y_train_porter_c_bio, y_test_porter_c_bio)\n",
        "print()\n",
        "\n",
        "# CDC data\n",
        "print('Random Forest evaluation scores for cdc_data -------')\n",
        "random_forest(x_train_porter_cdc_bio, x_test_porter_cdc_bio, y_train_porter_cdc_bio, y_test_porter_cdc_bio)\n",
        "print()\n",
        "\n",
        "# Classified OH data\n",
        "print('Random Forest evaluation scores for class_data -------')\n",
        "random_forest(x_train_porter_class_bio, x_test_porter_class_bio, y_train_porter_class_bio, y_test_porter_class_bio)"
      ]
    },
    {
      "cell_type": "markdown",
      "metadata": {
        "id": "qJsAvp-UZJEI"
      },
      "source": [
        "## Lancaster Random Forest"
      ]
    },
    {
      "cell_type": "code",
      "execution_count": 74,
      "metadata": {
        "id": "GtTBiHcvZJEI",
        "colab": {
          "base_uri": "https://localhost:8080/"
        },
        "outputId": "7f683502-feaf-47df-d1c8-2542c4b90ece"
      },
      "outputs": [
        {
          "output_type": "stream",
          "name": "stdout",
          "text": [
            "Random Forest evaluation scores for c_data -------\n",
            "Accuracy: 38.46%\n",
            "F1: 15.71%\n",
            "precision: 15.65%\n",
            "Recall: 20.00%\n",
            "\n",
            "Random Forest evaluation scores for cdc_data -------\n",
            "Accuracy: 15.45%\n",
            "F1: 4.16%\n",
            "precision: 6.18%\n",
            "Recall: 5.44%\n",
            "\n",
            "Random Forest evaluation scores for class_data -------\n",
            "Accuracy: 13.74%\n",
            "F1: 3.54%\n",
            "precision: 5.11%\n",
            "Recall: 5.18%\n"
          ]
        }
      ],
      "source": [
        "# Classified OH data\n",
        "print('Random Forest evaluation scores for c_data -------')\n",
        "random_forest(x_train_lancaster_c_bio, x_test_lancaster_c_bio, y_train_lancaster_c_bio, y_test_lancaster_c_bio)\n",
        "print()\n",
        "\n",
        "# CDC data\n",
        "print('Random Forest evaluation scores for cdc_data -------')\n",
        "random_forest(x_train_lancaster_cdc_bio, x_test_lancaster_cdc_bio, y_train_lancaster_cdc_bio, y_test_lancaster_cdc_bio)\n",
        "print()\n",
        "\n",
        "# Classified OH data\n",
        "print('Random Forest evaluation scores for class_data -------')\n",
        "random_forest(x_train_lancaster_class_bio, x_test_lancaster_class_bio, y_train_lancaster_class_bio, y_test_lancaster_class_bio)"
      ]
    },
    {
      "cell_type": "markdown",
      "metadata": {
        "id": "vc4fcggdZJEI"
      },
      "source": [
        "## Postag Random Forest"
      ]
    },
    {
      "cell_type": "code",
      "execution_count": 75,
      "metadata": {
        "id": "KmKROCMHZJEI",
        "colab": {
          "base_uri": "https://localhost:8080/"
        },
        "outputId": "5dc3cfa3-3e75-49f1-993c-2dca26e6fba7"
      },
      "outputs": [
        {
          "output_type": "stream",
          "name": "stdout",
          "text": [
            "Random Forest evaluation scores for c_data -------\n",
            "Accuracy: 61.54%\n",
            "F1: 35.24%\n",
            "precision: 32.86%\n",
            "Recall: 40.00%\n",
            "\n",
            "Random Forest evaluation scores for cdc_data -------\n",
            "Accuracy: 12.12%\n",
            "F1: 2.26%\n",
            "precision: 2.59%\n",
            "Recall: 3.25%\n",
            "\n",
            "Random Forest evaluation scores for class_data -------\n",
            "Accuracy: 9.94%\n",
            "F1: 2.06%\n",
            "precision: 3.99%\n",
            "Recall: 3.22%\n"
          ]
        }
      ],
      "source": [
        "# Classified OH data\n",
        "print('Random Forest evaluation scores for c_data -------')\n",
        "random_forest(x_train_postag_c_bio, x_test_postag_c_bio, y_train_postag_c_bio, y_test_postag_c_bio)\n",
        "print()\n",
        "\n",
        "# CDC data\n",
        "print('Random Forest evaluation scores for cdc_data -------')\n",
        "random_forest(x_train_postag_cdc_bio, x_test_postag_cdc_bio, y_train_postag_cdc_bio, y_test_postag_cdc_bio)\n",
        "print()\n",
        "\n",
        "# Classified OH data\n",
        "print('Random Forest evaluation scores for class_data -------')\n",
        "random_forest(x_train_postag_class_bio, x_test_postag_class_bio, y_train_postag_class_bio, y_test_postag_class_bio)"
      ]
    },
    {
      "cell_type": "markdown",
      "metadata": {
        "id": "XoaqCfiMWs7H"
      },
      "source": [
        "# **SVM**"
      ]
    },
    {
      "cell_type": "code",
      "execution_count": 76,
      "metadata": {
        "id": "7Er7jwPSWyPh"
      },
      "outputs": [],
      "source": [
        "from sklearn import svm"
      ]
    },
    {
      "cell_type": "code",
      "execution_count": 77,
      "metadata": {
        "id": "cJxHobRGWze0"
      },
      "outputs": [],
      "source": [
        "def svm_classifier(x_train, x_test, y_train, y_test):\n",
        "    # Create support vector machine object and fit classifer\n",
        "    svm_clf = svm.SVC(kernel='linear', random_state=42).fit(x_train, y_train)\n",
        "\n",
        "    # Make predictions\n",
        "    y_pred = svm_clf.predict(x_test)\n",
        "\n",
        "    # Evaluate model\n",
        "    accuracy = accuracy_score(y_test, y_pred)\n",
        "    f1 = f1_score(y_test, np.round(y_pred), average='macro')\n",
        "    precision = precision_score(y_test, y_pred, average='macro')\n",
        "    recall = recall_score(y_test, y_pred, average='macro')\n",
        "\n",
        "    print(f'Accuracy: {accuracy * 100.0:.2f}%')\n",
        "    print(f'F1: {f1 * 100.0:.2f}%')\n",
        "    print(f'precision: {precision * 100.0:.2f}%')\n",
        "    print(f'Recall: {recall * 100.0:.2f}%')"
      ]
    },
    {
      "cell_type": "markdown",
      "metadata": {
        "id": "cbI9u3VyZ2JG"
      },
      "source": [
        "## Tokens SVM"
      ]
    },
    {
      "cell_type": "code",
      "execution_count": 78,
      "metadata": {
        "id": "FiCaTS4tZ2JM",
        "colab": {
          "base_uri": "https://localhost:8080/"
        },
        "outputId": "587fbc95-028f-43df-959f-c97f66955b62"
      },
      "outputs": [
        {
          "output_type": "stream",
          "name": "stdout",
          "text": [
            "SVM evaluation scores for c_data -------\n",
            "Accuracy: 53.85%\n",
            "F1: 30.21%\n",
            "precision: 31.25%\n",
            "Recall: 32.50%\n",
            "\n",
            "SVM evaluation scores for cdc_data -------\n",
            "Accuracy: 62.42%\n",
            "F1: 40.41%\n",
            "precision: 41.74%\n",
            "Recall: 42.79%\n",
            "\n",
            "SVM evaluation scores for class_data -------\n",
            "Accuracy: 64.33%\n",
            "F1: 41.63%\n",
            "precision: 45.58%\n",
            "Recall: 42.88%\n"
          ]
        }
      ],
      "source": [
        "# Classified OH data\n",
        "print('SVM evaluation scores for c_data -------')\n",
        "svm_classifier(x_train_tokens_c_bio, x_test_tokens_c_bio, y_train_tokens_c_bio, y_test_tokens_c_bio)\n",
        "print()\n",
        "\n",
        "# CDC data\n",
        "print('SVM evaluation scores for cdc_data -------')\n",
        "svm_classifier(x_train_tokens_cdc_bio, x_test_tokens_cdc_bio, y_train_tokens_cdc_bio, y_test_tokens_cdc_bio)\n",
        "print()\n",
        "\n",
        "# Classified OH data\n",
        "print('SVM evaluation scores for class_data -------')\n",
        "svm_classifier(x_train_tokens_class_bio, x_test_tokens_class_bio, y_train_tokens_class_bio, y_test_tokens_class_bio)"
      ]
    },
    {
      "cell_type": "markdown",
      "metadata": {
        "id": "DI4-urxzZ2JO"
      },
      "source": [
        "## Lemma SVM"
      ]
    },
    {
      "cell_type": "code",
      "execution_count": 79,
      "metadata": {
        "id": "yDns3ZJcZ2JO",
        "colab": {
          "base_uri": "https://localhost:8080/"
        },
        "outputId": "57c50ff1-651b-4939-a71c-beb6d7864a0a"
      },
      "outputs": [
        {
          "output_type": "stream",
          "name": "stdout",
          "text": [
            "SVM evaluation scores for c_data -------\n",
            "Accuracy: 53.85%\n",
            "F1: 29.37%\n",
            "precision: 30.36%\n",
            "Recall: 32.50%\n",
            "\n",
            "SVM evaluation scores for cdc_data -------\n",
            "Accuracy: 64.85%\n",
            "F1: 42.73%\n",
            "precision: 44.11%\n",
            "Recall: 44.06%\n",
            "\n",
            "SVM evaluation scores for class_data -------\n",
            "Accuracy: 64.33%\n",
            "F1: 43.17%\n",
            "precision: 48.41%\n",
            "Recall: 43.37%\n"
          ]
        }
      ],
      "source": [
        "# Classified OH data\n",
        "print('SVM evaluation scores for c_data -------')\n",
        "svm_classifier(x_train_lemma_c_bio, x_test_lemma_c_bio, y_train_lemma_c_bio, y_test_lemma_c_bio)\n",
        "print()\n",
        "\n",
        "# CDC data\n",
        "print('SVM evaluation scores for cdc_data -------')\n",
        "svm_classifier(x_train_lemma_cdc_bio, x_test_lemma_cdc_bio, y_train_lemma_cdc_bio, y_test_lemma_cdc_bio)\n",
        "print()\n",
        "\n",
        "# Classified OH data\n",
        "print('SVM evaluation scores for class_data -------')\n",
        "svm_classifier(x_train_lemma_class_bio, x_test_lemma_class_bio, y_train_lemma_class_bio, y_test_lemma_class_bio)"
      ]
    },
    {
      "cell_type": "markdown",
      "metadata": {
        "id": "xagLAXvSZ2JO"
      },
      "source": [
        "## Porter SVM"
      ]
    },
    {
      "cell_type": "code",
      "execution_count": 80,
      "metadata": {
        "id": "_2j_1UD5Z2JO",
        "colab": {
          "base_uri": "https://localhost:8080/"
        },
        "outputId": "7426e977-d74e-4002-b2c6-694da8d015c2"
      },
      "outputs": [
        {
          "output_type": "stream",
          "name": "stdout",
          "text": [
            "SVM evaluation scores for c_data -------\n",
            "Accuracy: 53.85%\n",
            "F1: 26.07%\n",
            "precision: 27.50%\n",
            "Recall: 26.00%\n",
            "\n",
            "SVM evaluation scores for c_data -------\n",
            "Accuracy: 53.85%\n",
            "F1: 26.07%\n",
            "precision: 27.50%\n",
            "Recall: 26.00%\n",
            "\n",
            "SVM evaluation scores for cdc_data -------\n",
            "Accuracy: 63.03%\n",
            "F1: 39.65%\n",
            "precision: 41.75%\n",
            "Recall: 41.69%\n"
          ]
        }
      ],
      "source": [
        "# Classified OH data\n",
        "print('SVM evaluation scores for c_data -------')\n",
        "svm_classifier(x_train_porter_c_bio, x_test_porter_c_bio, y_train_porter_c_bio, y_test_porter_c_bio)\n",
        "print()\n",
        "\n",
        "# Classified OH data\n",
        "print('SVM evaluation scores for c_data -------')\n",
        "svm_classifier(x_train_porter_c_bio, x_test_porter_c_bio, y_train_porter_c_bio, y_test_porter_c_bio)\n",
        "print()\n",
        "\n",
        "# CDC data\n",
        "print('SVM evaluation scores for cdc_data -------')\n",
        "svm_classifier(x_train_porter_cdc_bio, x_test_porter_cdc_bio, y_train_porter_cdc_bio, y_test_porter_cdc_bio)"
      ]
    },
    {
      "cell_type": "markdown",
      "metadata": {
        "id": "ewZwYfMDZ2JO"
      },
      "source": [
        "## Lancaster SVM"
      ]
    },
    {
      "cell_type": "code",
      "execution_count": 81,
      "metadata": {
        "id": "aqxrHNjpZ2JO",
        "colab": {
          "base_uri": "https://localhost:8080/"
        },
        "outputId": "1b373341-cd31-4f01-ca4b-60bee3190000"
      },
      "outputs": [
        {
          "output_type": "stream",
          "name": "stdout",
          "text": [
            "SVM evaluation scores for c_data -------\n",
            "Accuracy: 46.15%\n",
            "F1: 25.79%\n",
            "precision: 28.89%\n",
            "Recall: 26.67%\n",
            "\n",
            "SVM evaluation scores for cdc_data -------\n",
            "Accuracy: 59.39%\n",
            "F1: 38.56%\n",
            "precision: 40.63%\n",
            "Recall: 41.06%\n",
            "\n",
            "SVM evaluation scores for class_data -------\n",
            "Accuracy: 65.20%\n",
            "F1: 47.00%\n",
            "precision: 49.45%\n",
            "Recall: 48.82%\n"
          ]
        }
      ],
      "source": [
        "# Classified OH data\n",
        "print('SVM evaluation scores for c_data -------')\n",
        "svm_classifier(x_train_lancaster_c_bio, x_test_lancaster_c_bio, y_train_lancaster_c_bio, y_test_lancaster_c_bio)\n",
        "print()\n",
        "\n",
        "# CDC data\n",
        "print('SVM evaluation scores for cdc_data -------')\n",
        "svm_classifier(x_train_lancaster_cdc_bio, x_test_lancaster_cdc_bio, y_train_lancaster_cdc_bio, y_test_lancaster_cdc_bio)\n",
        "print()\n",
        "\n",
        "# Classified OH data\n",
        "print('SVM evaluation scores for class_data -------')\n",
        "svm_classifier(x_train_lancaster_class_bio, x_test_lancaster_class_bio, y_train_lancaster_class_bio, y_test_lancaster_class_bio)"
      ]
    },
    {
      "cell_type": "markdown",
      "metadata": {
        "id": "UZyVPU74Z2JP"
      },
      "source": [
        "## Postag SVM"
      ]
    },
    {
      "cell_type": "code",
      "execution_count": 82,
      "metadata": {
        "id": "y8PtawizZ2JP",
        "colab": {
          "base_uri": "https://localhost:8080/"
        },
        "outputId": "51e33927-10e7-4909-8313-0c41a95ca3c1"
      },
      "outputs": [
        {
          "output_type": "stream",
          "name": "stdout",
          "text": [
            "SVM evaluation scores for c_data -------\n",
            "Accuracy: 46.15%\n",
            "F1: 24.07%\n",
            "precision: 24.07%\n",
            "Recall: 26.67%\n",
            "\n",
            "SVM evaluation scores for cdc_data -------\n",
            "Accuracy: 55.76%\n",
            "F1: 34.89%\n",
            "precision: 36.90%\n",
            "Recall: 36.63%\n",
            "\n",
            "SVM evaluation scores for class_data -------\n",
            "Accuracy: 55.56%\n",
            "F1: 36.55%\n",
            "precision: 39.36%\n",
            "Recall: 37.73%\n"
          ]
        }
      ],
      "source": [
        "# Classified OH data\n",
        "print('SVM evaluation scores for c_data -------')\n",
        "svm_classifier(x_train_postag_c_bio, x_test_postag_c_bio, y_train_postag_c_bio, y_test_postag_c_bio)\n",
        "print()\n",
        "\n",
        "# CDC data\n",
        "print('SVM evaluation scores for cdc_data -------')\n",
        "svm_classifier(x_train_postag_cdc_bio, x_test_postag_cdc_bio, y_train_postag_cdc_bio, y_test_postag_cdc_bio)\n",
        "print()\n",
        "\n",
        "# Classified OH data\n",
        "print('SVM evaluation scores for class_data -------')\n",
        "svm_classifier(x_train_postag_class_bio, x_test_postag_class_bio, y_train_postag_class_bio, y_test_postag_class_bio)"
      ]
    }
  ],
  "metadata": {
    "colab": {
      "provenance": [],
      "authorship_tag": "ABX9TyPbl+aPZUzbI1uR4pcAvwlD",
      "include_colab_link": true
    },
    "kernelspec": {
      "display_name": "Python 3",
      "name": "python3"
    },
    "language_info": {
      "name": "python"
    },
    "widgets": {
      "application/vnd.jupyter.widget-state+json": {
        "08194a83601d443985145c27552eeb2b": {
          "model_module": "@jupyter-widgets/controls",
          "model_name": "HBoxModel",
          "model_module_version": "1.5.0",
          "state": {
            "_dom_classes": [],
            "_model_module": "@jupyter-widgets/controls",
            "_model_module_version": "1.5.0",
            "_model_name": "HBoxModel",
            "_view_count": null,
            "_view_module": "@jupyter-widgets/controls",
            "_view_module_version": "1.5.0",
            "_view_name": "HBoxView",
            "box_style": "",
            "children": [
              "IPY_MODEL_abe3eda7355244c5b4df418c39ccc388",
              "IPY_MODEL_b3b8bf4965564302a1075bf50277e721",
              "IPY_MODEL_2f3d623e70bb4aafa86ea2325895e620"
            ],
            "layout": "IPY_MODEL_52873d86088a4904b6f5d8556f78a42f"
          }
        },
        "abe3eda7355244c5b4df418c39ccc388": {
          "model_module": "@jupyter-widgets/controls",
          "model_name": "HTMLModel",
          "model_module_version": "1.5.0",
          "state": {
            "_dom_classes": [],
            "_model_module": "@jupyter-widgets/controls",
            "_model_module_version": "1.5.0",
            "_model_name": "HTMLModel",
            "_view_count": null,
            "_view_module": "@jupyter-widgets/controls",
            "_view_module_version": "1.5.0",
            "_view_name": "HTMLView",
            "description": "",
            "description_tooltip": null,
            "layout": "IPY_MODEL_5ee83a2264a74984bdfc10b5bab0c6ff",
            "placeholder": "​",
            "style": "IPY_MODEL_55e3a0301fed43418def8d037403351a",
            "value": "Downloading (…)lve/main/config.json: 100%"
          }
        },
        "b3b8bf4965564302a1075bf50277e721": {
          "model_module": "@jupyter-widgets/controls",
          "model_name": "FloatProgressModel",
          "model_module_version": "1.5.0",
          "state": {
            "_dom_classes": [],
            "_model_module": "@jupyter-widgets/controls",
            "_model_module_version": "1.5.0",
            "_model_name": "FloatProgressModel",
            "_view_count": null,
            "_view_module": "@jupyter-widgets/controls",
            "_view_module_version": "1.5.0",
            "_view_name": "ProgressView",
            "bar_style": "success",
            "description": "",
            "description_tooltip": null,
            "layout": "IPY_MODEL_a2ba80252f6240f38f2a22f026467f95",
            "max": 385,
            "min": 0,
            "orientation": "horizontal",
            "style": "IPY_MODEL_bf051cfbb3814e3f918da6dfe502706b",
            "value": 385
          }
        },
        "2f3d623e70bb4aafa86ea2325895e620": {
          "model_module": "@jupyter-widgets/controls",
          "model_name": "HTMLModel",
          "model_module_version": "1.5.0",
          "state": {
            "_dom_classes": [],
            "_model_module": "@jupyter-widgets/controls",
            "_model_module_version": "1.5.0",
            "_model_name": "HTMLModel",
            "_view_count": null,
            "_view_module": "@jupyter-widgets/controls",
            "_view_module_version": "1.5.0",
            "_view_name": "HTMLView",
            "description": "",
            "description_tooltip": null,
            "layout": "IPY_MODEL_2251fcdc015e41258662b0e971caad2b",
            "placeholder": "​",
            "style": "IPY_MODEL_ec65d7d5205e46d58eb1238a761a0707",
            "value": " 385/385 [00:00&lt;00:00, 10.8kB/s]"
          }
        },
        "52873d86088a4904b6f5d8556f78a42f": {
          "model_module": "@jupyter-widgets/base",
          "model_name": "LayoutModel",
          "model_module_version": "1.2.0",
          "state": {
            "_model_module": "@jupyter-widgets/base",
            "_model_module_version": "1.2.0",
            "_model_name": "LayoutModel",
            "_view_count": null,
            "_view_module": "@jupyter-widgets/base",
            "_view_module_version": "1.2.0",
            "_view_name": "LayoutView",
            "align_content": null,
            "align_items": null,
            "align_self": null,
            "border": null,
            "bottom": null,
            "display": null,
            "flex": null,
            "flex_flow": null,
            "grid_area": null,
            "grid_auto_columns": null,
            "grid_auto_flow": null,
            "grid_auto_rows": null,
            "grid_column": null,
            "grid_gap": null,
            "grid_row": null,
            "grid_template_areas": null,
            "grid_template_columns": null,
            "grid_template_rows": null,
            "height": null,
            "justify_content": null,
            "justify_items": null,
            "left": null,
            "margin": null,
            "max_height": null,
            "max_width": null,
            "min_height": null,
            "min_width": null,
            "object_fit": null,
            "object_position": null,
            "order": null,
            "overflow": null,
            "overflow_x": null,
            "overflow_y": null,
            "padding": null,
            "right": null,
            "top": null,
            "visibility": null,
            "width": null
          }
        },
        "5ee83a2264a74984bdfc10b5bab0c6ff": {
          "model_module": "@jupyter-widgets/base",
          "model_name": "LayoutModel",
          "model_module_version": "1.2.0",
          "state": {
            "_model_module": "@jupyter-widgets/base",
            "_model_module_version": "1.2.0",
            "_model_name": "LayoutModel",
            "_view_count": null,
            "_view_module": "@jupyter-widgets/base",
            "_view_module_version": "1.2.0",
            "_view_name": "LayoutView",
            "align_content": null,
            "align_items": null,
            "align_self": null,
            "border": null,
            "bottom": null,
            "display": null,
            "flex": null,
            "flex_flow": null,
            "grid_area": null,
            "grid_auto_columns": null,
            "grid_auto_flow": null,
            "grid_auto_rows": null,
            "grid_column": null,
            "grid_gap": null,
            "grid_row": null,
            "grid_template_areas": null,
            "grid_template_columns": null,
            "grid_template_rows": null,
            "height": null,
            "justify_content": null,
            "justify_items": null,
            "left": null,
            "margin": null,
            "max_height": null,
            "max_width": null,
            "min_height": null,
            "min_width": null,
            "object_fit": null,
            "object_position": null,
            "order": null,
            "overflow": null,
            "overflow_x": null,
            "overflow_y": null,
            "padding": null,
            "right": null,
            "top": null,
            "visibility": null,
            "width": null
          }
        },
        "55e3a0301fed43418def8d037403351a": {
          "model_module": "@jupyter-widgets/controls",
          "model_name": "DescriptionStyleModel",
          "model_module_version": "1.5.0",
          "state": {
            "_model_module": "@jupyter-widgets/controls",
            "_model_module_version": "1.5.0",
            "_model_name": "DescriptionStyleModel",
            "_view_count": null,
            "_view_module": "@jupyter-widgets/base",
            "_view_module_version": "1.2.0",
            "_view_name": "StyleView",
            "description_width": ""
          }
        },
        "a2ba80252f6240f38f2a22f026467f95": {
          "model_module": "@jupyter-widgets/base",
          "model_name": "LayoutModel",
          "model_module_version": "1.2.0",
          "state": {
            "_model_module": "@jupyter-widgets/base",
            "_model_module_version": "1.2.0",
            "_model_name": "LayoutModel",
            "_view_count": null,
            "_view_module": "@jupyter-widgets/base",
            "_view_module_version": "1.2.0",
            "_view_name": "LayoutView",
            "align_content": null,
            "align_items": null,
            "align_self": null,
            "border": null,
            "bottom": null,
            "display": null,
            "flex": null,
            "flex_flow": null,
            "grid_area": null,
            "grid_auto_columns": null,
            "grid_auto_flow": null,
            "grid_auto_rows": null,
            "grid_column": null,
            "grid_gap": null,
            "grid_row": null,
            "grid_template_areas": null,
            "grid_template_columns": null,
            "grid_template_rows": null,
            "height": null,
            "justify_content": null,
            "justify_items": null,
            "left": null,
            "margin": null,
            "max_height": null,
            "max_width": null,
            "min_height": null,
            "min_width": null,
            "object_fit": null,
            "object_position": null,
            "order": null,
            "overflow": null,
            "overflow_x": null,
            "overflow_y": null,
            "padding": null,
            "right": null,
            "top": null,
            "visibility": null,
            "width": null
          }
        },
        "bf051cfbb3814e3f918da6dfe502706b": {
          "model_module": "@jupyter-widgets/controls",
          "model_name": "ProgressStyleModel",
          "model_module_version": "1.5.0",
          "state": {
            "_model_module": "@jupyter-widgets/controls",
            "_model_module_version": "1.5.0",
            "_model_name": "ProgressStyleModel",
            "_view_count": null,
            "_view_module": "@jupyter-widgets/base",
            "_view_module_version": "1.2.0",
            "_view_name": "StyleView",
            "bar_color": null,
            "description_width": ""
          }
        },
        "2251fcdc015e41258662b0e971caad2b": {
          "model_module": "@jupyter-widgets/base",
          "model_name": "LayoutModel",
          "model_module_version": "1.2.0",
          "state": {
            "_model_module": "@jupyter-widgets/base",
            "_model_module_version": "1.2.0",
            "_model_name": "LayoutModel",
            "_view_count": null,
            "_view_module": "@jupyter-widgets/base",
            "_view_module_version": "1.2.0",
            "_view_name": "LayoutView",
            "align_content": null,
            "align_items": null,
            "align_self": null,
            "border": null,
            "bottom": null,
            "display": null,
            "flex": null,
            "flex_flow": null,
            "grid_area": null,
            "grid_auto_columns": null,
            "grid_auto_flow": null,
            "grid_auto_rows": null,
            "grid_column": null,
            "grid_gap": null,
            "grid_row": null,
            "grid_template_areas": null,
            "grid_template_columns": null,
            "grid_template_rows": null,
            "height": null,
            "justify_content": null,
            "justify_items": null,
            "left": null,
            "margin": null,
            "max_height": null,
            "max_width": null,
            "min_height": null,
            "min_width": null,
            "object_fit": null,
            "object_position": null,
            "order": null,
            "overflow": null,
            "overflow_x": null,
            "overflow_y": null,
            "padding": null,
            "right": null,
            "top": null,
            "visibility": null,
            "width": null
          }
        },
        "ec65d7d5205e46d58eb1238a761a0707": {
          "model_module": "@jupyter-widgets/controls",
          "model_name": "DescriptionStyleModel",
          "model_module_version": "1.5.0",
          "state": {
            "_model_module": "@jupyter-widgets/controls",
            "_model_module_version": "1.5.0",
            "_model_name": "DescriptionStyleModel",
            "_view_count": null,
            "_view_module": "@jupyter-widgets/base",
            "_view_module_version": "1.2.0",
            "_view_name": "StyleView",
            "description_width": ""
          }
        },
        "754dbe627576490f954a85112d53a112": {
          "model_module": "@jupyter-widgets/controls",
          "model_name": "HBoxModel",
          "model_module_version": "1.5.0",
          "state": {
            "_dom_classes": [],
            "_model_module": "@jupyter-widgets/controls",
            "_model_module_version": "1.5.0",
            "_model_name": "HBoxModel",
            "_view_count": null,
            "_view_module": "@jupyter-widgets/controls",
            "_view_module_version": "1.5.0",
            "_view_name": "HBoxView",
            "box_style": "",
            "children": [
              "IPY_MODEL_84483052ebe64e9bb4dc71297e337898",
              "IPY_MODEL_1bd6368f64004204beb8fddfcd42da1b",
              "IPY_MODEL_317675edd5064a39887fc5dd8fadecfb"
            ],
            "layout": "IPY_MODEL_c4c3fdce0d8344c6aceeb46fed3df220"
          }
        },
        "84483052ebe64e9bb4dc71297e337898": {
          "model_module": "@jupyter-widgets/controls",
          "model_name": "HTMLModel",
          "model_module_version": "1.5.0",
          "state": {
            "_dom_classes": [],
            "_model_module": "@jupyter-widgets/controls",
            "_model_module_version": "1.5.0",
            "_model_name": "HTMLModel",
            "_view_count": null,
            "_view_module": "@jupyter-widgets/controls",
            "_view_module_version": "1.5.0",
            "_view_name": "HTMLView",
            "description": "",
            "description_tooltip": null,
            "layout": "IPY_MODEL_04d413582e0942e9a311adab79d0df0a",
            "placeholder": "​",
            "style": "IPY_MODEL_b145b2d7ccc24d24a678e5676dd4a34f",
            "value": "Downloading pytorch_model.bin: 100%"
          }
        },
        "1bd6368f64004204beb8fddfcd42da1b": {
          "model_module": "@jupyter-widgets/controls",
          "model_name": "FloatProgressModel",
          "model_module_version": "1.5.0",
          "state": {
            "_dom_classes": [],
            "_model_module": "@jupyter-widgets/controls",
            "_model_module_version": "1.5.0",
            "_model_name": "FloatProgressModel",
            "_view_count": null,
            "_view_module": "@jupyter-widgets/controls",
            "_view_module_version": "1.5.0",
            "_view_name": "ProgressView",
            "bar_style": "success",
            "description": "",
            "description_tooltip": null,
            "layout": "IPY_MODEL_964e39ba4f08448db93532cef7eba7bd",
            "max": 435778770,
            "min": 0,
            "orientation": "horizontal",
            "style": "IPY_MODEL_53dbf29a4f0e45e3a079cdc2e2e904c6",
            "value": 435778770
          }
        },
        "317675edd5064a39887fc5dd8fadecfb": {
          "model_module": "@jupyter-widgets/controls",
          "model_name": "HTMLModel",
          "model_module_version": "1.5.0",
          "state": {
            "_dom_classes": [],
            "_model_module": "@jupyter-widgets/controls",
            "_model_module_version": "1.5.0",
            "_model_name": "HTMLModel",
            "_view_count": null,
            "_view_module": "@jupyter-widgets/controls",
            "_view_module_version": "1.5.0",
            "_view_name": "HTMLView",
            "description": "",
            "description_tooltip": null,
            "layout": "IPY_MODEL_28a87f4385194852b3ee5801fab47860",
            "placeholder": "​",
            "style": "IPY_MODEL_44fa87915f744bc286c54bb3301d0db8",
            "value": " 436M/436M [00:11&lt;00:00, 37.8MB/s]"
          }
        },
        "c4c3fdce0d8344c6aceeb46fed3df220": {
          "model_module": "@jupyter-widgets/base",
          "model_name": "LayoutModel",
          "model_module_version": "1.2.0",
          "state": {
            "_model_module": "@jupyter-widgets/base",
            "_model_module_version": "1.2.0",
            "_model_name": "LayoutModel",
            "_view_count": null,
            "_view_module": "@jupyter-widgets/base",
            "_view_module_version": "1.2.0",
            "_view_name": "LayoutView",
            "align_content": null,
            "align_items": null,
            "align_self": null,
            "border": null,
            "bottom": null,
            "display": null,
            "flex": null,
            "flex_flow": null,
            "grid_area": null,
            "grid_auto_columns": null,
            "grid_auto_flow": null,
            "grid_auto_rows": null,
            "grid_column": null,
            "grid_gap": null,
            "grid_row": null,
            "grid_template_areas": null,
            "grid_template_columns": null,
            "grid_template_rows": null,
            "height": null,
            "justify_content": null,
            "justify_items": null,
            "left": null,
            "margin": null,
            "max_height": null,
            "max_width": null,
            "min_height": null,
            "min_width": null,
            "object_fit": null,
            "object_position": null,
            "order": null,
            "overflow": null,
            "overflow_x": null,
            "overflow_y": null,
            "padding": null,
            "right": null,
            "top": null,
            "visibility": null,
            "width": null
          }
        },
        "04d413582e0942e9a311adab79d0df0a": {
          "model_module": "@jupyter-widgets/base",
          "model_name": "LayoutModel",
          "model_module_version": "1.2.0",
          "state": {
            "_model_module": "@jupyter-widgets/base",
            "_model_module_version": "1.2.0",
            "_model_name": "LayoutModel",
            "_view_count": null,
            "_view_module": "@jupyter-widgets/base",
            "_view_module_version": "1.2.0",
            "_view_name": "LayoutView",
            "align_content": null,
            "align_items": null,
            "align_self": null,
            "border": null,
            "bottom": null,
            "display": null,
            "flex": null,
            "flex_flow": null,
            "grid_area": null,
            "grid_auto_columns": null,
            "grid_auto_flow": null,
            "grid_auto_rows": null,
            "grid_column": null,
            "grid_gap": null,
            "grid_row": null,
            "grid_template_areas": null,
            "grid_template_columns": null,
            "grid_template_rows": null,
            "height": null,
            "justify_content": null,
            "justify_items": null,
            "left": null,
            "margin": null,
            "max_height": null,
            "max_width": null,
            "min_height": null,
            "min_width": null,
            "object_fit": null,
            "object_position": null,
            "order": null,
            "overflow": null,
            "overflow_x": null,
            "overflow_y": null,
            "padding": null,
            "right": null,
            "top": null,
            "visibility": null,
            "width": null
          }
        },
        "b145b2d7ccc24d24a678e5676dd4a34f": {
          "model_module": "@jupyter-widgets/controls",
          "model_name": "DescriptionStyleModel",
          "model_module_version": "1.5.0",
          "state": {
            "_model_module": "@jupyter-widgets/controls",
            "_model_module_version": "1.5.0",
            "_model_name": "DescriptionStyleModel",
            "_view_count": null,
            "_view_module": "@jupyter-widgets/base",
            "_view_module_version": "1.2.0",
            "_view_name": "StyleView",
            "description_width": ""
          }
        },
        "964e39ba4f08448db93532cef7eba7bd": {
          "model_module": "@jupyter-widgets/base",
          "model_name": "LayoutModel",
          "model_module_version": "1.2.0",
          "state": {
            "_model_module": "@jupyter-widgets/base",
            "_model_module_version": "1.2.0",
            "_model_name": "LayoutModel",
            "_view_count": null,
            "_view_module": "@jupyter-widgets/base",
            "_view_module_version": "1.2.0",
            "_view_name": "LayoutView",
            "align_content": null,
            "align_items": null,
            "align_self": null,
            "border": null,
            "bottom": null,
            "display": null,
            "flex": null,
            "flex_flow": null,
            "grid_area": null,
            "grid_auto_columns": null,
            "grid_auto_flow": null,
            "grid_auto_rows": null,
            "grid_column": null,
            "grid_gap": null,
            "grid_row": null,
            "grid_template_areas": null,
            "grid_template_columns": null,
            "grid_template_rows": null,
            "height": null,
            "justify_content": null,
            "justify_items": null,
            "left": null,
            "margin": null,
            "max_height": null,
            "max_width": null,
            "min_height": null,
            "min_width": null,
            "object_fit": null,
            "object_position": null,
            "order": null,
            "overflow": null,
            "overflow_x": null,
            "overflow_y": null,
            "padding": null,
            "right": null,
            "top": null,
            "visibility": null,
            "width": null
          }
        },
        "53dbf29a4f0e45e3a079cdc2e2e904c6": {
          "model_module": "@jupyter-widgets/controls",
          "model_name": "ProgressStyleModel",
          "model_module_version": "1.5.0",
          "state": {
            "_model_module": "@jupyter-widgets/controls",
            "_model_module_version": "1.5.0",
            "_model_name": "ProgressStyleModel",
            "_view_count": null,
            "_view_module": "@jupyter-widgets/base",
            "_view_module_version": "1.2.0",
            "_view_name": "StyleView",
            "bar_color": null,
            "description_width": ""
          }
        },
        "28a87f4385194852b3ee5801fab47860": {
          "model_module": "@jupyter-widgets/base",
          "model_name": "LayoutModel",
          "model_module_version": "1.2.0",
          "state": {
            "_model_module": "@jupyter-widgets/base",
            "_model_module_version": "1.2.0",
            "_model_name": "LayoutModel",
            "_view_count": null,
            "_view_module": "@jupyter-widgets/base",
            "_view_module_version": "1.2.0",
            "_view_name": "LayoutView",
            "align_content": null,
            "align_items": null,
            "align_self": null,
            "border": null,
            "bottom": null,
            "display": null,
            "flex": null,
            "flex_flow": null,
            "grid_area": null,
            "grid_auto_columns": null,
            "grid_auto_flow": null,
            "grid_auto_rows": null,
            "grid_column": null,
            "grid_gap": null,
            "grid_row": null,
            "grid_template_areas": null,
            "grid_template_columns": null,
            "grid_template_rows": null,
            "height": null,
            "justify_content": null,
            "justify_items": null,
            "left": null,
            "margin": null,
            "max_height": null,
            "max_width": null,
            "min_height": null,
            "min_width": null,
            "object_fit": null,
            "object_position": null,
            "order": null,
            "overflow": null,
            "overflow_x": null,
            "overflow_y": null,
            "padding": null,
            "right": null,
            "top": null,
            "visibility": null,
            "width": null
          }
        },
        "44fa87915f744bc286c54bb3301d0db8": {
          "model_module": "@jupyter-widgets/controls",
          "model_name": "DescriptionStyleModel",
          "model_module_version": "1.5.0",
          "state": {
            "_model_module": "@jupyter-widgets/controls",
            "_model_module_version": "1.5.0",
            "_model_name": "DescriptionStyleModel",
            "_view_count": null,
            "_view_module": "@jupyter-widgets/base",
            "_view_module_version": "1.2.0",
            "_view_name": "StyleView",
            "description_width": ""
          }
        },
        "a784e0189d0943af93e57d138f619f0c": {
          "model_module": "@jupyter-widgets/controls",
          "model_name": "HBoxModel",
          "model_module_version": "1.5.0",
          "state": {
            "_dom_classes": [],
            "_model_module": "@jupyter-widgets/controls",
            "_model_module_version": "1.5.0",
            "_model_name": "HBoxModel",
            "_view_count": null,
            "_view_module": "@jupyter-widgets/controls",
            "_view_module_version": "1.5.0",
            "_view_name": "HBoxView",
            "box_style": "",
            "children": [
              "IPY_MODEL_94b8fd1949054df4b66a482380433dab",
              "IPY_MODEL_e03ffee0ea3d420ea291cbf41b286aac",
              "IPY_MODEL_4b3b881cb6ae4ce483c057a1eb07ab01"
            ],
            "layout": "IPY_MODEL_a33fd24fe329455cbd4e01442f75564b"
          }
        },
        "94b8fd1949054df4b66a482380433dab": {
          "model_module": "@jupyter-widgets/controls",
          "model_name": "HTMLModel",
          "model_module_version": "1.5.0",
          "state": {
            "_dom_classes": [],
            "_model_module": "@jupyter-widgets/controls",
            "_model_module_version": "1.5.0",
            "_model_name": "HTMLModel",
            "_view_count": null,
            "_view_module": "@jupyter-widgets/controls",
            "_view_module_version": "1.5.0",
            "_view_name": "HTMLView",
            "description": "",
            "description_tooltip": null,
            "layout": "IPY_MODEL_96c440b4498e4597946b7d5e5f8440f8",
            "placeholder": "​",
            "style": "IPY_MODEL_db3965c070a04912943aab1307d91e56",
            "value": "Downloading (…)solve/main/vocab.txt: 100%"
          }
        },
        "e03ffee0ea3d420ea291cbf41b286aac": {
          "model_module": "@jupyter-widgets/controls",
          "model_name": "FloatProgressModel",
          "model_module_version": "1.5.0",
          "state": {
            "_dom_classes": [],
            "_model_module": "@jupyter-widgets/controls",
            "_model_module_version": "1.5.0",
            "_model_name": "FloatProgressModel",
            "_view_count": null,
            "_view_module": "@jupyter-widgets/controls",
            "_view_module_version": "1.5.0",
            "_view_name": "ProgressView",
            "bar_style": "success",
            "description": "",
            "description_tooltip": null,
            "layout": "IPY_MODEL_610eed73a4824de4a0d4b44dbf493109",
            "max": 213450,
            "min": 0,
            "orientation": "horizontal",
            "style": "IPY_MODEL_0fe0cf186a884cce9cecad24c750ff6f",
            "value": 213450
          }
        },
        "4b3b881cb6ae4ce483c057a1eb07ab01": {
          "model_module": "@jupyter-widgets/controls",
          "model_name": "HTMLModel",
          "model_module_version": "1.5.0",
          "state": {
            "_dom_classes": [],
            "_model_module": "@jupyter-widgets/controls",
            "_model_module_version": "1.5.0",
            "_model_name": "HTMLModel",
            "_view_count": null,
            "_view_module": "@jupyter-widgets/controls",
            "_view_module_version": "1.5.0",
            "_view_name": "HTMLView",
            "description": "",
            "description_tooltip": null,
            "layout": "IPY_MODEL_f1511a9e147b45849e633cbb65df5fc7",
            "placeholder": "​",
            "style": "IPY_MODEL_2ca5aafe20b742f4a239f575a8566724",
            "value": " 213k/213k [00:00&lt;00:00, 1.15MB/s]"
          }
        },
        "a33fd24fe329455cbd4e01442f75564b": {
          "model_module": "@jupyter-widgets/base",
          "model_name": "LayoutModel",
          "model_module_version": "1.2.0",
          "state": {
            "_model_module": "@jupyter-widgets/base",
            "_model_module_version": "1.2.0",
            "_model_name": "LayoutModel",
            "_view_count": null,
            "_view_module": "@jupyter-widgets/base",
            "_view_module_version": "1.2.0",
            "_view_name": "LayoutView",
            "align_content": null,
            "align_items": null,
            "align_self": null,
            "border": null,
            "bottom": null,
            "display": null,
            "flex": null,
            "flex_flow": null,
            "grid_area": null,
            "grid_auto_columns": null,
            "grid_auto_flow": null,
            "grid_auto_rows": null,
            "grid_column": null,
            "grid_gap": null,
            "grid_row": null,
            "grid_template_areas": null,
            "grid_template_columns": null,
            "grid_template_rows": null,
            "height": null,
            "justify_content": null,
            "justify_items": null,
            "left": null,
            "margin": null,
            "max_height": null,
            "max_width": null,
            "min_height": null,
            "min_width": null,
            "object_fit": null,
            "object_position": null,
            "order": null,
            "overflow": null,
            "overflow_x": null,
            "overflow_y": null,
            "padding": null,
            "right": null,
            "top": null,
            "visibility": null,
            "width": null
          }
        },
        "96c440b4498e4597946b7d5e5f8440f8": {
          "model_module": "@jupyter-widgets/base",
          "model_name": "LayoutModel",
          "model_module_version": "1.2.0",
          "state": {
            "_model_module": "@jupyter-widgets/base",
            "_model_module_version": "1.2.0",
            "_model_name": "LayoutModel",
            "_view_count": null,
            "_view_module": "@jupyter-widgets/base",
            "_view_module_version": "1.2.0",
            "_view_name": "LayoutView",
            "align_content": null,
            "align_items": null,
            "align_self": null,
            "border": null,
            "bottom": null,
            "display": null,
            "flex": null,
            "flex_flow": null,
            "grid_area": null,
            "grid_auto_columns": null,
            "grid_auto_flow": null,
            "grid_auto_rows": null,
            "grid_column": null,
            "grid_gap": null,
            "grid_row": null,
            "grid_template_areas": null,
            "grid_template_columns": null,
            "grid_template_rows": null,
            "height": null,
            "justify_content": null,
            "justify_items": null,
            "left": null,
            "margin": null,
            "max_height": null,
            "max_width": null,
            "min_height": null,
            "min_width": null,
            "object_fit": null,
            "object_position": null,
            "order": null,
            "overflow": null,
            "overflow_x": null,
            "overflow_y": null,
            "padding": null,
            "right": null,
            "top": null,
            "visibility": null,
            "width": null
          }
        },
        "db3965c070a04912943aab1307d91e56": {
          "model_module": "@jupyter-widgets/controls",
          "model_name": "DescriptionStyleModel",
          "model_module_version": "1.5.0",
          "state": {
            "_model_module": "@jupyter-widgets/controls",
            "_model_module_version": "1.5.0",
            "_model_name": "DescriptionStyleModel",
            "_view_count": null,
            "_view_module": "@jupyter-widgets/base",
            "_view_module_version": "1.2.0",
            "_view_name": "StyleView",
            "description_width": ""
          }
        },
        "610eed73a4824de4a0d4b44dbf493109": {
          "model_module": "@jupyter-widgets/base",
          "model_name": "LayoutModel",
          "model_module_version": "1.2.0",
          "state": {
            "_model_module": "@jupyter-widgets/base",
            "_model_module_version": "1.2.0",
            "_model_name": "LayoutModel",
            "_view_count": null,
            "_view_module": "@jupyter-widgets/base",
            "_view_module_version": "1.2.0",
            "_view_name": "LayoutView",
            "align_content": null,
            "align_items": null,
            "align_self": null,
            "border": null,
            "bottom": null,
            "display": null,
            "flex": null,
            "flex_flow": null,
            "grid_area": null,
            "grid_auto_columns": null,
            "grid_auto_flow": null,
            "grid_auto_rows": null,
            "grid_column": null,
            "grid_gap": null,
            "grid_row": null,
            "grid_template_areas": null,
            "grid_template_columns": null,
            "grid_template_rows": null,
            "height": null,
            "justify_content": null,
            "justify_items": null,
            "left": null,
            "margin": null,
            "max_height": null,
            "max_width": null,
            "min_height": null,
            "min_width": null,
            "object_fit": null,
            "object_position": null,
            "order": null,
            "overflow": null,
            "overflow_x": null,
            "overflow_y": null,
            "padding": null,
            "right": null,
            "top": null,
            "visibility": null,
            "width": null
          }
        },
        "0fe0cf186a884cce9cecad24c750ff6f": {
          "model_module": "@jupyter-widgets/controls",
          "model_name": "ProgressStyleModel",
          "model_module_version": "1.5.0",
          "state": {
            "_model_module": "@jupyter-widgets/controls",
            "_model_module_version": "1.5.0",
            "_model_name": "ProgressStyleModel",
            "_view_count": null,
            "_view_module": "@jupyter-widgets/base",
            "_view_module_version": "1.2.0",
            "_view_name": "StyleView",
            "bar_color": null,
            "description_width": ""
          }
        },
        "f1511a9e147b45849e633cbb65df5fc7": {
          "model_module": "@jupyter-widgets/base",
          "model_name": "LayoutModel",
          "model_module_version": "1.2.0",
          "state": {
            "_model_module": "@jupyter-widgets/base",
            "_model_module_version": "1.2.0",
            "_model_name": "LayoutModel",
            "_view_count": null,
            "_view_module": "@jupyter-widgets/base",
            "_view_module_version": "1.2.0",
            "_view_name": "LayoutView",
            "align_content": null,
            "align_items": null,
            "align_self": null,
            "border": null,
            "bottom": null,
            "display": null,
            "flex": null,
            "flex_flow": null,
            "grid_area": null,
            "grid_auto_columns": null,
            "grid_auto_flow": null,
            "grid_auto_rows": null,
            "grid_column": null,
            "grid_gap": null,
            "grid_row": null,
            "grid_template_areas": null,
            "grid_template_columns": null,
            "grid_template_rows": null,
            "height": null,
            "justify_content": null,
            "justify_items": null,
            "left": null,
            "margin": null,
            "max_height": null,
            "max_width": null,
            "min_height": null,
            "min_width": null,
            "object_fit": null,
            "object_position": null,
            "order": null,
            "overflow": null,
            "overflow_x": null,
            "overflow_y": null,
            "padding": null,
            "right": null,
            "top": null,
            "visibility": null,
            "width": null
          }
        },
        "2ca5aafe20b742f4a239f575a8566724": {
          "model_module": "@jupyter-widgets/controls",
          "model_name": "DescriptionStyleModel",
          "model_module_version": "1.5.0",
          "state": {
            "_model_module": "@jupyter-widgets/controls",
            "_model_module_version": "1.5.0",
            "_model_name": "DescriptionStyleModel",
            "_view_count": null,
            "_view_module": "@jupyter-widgets/base",
            "_view_module_version": "1.2.0",
            "_view_name": "StyleView",
            "description_width": ""
          }
        }
      }
    }
  },
  "nbformat": 4,
  "nbformat_minor": 0
}